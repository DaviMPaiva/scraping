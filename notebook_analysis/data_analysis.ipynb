{
  "cells": [
    {
      "cell_type": "markdown",
      "id": "3779c030-7ed3-42a9-b945-e4527fa68691",
      "metadata": {
        "id": "3779c030-7ed3-42a9-b945-e4527fa68691",
        "tags": []
      },
      "source": [
        "# 0. Imports"
      ]
    },
    {
      "cell_type": "code",
      "execution_count": 1,
      "id": "dedaa86b-ea6e-4d5d-bdfc-f57fd169fa3f",
      "metadata": {
        "id": "dedaa86b-ea6e-4d5d-bdfc-f57fd169fa3f"
      },
      "outputs": [],
      "source": [
        "# # ideias adicionais:\n",
        "#     - criar coluna gênero de quem anunciou\n",
        "#     - criar coluna CEP\n",
        "#     -"
      ]
    },
    {
      "cell_type": "code",
      "execution_count": 26,
      "id": "c7ea5884-b6e3-4575-a382-fc4a4a6eccd3",
      "metadata": {
        "id": "c7ea5884-b6e3-4575-a382-fc4a4a6eccd3"
      },
      "outputs": [],
      "source": [
        "import pandas as pd\n",
        "import seaborn as sns\n",
        "pd.set_option('display.max_columns', 1000)"
      ]
    },
    {
      "cell_type": "code",
      "source": [
        "!pip install fancyimpute"
      ],
      "metadata": {
        "colab": {
          "base_uri": "https://localhost:8080/"
        },
        "collapsed": true,
        "id": "b9Qis_KviUbD",
        "outputId": "333453f5-bdc7-4e45-a0e1-0b0fd09bde2d"
      },
      "id": "b9Qis_KviUbD",
      "execution_count": 3,
      "outputs": [
        {
          "output_type": "stream",
          "name": "stdout",
          "text": [
            "Collecting fancyimpute\n",
            "  Downloading fancyimpute-0.7.0.tar.gz (25 kB)\n",
            "  Preparing metadata (setup.py) ... \u001b[?25l\u001b[?25hdone\n",
            "Collecting knnimpute>=0.1.0 (from fancyimpute)\n",
            "  Downloading knnimpute-0.1.0.tar.gz (8.3 kB)\n",
            "  Preparing metadata (setup.py) ... \u001b[?25l\u001b[?25hdone\n",
            "Requirement already satisfied: scikit-learn>=0.24.2 in /usr/local/lib/python3.10/dist-packages (from fancyimpute) (1.2.2)\n",
            "Requirement already satisfied: cvxpy in /usr/local/lib/python3.10/dist-packages (from fancyimpute) (1.3.4)\n",
            "Requirement already satisfied: cvxopt in /usr/local/lib/python3.10/dist-packages (from fancyimpute) (1.3.2)\n",
            "Requirement already satisfied: pytest in /usr/local/lib/python3.10/dist-packages (from fancyimpute) (7.4.4)\n",
            "Collecting nose (from fancyimpute)\n",
            "  Downloading nose-1.3.7-py3-none-any.whl (154 kB)\n",
            "\u001b[2K     \u001b[90m━━━━━━━━━━━━━━━━━━━━━━━━━━━━━━━━━━━━━━━━\u001b[0m \u001b[32m154.7/154.7 kB\u001b[0m \u001b[31m5.1 MB/s\u001b[0m eta \u001b[36m0:00:00\u001b[0m\n",
            "\u001b[?25hRequirement already satisfied: six in /usr/local/lib/python3.10/dist-packages (from knnimpute>=0.1.0->fancyimpute) (1.16.0)\n",
            "Requirement already satisfied: numpy>=1.10 in /usr/local/lib/python3.10/dist-packages (from knnimpute>=0.1.0->fancyimpute) (1.25.2)\n",
            "Requirement already satisfied: scipy>=1.3.2 in /usr/local/lib/python3.10/dist-packages (from scikit-learn>=0.24.2->fancyimpute) (1.11.4)\n",
            "Requirement already satisfied: joblib>=1.1.1 in /usr/local/lib/python3.10/dist-packages (from scikit-learn>=0.24.2->fancyimpute) (1.4.2)\n",
            "Requirement already satisfied: threadpoolctl>=2.0.0 in /usr/local/lib/python3.10/dist-packages (from scikit-learn>=0.24.2->fancyimpute) (3.5.0)\n",
            "Requirement already satisfied: osqp>=0.4.1 in /usr/local/lib/python3.10/dist-packages (from cvxpy->fancyimpute) (0.6.2.post8)\n",
            "Requirement already satisfied: ecos>=2 in /usr/local/lib/python3.10/dist-packages (from cvxpy->fancyimpute) (2.0.13)\n",
            "Requirement already satisfied: scs>=1.1.6 in /usr/local/lib/python3.10/dist-packages (from cvxpy->fancyimpute) (3.2.4.post1)\n",
            "Requirement already satisfied: setuptools>65.5.1 in /usr/local/lib/python3.10/dist-packages (from cvxpy->fancyimpute) (67.7.2)\n",
            "Requirement already satisfied: iniconfig in /usr/local/lib/python3.10/dist-packages (from pytest->fancyimpute) (2.0.0)\n",
            "Requirement already satisfied: packaging in /usr/local/lib/python3.10/dist-packages (from pytest->fancyimpute) (24.0)\n",
            "Requirement already satisfied: pluggy<2.0,>=0.12 in /usr/local/lib/python3.10/dist-packages (from pytest->fancyimpute) (1.5.0)\n",
            "Requirement already satisfied: exceptiongroup>=1.0.0rc8 in /usr/local/lib/python3.10/dist-packages (from pytest->fancyimpute) (1.2.1)\n",
            "Requirement already satisfied: tomli>=1.0.0 in /usr/local/lib/python3.10/dist-packages (from pytest->fancyimpute) (2.0.1)\n",
            "Requirement already satisfied: qdldl in /usr/local/lib/python3.10/dist-packages (from osqp>=0.4.1->cvxpy->fancyimpute) (0.1.7.post2)\n",
            "Building wheels for collected packages: fancyimpute, knnimpute\n",
            "  Building wheel for fancyimpute (setup.py) ... \u001b[?25l\u001b[?25hdone\n",
            "  Created wheel for fancyimpute: filename=fancyimpute-0.7.0-py3-none-any.whl size=29881 sha256=06ca1f35e4093b9527edffa8601915fde2ef491f0ec6dcbff4cc12f6cc474db4\n",
            "  Stored in directory: /root/.cache/pip/wheels/7b/0c/d3/ee82d1fbdcc0858d96434af108608d01703505d453720c84ed\n",
            "  Building wheel for knnimpute (setup.py) ... \u001b[?25l\u001b[?25hdone\n",
            "  Created wheel for knnimpute: filename=knnimpute-0.1.0-py3-none-any.whl size=11330 sha256=5b600cd4e7846fd3198db2b59dce43e4ac0ff5e98fb317bb0fa1e6da76a8317f\n",
            "  Stored in directory: /root/.cache/pip/wheels/46/06/a5/45a724630562413c374e29c08732411d496092408b3a7bf754\n",
            "Successfully built fancyimpute knnimpute\n",
            "Installing collected packages: nose, knnimpute, fancyimpute\n",
            "Successfully installed fancyimpute-0.7.0 knnimpute-0.1.0 nose-1.3.7\n"
          ]
        }
      ]
    },
    {
      "cell_type": "markdown",
      "id": "2206f321-6b71-4540-bb4e-a9210f0cfcb8",
      "metadata": {
        "id": "2206f321-6b71-4540-bb4e-a9210f0cfcb8"
      },
      "source": [
        "# 1. Coletar dados"
      ]
    },
    {
      "cell_type": "code",
      "execution_count": 4,
      "id": "ff9c1dd4-069c-4c34-805f-5119c979ff3c",
      "metadata": {
        "id": "ff9c1dd4-069c-4c34-805f-5119c979ff3c"
      },
      "outputs": [],
      "source": [
        "# <explicar como foi feita a coleta de dados e onde localizar .py>"
      ]
    },
    {
      "cell_type": "markdown",
      "id": "4ed1279b",
      "metadata": {
        "id": "4ed1279b"
      },
      "source": [
        "| Campop               | Descrição                                      |\n",
        "|----------------------|--------------------------------------------------|\n",
        "| find_anuncio         | o titulo do anuncio                              |\n",
        "| find_condominio      | o preço do condominio                            |\n",
        "| find_descri          | a descrição feita do imovel                      |\n",
        "| find_endereco        | Endereço = bairro, Cidade, estado, cep           |\n",
        "| find_iptu            | IPTU                                             |\n",
        "| find_loc             | geralmente a rua                                 |\n",
        "| find_m_quadrado      | Tamanho do imóvel em metros quadrados            |\n",
        "| find_price           | Preço do imóvel                                  |\n",
        "| find_vendedor        | Informações sobre o vendedor                     |\n",
        "| is_academia          | Indica se há academia/centro de fitness          |\n",
        "| is_apartamento       | Indica se é um apartamento                       |\n",
        "| is_ar_condicionado   | Indica se tem ar condicionado                     |\n",
        "| is_churrasqueira     | Indica se há churrasqueira                       |\n",
        "| is_elevador          | Indica se há elevador                            |\n",
        "| is_mobiliado         | Indica se o imóvel está mobiliado                |\n",
        "| is_piscina           | Indica se há piscina                             |\n",
        "| is_portaria          | Indica se há portaria/serviço de portaria        |\n",
        "| is_profissional      | Indica se o vendedor é um profissional           |\n",
        "| is_salao_festa       | Indica se há salão de festas/área de eventos     |\n",
        "| is_varanda           | Indica se há varanda                             |\n",
        "| n_banheiros          | Número de banheiros                              |\n",
        "| n_fotos              | Número de fotos no anúncio                       |\n",
        "| n_garagens           | Número de vagas/garagens                         |\n",
        "| n_quartos            | Número de quartos                                |"
      ]
    },
    {
      "cell_type": "code",
      "execution_count": 7,
      "id": "2d8c8a8e-e557-4d7e-9209-d908cb8cc663",
      "metadata": {
        "id": "2d8c8a8e-e557-4d7e-9209-d908cb8cc663"
      },
      "outputs": [],
      "source": [
        "path_raw = '/content/scraped_data.csv'\n",
        "df_raw = pd.read_csv(path_raw, sep=',')\n",
        "df_raw = df_raw.sample(5000)"
      ]
    },
    {
      "cell_type": "code",
      "execution_count": 8,
      "id": "8559d4db-a9b1-42df-a1f0-d3223ca9144f",
      "metadata": {
        "colab": {
          "base_uri": "https://localhost:8080/",
          "height": 407
        },
        "id": "8559d4db-a9b1-42df-a1f0-d3223ca9144f",
        "outputId": "086f8540-31bd-4c2b-8297-1cc6051b443e"
      },
      "outputs": [
        {
          "output_type": "execute_result",
          "data": {
            "text/plain": [
              "                                            find_anuncio find_condominio  \\\n",
              "16432  Apartamento Pronto pra morar na Várzea perto d...    R$ 349 / mês   \n",
              "7449   03 quartos, Nascente, lazer completo, andar Al...    R$ 520 / mês   \n",
              "1611   Oportinidade em BOA VIAGEM: 200m², 04Qts, 02SU...  R$ 1.959 / mês   \n",
              "\n",
              "                                             find_descri  \\\n",
              "16432  Código do anúncio: AP04778\\n\\nLigue agora mesm...   \n",
              "7449   Código do anúncio: AM - MIRANTE TERE 81 - 9991...   \n",
              "1611   Código do anúncio: 768476\\n\\nAPRTAMENTO Á VEND...   \n",
              "\n",
              "                           find_endereco find_iptu  \\\n",
              "16432       Várzea, Recife, PE, 50740050    R$ 156   \n",
              "7449   Imbiribeira, Recife, PE, 51160250  R$ 2.200   \n",
              "1611    Boa Viagem, Recife, PE, 51020260     R$ 54   \n",
              "\n",
              "                                             find_loc find_m_quadrado  \\\n",
              "16432                            Rua General Polidoro            53m²   \n",
              "7449   Rua Conde Pereira Carneiro - de 251/252 ao fim            68m²   \n",
              "1611                          Rua Félix de Brito Melo           200m²   \n",
              "\n",
              "       find_price             find_vendedor is_academia is_apertamento  \\\n",
              "16432    394989.0  AS SOLUCOES IMOBILIARIAS        True           True   \n",
              "7449     440000.0               BGM Imóveis        True           True   \n",
              "1611    1080000.0    Melo Gestão de Imóveis        True           True   \n",
              "\n",
              "      is_ar_condicionado is_churrasqueira is_elevador is_mobiliado is_piscina  \\\n",
              "16432              False            False       False        False       True   \n",
              "7449               False            False        True        False       True   \n",
              "1611               False             True        True         True       True   \n",
              "\n",
              "      is_portaria is_profissional is_salao_festa is_varanda n_banheiros  \\\n",
              "16432       False            True           True      False           1   \n",
              "7449         True            True           True      False           3   \n",
              "1611        False            True           True      False           3   \n",
              "\n",
              "       n_fotos n_garagens n_quartos  \n",
              "16432     15.0          1         2  \n",
              "7449      20.0          1         3  \n",
              "1611      20.0          2         4  "
            ],
            "text/html": [
              "\n",
              "  <div id=\"df-eb10125e-4467-467c-9239-a01d9083bdc3\" class=\"colab-df-container\">\n",
              "    <div>\n",
              "<style scoped>\n",
              "    .dataframe tbody tr th:only-of-type {\n",
              "        vertical-align: middle;\n",
              "    }\n",
              "\n",
              "    .dataframe tbody tr th {\n",
              "        vertical-align: top;\n",
              "    }\n",
              "\n",
              "    .dataframe thead th {\n",
              "        text-align: right;\n",
              "    }\n",
              "</style>\n",
              "<table border=\"1\" class=\"dataframe\">\n",
              "  <thead>\n",
              "    <tr style=\"text-align: right;\">\n",
              "      <th></th>\n",
              "      <th>find_anuncio</th>\n",
              "      <th>find_condominio</th>\n",
              "      <th>find_descri</th>\n",
              "      <th>find_endereco</th>\n",
              "      <th>find_iptu</th>\n",
              "      <th>find_loc</th>\n",
              "      <th>find_m_quadrado</th>\n",
              "      <th>find_price</th>\n",
              "      <th>find_vendedor</th>\n",
              "      <th>is_academia</th>\n",
              "      <th>is_apertamento</th>\n",
              "      <th>is_ar_condicionado</th>\n",
              "      <th>is_churrasqueira</th>\n",
              "      <th>is_elevador</th>\n",
              "      <th>is_mobiliado</th>\n",
              "      <th>is_piscina</th>\n",
              "      <th>is_portaria</th>\n",
              "      <th>is_profissional</th>\n",
              "      <th>is_salao_festa</th>\n",
              "      <th>is_varanda</th>\n",
              "      <th>n_banheiros</th>\n",
              "      <th>n_fotos</th>\n",
              "      <th>n_garagens</th>\n",
              "      <th>n_quartos</th>\n",
              "    </tr>\n",
              "  </thead>\n",
              "  <tbody>\n",
              "    <tr>\n",
              "      <th>16432</th>\n",
              "      <td>Apartamento Pronto pra morar na Várzea perto d...</td>\n",
              "      <td>R$ 349 / mês</td>\n",
              "      <td>Código do anúncio: AP04778\\n\\nLigue agora mesm...</td>\n",
              "      <td>Várzea, Recife, PE, 50740050</td>\n",
              "      <td>R$ 156</td>\n",
              "      <td>Rua General Polidoro</td>\n",
              "      <td>53m²</td>\n",
              "      <td>394989.0</td>\n",
              "      <td>AS SOLUCOES IMOBILIARIAS</td>\n",
              "      <td>True</td>\n",
              "      <td>True</td>\n",
              "      <td>False</td>\n",
              "      <td>False</td>\n",
              "      <td>False</td>\n",
              "      <td>False</td>\n",
              "      <td>True</td>\n",
              "      <td>False</td>\n",
              "      <td>True</td>\n",
              "      <td>True</td>\n",
              "      <td>False</td>\n",
              "      <td>1</td>\n",
              "      <td>15.0</td>\n",
              "      <td>1</td>\n",
              "      <td>2</td>\n",
              "    </tr>\n",
              "    <tr>\n",
              "      <th>7449</th>\n",
              "      <td>03 quartos, Nascente, lazer completo, andar Al...</td>\n",
              "      <td>R$ 520 / mês</td>\n",
              "      <td>Código do anúncio: AM - MIRANTE TERE 81 - 9991...</td>\n",
              "      <td>Imbiribeira, Recife, PE, 51160250</td>\n",
              "      <td>R$ 2.200</td>\n",
              "      <td>Rua Conde Pereira Carneiro - de 251/252 ao fim</td>\n",
              "      <td>68m²</td>\n",
              "      <td>440000.0</td>\n",
              "      <td>BGM Imóveis</td>\n",
              "      <td>True</td>\n",
              "      <td>True</td>\n",
              "      <td>False</td>\n",
              "      <td>False</td>\n",
              "      <td>True</td>\n",
              "      <td>False</td>\n",
              "      <td>True</td>\n",
              "      <td>True</td>\n",
              "      <td>True</td>\n",
              "      <td>True</td>\n",
              "      <td>False</td>\n",
              "      <td>3</td>\n",
              "      <td>20.0</td>\n",
              "      <td>1</td>\n",
              "      <td>3</td>\n",
              "    </tr>\n",
              "    <tr>\n",
              "      <th>1611</th>\n",
              "      <td>Oportinidade em BOA VIAGEM: 200m², 04Qts, 02SU...</td>\n",
              "      <td>R$ 1.959 / mês</td>\n",
              "      <td>Código do anúncio: 768476\\n\\nAPRTAMENTO Á VEND...</td>\n",
              "      <td>Boa Viagem, Recife, PE, 51020260</td>\n",
              "      <td>R$ 54</td>\n",
              "      <td>Rua Félix de Brito Melo</td>\n",
              "      <td>200m²</td>\n",
              "      <td>1080000.0</td>\n",
              "      <td>Melo Gestão de Imóveis</td>\n",
              "      <td>True</td>\n",
              "      <td>True</td>\n",
              "      <td>False</td>\n",
              "      <td>True</td>\n",
              "      <td>True</td>\n",
              "      <td>True</td>\n",
              "      <td>True</td>\n",
              "      <td>False</td>\n",
              "      <td>True</td>\n",
              "      <td>True</td>\n",
              "      <td>False</td>\n",
              "      <td>3</td>\n",
              "      <td>20.0</td>\n",
              "      <td>2</td>\n",
              "      <td>4</td>\n",
              "    </tr>\n",
              "  </tbody>\n",
              "</table>\n",
              "</div>\n",
              "    <div class=\"colab-df-buttons\">\n",
              "\n",
              "  <div class=\"colab-df-container\">\n",
              "    <button class=\"colab-df-convert\" onclick=\"convertToInteractive('df-eb10125e-4467-467c-9239-a01d9083bdc3')\"\n",
              "            title=\"Convert this dataframe to an interactive table.\"\n",
              "            style=\"display:none;\">\n",
              "\n",
              "  <svg xmlns=\"http://www.w3.org/2000/svg\" height=\"24px\" viewBox=\"0 -960 960 960\">\n",
              "    <path d=\"M120-120v-720h720v720H120Zm60-500h600v-160H180v160Zm220 220h160v-160H400v160Zm0 220h160v-160H400v160ZM180-400h160v-160H180v160Zm440 0h160v-160H620v160ZM180-180h160v-160H180v160Zm440 0h160v-160H620v160Z\"/>\n",
              "  </svg>\n",
              "    </button>\n",
              "\n",
              "  <style>\n",
              "    .colab-df-container {\n",
              "      display:flex;\n",
              "      gap: 12px;\n",
              "    }\n",
              "\n",
              "    .colab-df-convert {\n",
              "      background-color: #E8F0FE;\n",
              "      border: none;\n",
              "      border-radius: 50%;\n",
              "      cursor: pointer;\n",
              "      display: none;\n",
              "      fill: #1967D2;\n",
              "      height: 32px;\n",
              "      padding: 0 0 0 0;\n",
              "      width: 32px;\n",
              "    }\n",
              "\n",
              "    .colab-df-convert:hover {\n",
              "      background-color: #E2EBFA;\n",
              "      box-shadow: 0px 1px 2px rgba(60, 64, 67, 0.3), 0px 1px 3px 1px rgba(60, 64, 67, 0.15);\n",
              "      fill: #174EA6;\n",
              "    }\n",
              "\n",
              "    .colab-df-buttons div {\n",
              "      margin-bottom: 4px;\n",
              "    }\n",
              "\n",
              "    [theme=dark] .colab-df-convert {\n",
              "      background-color: #3B4455;\n",
              "      fill: #D2E3FC;\n",
              "    }\n",
              "\n",
              "    [theme=dark] .colab-df-convert:hover {\n",
              "      background-color: #434B5C;\n",
              "      box-shadow: 0px 1px 3px 1px rgba(0, 0, 0, 0.15);\n",
              "      filter: drop-shadow(0px 1px 2px rgba(0, 0, 0, 0.3));\n",
              "      fill: #FFFFFF;\n",
              "    }\n",
              "  </style>\n",
              "\n",
              "    <script>\n",
              "      const buttonEl =\n",
              "        document.querySelector('#df-eb10125e-4467-467c-9239-a01d9083bdc3 button.colab-df-convert');\n",
              "      buttonEl.style.display =\n",
              "        google.colab.kernel.accessAllowed ? 'block' : 'none';\n",
              "\n",
              "      async function convertToInteractive(key) {\n",
              "        const element = document.querySelector('#df-eb10125e-4467-467c-9239-a01d9083bdc3');\n",
              "        const dataTable =\n",
              "          await google.colab.kernel.invokeFunction('convertToInteractive',\n",
              "                                                    [key], {});\n",
              "        if (!dataTable) return;\n",
              "\n",
              "        const docLinkHtml = 'Like what you see? Visit the ' +\n",
              "          '<a target=\"_blank\" href=https://colab.research.google.com/notebooks/data_table.ipynb>data table notebook</a>'\n",
              "          + ' to learn more about interactive tables.';\n",
              "        element.innerHTML = '';\n",
              "        dataTable['output_type'] = 'display_data';\n",
              "        await google.colab.output.renderOutput(dataTable, element);\n",
              "        const docLink = document.createElement('div');\n",
              "        docLink.innerHTML = docLinkHtml;\n",
              "        element.appendChild(docLink);\n",
              "      }\n",
              "    </script>\n",
              "  </div>\n",
              "\n",
              "\n",
              "<div id=\"df-50bb2a61-ebbd-48b5-ad9a-b9cac70fee0a\">\n",
              "  <button class=\"colab-df-quickchart\" onclick=\"quickchart('df-50bb2a61-ebbd-48b5-ad9a-b9cac70fee0a')\"\n",
              "            title=\"Suggest charts\"\n",
              "            style=\"display:none;\">\n",
              "\n",
              "<svg xmlns=\"http://www.w3.org/2000/svg\" height=\"24px\"viewBox=\"0 0 24 24\"\n",
              "     width=\"24px\">\n",
              "    <g>\n",
              "        <path d=\"M19 3H5c-1.1 0-2 .9-2 2v14c0 1.1.9 2 2 2h14c1.1 0 2-.9 2-2V5c0-1.1-.9-2-2-2zM9 17H7v-7h2v7zm4 0h-2V7h2v10zm4 0h-2v-4h2v4z\"/>\n",
              "    </g>\n",
              "</svg>\n",
              "  </button>\n",
              "\n",
              "<style>\n",
              "  .colab-df-quickchart {\n",
              "      --bg-color: #E8F0FE;\n",
              "      --fill-color: #1967D2;\n",
              "      --hover-bg-color: #E2EBFA;\n",
              "      --hover-fill-color: #174EA6;\n",
              "      --disabled-fill-color: #AAA;\n",
              "      --disabled-bg-color: #DDD;\n",
              "  }\n",
              "\n",
              "  [theme=dark] .colab-df-quickchart {\n",
              "      --bg-color: #3B4455;\n",
              "      --fill-color: #D2E3FC;\n",
              "      --hover-bg-color: #434B5C;\n",
              "      --hover-fill-color: #FFFFFF;\n",
              "      --disabled-bg-color: #3B4455;\n",
              "      --disabled-fill-color: #666;\n",
              "  }\n",
              "\n",
              "  .colab-df-quickchart {\n",
              "    background-color: var(--bg-color);\n",
              "    border: none;\n",
              "    border-radius: 50%;\n",
              "    cursor: pointer;\n",
              "    display: none;\n",
              "    fill: var(--fill-color);\n",
              "    height: 32px;\n",
              "    padding: 0;\n",
              "    width: 32px;\n",
              "  }\n",
              "\n",
              "  .colab-df-quickchart:hover {\n",
              "    background-color: var(--hover-bg-color);\n",
              "    box-shadow: 0 1px 2px rgba(60, 64, 67, 0.3), 0 1px 3px 1px rgba(60, 64, 67, 0.15);\n",
              "    fill: var(--button-hover-fill-color);\n",
              "  }\n",
              "\n",
              "  .colab-df-quickchart-complete:disabled,\n",
              "  .colab-df-quickchart-complete:disabled:hover {\n",
              "    background-color: var(--disabled-bg-color);\n",
              "    fill: var(--disabled-fill-color);\n",
              "    box-shadow: none;\n",
              "  }\n",
              "\n",
              "  .colab-df-spinner {\n",
              "    border: 2px solid var(--fill-color);\n",
              "    border-color: transparent;\n",
              "    border-bottom-color: var(--fill-color);\n",
              "    animation:\n",
              "      spin 1s steps(1) infinite;\n",
              "  }\n",
              "\n",
              "  @keyframes spin {\n",
              "    0% {\n",
              "      border-color: transparent;\n",
              "      border-bottom-color: var(--fill-color);\n",
              "      border-left-color: var(--fill-color);\n",
              "    }\n",
              "    20% {\n",
              "      border-color: transparent;\n",
              "      border-left-color: var(--fill-color);\n",
              "      border-top-color: var(--fill-color);\n",
              "    }\n",
              "    30% {\n",
              "      border-color: transparent;\n",
              "      border-left-color: var(--fill-color);\n",
              "      border-top-color: var(--fill-color);\n",
              "      border-right-color: var(--fill-color);\n",
              "    }\n",
              "    40% {\n",
              "      border-color: transparent;\n",
              "      border-right-color: var(--fill-color);\n",
              "      border-top-color: var(--fill-color);\n",
              "    }\n",
              "    60% {\n",
              "      border-color: transparent;\n",
              "      border-right-color: var(--fill-color);\n",
              "    }\n",
              "    80% {\n",
              "      border-color: transparent;\n",
              "      border-right-color: var(--fill-color);\n",
              "      border-bottom-color: var(--fill-color);\n",
              "    }\n",
              "    90% {\n",
              "      border-color: transparent;\n",
              "      border-bottom-color: var(--fill-color);\n",
              "    }\n",
              "  }\n",
              "</style>\n",
              "\n",
              "  <script>\n",
              "    async function quickchart(key) {\n",
              "      const quickchartButtonEl =\n",
              "        document.querySelector('#' + key + ' button');\n",
              "      quickchartButtonEl.disabled = true;  // To prevent multiple clicks.\n",
              "      quickchartButtonEl.classList.add('colab-df-spinner');\n",
              "      try {\n",
              "        const charts = await google.colab.kernel.invokeFunction(\n",
              "            'suggestCharts', [key], {});\n",
              "      } catch (error) {\n",
              "        console.error('Error during call to suggestCharts:', error);\n",
              "      }\n",
              "      quickchartButtonEl.classList.remove('colab-df-spinner');\n",
              "      quickchartButtonEl.classList.add('colab-df-quickchart-complete');\n",
              "    }\n",
              "    (() => {\n",
              "      let quickchartButtonEl =\n",
              "        document.querySelector('#df-50bb2a61-ebbd-48b5-ad9a-b9cac70fee0a button');\n",
              "      quickchartButtonEl.style.display =\n",
              "        google.colab.kernel.accessAllowed ? 'block' : 'none';\n",
              "    })();\n",
              "  </script>\n",
              "</div>\n",
              "    </div>\n",
              "  </div>\n"
            ],
            "application/vnd.google.colaboratory.intrinsic+json": {
              "type": "dataframe",
              "variable_name": "df_raw"
            }
          },
          "metadata": {},
          "execution_count": 8
        }
      ],
      "source": [
        "df_raw.head(3)"
      ]
    },
    {
      "cell_type": "markdown",
      "id": "5b889c32-6971-4dd4-91eb-e15a6d986bcb",
      "metadata": {
        "id": "5b889c32-6971-4dd4-91eb-e15a6d986bcb"
      },
      "source": [
        "# 2. Realizar pré-processamento dos dados"
      ]
    },
    {
      "cell_type": "code",
      "execution_count": 33,
      "id": "nucdF9ewkaFz",
      "metadata": {
        "colab": {
          "base_uri": "https://localhost:8080/"
        },
        "id": "nucdF9ewkaFz",
        "outputId": "3eb5dd2b-3d1c-4b16-b14d-3223b0fa567a"
      },
      "outputs": [
        {
          "output_type": "execute_result",
          "data": {
            "text/plain": [
              "(5000, 24)"
            ]
          },
          "metadata": {},
          "execution_count": 33
        }
      ],
      "source": [
        "df_raw.shape"
      ]
    },
    {
      "cell_type": "code",
      "execution_count": 34,
      "id": "04d67044-1d45-4990-8981-4855aaf7765c",
      "metadata": {
        "id": "04d67044-1d45-4990-8981-4855aaf7765c"
      },
      "outputs": [],
      "source": [
        "df_0 = df_raw.copy()"
      ]
    },
    {
      "cell_type": "code",
      "execution_count": 35,
      "id": "f1c65e04-69fb-4220-a686-410f02b8fe53",
      "metadata": {
        "id": "f1c65e04-69fb-4220-a686-410f02b8fe53"
      },
      "outputs": [],
      "source": [
        "# vamos considerar como chave todas as colunas menos\n",
        "df_0 = df_0.drop_duplicates(subset=['find_condominio','find_endereco','find_iptu','find_loc', 'find_m_quadrado', 'find_price', 'find_vendedor', 'is_academia', 'is_apertamento', 'is_ar_condicionado', 'is_churrasqueira', 'is_elevador', 'is_mobiliado', 'is_piscina', 'is_portaria', 'is_profissional', 'is_salao_festa', 'is_varanda', 'n_banheiros', 'n_fotos', 'n_garagens', 'n_quartos'])"
      ]
    },
    {
      "cell_type": "code",
      "source": [
        "set(df_0.columns) - set(['find_condominio','find_endereco','find_iptu','find_loc', 'find_m_quadrado', 'find_price', 'find_vendedor', 'is_academia', 'is_apertamento', 'is_ar_condicionado', 'is_churrasqueira', 'is_elevador', 'is_mobiliado', 'is_piscina', 'is_portaria', 'is_profissional', 'is_salao_festa', 'is_varanda', 'n_banheiros', 'n_fotos', 'n_garagens', 'n_quartos'])\n",
        "\n",
        "# chave primária vai ser todas as colunas menos o que texto que tem no anuncio e na descrição dele"
      ],
      "metadata": {
        "colab": {
          "base_uri": "https://localhost:8080/"
        },
        "id": "kOuJwh2obc6z",
        "outputId": "718fb1cb-84aa-4003-a01e-fa1002dd000b"
      },
      "id": "kOuJwh2obc6z",
      "execution_count": 36,
      "outputs": [
        {
          "output_type": "execute_result",
          "data": {
            "text/plain": [
              "{'find_anuncio', 'find_descri'}"
            ]
          },
          "metadata": {},
          "execution_count": 36
        }
      ]
    },
    {
      "cell_type": "code",
      "execution_count": 37,
      "id": "561236b1",
      "metadata": {
        "colab": {
          "base_uri": "https://localhost:8080/"
        },
        "id": "561236b1",
        "outputId": "8fc8b0dd-615d-4216-d870-1580801482a3"
      },
      "outputs": [
        {
          "output_type": "execute_result",
          "data": {
            "text/plain": [
              "(4870, 24)"
            ]
          },
          "metadata": {},
          "execution_count": 37
        }
      ],
      "source": [
        "df_0.shape"
      ]
    },
    {
      "cell_type": "markdown",
      "id": "93a7f4f8-69c3-44a9-bd01-b2542d56a201",
      "metadata": {
        "id": "93a7f4f8-69c3-44a9-bd01-b2542d56a201"
      },
      "source": [
        "## 2.0 <dar nome melhor para descrever essas alterações iniciais>"
      ]
    },
    {
      "cell_type": "markdown",
      "source": [
        "### 2.0.1 Algumas classes são muito uteis como valor numerico, mas não podem ser totalmente convertidas. exemplo: o numero de quartos tem o campo '5 ou mais' vamos fazer o drop desses valores"
      ],
      "metadata": {
        "id": "moEBtsfocPFb"
      },
      "id": "moEBtsfocPFb"
    },
    {
      "cell_type": "code",
      "source": [
        "df_0 = df_0[df_0['n_quartos'] != '5 ou mais']\n",
        "df_0 = df_0[df_0['n_banheiros'] != '5 ou mais']\n",
        "df_0 = df_0[df_0['n_garagens'] != '5 ou mais']"
      ],
      "metadata": {
        "id": "-L7vunnAcKZc"
      },
      "id": "-L7vunnAcKZc",
      "execution_count": 38,
      "outputs": []
    },
    {
      "cell_type": "markdown",
      "id": "1f390caa-5e72-4686-81cd-f02710b48dcf",
      "metadata": {
        "id": "1f390caa-5e72-4686-81cd-f02710b48dcf"
      },
      "source": [
        "## 2.1 definição de tipos e criação de novas colunas derivadas"
      ]
    },
    {
      "cell_type": "code",
      "execution_count": 39,
      "id": "hb12P9NjlsD_",
      "metadata": {
        "colab": {
          "base_uri": "https://localhost:8080/"
        },
        "id": "hb12P9NjlsD_",
        "outputId": "330ece8d-dcd0-42ee-ce42-85973818d7d5"
      },
      "outputs": [
        {
          "output_type": "execute_result",
          "data": {
            "text/plain": [
              "find_anuncio           object\n",
              "find_condominio        object\n",
              "find_descri            object\n",
              "find_endereco          object\n",
              "find_iptu              object\n",
              "find_loc               object\n",
              "find_m_quadrado        object\n",
              "find_price            float64\n",
              "find_vendedor          object\n",
              "is_academia            object\n",
              "is_apertamento         object\n",
              "is_ar_condicionado     object\n",
              "is_churrasqueira       object\n",
              "is_elevador            object\n",
              "is_mobiliado           object\n",
              "is_piscina             object\n",
              "is_portaria            object\n",
              "is_profissional        object\n",
              "is_salao_festa         object\n",
              "is_varanda             object\n",
              "n_banheiros            object\n",
              "n_fotos               float64\n",
              "n_garagens             object\n",
              "n_quartos              object\n",
              "dtype: object"
            ]
          },
          "metadata": {},
          "execution_count": 39
        }
      ],
      "source": [
        "df_0.dtypes"
      ]
    },
    {
      "cell_type": "code",
      "execution_count": 40,
      "id": "a1760679-e7a8-40bf-97dc-96b95d3e64c4",
      "metadata": {
        "id": "a1760679-e7a8-40bf-97dc-96b95d3e64c4",
        "scrolled": true,
        "tags": []
      },
      "outputs": [],
      "source": [
        "# deixando como num a coluna find_condominio\n",
        "df_0['find_condominio'] = df_0['find_condominio'].astype('str').str.replace('R$', '').str.replace(' / mês', '').str.replace('.', '')\n",
        "\n",
        "# deixando como num a coluna find_iptu\n",
        "df_0['find_iptu'] = df_0['find_iptu'].astype('str').str.replace('R$ ', '').str.replace('.', '')\n",
        "\n",
        "# deixando como num a coluna find_m_quadrado\n",
        "df_0['find_m_quadrado'] = df_0['find_m_quadrado'].astype('str').str.replace('m²', '').str.replace('.', '')\n",
        "\n",
        "# cast direto colunas(floats devido a conseguir dar cast em NaN)\n",
        "df_0['find_anuncio'] = df_0['find_anuncio'].astype('category')\n",
        "df_0['find_condominio'] = df_0['find_condominio'].astype('float')\n",
        "df_0['find_descri'] = df_0['find_descri'].astype('category')\n",
        "df_0['find_endereco'] = df_0['find_endereco'].astype('category')\n",
        "df_0['find_iptu'] = df_0['find_iptu'].astype('float')\n",
        "df_0['find_loc'] = df_0['find_loc'].astype('category')\n",
        "df_0['find_m_quadrado'] = df_0['find_m_quadrado'].astype('float')\n",
        "df_0['find_price'] = df_0['find_price'].astype('float')\n",
        "df_0['find_vendedor'] = df_0['find_vendedor'].astype('category')\n",
        "df_0['is_academia'] = df_0['is_academia'].astype('category')\n",
        "df_0['is_apertamento'] = df_0['is_apertamento'].astype('category')\n",
        "df_0['is_ar_condicionado'] = df_0['is_ar_condicionado'].astype('category')\n",
        "df_0['is_churrasqueira'] = df_0['is_churrasqueira'].astype('category')\n",
        "df_0['is_elevador'] = df_0['is_elevador'].astype('category')\n",
        "df_0['is_mobiliado'] = df_0['is_mobiliado'].astype('category')\n",
        "df_0['is_piscina'] = df_0['is_piscina'].astype('category')\n",
        "df_0['is_portaria'] = df_0['is_portaria'].astype('category')\n",
        "df_0['is_profissional'] = df_0['is_profissional'].astype('category')\n",
        "df_0['is_salao_festa'] = df_0['is_salao_festa'].astype('category')\n",
        "df_0['is_varanda'] = df_0['is_varanda'].astype('category')\n",
        "df_0['n_banheiros'] = df_0['n_banheiros'].astype('float')\n",
        "df_0['n_fotos'] = df_0['n_fotos'].astype('float')\n",
        "df_0['n_garagens'] = df_0['n_garagens'].astype('float')\n",
        "df_0['n_quartos'] = df_0['n_quartos'].astype('float')\n"
      ]
    },
    {
      "cell_type": "code",
      "source": [
        "df_0.dtypes"
      ],
      "metadata": {
        "colab": {
          "base_uri": "https://localhost:8080/"
        },
        "id": "Y8NQUfrqc7wB",
        "outputId": "dfe35be8-9258-49ab-d977-d2e5231f5a38"
      },
      "id": "Y8NQUfrqc7wB",
      "execution_count": 41,
      "outputs": [
        {
          "output_type": "execute_result",
          "data": {
            "text/plain": [
              "find_anuncio          category\n",
              "find_condominio        float64\n",
              "find_descri           category\n",
              "find_endereco         category\n",
              "find_iptu              float64\n",
              "find_loc              category\n",
              "find_m_quadrado        float64\n",
              "find_price             float64\n",
              "find_vendedor         category\n",
              "is_academia           category\n",
              "is_apertamento        category\n",
              "is_ar_condicionado    category\n",
              "is_churrasqueira      category\n",
              "is_elevador           category\n",
              "is_mobiliado          category\n",
              "is_piscina            category\n",
              "is_portaria           category\n",
              "is_profissional       category\n",
              "is_salao_festa        category\n",
              "is_varanda            category\n",
              "n_banheiros            float64\n",
              "n_fotos                float64\n",
              "n_garagens             float64\n",
              "n_quartos              float64\n",
              "dtype: object"
            ]
          },
          "metadata": {},
          "execution_count": 41
        }
      ]
    },
    {
      "cell_type": "code",
      "source": [
        "df_0[df_0.select_dtypes(['category']).columns] = df_0.select_dtypes(['category']).apply(lambda x: x.cat.codes)"
      ],
      "metadata": {
        "id": "MhUyKVvQjn7F"
      },
      "id": "MhUyKVvQjn7F",
      "execution_count": 42,
      "outputs": []
    },
    {
      "cell_type": "code",
      "source": [
        "df_0.dtypes"
      ],
      "metadata": {
        "colab": {
          "base_uri": "https://localhost:8080/"
        },
        "id": "vIa0h30vkQWF",
        "outputId": "22ba0ff3-9b66-42e6-803a-54e6c72af53a"
      },
      "id": "vIa0h30vkQWF",
      "execution_count": 43,
      "outputs": [
        {
          "output_type": "execute_result",
          "data": {
            "text/plain": [
              "find_anuncio            int16\n",
              "find_condominio       float64\n",
              "find_descri             int16\n",
              "find_endereco           int16\n",
              "find_iptu             float64\n",
              "find_loc                int16\n",
              "find_m_quadrado       float64\n",
              "find_price            float64\n",
              "find_vendedor           int16\n",
              "is_academia              int8\n",
              "is_apertamento           int8\n",
              "is_ar_condicionado       int8\n",
              "is_churrasqueira         int8\n",
              "is_elevador              int8\n",
              "is_mobiliado             int8\n",
              "is_piscina               int8\n",
              "is_portaria              int8\n",
              "is_profissional          int8\n",
              "is_salao_festa           int8\n",
              "is_varanda               int8\n",
              "n_banheiros           float64\n",
              "n_fotos               float64\n",
              "n_garagens            float64\n",
              "n_quartos             float64\n",
              "dtype: object"
            ]
          },
          "metadata": {},
          "execution_count": 43
        }
      ]
    },
    {
      "cell_type": "markdown",
      "id": "781e49a4-4062-4dd8-bd1b-bb2b1d93dc09",
      "metadata": {
        "id": "781e49a4-4062-4dd8-bd1b-bb2b1d93dc09"
      },
      "source": [
        "## 2.2 Tratamento de dados ausentes\n",
        "  - vamos fazer a imputação das únicas 3 colunas que apresentam preenchimento vazio\n",
        "    - find_m_quadrado\n",
        "    - n_banheiros\n",
        "    - n_garagens"
      ]
    },
    {
      "cell_type": "code",
      "execution_count": 44,
      "id": "7853d9d8-7f09-4fa3-8c0b-494e1a3e732a",
      "metadata": {
        "id": "7853d9d8-7f09-4fa3-8c0b-494e1a3e732a",
        "colab": {
          "base_uri": "https://localhost:8080/"
        },
        "outputId": "0f705e53-439c-4889-fcb9-f316934d6dcc"
      },
      "outputs": [
        {
          "output_type": "execute_result",
          "data": {
            "text/plain": [
              "find_anuncio            0\n",
              "find_condominio         0\n",
              "find_descri             0\n",
              "find_endereco           0\n",
              "find_iptu               0\n",
              "find_loc                0\n",
              "find_m_quadrado        37\n",
              "find_price              0\n",
              "find_vendedor           0\n",
              "is_academia             0\n",
              "is_apertamento          0\n",
              "is_ar_condicionado      0\n",
              "is_churrasqueira        0\n",
              "is_elevador             0\n",
              "is_mobiliado            0\n",
              "is_piscina              0\n",
              "is_portaria             0\n",
              "is_profissional         0\n",
              "is_salao_festa          0\n",
              "is_varanda              0\n",
              "n_banheiros            10\n",
              "n_fotos                 0\n",
              "n_garagens            104\n",
              "n_quartos               0\n",
              "dtype: int64"
            ]
          },
          "metadata": {},
          "execution_count": 44
        }
      ],
      "source": [
        "df_0.isna().sum()"
      ]
    },
    {
      "cell_type": "markdown",
      "source": [
        "### 2.2.1 Removendo colunas pelo knnimputer"
      ],
      "metadata": {
        "id": "ZmPYaVeigfQf"
      },
      "id": "ZmPYaVeigfQf"
    },
    {
      "cell_type": "code",
      "source": [
        "from fancyimpute import KNN\n",
        "\n",
        "df_0_knn = KNN(k=2).fit_transform(df_0)"
      ],
      "metadata": {
        "colab": {
          "base_uri": "https://localhost:8080/"
        },
        "id": "RUqrpf54gDF4",
        "outputId": "a67f14c9-c767-459a-860f-fc740faf28fe"
      },
      "id": "RUqrpf54gDF4",
      "execution_count": 45,
      "outputs": [
        {
          "output_type": "stream",
          "name": "stdout",
          "text": [
            "Imputing row 1/4564 with 0 missing, elapsed time: 4.539\n",
            "Imputing row 101/4564 with 0 missing, elapsed time: 4.541\n",
            "Imputing row 201/4564 with 0 missing, elapsed time: 4.542\n",
            "Imputing row 301/4564 with 0 missing, elapsed time: 4.544\n",
            "Imputing row 401/4564 with 0 missing, elapsed time: 4.545\n",
            "Imputing row 501/4564 with 0 missing, elapsed time: 4.546\n",
            "Imputing row 601/4564 with 0 missing, elapsed time: 4.547\n",
            "Imputing row 701/4564 with 0 missing, elapsed time: 4.548\n",
            "Imputing row 801/4564 with 0 missing, elapsed time: 4.549\n",
            "Imputing row 901/4564 with 0 missing, elapsed time: 4.550\n",
            "Imputing row 1001/4564 with 0 missing, elapsed time: 4.550\n",
            "Imputing row 1101/4564 with 1 missing, elapsed time: 4.551\n",
            "Imputing row 1201/4564 with 0 missing, elapsed time: 4.552\n",
            "Imputing row 1301/4564 with 0 missing, elapsed time: 4.552\n",
            "Imputing row 1401/4564 with 0 missing, elapsed time: 4.553\n",
            "Imputing row 1501/4564 with 0 missing, elapsed time: 4.556\n",
            "Imputing row 1601/4564 with 0 missing, elapsed time: 4.557\n",
            "Imputing row 1701/4564 with 0 missing, elapsed time: 4.558\n",
            "Imputing row 1801/4564 with 0 missing, elapsed time: 4.559\n",
            "Imputing row 1901/4564 with 0 missing, elapsed time: 4.559\n",
            "Imputing row 2001/4564 with 0 missing, elapsed time: 4.560\n",
            "Imputing row 2101/4564 with 0 missing, elapsed time: 4.561\n",
            "Imputing row 2201/4564 with 0 missing, elapsed time: 4.562\n",
            "Imputing row 2301/4564 with 0 missing, elapsed time: 4.562\n",
            "Imputing row 2401/4564 with 0 missing, elapsed time: 4.563\n",
            "Imputing row 2501/4564 with 0 missing, elapsed time: 4.564\n",
            "Imputing row 2601/4564 with 0 missing, elapsed time: 4.565\n",
            "Imputing row 2701/4564 with 0 missing, elapsed time: 4.565\n",
            "Imputing row 2801/4564 with 0 missing, elapsed time: 4.566\n",
            "Imputing row 2901/4564 with 0 missing, elapsed time: 4.566\n",
            "Imputing row 3001/4564 with 0 missing, elapsed time: 4.572\n",
            "Imputing row 3101/4564 with 0 missing, elapsed time: 4.573\n",
            "Imputing row 3201/4564 with 0 missing, elapsed time: 4.574\n",
            "Imputing row 3301/4564 with 0 missing, elapsed time: 4.575\n",
            "Imputing row 3401/4564 with 0 missing, elapsed time: 4.576\n",
            "Imputing row 3501/4564 with 0 missing, elapsed time: 4.577\n",
            "Imputing row 3601/4564 with 0 missing, elapsed time: 4.577\n",
            "Imputing row 3701/4564 with 0 missing, elapsed time: 4.578\n",
            "Imputing row 3801/4564 with 0 missing, elapsed time: 4.580\n",
            "Imputing row 3901/4564 with 0 missing, elapsed time: 4.582\n",
            "Imputing row 4001/4564 with 0 missing, elapsed time: 4.583\n",
            "Imputing row 4101/4564 with 0 missing, elapsed time: 4.584\n",
            "Imputing row 4201/4564 with 0 missing, elapsed time: 4.585\n",
            "Imputing row 4301/4564 with 0 missing, elapsed time: 4.586\n",
            "Imputing row 4401/4564 with 0 missing, elapsed time: 4.587\n",
            "Imputing row 4501/4564 with 0 missing, elapsed time: 4.588\n"
          ]
        }
      ]
    },
    {
      "cell_type": "code",
      "source": [
        "df_0 = pd.DataFrame(data=df_0_knn[0:,0:],columns=df_0.columns)\n"
      ],
      "metadata": {
        "id": "HWY6iQEylcWd"
      },
      "id": "HWY6iQEylcWd",
      "execution_count": 46,
      "outputs": []
    },
    {
      "cell_type": "code",
      "source": [
        "df_0.isna().sum()"
      ],
      "metadata": {
        "colab": {
          "base_uri": "https://localhost:8080/"
        },
        "id": "30dM3v7XgDSZ",
        "outputId": "2dddb0e7-032c-4be8-fbc8-d8f0bca27adc"
      },
      "id": "30dM3v7XgDSZ",
      "execution_count": 47,
      "outputs": [
        {
          "output_type": "execute_result",
          "data": {
            "text/plain": [
              "find_anuncio          0\n",
              "find_condominio       0\n",
              "find_descri           0\n",
              "find_endereco         0\n",
              "find_iptu             0\n",
              "find_loc              0\n",
              "find_m_quadrado       0\n",
              "find_price            0\n",
              "find_vendedor         0\n",
              "is_academia           0\n",
              "is_apertamento        0\n",
              "is_ar_condicionado    0\n",
              "is_churrasqueira      0\n",
              "is_elevador           0\n",
              "is_mobiliado          0\n",
              "is_piscina            0\n",
              "is_portaria           0\n",
              "is_profissional       0\n",
              "is_salao_festa        0\n",
              "is_varanda            0\n",
              "n_banheiros           0\n",
              "n_fotos               0\n",
              "n_garagens            0\n",
              "n_quartos             0\n",
              "dtype: int64"
            ]
          },
          "metadata": {},
          "execution_count": 47
        }
      ]
    },
    {
      "cell_type": "markdown",
      "source": [
        "## 2.3 Normalização e discretização dos dados"
      ],
      "metadata": {
        "id": "VJfo9lywm6KP"
      },
      "id": "VJfo9lywm6KP"
    },
    {
      "cell_type": "code",
      "source": [
        "# fazendo a discretização do find_m_quadrado para entender melhor distribuição pelos segmentos\n",
        "df_0['dist_find_m_quadrado'] = pd.cut(df_0['find_m_quadrado'], bins=10000)\n",
        "\n",
        "df_0['dist_find_m_quadrado'].value_counts()[:50]"
      ],
      "metadata": {
        "colab": {
          "base_uri": "https://localhost:8080/"
        },
        "id": "CvAzUzKa5TKK",
        "outputId": "84243150-3b03-493c-fba6-4256e839922e"
      },
      "id": "CvAzUzKa5TKK",
      "execution_count": 59,
      "outputs": [
        {
          "output_type": "execute_result",
          "data": {
            "text/plain": [
              "dist_find_m_quadrado\n",
              "(50.0, 60.0]           581\n",
              "(60.0, 70.0]           552\n",
              "(40.0, 50.0]           507\n",
              "(80.0, 90.0]           365\n",
              "(70.0, 80.0]           306\n",
              "(90.0, 100.0]          280\n",
              "(130.0, 140.0]         276\n",
              "(120.0, 130.0]         255\n",
              "(30.0, 40.0]           255\n",
              "(100.0, 110.0]         199\n",
              "(20.0, 30.0]           184\n",
              "(110.0, 120.0]         147\n",
              "(140.0, 150.0]         143\n",
              "(150.0, 160.0]         117\n",
              "(160.0, 170.0]          76\n",
              "(170.0, 180.0]          56\n",
              "(180.0, 190.0]          34\n",
              "(190.0, 200.0]          33\n",
              "(200.0, 210.0]          32\n",
              "(210.0, 220.0]          26\n",
              "(220.0, 230.0]          24\n",
              "(240.0, 250.0]          12\n",
              "(290.0, 300.0]          11\n",
              "(-100.0, 10.0]          11\n",
              "(10.0, 20.0]             9\n",
              "(250.0, 260.0]           9\n",
              "(230.0, 240.0]           8\n",
              "(330.0, 340.0]           7\n",
              "(260.0, 270.0]           6\n",
              "(350.0, 360.0]           5\n",
              "(300.0, 310.0]           5\n",
              "(340.0, 350.0]           4\n",
              "(310.0, 320.0]           4\n",
              "(270.0, 280.0]           4\n",
              "(320.0, 330.0]           3\n",
              "(280.0, 290.0]           3\n",
              "(450.0, 460.0]           2\n",
              "(390.0, 400.0]           2\n",
              "(480.0, 490.0]           2\n",
              "(440.0, 450.0]           2\n",
              "(1490.0, 1500.0]         1\n",
              "(590.0, 600.0]           1\n",
              "(530.0, 540.0]           1\n",
              "(510.0, 520.0]           1\n",
              "(490.0, 500.0]           1\n",
              "(99990.0, 100000.0]      1\n",
              "(380.0, 390.0]           1\n",
              "(460.0, 470.0]           0\n",
              "(66760.0, 66770.0]       0\n",
              "(66780.0, 66790.0]       0\n",
              "Name: count, dtype: int64"
            ]
          },
          "metadata": {},
          "execution_count": 59
        }
      ]
    },
    {
      "cell_type": "code",
      "source": [
        "# minmax em todo o dataframe\n",
        "df_0 = (df_0 - df_0.min()) / (df_0.max() - df_0.min())"
      ],
      "metadata": {
        "id": "0gzeNIt1m5TQ"
      },
      "id": "0gzeNIt1m5TQ",
      "execution_count": 24,
      "outputs": []
    },
    {
      "cell_type": "code",
      "source": [
        "df_0.describe()"
      ],
      "metadata": {
        "colab": {
          "base_uri": "https://localhost:8080/",
          "height": 320
        },
        "id": "heA_Du61oTJh",
        "outputId": "87d7119f-dc2b-4dd7-cdf6-b1ab92e3acc2"
      },
      "id": "heA_Du61oTJh",
      "execution_count": 25,
      "outputs": [
        {
          "output_type": "execute_result",
          "data": {
            "text/plain": [
              "       find_anuncio  find_condominio  find_descri  find_endereco    find_iptu  \\\n",
              "count   4564.000000      4564.000000  4564.000000    4564.000000  4564.000000   \n",
              "mean       0.485859         0.001094     0.501092       0.416219     0.000833   \n",
              "std        0.279693         0.023890     0.289328       0.308689     0.015799   \n",
              "min        0.000000         0.000000     0.000000       0.000000     0.000000   \n",
              "25%        0.262494         0.000002     0.250605       0.114025     0.000001   \n",
              "50%        0.470320         0.000081     0.501651       0.349487     0.000002   \n",
              "75%        0.721271         0.000641     0.751816       0.681015     0.000335   \n",
              "max        1.000000         1.000000     1.000000       1.000000     1.000000   \n",
              "\n",
              "          find_loc  find_m_quadrado   find_price  find_vendedor  is_academia  \\\n",
              "count  4564.000000      4564.000000  4564.000000    4564.000000  4564.000000   \n",
              "mean      0.494576         0.001133     0.264937       0.490997     0.465162   \n",
              "std       0.282059         0.014800     0.176429       0.276874     0.498839   \n",
              "min       0.000000         0.000000     0.000000       0.000000     0.000000   \n",
              "25%       0.265793         0.000540     0.143434       0.252874     0.000000   \n",
              "50%       0.501192         0.000760     0.201616       0.490148     0.000000   \n",
              "75%       0.731824         0.001220     0.335859       0.712644     1.000000   \n",
              "max       1.000000         1.000000     1.000000       1.000000     1.000000   \n",
              "\n",
              "       is_apertamento  is_ar_condicionado  is_churrasqueira  is_elevador  \\\n",
              "count     4564.000000         4564.000000       4564.000000  4564.000000   \n",
              "mean         0.966915            0.221735          0.439308     0.683830   \n",
              "std          0.178878            0.415459          0.496357     0.465031   \n",
              "min          0.000000            0.000000          0.000000     0.000000   \n",
              "25%          1.000000            0.000000          0.000000     0.000000   \n",
              "50%          1.000000            0.000000          0.000000     1.000000   \n",
              "75%          1.000000            0.000000          1.000000     1.000000   \n",
              "max          1.000000            1.000000          1.000000     1.000000   \n",
              "\n",
              "       is_mobiliado   is_piscina  is_portaria  is_profissional  \\\n",
              "count   4564.000000  4564.000000  4564.000000      4564.000000   \n",
              "mean       0.068142     0.644172     0.615907         0.975898   \n",
              "std        0.252017     0.478816     0.486433         0.153382   \n",
              "min        0.000000     0.000000     0.000000         0.000000   \n",
              "25%        0.000000     0.000000     0.000000         1.000000   \n",
              "50%        0.000000     1.000000     1.000000         1.000000   \n",
              "75%        0.000000     1.000000     1.000000         1.000000   \n",
              "max        1.000000     1.000000     1.000000         1.000000   \n",
              "\n",
              "       is_salao_festa   is_varanda  n_banheiros      n_fotos   n_garagens  \\\n",
              "count     4564.000000  4564.000000  4564.000000  4564.000000  4564.000000   \n",
              "mean         0.648116     0.350351     0.454258     0.782756     0.364288   \n",
              "std          0.477610     0.477132     0.234353     0.252078     0.163578   \n",
              "min          0.000000     0.000000     0.000000     0.000000     0.000000   \n",
              "25%          0.000000     0.000000     0.250000     0.650000     0.250000   \n",
              "50%          1.000000     0.000000     0.500000     0.900000     0.250000   \n",
              "75%          1.000000     1.000000     0.500000     0.950000     0.500000   \n",
              "max          1.000000     1.000000     1.000000     1.000000     1.000000   \n",
              "\n",
              "         n_quartos  \n",
              "count  4564.000000  \n",
              "mean      0.668000  \n",
              "std       0.220634  \n",
              "min       0.000000  \n",
              "25%       0.500000  \n",
              "50%       0.750000  \n",
              "75%       0.750000  \n",
              "max       1.000000  "
            ],
            "text/html": [
              "\n",
              "  <div id=\"df-eab2dce0-6179-484c-b07f-62c5ccf869f8\" class=\"colab-df-container\">\n",
              "    <div>\n",
              "<style scoped>\n",
              "    .dataframe tbody tr th:only-of-type {\n",
              "        vertical-align: middle;\n",
              "    }\n",
              "\n",
              "    .dataframe tbody tr th {\n",
              "        vertical-align: top;\n",
              "    }\n",
              "\n",
              "    .dataframe thead th {\n",
              "        text-align: right;\n",
              "    }\n",
              "</style>\n",
              "<table border=\"1\" class=\"dataframe\">\n",
              "  <thead>\n",
              "    <tr style=\"text-align: right;\">\n",
              "      <th></th>\n",
              "      <th>find_anuncio</th>\n",
              "      <th>find_condominio</th>\n",
              "      <th>find_descri</th>\n",
              "      <th>find_endereco</th>\n",
              "      <th>find_iptu</th>\n",
              "      <th>find_loc</th>\n",
              "      <th>find_m_quadrado</th>\n",
              "      <th>find_price</th>\n",
              "      <th>find_vendedor</th>\n",
              "      <th>is_academia</th>\n",
              "      <th>is_apertamento</th>\n",
              "      <th>is_ar_condicionado</th>\n",
              "      <th>is_churrasqueira</th>\n",
              "      <th>is_elevador</th>\n",
              "      <th>is_mobiliado</th>\n",
              "      <th>is_piscina</th>\n",
              "      <th>is_portaria</th>\n",
              "      <th>is_profissional</th>\n",
              "      <th>is_salao_festa</th>\n",
              "      <th>is_varanda</th>\n",
              "      <th>n_banheiros</th>\n",
              "      <th>n_fotos</th>\n",
              "      <th>n_garagens</th>\n",
              "      <th>n_quartos</th>\n",
              "    </tr>\n",
              "  </thead>\n",
              "  <tbody>\n",
              "    <tr>\n",
              "      <th>count</th>\n",
              "      <td>4564.000000</td>\n",
              "      <td>4564.000000</td>\n",
              "      <td>4564.000000</td>\n",
              "      <td>4564.000000</td>\n",
              "      <td>4564.000000</td>\n",
              "      <td>4564.000000</td>\n",
              "      <td>4564.000000</td>\n",
              "      <td>4564.000000</td>\n",
              "      <td>4564.000000</td>\n",
              "      <td>4564.000000</td>\n",
              "      <td>4564.000000</td>\n",
              "      <td>4564.000000</td>\n",
              "      <td>4564.000000</td>\n",
              "      <td>4564.000000</td>\n",
              "      <td>4564.000000</td>\n",
              "      <td>4564.000000</td>\n",
              "      <td>4564.000000</td>\n",
              "      <td>4564.000000</td>\n",
              "      <td>4564.000000</td>\n",
              "      <td>4564.000000</td>\n",
              "      <td>4564.000000</td>\n",
              "      <td>4564.000000</td>\n",
              "      <td>4564.000000</td>\n",
              "      <td>4564.000000</td>\n",
              "    </tr>\n",
              "    <tr>\n",
              "      <th>mean</th>\n",
              "      <td>0.485859</td>\n",
              "      <td>0.001094</td>\n",
              "      <td>0.501092</td>\n",
              "      <td>0.416219</td>\n",
              "      <td>0.000833</td>\n",
              "      <td>0.494576</td>\n",
              "      <td>0.001133</td>\n",
              "      <td>0.264937</td>\n",
              "      <td>0.490997</td>\n",
              "      <td>0.465162</td>\n",
              "      <td>0.966915</td>\n",
              "      <td>0.221735</td>\n",
              "      <td>0.439308</td>\n",
              "      <td>0.683830</td>\n",
              "      <td>0.068142</td>\n",
              "      <td>0.644172</td>\n",
              "      <td>0.615907</td>\n",
              "      <td>0.975898</td>\n",
              "      <td>0.648116</td>\n",
              "      <td>0.350351</td>\n",
              "      <td>0.454258</td>\n",
              "      <td>0.782756</td>\n",
              "      <td>0.364288</td>\n",
              "      <td>0.668000</td>\n",
              "    </tr>\n",
              "    <tr>\n",
              "      <th>std</th>\n",
              "      <td>0.279693</td>\n",
              "      <td>0.023890</td>\n",
              "      <td>0.289328</td>\n",
              "      <td>0.308689</td>\n",
              "      <td>0.015799</td>\n",
              "      <td>0.282059</td>\n",
              "      <td>0.014800</td>\n",
              "      <td>0.176429</td>\n",
              "      <td>0.276874</td>\n",
              "      <td>0.498839</td>\n",
              "      <td>0.178878</td>\n",
              "      <td>0.415459</td>\n",
              "      <td>0.496357</td>\n",
              "      <td>0.465031</td>\n",
              "      <td>0.252017</td>\n",
              "      <td>0.478816</td>\n",
              "      <td>0.486433</td>\n",
              "      <td>0.153382</td>\n",
              "      <td>0.477610</td>\n",
              "      <td>0.477132</td>\n",
              "      <td>0.234353</td>\n",
              "      <td>0.252078</td>\n",
              "      <td>0.163578</td>\n",
              "      <td>0.220634</td>\n",
              "    </tr>\n",
              "    <tr>\n",
              "      <th>min</th>\n",
              "      <td>0.000000</td>\n",
              "      <td>0.000000</td>\n",
              "      <td>0.000000</td>\n",
              "      <td>0.000000</td>\n",
              "      <td>0.000000</td>\n",
              "      <td>0.000000</td>\n",
              "      <td>0.000000</td>\n",
              "      <td>0.000000</td>\n",
              "      <td>0.000000</td>\n",
              "      <td>0.000000</td>\n",
              "      <td>0.000000</td>\n",
              "      <td>0.000000</td>\n",
              "      <td>0.000000</td>\n",
              "      <td>0.000000</td>\n",
              "      <td>0.000000</td>\n",
              "      <td>0.000000</td>\n",
              "      <td>0.000000</td>\n",
              "      <td>0.000000</td>\n",
              "      <td>0.000000</td>\n",
              "      <td>0.000000</td>\n",
              "      <td>0.000000</td>\n",
              "      <td>0.000000</td>\n",
              "      <td>0.000000</td>\n",
              "      <td>0.000000</td>\n",
              "    </tr>\n",
              "    <tr>\n",
              "      <th>25%</th>\n",
              "      <td>0.262494</td>\n",
              "      <td>0.000002</td>\n",
              "      <td>0.250605</td>\n",
              "      <td>0.114025</td>\n",
              "      <td>0.000001</td>\n",
              "      <td>0.265793</td>\n",
              "      <td>0.000540</td>\n",
              "      <td>0.143434</td>\n",
              "      <td>0.252874</td>\n",
              "      <td>0.000000</td>\n",
              "      <td>1.000000</td>\n",
              "      <td>0.000000</td>\n",
              "      <td>0.000000</td>\n",
              "      <td>0.000000</td>\n",
              "      <td>0.000000</td>\n",
              "      <td>0.000000</td>\n",
              "      <td>0.000000</td>\n",
              "      <td>1.000000</td>\n",
              "      <td>0.000000</td>\n",
              "      <td>0.000000</td>\n",
              "      <td>0.250000</td>\n",
              "      <td>0.650000</td>\n",
              "      <td>0.250000</td>\n",
              "      <td>0.500000</td>\n",
              "    </tr>\n",
              "    <tr>\n",
              "      <th>50%</th>\n",
              "      <td>0.470320</td>\n",
              "      <td>0.000081</td>\n",
              "      <td>0.501651</td>\n",
              "      <td>0.349487</td>\n",
              "      <td>0.000002</td>\n",
              "      <td>0.501192</td>\n",
              "      <td>0.000760</td>\n",
              "      <td>0.201616</td>\n",
              "      <td>0.490148</td>\n",
              "      <td>0.000000</td>\n",
              "      <td>1.000000</td>\n",
              "      <td>0.000000</td>\n",
              "      <td>0.000000</td>\n",
              "      <td>1.000000</td>\n",
              "      <td>0.000000</td>\n",
              "      <td>1.000000</td>\n",
              "      <td>1.000000</td>\n",
              "      <td>1.000000</td>\n",
              "      <td>1.000000</td>\n",
              "      <td>0.000000</td>\n",
              "      <td>0.500000</td>\n",
              "      <td>0.900000</td>\n",
              "      <td>0.250000</td>\n",
              "      <td>0.750000</td>\n",
              "    </tr>\n",
              "    <tr>\n",
              "      <th>75%</th>\n",
              "      <td>0.721271</td>\n",
              "      <td>0.000641</td>\n",
              "      <td>0.751816</td>\n",
              "      <td>0.681015</td>\n",
              "      <td>0.000335</td>\n",
              "      <td>0.731824</td>\n",
              "      <td>0.001220</td>\n",
              "      <td>0.335859</td>\n",
              "      <td>0.712644</td>\n",
              "      <td>1.000000</td>\n",
              "      <td>1.000000</td>\n",
              "      <td>0.000000</td>\n",
              "      <td>1.000000</td>\n",
              "      <td>1.000000</td>\n",
              "      <td>0.000000</td>\n",
              "      <td>1.000000</td>\n",
              "      <td>1.000000</td>\n",
              "      <td>1.000000</td>\n",
              "      <td>1.000000</td>\n",
              "      <td>1.000000</td>\n",
              "      <td>0.500000</td>\n",
              "      <td>0.950000</td>\n",
              "      <td>0.500000</td>\n",
              "      <td>0.750000</td>\n",
              "    </tr>\n",
              "    <tr>\n",
              "      <th>max</th>\n",
              "      <td>1.000000</td>\n",
              "      <td>1.000000</td>\n",
              "      <td>1.000000</td>\n",
              "      <td>1.000000</td>\n",
              "      <td>1.000000</td>\n",
              "      <td>1.000000</td>\n",
              "      <td>1.000000</td>\n",
              "      <td>1.000000</td>\n",
              "      <td>1.000000</td>\n",
              "      <td>1.000000</td>\n",
              "      <td>1.000000</td>\n",
              "      <td>1.000000</td>\n",
              "      <td>1.000000</td>\n",
              "      <td>1.000000</td>\n",
              "      <td>1.000000</td>\n",
              "      <td>1.000000</td>\n",
              "      <td>1.000000</td>\n",
              "      <td>1.000000</td>\n",
              "      <td>1.000000</td>\n",
              "      <td>1.000000</td>\n",
              "      <td>1.000000</td>\n",
              "      <td>1.000000</td>\n",
              "      <td>1.000000</td>\n",
              "      <td>1.000000</td>\n",
              "    </tr>\n",
              "  </tbody>\n",
              "</table>\n",
              "</div>\n",
              "    <div class=\"colab-df-buttons\">\n",
              "\n",
              "  <div class=\"colab-df-container\">\n",
              "    <button class=\"colab-df-convert\" onclick=\"convertToInteractive('df-eab2dce0-6179-484c-b07f-62c5ccf869f8')\"\n",
              "            title=\"Convert this dataframe to an interactive table.\"\n",
              "            style=\"display:none;\">\n",
              "\n",
              "  <svg xmlns=\"http://www.w3.org/2000/svg\" height=\"24px\" viewBox=\"0 -960 960 960\">\n",
              "    <path d=\"M120-120v-720h720v720H120Zm60-500h600v-160H180v160Zm220 220h160v-160H400v160Zm0 220h160v-160H400v160ZM180-400h160v-160H180v160Zm440 0h160v-160H620v160ZM180-180h160v-160H180v160Zm440 0h160v-160H620v160Z\"/>\n",
              "  </svg>\n",
              "    </button>\n",
              "\n",
              "  <style>\n",
              "    .colab-df-container {\n",
              "      display:flex;\n",
              "      gap: 12px;\n",
              "    }\n",
              "\n",
              "    .colab-df-convert {\n",
              "      background-color: #E8F0FE;\n",
              "      border: none;\n",
              "      border-radius: 50%;\n",
              "      cursor: pointer;\n",
              "      display: none;\n",
              "      fill: #1967D2;\n",
              "      height: 32px;\n",
              "      padding: 0 0 0 0;\n",
              "      width: 32px;\n",
              "    }\n",
              "\n",
              "    .colab-df-convert:hover {\n",
              "      background-color: #E2EBFA;\n",
              "      box-shadow: 0px 1px 2px rgba(60, 64, 67, 0.3), 0px 1px 3px 1px rgba(60, 64, 67, 0.15);\n",
              "      fill: #174EA6;\n",
              "    }\n",
              "\n",
              "    .colab-df-buttons div {\n",
              "      margin-bottom: 4px;\n",
              "    }\n",
              "\n",
              "    [theme=dark] .colab-df-convert {\n",
              "      background-color: #3B4455;\n",
              "      fill: #D2E3FC;\n",
              "    }\n",
              "\n",
              "    [theme=dark] .colab-df-convert:hover {\n",
              "      background-color: #434B5C;\n",
              "      box-shadow: 0px 1px 3px 1px rgba(0, 0, 0, 0.15);\n",
              "      filter: drop-shadow(0px 1px 2px rgba(0, 0, 0, 0.3));\n",
              "      fill: #FFFFFF;\n",
              "    }\n",
              "  </style>\n",
              "\n",
              "    <script>\n",
              "      const buttonEl =\n",
              "        document.querySelector('#df-eab2dce0-6179-484c-b07f-62c5ccf869f8 button.colab-df-convert');\n",
              "      buttonEl.style.display =\n",
              "        google.colab.kernel.accessAllowed ? 'block' : 'none';\n",
              "\n",
              "      async function convertToInteractive(key) {\n",
              "        const element = document.querySelector('#df-eab2dce0-6179-484c-b07f-62c5ccf869f8');\n",
              "        const dataTable =\n",
              "          await google.colab.kernel.invokeFunction('convertToInteractive',\n",
              "                                                    [key], {});\n",
              "        if (!dataTable) return;\n",
              "\n",
              "        const docLinkHtml = 'Like what you see? Visit the ' +\n",
              "          '<a target=\"_blank\" href=https://colab.research.google.com/notebooks/data_table.ipynb>data table notebook</a>'\n",
              "          + ' to learn more about interactive tables.';\n",
              "        element.innerHTML = '';\n",
              "        dataTable['output_type'] = 'display_data';\n",
              "        await google.colab.output.renderOutput(dataTable, element);\n",
              "        const docLink = document.createElement('div');\n",
              "        docLink.innerHTML = docLinkHtml;\n",
              "        element.appendChild(docLink);\n",
              "      }\n",
              "    </script>\n",
              "  </div>\n",
              "\n",
              "\n",
              "<div id=\"df-0f14d626-a80b-4566-87f9-06b146c545da\">\n",
              "  <button class=\"colab-df-quickchart\" onclick=\"quickchart('df-0f14d626-a80b-4566-87f9-06b146c545da')\"\n",
              "            title=\"Suggest charts\"\n",
              "            style=\"display:none;\">\n",
              "\n",
              "<svg xmlns=\"http://www.w3.org/2000/svg\" height=\"24px\"viewBox=\"0 0 24 24\"\n",
              "     width=\"24px\">\n",
              "    <g>\n",
              "        <path d=\"M19 3H5c-1.1 0-2 .9-2 2v14c0 1.1.9 2 2 2h14c1.1 0 2-.9 2-2V5c0-1.1-.9-2-2-2zM9 17H7v-7h2v7zm4 0h-2V7h2v10zm4 0h-2v-4h2v4z\"/>\n",
              "    </g>\n",
              "</svg>\n",
              "  </button>\n",
              "\n",
              "<style>\n",
              "  .colab-df-quickchart {\n",
              "      --bg-color: #E8F0FE;\n",
              "      --fill-color: #1967D2;\n",
              "      --hover-bg-color: #E2EBFA;\n",
              "      --hover-fill-color: #174EA6;\n",
              "      --disabled-fill-color: #AAA;\n",
              "      --disabled-bg-color: #DDD;\n",
              "  }\n",
              "\n",
              "  [theme=dark] .colab-df-quickchart {\n",
              "      --bg-color: #3B4455;\n",
              "      --fill-color: #D2E3FC;\n",
              "      --hover-bg-color: #434B5C;\n",
              "      --hover-fill-color: #FFFFFF;\n",
              "      --disabled-bg-color: #3B4455;\n",
              "      --disabled-fill-color: #666;\n",
              "  }\n",
              "\n",
              "  .colab-df-quickchart {\n",
              "    background-color: var(--bg-color);\n",
              "    border: none;\n",
              "    border-radius: 50%;\n",
              "    cursor: pointer;\n",
              "    display: none;\n",
              "    fill: var(--fill-color);\n",
              "    height: 32px;\n",
              "    padding: 0;\n",
              "    width: 32px;\n",
              "  }\n",
              "\n",
              "  .colab-df-quickchart:hover {\n",
              "    background-color: var(--hover-bg-color);\n",
              "    box-shadow: 0 1px 2px rgba(60, 64, 67, 0.3), 0 1px 3px 1px rgba(60, 64, 67, 0.15);\n",
              "    fill: var(--button-hover-fill-color);\n",
              "  }\n",
              "\n",
              "  .colab-df-quickchart-complete:disabled,\n",
              "  .colab-df-quickchart-complete:disabled:hover {\n",
              "    background-color: var(--disabled-bg-color);\n",
              "    fill: var(--disabled-fill-color);\n",
              "    box-shadow: none;\n",
              "  }\n",
              "\n",
              "  .colab-df-spinner {\n",
              "    border: 2px solid var(--fill-color);\n",
              "    border-color: transparent;\n",
              "    border-bottom-color: var(--fill-color);\n",
              "    animation:\n",
              "      spin 1s steps(1) infinite;\n",
              "  }\n",
              "\n",
              "  @keyframes spin {\n",
              "    0% {\n",
              "      border-color: transparent;\n",
              "      border-bottom-color: var(--fill-color);\n",
              "      border-left-color: var(--fill-color);\n",
              "    }\n",
              "    20% {\n",
              "      border-color: transparent;\n",
              "      border-left-color: var(--fill-color);\n",
              "      border-top-color: var(--fill-color);\n",
              "    }\n",
              "    30% {\n",
              "      border-color: transparent;\n",
              "      border-left-color: var(--fill-color);\n",
              "      border-top-color: var(--fill-color);\n",
              "      border-right-color: var(--fill-color);\n",
              "    }\n",
              "    40% {\n",
              "      border-color: transparent;\n",
              "      border-right-color: var(--fill-color);\n",
              "      border-top-color: var(--fill-color);\n",
              "    }\n",
              "    60% {\n",
              "      border-color: transparent;\n",
              "      border-right-color: var(--fill-color);\n",
              "    }\n",
              "    80% {\n",
              "      border-color: transparent;\n",
              "      border-right-color: var(--fill-color);\n",
              "      border-bottom-color: var(--fill-color);\n",
              "    }\n",
              "    90% {\n",
              "      border-color: transparent;\n",
              "      border-bottom-color: var(--fill-color);\n",
              "    }\n",
              "  }\n",
              "</style>\n",
              "\n",
              "  <script>\n",
              "    async function quickchart(key) {\n",
              "      const quickchartButtonEl =\n",
              "        document.querySelector('#' + key + ' button');\n",
              "      quickchartButtonEl.disabled = true;  // To prevent multiple clicks.\n",
              "      quickchartButtonEl.classList.add('colab-df-spinner');\n",
              "      try {\n",
              "        const charts = await google.colab.kernel.invokeFunction(\n",
              "            'suggestCharts', [key], {});\n",
              "      } catch (error) {\n",
              "        console.error('Error during call to suggestCharts:', error);\n",
              "      }\n",
              "      quickchartButtonEl.classList.remove('colab-df-spinner');\n",
              "      quickchartButtonEl.classList.add('colab-df-quickchart-complete');\n",
              "    }\n",
              "    (() => {\n",
              "      let quickchartButtonEl =\n",
              "        document.querySelector('#df-0f14d626-a80b-4566-87f9-06b146c545da button');\n",
              "      quickchartButtonEl.style.display =\n",
              "        google.colab.kernel.accessAllowed ? 'block' : 'none';\n",
              "    })();\n",
              "  </script>\n",
              "</div>\n",
              "    </div>\n",
              "  </div>\n"
            ],
            "application/vnd.google.colaboratory.intrinsic+json": {
              "type": "dataframe"
            }
          },
          "metadata": {},
          "execution_count": 25
        }
      ]
    },
    {
      "cell_type": "markdown",
      "id": "35b871ba-9832-4705-a9ca-0029bf73a826",
      "metadata": {
        "id": "35b871ba-9832-4705-a9ca-0029bf73a826",
        "jp-MarkdownHeadingCollapsed": true,
        "tags": []
      },
      "source": [
        "## 2.4 Limpeza dos dados"
      ]
    },
    {
      "cell_type": "code",
      "source": [
        "df_1 = df_0.copy()"
      ],
      "metadata": {
        "id": "sYg8_EO16Z5T"
      },
      "id": "sYg8_EO16Z5T",
      "execution_count": 83,
      "outputs": []
    },
    {
      "cell_type": "markdown",
      "id": "abdd1d1e-fe30-4291-90bc-f5a54af4f42e",
      "metadata": {
        "id": "abdd1d1e-fe30-4291-90bc-f5a54af4f42e",
        "jp-MarkdownHeadingCollapsed": true,
        "tags": []
      },
      "source": [
        "### 2.4.1 univariado"
      ]
    },
    {
      "cell_type": "code",
      "execution_count": 84,
      "id": "2e4f0939-0105-4212-9f9c-143f6d2ac6d2",
      "metadata": {
        "id": "2e4f0939-0105-4212-9f9c-143f6d2ac6d2",
        "colab": {
          "base_uri": "https://localhost:8080/",
          "height": 462
        },
        "outputId": "626a1354-0c61-466a-c72c-6b0f77fb7bee"
      },
      "outputs": [
        {
          "output_type": "execute_result",
          "data": {
            "text/plain": [
              "<Axes: >"
            ]
          },
          "metadata": {},
          "execution_count": 84
        },
        {
          "output_type": "display_data",
          "data": {
            "text/plain": [
              "<Figure size 640x480 with 1 Axes>"
            ],
            "image/png": "[encoded data removed]"
          },
          "metadata": {}
        }
      ],
      "source": [
        "df_1['find_price'].plot.box()"
      ]
    },
    {
      "cell_type": "code",
      "source": [
        "df_1['find_price'].hist()"
      ],
      "metadata": {
        "colab": {
          "base_uri": "https://localhost:8080/",
          "height": 465
        },
        "id": "9qFgy0oI6grp",
        "outputId": "dbb0b462-8969-42b6-9305-d030ffc57bc9"
      },
      "id": "9qFgy0oI6grp",
      "execution_count": 85,
      "outputs": [
        {
          "output_type": "execute_result",
          "data": {
            "text/plain": [
              "<Axes: >"
            ]
          },
          "metadata": {},
          "execution_count": 85
        },
        {
          "output_type": "display_data",
          "data": {
            "text/plain": [
              "<Figure size 640x480 with 1 Axes>"
            ],
            "image/png": "[encoded data removed]"
          },
          "metadata": {}
        }
      ]
    },
    {
      "cell_type": "code",
      "source": [
        "from numpy import log10\n",
        "\n",
        "df_1['log_find_price'] = log10(df_1['find_price'])"
      ],
      "metadata": {
        "id": "o-S4ecFQ6kS5"
      },
      "id": "o-S4ecFQ6kS5",
      "execution_count": 86,
      "outputs": []
    },
    {
      "cell_type": "code",
      "source": [
        "# sem melhoras significativas no shape da distribuição, vamos usar o find_price\n",
        "df_1['log_find_price'].hist()"
      ],
      "metadata": {
        "colab": {
          "base_uri": "https://localhost:8080/",
          "height": 447
        },
        "id": "HoAr-FMN6yHG",
        "outputId": "9d16eca3-d68e-4503-81a5-53ee7334101a"
      },
      "id": "HoAr-FMN6yHG",
      "execution_count": 87,
      "outputs": [
        {
          "output_type": "execute_result",
          "data": {
            "text/plain": [
              "<Axes: >"
            ]
          },
          "metadata": {},
          "execution_count": 87
        },
        {
          "output_type": "display_data",
          "data": {
            "text/plain": [
              "<Figure size 640x480 with 1 Axes>"
            ],
            "image/png": "[encoded data removed]"
          },
          "metadata": {}
        }
      ]
    },
    {
      "cell_type": "code",
      "source": [
        "q1 = df_1['find_price'].quantile(q=0.25)\n",
        "q3 = df_1['find_price'].quantile(q=0.75)\n",
        "iqr = q3 - q1\n",
        "print(iqr)\n",
        ""
      ],
      "metadata": {
        "colab": {
          "base_uri": "https://localhost:8080/"
        },
        "id": "UG8x-FiP7yFu",
        "outputId": "85bdacf5-ec76-4d4f-9573-a20babf73f07"
      },
      "id": "UG8x-FiP7yFu",
      "execution_count": 88,
      "outputs": [
        {
          "output_type": "stream",
          "name": "stdout",
          "text": [
            "476250.0\n"
          ]
        }
      ]
    },
    {
      "cell_type": "code",
      "source": [
        "# aplicando metodo tukey\n",
        "print(len(df_1))\n",
        "df_1 = df_1[(df_1['find_price'] > (q1-1.5*iqr)) & (df_1['find_price'] < (q3+1.5*iqr))]\n",
        "print(len(df_1))"
      ],
      "metadata": {
        "colab": {
          "base_uri": "https://localhost:8080/"
        },
        "id": "VfMpym0l8EBD",
        "outputId": "f16f6a65-b3b6-40e5-c2a0-e1f5cb2b95dd"
      },
      "id": "VfMpym0l8EBD",
      "execution_count": 89,
      "outputs": [
        {
          "output_type": "stream",
          "name": "stdout",
          "text": [
            "4564\n",
            "4297\n"
          ]
        }
      ]
    },
    {
      "cell_type": "markdown",
      "id": "9dcbafeb-b170-4901-8291-fe5e0d604cb3",
      "metadata": {
        "id": "9dcbafeb-b170-4901-8291-fe5e0d604cb3",
        "jp-MarkdownHeadingCollapsed": true,
        "tags": []
      },
      "source": [
        "### 2.4.2 bivariado"
      ]
    },
    {
      "cell_type": "code",
      "execution_count": null,
      "id": "8a75b349-48ba-478d-be73-946b524a7eb8",
      "metadata": {
        "id": "8a75b349-48ba-478d-be73-946b524a7eb8"
      },
      "outputs": [],
      "source": []
    },
    {
      "cell_type": "markdown",
      "id": "dc73265c-5015-4f21-ac93-89cfd52c22d3",
      "metadata": {
        "id": "dc73265c-5015-4f21-ac93-89cfd52c22d3",
        "jp-MarkdownHeadingCollapsed": true,
        "tags": []
      },
      "source": [
        "### 2.4.3 multivariado"
      ]
    },
    {
      "cell_type": "code",
      "execution_count": null,
      "id": "2efd541d-94aa-48f3-b931-0dd481cea2cb",
      "metadata": {
        "id": "2efd541d-94aa-48f3-b931-0dd481cea2cb"
      },
      "outputs": [],
      "source": []
    },
    {
      "cell_type": "markdown",
      "id": "7256dbb6-b7f7-4109-8696-46b41705e2fa",
      "metadata": {
        "id": "7256dbb6-b7f7-4109-8696-46b41705e2fa",
        "jp-MarkdownHeadingCollapsed": true,
        "tags": []
      },
      "source": [
        "# 3. Apresentar estatísticas descritivas dos dados com visualizações"
      ]
    },
    {
      "cell_type": "code",
      "execution_count": null,
      "id": "86137a49-e179-4efa-9b95-be892ca183ae",
      "metadata": {
        "id": "86137a49-e179-4efa-9b95-be892ca183ae"
      },
      "outputs": [],
      "source": []
    },
    {
      "cell_type": "markdown",
      "id": "1d19f506-f5d3-4acd-a74d-aa7b7a30f7aa",
      "metadata": {
        "id": "1d19f506-f5d3-4acd-a74d-aa7b7a30f7aa",
        "jp-MarkdownHeadingCollapsed": true,
        "tags": []
      },
      "source": [
        "# 4. Realizar teste de hipóteses para comparação de valores de categorias e visualizar diferenças"
      ]
    },
    {
      "cell_type": "code",
      "execution_count": null,
      "id": "fca5eca0-1ffd-42a7-931c-ca4fe3162af5",
      "metadata": {
        "id": "fca5eca0-1ffd-42a7-931c-ca4fe3162af5"
      },
      "outputs": [],
      "source": []
    }
  ],
  "metadata": {
    "colab": {
      "provenance": []
    },
    "kernelspec": {
      "display_name": "Python 3 (ipykernel)",
      "language": "python",
      "name": "python3"
    },
    "language_info": {
      "codemirror_mode": {
        "name": "ipython",
        "version": 3
      },
      "file_extension": ".py",
      "mimetype": "text/x-python",
      "name": "python",
      "nbconvert_exporter": "python",
      "pygments_lexer": "ipython3",
      "version": "3.12.2"
    }
  },
  "nbformat": 4,
  "nbformat_minor": 5
}
