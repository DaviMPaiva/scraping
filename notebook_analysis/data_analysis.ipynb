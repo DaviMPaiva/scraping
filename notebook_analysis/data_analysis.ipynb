{
  "cells": [
    {
      "cell_type": "markdown",
      "id": "3779c030-7ed3-42a9-b945-e4527fa68691",
      "metadata": {
        "id": "3779c030-7ed3-42a9-b945-e4527fa68691",
        "tags": []
      },
      "source": [
        "# 0. Imports"
      ]
    },
    {
      "cell_type": "code",
      "execution_count": 318,
      "id": "dedaa86b-ea6e-4d5d-bdfc-f57fd169fa3f",
      "metadata": {
        "id": "dedaa86b-ea6e-4d5d-bdfc-f57fd169fa3f"
      },
      "outputs": [],
      "source": [
        "# # ideias adicionais:\n",
        "#     - criar coluna gênero de quem anunciou\n",
        "#     - criar coluna CEP\n",
        "#     -"
      ]
    },
    {
      "cell_type": "code",
      "execution_count": 319,
      "id": "c7ea5884-b6e3-4575-a382-fc4a4a6eccd3",
      "metadata": {
        "colab": {
          "base_uri": "https://localhost:8080/"
        },
        "id": "c7ea5884-b6e3-4575-a382-fc4a4a6eccd3",
        "outputId": "c6b8039d-5922-434e-affa-c62f9e440648"
      },
      "outputs": [],
      "source": [
        "import pandas as pd\n",
        "import seaborn as sns\n",
        "pd.set_option('display.max_columns', 1000)\n",
        "\n",
        "from sklearn.covariance import EllipticEnvelope\n",
        "\n",
        "import matplotlib.pyplot as plt\n",
        "\n",
        "from scipy import stats"
      ]
    },
    {
      "cell_type": "code",
      "execution_count": 320,
      "id": "b9Qis_KviUbD",
      "metadata": {
        "colab": {
          "base_uri": "https://localhost:8080/"
        },
        "id": "b9Qis_KviUbD",
        "outputId": "ad7b7902-0046-4f31-ce10-b7617cf34087",
        "scrolled": true,
        "tags": []
      },
      "outputs": [
        {
          "name": "stdout",
          "output_type": "stream",
          "text": [
            "Requirement already satisfied: fancyimpute in c:\\users\\davim\\onedrive\\desktop\\playground\\scraping\\myenv\\lib\\site-packages (0.7.0)\n",
            "Requirement already satisfied: knnimpute>=0.1.0 in c:\\users\\davim\\onedrive\\desktop\\playground\\scraping\\myenv\\lib\\site-packages (from fancyimpute) (0.1.0)\n",
            "Requirement already satisfied: scikit-learn>=0.24.2 in c:\\users\\davim\\onedrive\\desktop\\playground\\scraping\\myenv\\lib\\site-packages (from fancyimpute) (1.5.0)\n",
            "Requirement already satisfied: cvxpy in c:\\users\\davim\\onedrive\\desktop\\playground\\scraping\\myenv\\lib\\site-packages (from fancyimpute) (1.5.1)\n",
            "Requirement already satisfied: cvxopt in c:\\users\\davim\\onedrive\\desktop\\playground\\scraping\\myenv\\lib\\site-packages (from fancyimpute) (1.3.2)\n",
            "Requirement already satisfied: pytest in c:\\users\\davim\\onedrive\\desktop\\playground\\scraping\\myenv\\lib\\site-packages (from fancyimpute) (8.2.1)\n",
            "Requirement already satisfied: nose in c:\\users\\davim\\onedrive\\desktop\\playground\\scraping\\myenv\\lib\\site-packages (from fancyimpute) (1.3.7)\n",
            "Requirement already satisfied: six in c:\\users\\davim\\onedrive\\desktop\\playground\\scraping\\myenv\\lib\\site-packages (from knnimpute>=0.1.0->fancyimpute) (1.16.0)\n",
            "Requirement already satisfied: numpy>=1.10 in c:\\users\\davim\\onedrive\\desktop\\playground\\scraping\\myenv\\lib\\site-packages (from knnimpute>=0.1.0->fancyimpute) (1.26.4)\n",
            "Requirement already satisfied: scipy>=1.6.0 in c:\\users\\davim\\onedrive\\desktop\\playground\\scraping\\myenv\\lib\\site-packages (from scikit-learn>=0.24.2->fancyimpute) (1.13.1)\n",
            "Requirement already satisfied: joblib>=1.2.0 in c:\\users\\davim\\onedrive\\desktop\\playground\\scraping\\myenv\\lib\\site-packages (from scikit-learn>=0.24.2->fancyimpute) (1.4.2)\n",
            "Requirement already satisfied: threadpoolctl>=3.1.0 in c:\\users\\davim\\onedrive\\desktop\\playground\\scraping\\myenv\\lib\\site-packages (from scikit-learn>=0.24.2->fancyimpute) (3.5.0)\n",
            "Requirement already satisfied: osqp>=0.6.2 in c:\\users\\davim\\onedrive\\desktop\\playground\\scraping\\myenv\\lib\\site-packages (from cvxpy->fancyimpute) (0.6.7)\n",
            "Requirement already satisfied: ecos>=2 in c:\\users\\davim\\onedrive\\desktop\\playground\\scraping\\myenv\\lib\\site-packages (from cvxpy->fancyimpute) (2.0.13)\n",
            "Requirement already satisfied: clarabel>=0.5.0 in c:\\users\\davim\\onedrive\\desktop\\playground\\scraping\\myenv\\lib\\site-packages (from cvxpy->fancyimpute) (0.9.0)\n",
            "Requirement already satisfied: scs>=3.2.4.post1 in c:\\users\\davim\\onedrive\\desktop\\playground\\scraping\\myenv\\lib\\site-packages (from cvxpy->fancyimpute) (3.2.4.post2)\n",
            "Requirement already satisfied: iniconfig in c:\\users\\davim\\onedrive\\desktop\\playground\\scraping\\myenv\\lib\\site-packages (from pytest->fancyimpute) (2.0.0)\n",
            "Requirement already satisfied: packaging in c:\\users\\davim\\onedrive\\desktop\\playground\\scraping\\myenv\\lib\\site-packages (from pytest->fancyimpute) (24.0)\n",
            "Requirement already satisfied: pluggy<2.0,>=1.5 in c:\\users\\davim\\onedrive\\desktop\\playground\\scraping\\myenv\\lib\\site-packages (from pytest->fancyimpute) (1.5.0)\n",
            "Requirement already satisfied: colorama in c:\\users\\davim\\onedrive\\desktop\\playground\\scraping\\myenv\\lib\\site-packages (from pytest->fancyimpute) (0.4.6)\n",
            "Requirement already satisfied: qdldl in c:\\users\\davim\\onedrive\\desktop\\playground\\scraping\\myenv\\lib\\site-packages (from osqp>=0.6.2->cvxpy->fancyimpute) (0.1.7.post2)\n"
          ]
        }
      ],
      "source": [
        "!pip install fancyimpute"
      ]
    },
    {
      "cell_type": "markdown",
      "id": "2206f321-6b71-4540-bb4e-a9210f0cfcb8",
      "metadata": {
        "id": "2206f321-6b71-4540-bb4e-a9210f0cfcb8"
      },
      "source": [
        "# 1. Coletar dados"
      ]
    },
    {
      "cell_type": "markdown",
      "id": "8f47ef49",
      "metadata": {},
      "source": [
        "Fizemos o scrap do site olx, setado para categoria de imoveis em recife, primeiros o extract_single_link.py para pegar os links dos sites, criamos e juntamos um json com esses links e depois fomos em cada um desses link usando scraping.py e criamos um csv com todos os dados colotados."
      ]
    },
    {
      "cell_type": "markdown",
      "id": "4ed1279b",
      "metadata": {
        "id": "4ed1279b"
      },
      "source": [
        "| Campop               | Descrição                                      |\n",
        "|----------------------|--------------------------------------------------|\n",
        "| find_anuncio         | o titulo do anuncio                              |\n",
        "| find_condominio      | o preço do condominio                            |\n",
        "| find_descri          | a descrição feita do imovel                      |\n",
        "| find_endereco        | Endereço = bairro, Cidade, estado, cep           |\n",
        "| find_iptu            | IPTU                                             |\n",
        "| find_loc             | geralmente a rua                                 |\n",
        "| find_m_quadrado      | Tamanho do imóvel em metros quadrados            |\n",
        "| find_price           | Preço do imóvel                                  |\n",
        "| find_vendedor        | Informações sobre o vendedor                     |\n",
        "| is_academia          | Indica se há academia/centro de fitness          |\n",
        "| is_apartamento       | Indica se é um apartamento                       |\n",
        "| is_ar_condicionado   | Indica se tem ar condicionado                     |\n",
        "| is_churrasqueira     | Indica se há churrasqueira                       |\n",
        "| is_elevador          | Indica se há elevador                            |\n",
        "| is_mobiliado         | Indica se o imóvel está mobiliado                |\n",
        "| is_piscina           | Indica se há piscina                             |\n",
        "| is_portaria          | Indica se há portaria/serviço de portaria        |\n",
        "| is_profissional      | Indica se o vendedor é um profissional           |\n",
        "| is_salao_festa       | Indica se há salão de festas/área de eventos     |\n",
        "| is_varanda           | Indica se há varanda                             |\n",
        "| n_banheiros          | Número de banheiros                              |\n",
        "| n_fotos              | Número de fotos no anúncio                       |\n",
        "| n_garagens           | Número de vagas/garagens                         |\n",
        "| n_quartos            | Número de quartos                                |"
      ]
    },
    {
      "cell_type": "code",
      "execution_count": 321,
      "id": "2d8c8a8e-e557-4d7e-9209-d908cb8cc663",
      "metadata": {
        "id": "2d8c8a8e-e557-4d7e-9209-d908cb8cc663"
      },
      "outputs": [],
      "source": [
        "path_raw = r'C:\\Users\\davim\\OneDrive\\Desktop\\playground\\scraping\\scraped_data.csv'\n",
        "df_raw = pd.read_csv(path_raw, sep=',')"
      ]
    },
    {
      "cell_type": "code",
      "execution_count": 322,
      "id": "8559d4db-a9b1-42df-a1f0-d3223ca9144f",
      "metadata": {
        "colab": {
          "base_uri": "https://localhost:8080/",
          "height": 389
        },
        "id": "8559d4db-a9b1-42df-a1f0-d3223ca9144f",
        "outputId": "6d4fda8d-2d9d-43e9-8ad5-180c911bb225"
      },
      "outputs": [
        {
          "data": {
            "text/html": [
              "<div>\n",
              "<style scoped>\n",
              "    .dataframe tbody tr th:only-of-type {\n",
              "        vertical-align: middle;\n",
              "    }\n",
              "\n",
              "    .dataframe tbody tr th {\n",
              "        vertical-align: top;\n",
              "    }\n",
              "\n",
              "    .dataframe thead th {\n",
              "        text-align: right;\n",
              "    }\n",
              "</style>\n",
              "<table border=\"1\" class=\"dataframe\">\n",
              "  <thead>\n",
              "    <tr style=\"text-align: right;\">\n",
              "      <th></th>\n",
              "      <th>find_anuncio</th>\n",
              "      <th>find_condominio</th>\n",
              "      <th>find_descri</th>\n",
              "      <th>find_endereco</th>\n",
              "      <th>find_iptu</th>\n",
              "      <th>find_loc</th>\n",
              "      <th>find_m_quadrado</th>\n",
              "      <th>find_price</th>\n",
              "      <th>find_vendedor</th>\n",
              "      <th>is_academia</th>\n",
              "      <th>is_apertamento</th>\n",
              "      <th>is_ar_condicionado</th>\n",
              "      <th>is_churrasqueira</th>\n",
              "      <th>is_elevador</th>\n",
              "      <th>is_mobiliado</th>\n",
              "      <th>is_piscina</th>\n",
              "      <th>is_portaria</th>\n",
              "      <th>is_profissional</th>\n",
              "      <th>is_salao_festa</th>\n",
              "      <th>is_varanda</th>\n",
              "      <th>n_banheiros</th>\n",
              "      <th>n_fotos</th>\n",
              "      <th>n_garagens</th>\n",
              "      <th>n_quartos</th>\n",
              "    </tr>\n",
              "  </thead>\n",
              "  <tbody>\n",
              "    <tr>\n",
              "      <th>0</th>\n",
              "      <td>Apartamento para venda com 105 metros quadrado...</td>\n",
              "      <td>R$ 1.100 / mês</td>\n",
              "      <td>Código do anúncio: C6BAD9\\n\\nO apartamento est...</td>\n",
              "      <td>Aflitos, Recife, PE, 52050340</td>\n",
              "      <td>R$ 180</td>\n",
              "      <td>Rua da Angustura</td>\n",
              "      <td>105m²</td>\n",
              "      <td>380000</td>\n",
              "      <td>Antônio Luciano Santana da Silva</td>\n",
              "      <td>False</td>\n",
              "      <td>True</td>\n",
              "      <td>False</td>\n",
              "      <td>False</td>\n",
              "      <td>False</td>\n",
              "      <td>False</td>\n",
              "      <td>False</td>\n",
              "      <td>False</td>\n",
              "      <td>True</td>\n",
              "      <td>False</td>\n",
              "      <td>False</td>\n",
              "      <td>3</td>\n",
              "      <td>20</td>\n",
              "      <td>0</td>\n",
              "      <td>3</td>\n",
              "    </tr>\n",
              "    <tr>\n",
              "      <th>1</th>\n",
              "      <td>Apartamento para venda possui 51 metros quadra...</td>\n",
              "      <td>R$ 0 / mês</td>\n",
              "      <td>Código do anúncio: S623-1\\n\\nO apartamento no ...</td>\n",
              "      <td>Boa Viagem, Recife, PE, 51021130</td>\n",
              "      <td>R$ 0</td>\n",
              "      <td>Rua Coronel Anízio Rodrigues Coelho</td>\n",
              "      <td>51m²</td>\n",
              "      <td>525000</td>\n",
              "      <td>Dream Residence Imóveis Recife</td>\n",
              "      <td>False</td>\n",
              "      <td>True</td>\n",
              "      <td>False</td>\n",
              "      <td>False</td>\n",
              "      <td>False</td>\n",
              "      <td>False</td>\n",
              "      <td>True</td>\n",
              "      <td>False</td>\n",
              "      <td>True</td>\n",
              "      <td>True</td>\n",
              "      <td>False</td>\n",
              "      <td>2</td>\n",
              "      <td>15</td>\n",
              "      <td>1</td>\n",
              "      <td>3</td>\n",
              "    </tr>\n",
              "    <tr>\n",
              "      <th>2</th>\n",
              "      <td>Apartamento para venda possui 124 metros quadr...</td>\n",
              "      <td>R$ 822 / mês</td>\n",
              "      <td>Código do anúncio: V2009TS-2225\\n\\nApartamento...</td>\n",
              "      <td>Boa Viagem, Recife, PE, 51130000</td>\n",
              "      <td>R$ 291</td>\n",
              "      <td>Avenida Boa Viagem - de 6200/6201 ao fim</td>\n",
              "      <td>124m²</td>\n",
              "      <td>620000</td>\n",
              "      <td>Roberta Gadelha Batista</td>\n",
              "      <td>False</td>\n",
              "      <td>True</td>\n",
              "      <td>False</td>\n",
              "      <td>False</td>\n",
              "      <td>False</td>\n",
              "      <td>False</td>\n",
              "      <td>False</td>\n",
              "      <td>False</td>\n",
              "      <td>True</td>\n",
              "      <td>False</td>\n",
              "      <td>False</td>\n",
              "      <td>2</td>\n",
              "      <td>14</td>\n",
              "      <td>1</td>\n",
              "      <td>3</td>\n",
              "    </tr>\n",
              "  </tbody>\n",
              "</table>\n",
              "</div>"
            ],
            "text/plain": [
              "                                        find_anuncio find_condominio  \\\n",
              "0  Apartamento para venda com 105 metros quadrado...  R$ 1.100 / mês   \n",
              "1  Apartamento para venda possui 51 metros quadra...      R$ 0 / mês   \n",
              "2  Apartamento para venda possui 124 metros quadr...    R$ 822 / mês   \n",
              "\n",
              "                                         find_descri  \\\n",
              "0  Código do anúncio: C6BAD9\\n\\nO apartamento est...   \n",
              "1  Código do anúncio: S623-1\\n\\nO apartamento no ...   \n",
              "2  Código do anúncio: V2009TS-2225\\n\\nApartamento...   \n",
              "\n",
              "                      find_endereco find_iptu  \\\n",
              "0     Aflitos, Recife, PE, 52050340    R$ 180   \n",
              "1  Boa Viagem, Recife, PE, 51021130      R$ 0   \n",
              "2  Boa Viagem, Recife, PE, 51130000    R$ 291   \n",
              "\n",
              "                                   find_loc find_m_quadrado  find_price  \\\n",
              "0                          Rua da Angustura           105m²      380000   \n",
              "1       Rua Coronel Anízio Rodrigues Coelho            51m²      525000   \n",
              "2  Avenida Boa Viagem - de 6200/6201 ao fim           124m²      620000   \n",
              "\n",
              "                      find_vendedor  is_academia  is_apertamento  \\\n",
              "0  Antônio Luciano Santana da Silva        False            True   \n",
              "1    Dream Residence Imóveis Recife        False            True   \n",
              "2           Roberta Gadelha Batista        False            True   \n",
              "\n",
              "   is_ar_condicionado  is_churrasqueira  is_elevador  is_mobiliado  \\\n",
              "0               False             False        False         False   \n",
              "1               False             False        False         False   \n",
              "2               False             False        False         False   \n",
              "\n",
              "   is_piscina  is_portaria  is_profissional  is_salao_festa  is_varanda  \\\n",
              "0       False        False             True           False       False   \n",
              "1        True        False             True            True       False   \n",
              "2       False        False             True           False       False   \n",
              "\n",
              "  n_banheiros  n_fotos n_garagens n_quartos  \n",
              "0           3       20          0         3  \n",
              "1           2       15          1         3  \n",
              "2           2       14          1         3  "
            ]
          },
          "execution_count": 322,
          "metadata": {},
          "output_type": "execute_result"
        }
      ],
      "source": [
        "df_raw.head(3)"
      ]
    },
    {
      "cell_type": "markdown",
      "id": "5b889c32-6971-4dd4-91eb-e15a6d986bcb",
      "metadata": {
        "id": "5b889c32-6971-4dd4-91eb-e15a6d986bcb",
        "tags": []
      },
      "source": [
        "# 2. Realizar pré-processamento dos dados"
      ]
    },
    {
      "cell_type": "code",
      "execution_count": 323,
      "id": "nucdF9ewkaFz",
      "metadata": {
        "colab": {
          "base_uri": "https://localhost:8080/"
        },
        "id": "nucdF9ewkaFz",
        "outputId": "ff9eda89-c083-4df7-b696-93411426cc83"
      },
      "outputs": [
        {
          "data": {
            "text/plain": [
              "(75922, 24)"
            ]
          },
          "execution_count": 323,
          "metadata": {},
          "output_type": "execute_result"
        }
      ],
      "source": [
        "df_raw.shape"
      ]
    },
    {
      "cell_type": "code",
      "execution_count": 324,
      "id": "04d67044-1d45-4990-8981-4855aaf7765c",
      "metadata": {
        "colab": {
          "base_uri": "https://localhost:8080/"
        },
        "id": "04d67044-1d45-4990-8981-4855aaf7765c",
        "outputId": "d4eeaac8-8f1b-44b9-e866-e65be8d11c5f"
      },
      "outputs": [],
      "source": [
        "df_0 = df_raw.copy()"
      ]
    },
    {
      "cell_type": "code",
      "execution_count": 325,
      "id": "8b7264c1",
      "metadata": {},
      "outputs": [],
      "source": [
        "#vamos tirar a descricao do dataset\n",
        "df_0 = df_0.drop(['find_anuncio','find_descri'], axis=1)"
      ]
    },
    {
      "cell_type": "code",
      "execution_count": 326,
      "id": "61b8709c",
      "metadata": {},
      "outputs": [],
      "source": [
        "df_0 = df_0.drop_duplicates()"
      ]
    },
    {
      "cell_type": "code",
      "execution_count": 327,
      "id": "561236b1",
      "metadata": {
        "colab": {
          "base_uri": "https://localhost:8080/"
        },
        "id": "561236b1",
        "outputId": "506d15ab-8b06-4f49-dc33-7cb6f9c07aa5"
      },
      "outputs": [
        {
          "data": {
            "text/plain": [
              "(68034, 22)"
            ]
          },
          "execution_count": 327,
          "metadata": {},
          "output_type": "execute_result"
        }
      ],
      "source": [
        "df_0.shape"
      ]
    },
    {
      "cell_type": "markdown",
      "id": "93a7f4f8-69c3-44a9-bd01-b2542d56a201",
      "metadata": {
        "id": "93a7f4f8-69c3-44a9-bd01-b2542d56a201"
      },
      "source": [
        "## 2.0 Tratamento de dados"
      ]
    },
    {
      "cell_type": "markdown",
      "id": "moEBtsfocPFb",
      "metadata": {
        "id": "moEBtsfocPFb"
      },
      "source": [
        "### 2.0.1 Algumas classes são muito uteis como valor numerico, mas não podem ser totalmente convertidas. exemplo: o numero de quartos tem o campo '5 ou mais' vamos fazer o drop desses valores"
      ]
    },
    {
      "cell_type": "code",
      "execution_count": 328,
      "id": "-L7vunnAcKZc",
      "metadata": {
        "colab": {
          "base_uri": "https://localhost:8080/"
        },
        "id": "-L7vunnAcKZc",
        "outputId": "ec08ca20-bdee-42fb-89e1-a1e272648048"
      },
      "outputs": [],
      "source": [
        "df_0 = df_0[df_0['n_quartos'] != '5 ou mais']\n",
        "df_0 = df_0[df_0['n_banheiros'] != '5 ou mais']\n",
        "df_0 = df_0[df_0['n_garagens'] != '5 ou mais']\n",
        "\n",
        "df_0 = df_0[df_0['find_price'] > 10000]# vamo tirar aguns precos muito absurdos"
      ]
    },
    {
      "cell_type": "code",
      "execution_count": 329,
      "id": "fbab6679",
      "metadata": {},
      "outputs": [
        {
          "data": {
            "text/plain": [
              "(63209, 22)"
            ]
          },
          "execution_count": 329,
          "metadata": {},
          "output_type": "execute_result"
        }
      ],
      "source": [
        "df_0.shape"
      ]
    },
    {
      "cell_type": "markdown",
      "id": "1f390caa-5e72-4686-81cd-f02710b48dcf",
      "metadata": {
        "id": "1f390caa-5e72-4686-81cd-f02710b48dcf"
      },
      "source": [
        "## 2.1 definição de tipos e criação de novas colunas derivadas"
      ]
    },
    {
      "cell_type": "code",
      "execution_count": 330,
      "id": "hb12P9NjlsD_",
      "metadata": {
        "colab": {
          "base_uri": "https://localhost:8080/"
        },
        "id": "hb12P9NjlsD_",
        "outputId": "c8cfa3ce-82d1-4145-ffc2-3229b1289d6c"
      },
      "outputs": [
        {
          "data": {
            "text/plain": [
              "find_condominio       object\n",
              "find_endereco         object\n",
              "find_iptu             object\n",
              "find_loc              object\n",
              "find_m_quadrado       object\n",
              "find_price             int64\n",
              "find_vendedor         object\n",
              "is_academia             bool\n",
              "is_apertamento          bool\n",
              "is_ar_condicionado      bool\n",
              "is_churrasqueira        bool\n",
              "is_elevador             bool\n",
              "is_mobiliado            bool\n",
              "is_piscina              bool\n",
              "is_portaria             bool\n",
              "is_profissional         bool\n",
              "is_salao_festa          bool\n",
              "is_varanda              bool\n",
              "n_banheiros           object\n",
              "n_fotos                int64\n",
              "n_garagens            object\n",
              "n_quartos             object\n",
              "dtype: object"
            ]
          },
          "execution_count": 330,
          "metadata": {},
          "output_type": "execute_result"
        }
      ],
      "source": [
        "df_0.dtypes"
      ]
    },
    {
      "cell_type": "code",
      "execution_count": 331,
      "id": "a1760679-e7a8-40bf-97dc-96b95d3e64c4",
      "metadata": {
        "colab": {
          "base_uri": "https://localhost:8080/"
        },
        "id": "a1760679-e7a8-40bf-97dc-96b95d3e64c4",
        "outputId": "ee5e99d4-72b8-4021-df06-d652c29869f6",
        "scrolled": true,
        "tags": []
      },
      "outputs": [],
      "source": [
        "# deixando como num a coluna find_condominio\n",
        "df_0['find_condominio'] = df_0['find_condominio'].astype('str').str.replace('R$', '').str.replace(' / mês', '').str.replace('.', '')\n",
        "\n",
        "# deixando como num a coluna find_iptu\n",
        "df_0['find_iptu'] = df_0['find_iptu'].astype('str').str.replace('R$ ', '').str.replace('.', '')\n",
        "\n",
        "# deixando como num a coluna find_m_quadrado\n",
        "df_0['find_m_quadrado'] = df_0['find_m_quadrado'].astype('str').str.replace('m²', '').str.replace('.', '')\n",
        "\n",
        "# cast direto colunas(floats devido a conseguir dar cast em NaN)\n",
        "df_0['find_condominio'] = df_0['find_condominio'].astype('float')\n",
        "df_0['find_endereco'] = df_0['find_endereco'].astype('category')\n",
        "df_0['find_iptu'] = df_0['find_iptu'].astype('float')\n",
        "df_0['find_loc'] = df_0['find_loc'].astype('category')\n",
        "df_0['find_m_quadrado'] = df_0['find_m_quadrado'].astype('float')\n",
        "df_0['find_price'] = df_0['find_price'].astype('float')\n",
        "df_0['find_vendedor'] = df_0['find_vendedor'].astype('category')\n",
        "df_0['is_academia'] = df_0['is_academia'].astype('category')\n",
        "df_0['is_apertamento'] = df_0['is_apertamento'].astype('category')\n",
        "df_0['is_ar_condicionado'] = df_0['is_ar_condicionado'].astype('category')\n",
        "df_0['is_churrasqueira'] = df_0['is_churrasqueira'].astype('category')\n",
        "df_0['is_elevador'] = df_0['is_elevador'].astype('category')\n",
        "df_0['is_mobiliado'] = df_0['is_mobiliado'].astype('category')\n",
        "df_0['is_piscina'] = df_0['is_piscina'].astype('category')\n",
        "df_0['is_portaria'] = df_0['is_portaria'].astype('category')\n",
        "df_0['is_profissional'] = df_0['is_profissional'].astype('category')\n",
        "df_0['is_salao_festa'] = df_0['is_salao_festa'].astype('category')\n",
        "df_0['is_varanda'] = df_0['is_varanda'].astype('category')\n",
        "df_0['n_banheiros'] = df_0['n_banheiros'].astype('float')\n",
        "df_0['n_fotos'] = df_0['n_fotos'].astype('float')\n",
        "df_0['n_garagens'] = df_0['n_garagens'].astype('float')\n",
        "df_0['n_quartos'] = df_0['n_quartos'].astype('float')\n"
      ]
    },
    {
      "cell_type": "code",
      "execution_count": 254,
      "id": "Y8NQUfrqc7wB",
      "metadata": {
        "colab": {
          "base_uri": "https://localhost:8080/"
        },
        "id": "Y8NQUfrqc7wB",
        "outputId": "477cd59f-41c4-4973-c6ba-16d264bd48c6"
      },
      "outputs": [
        {
          "data": {
            "text/plain": [
              "find_condominio        float64\n",
              "find_endereco         category\n",
              "find_iptu              float64\n",
              "find_loc              category\n",
              "find_m_quadrado        float64\n",
              "find_price             float64\n",
              "find_vendedor         category\n",
              "is_academia           category\n",
              "is_apertamento        category\n",
              "is_ar_condicionado    category\n",
              "is_churrasqueira      category\n",
              "is_elevador           category\n",
              "is_mobiliado          category\n",
              "is_piscina            category\n",
              "is_portaria           category\n",
              "is_profissional       category\n",
              "is_salao_festa        category\n",
              "is_varanda            category\n",
              "n_banheiros            float64\n",
              "n_fotos                float64\n",
              "n_garagens             float64\n",
              "n_quartos              float64\n",
              "dtype: object"
            ]
          },
          "execution_count": 254,
          "metadata": {},
          "output_type": "execute_result"
        }
      ],
      "source": [
        "df_0.dtypes"
      ]
    },
    {
      "cell_type": "code",
      "execution_count": 255,
      "id": "MhUyKVvQjn7F",
      "metadata": {
        "colab": {
          "base_uri": "https://localhost:8080/"
        },
        "id": "MhUyKVvQjn7F",
        "outputId": "84ba129f-b8a6-4f95-cbef-c109fbbaef62"
      },
      "outputs": [],
      "source": [
        "df_0[df_0.select_dtypes(['category']).columns] = df_0.select_dtypes(['category']).apply(lambda x: x.cat.codes)"
      ]
    },
    {
      "cell_type": "code",
      "execution_count": 256,
      "id": "vIa0h30vkQWF",
      "metadata": {
        "colab": {
          "base_uri": "https://localhost:8080/"
        },
        "id": "vIa0h30vkQWF",
        "outputId": "15ca0003-5757-4487-8b1f-afba8c7e1d8b"
      },
      "outputs": [
        {
          "data": {
            "text/plain": [
              "find_condominio        float64\n",
              "find_endereco         category\n",
              "find_iptu              float64\n",
              "find_loc              category\n",
              "find_m_quadrado        float64\n",
              "find_price             float64\n",
              "find_vendedor         category\n",
              "is_academia           category\n",
              "is_apertamento        category\n",
              "is_ar_condicionado    category\n",
              "is_churrasqueira      category\n",
              "is_elevador           category\n",
              "is_mobiliado          category\n",
              "is_piscina            category\n",
              "is_portaria           category\n",
              "is_profissional       category\n",
              "is_salao_festa        category\n",
              "is_varanda            category\n",
              "n_banheiros            float64\n",
              "n_fotos                float64\n",
              "n_garagens             float64\n",
              "n_quartos              float64\n",
              "dtype: object"
            ]
          },
          "execution_count": 256,
          "metadata": {},
          "output_type": "execute_result"
        }
      ],
      "source": [
        "df_0.dtypes"
      ]
    },
    {
      "cell_type": "markdown",
      "id": "781e49a4-4062-4dd8-bd1b-bb2b1d93dc09",
      "metadata": {
        "id": "781e49a4-4062-4dd8-bd1b-bb2b1d93dc09"
      },
      "source": [
        "## 2.2 Tratamento de dados ausentes\n",
        "  - vamos fazer a imputação das únicas 3 colunas que apresentam preenchimento vazio\n",
        "    - find_m_quadrado\n",
        "    - n_banheiros\n",
        "    - n_garagens"
      ]
    },
    {
      "cell_type": "code",
      "execution_count": 257,
      "id": "7853d9d8-7f09-4fa3-8c0b-494e1a3e732a",
      "metadata": {
        "colab": {
          "base_uri": "https://localhost:8080/"
        },
        "id": "7853d9d8-7f09-4fa3-8c0b-494e1a3e732a",
        "outputId": "0e04fb84-d0b8-4411-ad18-312bb8b140ed"
      },
      "outputs": [
        {
          "data": {
            "text/plain": [
              "find_condominio         0\n",
              "find_endereco           0\n",
              "find_iptu               0\n",
              "find_loc                0\n",
              "find_m_quadrado        32\n",
              "find_price              0\n",
              "find_vendedor           0\n",
              "is_academia             0\n",
              "is_apertamento          0\n",
              "is_ar_condicionado      0\n",
              "is_churrasqueira        0\n",
              "is_elevador             0\n",
              "is_mobiliado            0\n",
              "is_piscina              0\n",
              "is_portaria             0\n",
              "is_profissional         0\n",
              "is_salao_festa          0\n",
              "is_varanda              0\n",
              "n_banheiros             7\n",
              "n_fotos                 0\n",
              "n_garagens            116\n",
              "n_quartos               0\n",
              "dtype: int64"
            ]
          },
          "execution_count": 257,
          "metadata": {},
          "output_type": "execute_result"
        }
      ],
      "source": [
        "df_0.isna().sum()"
      ]
    },
    {
      "cell_type": "markdown",
      "id": "ZmPYaVeigfQf",
      "metadata": {
        "id": "ZmPYaVeigfQf",
        "tags": []
      },
      "source": [
        "### 2.2.1 Removendo colunas pelo knnimputer"
      ]
    },
    {
      "cell_type": "code",
      "execution_count": 258,
      "id": "RUqrpf54gDF4",
      "metadata": {
        "colab": {
          "base_uri": "https://localhost:8080/"
        },
        "id": "RUqrpf54gDF4",
        "outputId": "c92b2804-0b74-4893-df23-35abc38562d5",
        "scrolled": true,
        "tags": []
      },
      "outputs": [
        {
          "ename": "ValueError",
          "evalue": "Cannot cast object dtype to float64",
          "output_type": "error",
          "traceback": [
            "\u001b[1;31m---------------------------------------------------------------------------\u001b[0m",
            "\u001b[1;31mValueError\u001b[0m                                Traceback (most recent call last)",
            "File \u001b[1;32mc:\\Users\\davim\\OneDrive\\Desktop\\playground\\scraping\\myenv\\Lib\\site-packages\\pandas\\core\\arrays\\categorical.py:591\u001b[0m, in \u001b[0;36mCategorical.astype\u001b[1;34m(self, dtype, copy)\u001b[0m\n\u001b[0;32m    590\u001b[0m \u001b[38;5;28;01mtry\u001b[39;00m:\n\u001b[1;32m--> 591\u001b[0m     new_cats \u001b[38;5;241m=\u001b[39m \u001b[43mnew_cats\u001b[49m\u001b[38;5;241;43m.\u001b[39;49m\u001b[43mastype\u001b[49m\u001b[43m(\u001b[49m\u001b[43mdtype\u001b[49m\u001b[38;5;241;43m=\u001b[39;49m\u001b[43mdtype\u001b[49m\u001b[43m,\u001b[49m\u001b[43m \u001b[49m\u001b[43mcopy\u001b[49m\u001b[38;5;241;43m=\u001b[39;49m\u001b[43mcopy\u001b[49m\u001b[43m)\u001b[49m\n\u001b[0;32m    592\u001b[0m     fill_value \u001b[38;5;241m=\u001b[39m \u001b[38;5;28mself\u001b[39m\u001b[38;5;241m.\u001b[39mcategories\u001b[38;5;241m.\u001b[39m_na_value\n",
            "\u001b[1;31mValueError\u001b[0m: could not convert string to float: 'Aflitos, Recife, PE, 52020041'",
            "\nDuring handling of the above exception, another exception occurred:\n",
            "\u001b[1;31mValueError\u001b[0m                                Traceback (most recent call last)",
            "Cell \u001b[1;32mIn[258], line 3\u001b[0m\n\u001b[0;32m      1\u001b[0m \u001b[38;5;28;01mfrom\u001b[39;00m \u001b[38;5;21;01mfancyimpute\u001b[39;00m \u001b[38;5;28;01mimport\u001b[39;00m KNN\n\u001b[1;32m----> 3\u001b[0m df_0_knn \u001b[38;5;241m=\u001b[39m \u001b[43mKNN\u001b[49m\u001b[43m(\u001b[49m\u001b[43mk\u001b[49m\u001b[38;5;241;43m=\u001b[39;49m\u001b[38;5;241;43m2\u001b[39;49m\u001b[43m)\u001b[49m\u001b[38;5;241;43m.\u001b[39;49m\u001b[43mfit_transform\u001b[49m\u001b[43m(\u001b[49m\u001b[43mdf_0\u001b[49m\u001b[43m)\u001b[49m\n",
            "File \u001b[1;32mc:\\Users\\davim\\OneDrive\\Desktop\\playground\\scraping\\myenv\\Lib\\site-packages\\fancyimpute\\solver.py:174\u001b[0m, in \u001b[0;36mSolver.fit_transform\u001b[1;34m(self, X, y)\u001b[0m\n\u001b[0;32m    165\u001b[0m \u001b[38;5;28;01mdef\u001b[39;00m \u001b[38;5;21mfit_transform\u001b[39m(\u001b[38;5;28mself\u001b[39m, X, y\u001b[38;5;241m=\u001b[39m\u001b[38;5;28;01mNone\u001b[39;00m):\n\u001b[0;32m    166\u001b[0m \u001b[38;5;250m    \u001b[39m\u001b[38;5;124;03m\"\"\"\u001b[39;00m\n\u001b[0;32m    167\u001b[0m \u001b[38;5;124;03m    Fit the imputer and then transform input `X`\u001b[39;00m\n\u001b[0;32m    168\u001b[0m \n\u001b[1;32m   (...)\u001b[0m\n\u001b[0;32m    172\u001b[0m \u001b[38;5;124;03m    on new `X_test`.\u001b[39;00m\n\u001b[0;32m    173\u001b[0m \u001b[38;5;124;03m    \"\"\"\u001b[39;00m\n\u001b[1;32m--> 174\u001b[0m     X_original, missing_mask \u001b[38;5;241m=\u001b[39m \u001b[38;5;28;43mself\u001b[39;49m\u001b[38;5;241;43m.\u001b[39;49m\u001b[43mprepare_input_data\u001b[49m\u001b[43m(\u001b[49m\u001b[43mX\u001b[49m\u001b[43m)\u001b[49m\n\u001b[0;32m    175\u001b[0m     observed_mask \u001b[38;5;241m=\u001b[39m \u001b[38;5;241m~\u001b[39mmissing_mask\n\u001b[0;32m    176\u001b[0m     X \u001b[38;5;241m=\u001b[39m X_original\u001b[38;5;241m.\u001b[39mcopy()\n",
            "File \u001b[1;32mc:\\Users\\davim\\OneDrive\\Desktop\\playground\\scraping\\myenv\\Lib\\site-packages\\fancyimpute\\solver.py:127\u001b[0m, in \u001b[0;36mSolver.prepare_input_data\u001b[1;34m(self, X)\u001b[0m\n\u001b[0;32m    122\u001b[0m \u001b[38;5;28;01mdef\u001b[39;00m \u001b[38;5;21mprepare_input_data\u001b[39m(\u001b[38;5;28mself\u001b[39m, X):\n\u001b[0;32m    123\u001b[0m \u001b[38;5;250m    \u001b[39m\u001b[38;5;124;03m\"\"\"\u001b[39;00m\n\u001b[0;32m    124\u001b[0m \u001b[38;5;124;03m    Check to make sure that the input matrix and its mask of missing\u001b[39;00m\n\u001b[0;32m    125\u001b[0m \u001b[38;5;124;03m    values are valid. Returns X and missing mask.\u001b[39;00m\n\u001b[0;32m    126\u001b[0m \u001b[38;5;124;03m    \"\"\"\u001b[39;00m\n\u001b[1;32m--> 127\u001b[0m     X \u001b[38;5;241m=\u001b[39m \u001b[43mcheck_array\u001b[49m\u001b[43m(\u001b[49m\u001b[43mX\u001b[49m\u001b[43m,\u001b[49m\u001b[43m \u001b[49m\u001b[43mforce_all_finite\u001b[49m\u001b[38;5;241;43m=\u001b[39;49m\u001b[38;5;28;43;01mFalse\u001b[39;49;00m\u001b[43m)\u001b[49m\n\u001b[0;32m    128\u001b[0m     \u001b[38;5;28;01mif\u001b[39;00m X\u001b[38;5;241m.\u001b[39mdtype \u001b[38;5;241m!=\u001b[39m \u001b[38;5;124m\"\u001b[39m\u001b[38;5;124mf\u001b[39m\u001b[38;5;124m\"\u001b[39m \u001b[38;5;129;01mand\u001b[39;00m X\u001b[38;5;241m.\u001b[39mdtype \u001b[38;5;241m!=\u001b[39m \u001b[38;5;124m\"\u001b[39m\u001b[38;5;124md\u001b[39m\u001b[38;5;124m\"\u001b[39m:\n\u001b[0;32m    129\u001b[0m         X \u001b[38;5;241m=\u001b[39m X\u001b[38;5;241m.\u001b[39mastype(\u001b[38;5;28mfloat\u001b[39m)\n",
            "File \u001b[1;32mc:\\Users\\davim\\OneDrive\\Desktop\\playground\\scraping\\myenv\\Lib\\site-packages\\sklearn\\utils\\validation.py:924\u001b[0m, in \u001b[0;36mcheck_array\u001b[1;34m(array, accept_sparse, accept_large_sparse, dtype, order, copy, force_all_finite, ensure_2d, allow_nd, ensure_min_samples, ensure_min_features, estimator, input_name)\u001b[0m\n\u001b[0;32m    919\u001b[0m \u001b[38;5;28;01mif\u001b[39;00m pandas_requires_conversion:\n\u001b[0;32m    920\u001b[0m     \u001b[38;5;66;03m# pandas dataframe requires conversion earlier to handle extension dtypes with\u001b[39;00m\n\u001b[0;32m    921\u001b[0m     \u001b[38;5;66;03m# nans\u001b[39;00m\n\u001b[0;32m    922\u001b[0m     \u001b[38;5;66;03m# Use the original dtype for conversion if dtype is None\u001b[39;00m\n\u001b[0;32m    923\u001b[0m     new_dtype \u001b[38;5;241m=\u001b[39m dtype_orig \u001b[38;5;28;01mif\u001b[39;00m dtype \u001b[38;5;129;01mis\u001b[39;00m \u001b[38;5;28;01mNone\u001b[39;00m \u001b[38;5;28;01melse\u001b[39;00m dtype\n\u001b[1;32m--> 924\u001b[0m     array \u001b[38;5;241m=\u001b[39m \u001b[43marray\u001b[49m\u001b[38;5;241;43m.\u001b[39;49m\u001b[43mastype\u001b[49m\u001b[43m(\u001b[49m\u001b[43mnew_dtype\u001b[49m\u001b[43m)\u001b[49m\n\u001b[0;32m    925\u001b[0m     \u001b[38;5;66;03m# Since we converted here, we do not need to convert again later\u001b[39;00m\n\u001b[0;32m    926\u001b[0m     dtype \u001b[38;5;241m=\u001b[39m \u001b[38;5;28;01mNone\u001b[39;00m\n",
            "File \u001b[1;32mc:\\Users\\davim\\OneDrive\\Desktop\\playground\\scraping\\myenv\\Lib\\site-packages\\pandas\\core\\generic.py:6643\u001b[0m, in \u001b[0;36mNDFrame.astype\u001b[1;34m(self, dtype, copy, errors)\u001b[0m\n\u001b[0;32m   6637\u001b[0m     results \u001b[38;5;241m=\u001b[39m [\n\u001b[0;32m   6638\u001b[0m         ser\u001b[38;5;241m.\u001b[39mastype(dtype, copy\u001b[38;5;241m=\u001b[39mcopy, errors\u001b[38;5;241m=\u001b[39merrors) \u001b[38;5;28;01mfor\u001b[39;00m _, ser \u001b[38;5;129;01min\u001b[39;00m \u001b[38;5;28mself\u001b[39m\u001b[38;5;241m.\u001b[39mitems()\n\u001b[0;32m   6639\u001b[0m     ]\n\u001b[0;32m   6641\u001b[0m \u001b[38;5;28;01melse\u001b[39;00m:\n\u001b[0;32m   6642\u001b[0m     \u001b[38;5;66;03m# else, only a single dtype is given\u001b[39;00m\n\u001b[1;32m-> 6643\u001b[0m     new_data \u001b[38;5;241m=\u001b[39m \u001b[38;5;28;43mself\u001b[39;49m\u001b[38;5;241;43m.\u001b[39;49m\u001b[43m_mgr\u001b[49m\u001b[38;5;241;43m.\u001b[39;49m\u001b[43mastype\u001b[49m\u001b[43m(\u001b[49m\u001b[43mdtype\u001b[49m\u001b[38;5;241;43m=\u001b[39;49m\u001b[43mdtype\u001b[49m\u001b[43m,\u001b[49m\u001b[43m \u001b[49m\u001b[43mcopy\u001b[49m\u001b[38;5;241;43m=\u001b[39;49m\u001b[43mcopy\u001b[49m\u001b[43m,\u001b[49m\u001b[43m \u001b[49m\u001b[43merrors\u001b[49m\u001b[38;5;241;43m=\u001b[39;49m\u001b[43merrors\u001b[49m\u001b[43m)\u001b[49m\n\u001b[0;32m   6644\u001b[0m     res \u001b[38;5;241m=\u001b[39m \u001b[38;5;28mself\u001b[39m\u001b[38;5;241m.\u001b[39m_constructor_from_mgr(new_data, axes\u001b[38;5;241m=\u001b[39mnew_data\u001b[38;5;241m.\u001b[39maxes)\n\u001b[0;32m   6645\u001b[0m     \u001b[38;5;28;01mreturn\u001b[39;00m res\u001b[38;5;241m.\u001b[39m__finalize__(\u001b[38;5;28mself\u001b[39m, method\u001b[38;5;241m=\u001b[39m\u001b[38;5;124m\"\u001b[39m\u001b[38;5;124mastype\u001b[39m\u001b[38;5;124m\"\u001b[39m)\n",
            "File \u001b[1;32mc:\\Users\\davim\\OneDrive\\Desktop\\playground\\scraping\\myenv\\Lib\\site-packages\\pandas\\core\\internals\\managers.py:430\u001b[0m, in \u001b[0;36mBaseBlockManager.astype\u001b[1;34m(self, dtype, copy, errors)\u001b[0m\n\u001b[0;32m    427\u001b[0m \u001b[38;5;28;01melif\u001b[39;00m using_copy_on_write():\n\u001b[0;32m    428\u001b[0m     copy \u001b[38;5;241m=\u001b[39m \u001b[38;5;28;01mFalse\u001b[39;00m\n\u001b[1;32m--> 430\u001b[0m \u001b[38;5;28;01mreturn\u001b[39;00m \u001b[38;5;28;43mself\u001b[39;49m\u001b[38;5;241;43m.\u001b[39;49m\u001b[43mapply\u001b[49m\u001b[43m(\u001b[49m\n\u001b[0;32m    431\u001b[0m \u001b[43m    \u001b[49m\u001b[38;5;124;43m\"\u001b[39;49m\u001b[38;5;124;43mastype\u001b[39;49m\u001b[38;5;124;43m\"\u001b[39;49m\u001b[43m,\u001b[49m\n\u001b[0;32m    432\u001b[0m \u001b[43m    \u001b[49m\u001b[43mdtype\u001b[49m\u001b[38;5;241;43m=\u001b[39;49m\u001b[43mdtype\u001b[49m\u001b[43m,\u001b[49m\n\u001b[0;32m    433\u001b[0m \u001b[43m    \u001b[49m\u001b[43mcopy\u001b[49m\u001b[38;5;241;43m=\u001b[39;49m\u001b[43mcopy\u001b[49m\u001b[43m,\u001b[49m\n\u001b[0;32m    434\u001b[0m \u001b[43m    \u001b[49m\u001b[43merrors\u001b[49m\u001b[38;5;241;43m=\u001b[39;49m\u001b[43merrors\u001b[49m\u001b[43m,\u001b[49m\n\u001b[0;32m    435\u001b[0m \u001b[43m    \u001b[49m\u001b[43musing_cow\u001b[49m\u001b[38;5;241;43m=\u001b[39;49m\u001b[43musing_copy_on_write\u001b[49m\u001b[43m(\u001b[49m\u001b[43m)\u001b[49m\u001b[43m,\u001b[49m\n\u001b[0;32m    436\u001b[0m \u001b[43m\u001b[49m\u001b[43m)\u001b[49m\n",
            "File \u001b[1;32mc:\\Users\\davim\\OneDrive\\Desktop\\playground\\scraping\\myenv\\Lib\\site-packages\\pandas\\core\\internals\\managers.py:363\u001b[0m, in \u001b[0;36mBaseBlockManager.apply\u001b[1;34m(self, f, align_keys, **kwargs)\u001b[0m\n\u001b[0;32m    361\u001b[0m         applied \u001b[38;5;241m=\u001b[39m b\u001b[38;5;241m.\u001b[39mapply(f, \u001b[38;5;241m*\u001b[39m\u001b[38;5;241m*\u001b[39mkwargs)\n\u001b[0;32m    362\u001b[0m     \u001b[38;5;28;01melse\u001b[39;00m:\n\u001b[1;32m--> 363\u001b[0m         applied \u001b[38;5;241m=\u001b[39m \u001b[38;5;28;43mgetattr\u001b[39;49m\u001b[43m(\u001b[49m\u001b[43mb\u001b[49m\u001b[43m,\u001b[49m\u001b[43m \u001b[49m\u001b[43mf\u001b[49m\u001b[43m)\u001b[49m\u001b[43m(\u001b[49m\u001b[38;5;241;43m*\u001b[39;49m\u001b[38;5;241;43m*\u001b[39;49m\u001b[43mkwargs\u001b[49m\u001b[43m)\u001b[49m\n\u001b[0;32m    364\u001b[0m     result_blocks \u001b[38;5;241m=\u001b[39m extend_blocks(applied, result_blocks)\n\u001b[0;32m    366\u001b[0m out \u001b[38;5;241m=\u001b[39m \u001b[38;5;28mtype\u001b[39m(\u001b[38;5;28mself\u001b[39m)\u001b[38;5;241m.\u001b[39mfrom_blocks(result_blocks, \u001b[38;5;28mself\u001b[39m\u001b[38;5;241m.\u001b[39maxes)\n",
            "File \u001b[1;32mc:\\Users\\davim\\OneDrive\\Desktop\\playground\\scraping\\myenv\\Lib\\site-packages\\pandas\\core\\internals\\blocks.py:758\u001b[0m, in \u001b[0;36mBlock.astype\u001b[1;34m(self, dtype, copy, errors, using_cow, squeeze)\u001b[0m\n\u001b[0;32m    755\u001b[0m         \u001b[38;5;28;01mraise\u001b[39;00m \u001b[38;5;167;01mValueError\u001b[39;00m(\u001b[38;5;124m\"\u001b[39m\u001b[38;5;124mCan not squeeze with more than one column.\u001b[39m\u001b[38;5;124m\"\u001b[39m)\n\u001b[0;32m    756\u001b[0m     values \u001b[38;5;241m=\u001b[39m values[\u001b[38;5;241m0\u001b[39m, :]  \u001b[38;5;66;03m# type: ignore[call-overload]\u001b[39;00m\n\u001b[1;32m--> 758\u001b[0m new_values \u001b[38;5;241m=\u001b[39m \u001b[43mastype_array_safe\u001b[49m\u001b[43m(\u001b[49m\u001b[43mvalues\u001b[49m\u001b[43m,\u001b[49m\u001b[43m \u001b[49m\u001b[43mdtype\u001b[49m\u001b[43m,\u001b[49m\u001b[43m \u001b[49m\u001b[43mcopy\u001b[49m\u001b[38;5;241;43m=\u001b[39;49m\u001b[43mcopy\u001b[49m\u001b[43m,\u001b[49m\u001b[43m \u001b[49m\u001b[43merrors\u001b[49m\u001b[38;5;241;43m=\u001b[39;49m\u001b[43merrors\u001b[49m\u001b[43m)\u001b[49m\n\u001b[0;32m    760\u001b[0m new_values \u001b[38;5;241m=\u001b[39m maybe_coerce_values(new_values)\n\u001b[0;32m    762\u001b[0m refs \u001b[38;5;241m=\u001b[39m \u001b[38;5;28;01mNone\u001b[39;00m\n",
            "File \u001b[1;32mc:\\Users\\davim\\OneDrive\\Desktop\\playground\\scraping\\myenv\\Lib\\site-packages\\pandas\\core\\dtypes\\astype.py:237\u001b[0m, in \u001b[0;36mastype_array_safe\u001b[1;34m(values, dtype, copy, errors)\u001b[0m\n\u001b[0;32m    234\u001b[0m     dtype \u001b[38;5;241m=\u001b[39m dtype\u001b[38;5;241m.\u001b[39mnumpy_dtype\n\u001b[0;32m    236\u001b[0m \u001b[38;5;28;01mtry\u001b[39;00m:\n\u001b[1;32m--> 237\u001b[0m     new_values \u001b[38;5;241m=\u001b[39m \u001b[43mastype_array\u001b[49m\u001b[43m(\u001b[49m\u001b[43mvalues\u001b[49m\u001b[43m,\u001b[49m\u001b[43m \u001b[49m\u001b[43mdtype\u001b[49m\u001b[43m,\u001b[49m\u001b[43m \u001b[49m\u001b[43mcopy\u001b[49m\u001b[38;5;241;43m=\u001b[39;49m\u001b[43mcopy\u001b[49m\u001b[43m)\u001b[49m\n\u001b[0;32m    238\u001b[0m \u001b[38;5;28;01mexcept\u001b[39;00m (\u001b[38;5;167;01mValueError\u001b[39;00m, \u001b[38;5;167;01mTypeError\u001b[39;00m):\n\u001b[0;32m    239\u001b[0m     \u001b[38;5;66;03m# e.g. _astype_nansafe can fail on object-dtype of strings\u001b[39;00m\n\u001b[0;32m    240\u001b[0m     \u001b[38;5;66;03m#  trying to convert to float\u001b[39;00m\n\u001b[0;32m    241\u001b[0m     \u001b[38;5;28;01mif\u001b[39;00m errors \u001b[38;5;241m==\u001b[39m \u001b[38;5;124m\"\u001b[39m\u001b[38;5;124mignore\u001b[39m\u001b[38;5;124m\"\u001b[39m:\n",
            "File \u001b[1;32mc:\\Users\\davim\\OneDrive\\Desktop\\playground\\scraping\\myenv\\Lib\\site-packages\\pandas\\core\\dtypes\\astype.py:179\u001b[0m, in \u001b[0;36mastype_array\u001b[1;34m(values, dtype, copy)\u001b[0m\n\u001b[0;32m    175\u001b[0m     \u001b[38;5;28;01mreturn\u001b[39;00m values\n\u001b[0;32m    177\u001b[0m \u001b[38;5;28;01mif\u001b[39;00m \u001b[38;5;129;01mnot\u001b[39;00m \u001b[38;5;28misinstance\u001b[39m(values, np\u001b[38;5;241m.\u001b[39mndarray):\n\u001b[0;32m    178\u001b[0m     \u001b[38;5;66;03m# i.e. ExtensionArray\u001b[39;00m\n\u001b[1;32m--> 179\u001b[0m     values \u001b[38;5;241m=\u001b[39m \u001b[43mvalues\u001b[49m\u001b[38;5;241;43m.\u001b[39;49m\u001b[43mastype\u001b[49m\u001b[43m(\u001b[49m\u001b[43mdtype\u001b[49m\u001b[43m,\u001b[49m\u001b[43m \u001b[49m\u001b[43mcopy\u001b[49m\u001b[38;5;241;43m=\u001b[39;49m\u001b[43mcopy\u001b[49m\u001b[43m)\u001b[49m\n\u001b[0;32m    181\u001b[0m \u001b[38;5;28;01melse\u001b[39;00m:\n\u001b[0;32m    182\u001b[0m     values \u001b[38;5;241m=\u001b[39m _astype_nansafe(values, dtype, copy\u001b[38;5;241m=\u001b[39mcopy)\n",
            "File \u001b[1;32mc:\\Users\\davim\\OneDrive\\Desktop\\playground\\scraping\\myenv\\Lib\\site-packages\\pandas\\core\\arrays\\categorical.py:602\u001b[0m, in \u001b[0;36mCategorical.astype\u001b[1;34m(self, dtype, copy)\u001b[0m\n\u001b[0;32m    597\u001b[0m     \u001b[38;5;28;01mexcept\u001b[39;00m (\n\u001b[0;32m    598\u001b[0m         \u001b[38;5;167;01mTypeError\u001b[39;00m,  \u001b[38;5;66;03m# downstream error msg for CategoricalIndex is misleading\u001b[39;00m\n\u001b[0;32m    599\u001b[0m         \u001b[38;5;167;01mValueError\u001b[39;00m,\n\u001b[0;32m    600\u001b[0m     ):\n\u001b[0;32m    601\u001b[0m         msg \u001b[38;5;241m=\u001b[39m \u001b[38;5;124mf\u001b[39m\u001b[38;5;124m\"\u001b[39m\u001b[38;5;124mCannot cast \u001b[39m\u001b[38;5;132;01m{\u001b[39;00m\u001b[38;5;28mself\u001b[39m\u001b[38;5;241m.\u001b[39mcategories\u001b[38;5;241m.\u001b[39mdtype\u001b[38;5;132;01m}\u001b[39;00m\u001b[38;5;124m dtype to \u001b[39m\u001b[38;5;132;01m{\u001b[39;00mdtype\u001b[38;5;132;01m}\u001b[39;00m\u001b[38;5;124m\"\u001b[39m\n\u001b[1;32m--> 602\u001b[0m         \u001b[38;5;28;01mraise\u001b[39;00m \u001b[38;5;167;01mValueError\u001b[39;00m(msg)\n\u001b[0;32m    604\u001b[0m     result \u001b[38;5;241m=\u001b[39m take_nd(\n\u001b[0;32m    605\u001b[0m         new_cats, ensure_platform_int(\u001b[38;5;28mself\u001b[39m\u001b[38;5;241m.\u001b[39m_codes), fill_value\u001b[38;5;241m=\u001b[39mfill_value\n\u001b[0;32m    606\u001b[0m     )\n\u001b[0;32m    608\u001b[0m \u001b[38;5;28;01mreturn\u001b[39;00m result\n",
            "\u001b[1;31mValueError\u001b[0m: Cannot cast object dtype to float64"
          ]
        }
      ],
      "source": [
        "from fancyimpute import KNN\n",
        "\n",
        "df_0_knn = KNN(k=2).fit_transform(df_0)"
      ]
    },
    {
      "cell_type": "code",
      "execution_count": null,
      "id": "HWY6iQEylcWd",
      "metadata": {
        "colab": {
          "base_uri": "https://localhost:8080/"
        },
        "id": "HWY6iQEylcWd",
        "outputId": "ee7b701b-f8da-4f4a-cc9c-c7235a52cf9e"
      },
      "outputs": [],
      "source": [
        "df_0 = pd.DataFrame(data=df_0_knn[0:,0:],columns=df_0.columns)\n"
      ]
    },
    {
      "cell_type": "code",
      "execution_count": null,
      "id": "30dM3v7XgDSZ",
      "metadata": {
        "colab": {
          "base_uri": "https://localhost:8080/"
        },
        "id": "30dM3v7XgDSZ",
        "outputId": "f1231585-b5a9-4d50-e694-88491ae71b75"
      },
      "outputs": [
        {
          "data": {
            "text/plain": [
              "find_condominio       0\n",
              "find_endereco         0\n",
              "find_iptu             0\n",
              "find_loc              0\n",
              "find_m_quadrado       0\n",
              "find_price            0\n",
              "find_vendedor         0\n",
              "is_academia           0\n",
              "is_apertamento        0\n",
              "is_ar_condicionado    0\n",
              "is_churrasqueira      0\n",
              "is_elevador           0\n",
              "is_mobiliado          0\n",
              "is_piscina            0\n",
              "is_portaria           0\n",
              "is_profissional       0\n",
              "is_salao_festa        0\n",
              "is_varanda            0\n",
              "n_banheiros           0\n",
              "n_fotos               0\n",
              "n_garagens            0\n",
              "n_quartos             0\n",
              "dtype: int64"
            ]
          },
          "execution_count": 139,
          "metadata": {},
          "output_type": "execute_result"
        }
      ],
      "source": [
        "df_0.isna().sum()"
      ]
    },
    {
      "cell_type": "markdown",
      "id": "VJfo9lywm6KP",
      "metadata": {
        "id": "VJfo9lywm6KP"
      },
      "source": [
        "## 2.3 Normalização e discretização dos dados"
      ]
    },
    {
      "cell_type": "code",
      "execution_count": null,
      "id": "LPMh6ClnU3TJ",
      "metadata": {
        "colab": {
          "base_uri": "https://localhost:8080/",
          "height": 624
        },
        "id": "LPMh6ClnU3TJ",
        "outputId": "9548d90b-f456-4c76-dcea-029d552e11b0"
      },
      "outputs": [
        {
          "data": {
            "text/plain": [
              "<Axes: xlabel='dist_find_m_quadrado'>"
            ]
          },
          "execution_count": 140,
          "metadata": {},
          "output_type": "execute_result"
        },
        {
          "data": {
            "image/png": "[encoded data removed]",
            "text/plain": [
              "<Figure size 640x480 with 1 Axes>"
            ]
          },
          "metadata": {},
          "output_type": "display_data"
        }
      ],
      "source": [
        "# fazendo a discretização do find_m_quadrado para entender melhor distribuição pelos segmentos\n",
        "df_disc = df_0.copy()\n",
        "df_disc['dist_find_m_quadrado'] = pd.cut(df_disc['find_m_quadrado'], bins=10000)\n",
        "\n",
        "df_disc['dist_find_m_quadrado'].value_counts()[:25].plot(kind='bar')"
      ]
    },
    {
      "cell_type": "code",
      "execution_count": null,
      "id": "0gzeNIt1m5TQ",
      "metadata": {
        "colab": {
          "base_uri": "https://localhost:8080/"
        },
        "id": "0gzeNIt1m5TQ",
        "outputId": "4d8d3f99-dfc0-435d-efe1-3c95cd1cf858"
      },
      "outputs": [],
      "source": [
        "# minmax em todo o dataframe\n",
        "df_0_norm = (df_0 - df_0.min()) / (df_0.max() - df_0.min()).copy()"
      ]
    },
    {
      "cell_type": "code",
      "execution_count": null,
      "id": "heA_Du61oTJh",
      "metadata": {
        "colab": {
          "base_uri": "https://localhost:8080/",
          "height": 355
        },
        "id": "heA_Du61oTJh",
        "outputId": "29c3aa8c-f1b3-4adb-a205-afa236890cef"
      },
      "outputs": [
        {
          "data": {
            "text/html": [
              "<div>\n",
              "<style scoped>\n",
              "    .dataframe tbody tr th:only-of-type {\n",
              "        vertical-align: middle;\n",
              "    }\n",
              "\n",
              "    .dataframe tbody tr th {\n",
              "        vertical-align: top;\n",
              "    }\n",
              "\n",
              "    .dataframe thead th {\n",
              "        text-align: right;\n",
              "    }\n",
              "</style>\n",
              "<table border=\"1\" class=\"dataframe\">\n",
              "  <thead>\n",
              "    <tr style=\"text-align: right;\">\n",
              "      <th></th>\n",
              "      <th>find_condominio</th>\n",
              "      <th>find_endereco</th>\n",
              "      <th>find_iptu</th>\n",
              "      <th>find_loc</th>\n",
              "      <th>find_m_quadrado</th>\n",
              "      <th>find_price</th>\n",
              "      <th>find_vendedor</th>\n",
              "      <th>is_academia</th>\n",
              "      <th>is_apertamento</th>\n",
              "      <th>is_ar_condicionado</th>\n",
              "      <th>is_churrasqueira</th>\n",
              "      <th>is_elevador</th>\n",
              "      <th>is_mobiliado</th>\n",
              "      <th>is_piscina</th>\n",
              "      <th>is_portaria</th>\n",
              "      <th>is_profissional</th>\n",
              "      <th>is_salao_festa</th>\n",
              "      <th>is_varanda</th>\n",
              "      <th>n_banheiros</th>\n",
              "      <th>n_fotos</th>\n",
              "      <th>n_garagens</th>\n",
              "      <th>n_quartos</th>\n",
              "    </tr>\n",
              "  </thead>\n",
              "  <tbody>\n",
              "    <tr>\n",
              "      <th>count</th>\n",
              "      <td>4557.000000</td>\n",
              "      <td>4557.000000</td>\n",
              "      <td>4.557000e+03</td>\n",
              "      <td>4557.000000</td>\n",
              "      <td>4557.000000</td>\n",
              "      <td>4557.000000</td>\n",
              "      <td>4557.000000</td>\n",
              "      <td>4557.000000</td>\n",
              "      <td>4557.000000</td>\n",
              "      <td>4557.000000</td>\n",
              "      <td>4557.000000</td>\n",
              "      <td>4557.000000</td>\n",
              "      <td>4557.000000</td>\n",
              "      <td>4557.000000</td>\n",
              "      <td>4557.000000</td>\n",
              "      <td>4557.000000</td>\n",
              "      <td>4557.000000</td>\n",
              "      <td>4557.000000</td>\n",
              "      <td>4557.000000</td>\n",
              "      <td>4557.000000</td>\n",
              "      <td>4557.000000</td>\n",
              "      <td>4557.000000</td>\n",
              "    </tr>\n",
              "    <tr>\n",
              "      <th>mean</th>\n",
              "      <td>0.001111</td>\n",
              "      <td>0.406135</td>\n",
              "      <td>6.985622e-04</td>\n",
              "      <td>0.501175</td>\n",
              "      <td>0.000692</td>\n",
              "      <td>0.261314</td>\n",
              "      <td>0.490102</td>\n",
              "      <td>0.468071</td>\n",
              "      <td>0.964670</td>\n",
              "      <td>0.215054</td>\n",
              "      <td>0.436910</td>\n",
              "      <td>0.677200</td>\n",
              "      <td>0.062761</td>\n",
              "      <td>0.633092</td>\n",
              "      <td>0.614000</td>\n",
              "      <td>0.979372</td>\n",
              "      <td>0.639456</td>\n",
              "      <td>0.346939</td>\n",
              "      <td>0.456424</td>\n",
              "      <td>0.781249</td>\n",
              "      <td>0.364512</td>\n",
              "      <td>0.667654</td>\n",
              "    </tr>\n",
              "    <tr>\n",
              "      <th>std</th>\n",
              "      <td>0.024979</td>\n",
              "      <td>0.308122</td>\n",
              "      <td>1.536719e-02</td>\n",
              "      <td>0.282680</td>\n",
              "      <td>0.014812</td>\n",
              "      <td>0.175458</td>\n",
              "      <td>0.276655</td>\n",
              "      <td>0.499034</td>\n",
              "      <td>0.184633</td>\n",
              "      <td>0.410905</td>\n",
              "      <td>0.496058</td>\n",
              "      <td>0.467598</td>\n",
              "      <td>0.242558</td>\n",
              "      <td>0.482014</td>\n",
              "      <td>0.486884</td>\n",
              "      <td>0.142150</td>\n",
              "      <td>0.480211</td>\n",
              "      <td>0.476048</td>\n",
              "      <td>0.236917</td>\n",
              "      <td>0.251340</td>\n",
              "      <td>0.166101</td>\n",
              "      <td>0.219514</td>\n",
              "    </tr>\n",
              "    <tr>\n",
              "      <th>min</th>\n",
              "      <td>0.000000</td>\n",
              "      <td>0.000000</td>\n",
              "      <td>0.000000e+00</td>\n",
              "      <td>0.000000</td>\n",
              "      <td>0.000000</td>\n",
              "      <td>0.000000</td>\n",
              "      <td>0.000000</td>\n",
              "      <td>0.000000</td>\n",
              "      <td>0.000000</td>\n",
              "      <td>0.000000</td>\n",
              "      <td>0.000000</td>\n",
              "      <td>0.000000</td>\n",
              "      <td>0.000000</td>\n",
              "      <td>0.000000</td>\n",
              "      <td>0.000000</td>\n",
              "      <td>0.000000</td>\n",
              "      <td>0.000000</td>\n",
              "      <td>0.000000</td>\n",
              "      <td>0.000000</td>\n",
              "      <td>0.000000</td>\n",
              "      <td>0.000000</td>\n",
              "      <td>0.000000</td>\n",
              "    </tr>\n",
              "    <tr>\n",
              "      <th>25%</th>\n",
              "      <td>0.000001</td>\n",
              "      <td>0.111872</td>\n",
              "      <td>9.259251e-07</td>\n",
              "      <td>0.266588</td>\n",
              "      <td>0.000277</td>\n",
              "      <td>0.143434</td>\n",
              "      <td>0.245409</td>\n",
              "      <td>0.000000</td>\n",
              "      <td>1.000000</td>\n",
              "      <td>0.000000</td>\n",
              "      <td>0.000000</td>\n",
              "      <td>0.000000</td>\n",
              "      <td>0.000000</td>\n",
              "      <td>0.000000</td>\n",
              "      <td>0.000000</td>\n",
              "      <td>1.000000</td>\n",
              "      <td>0.000000</td>\n",
              "      <td>0.000000</td>\n",
              "      <td>0.250000</td>\n",
              "      <td>0.650000</td>\n",
              "      <td>0.250000</td>\n",
              "      <td>0.500000</td>\n",
              "    </tr>\n",
              "    <tr>\n",
              "      <th>50%</th>\n",
              "      <td>0.000114</td>\n",
              "      <td>0.335616</td>\n",
              "      <td>1.851850e-06</td>\n",
              "      <td>0.502370</td>\n",
              "      <td>0.000400</td>\n",
              "      <td>0.195972</td>\n",
              "      <td>0.497496</td>\n",
              "      <td>0.000000</td>\n",
              "      <td>1.000000</td>\n",
              "      <td>0.000000</td>\n",
              "      <td>0.000000</td>\n",
              "      <td>1.000000</td>\n",
              "      <td>0.000000</td>\n",
              "      <td>1.000000</td>\n",
              "      <td>1.000000</td>\n",
              "      <td>1.000000</td>\n",
              "      <td>1.000000</td>\n",
              "      <td>0.000000</td>\n",
              "      <td>0.500000</td>\n",
              "      <td>0.900000</td>\n",
              "      <td>0.250000</td>\n",
              "      <td>0.750000</td>\n",
              "    </tr>\n",
              "    <tr>\n",
              "      <th>75%</th>\n",
              "      <td>0.000504</td>\n",
              "      <td>0.673516</td>\n",
              "      <td>2.787034e-04</td>\n",
              "      <td>0.744076</td>\n",
              "      <td>0.000615</td>\n",
              "      <td>0.333333</td>\n",
              "      <td>0.714524</td>\n",
              "      <td>1.000000</td>\n",
              "      <td>1.000000</td>\n",
              "      <td>0.000000</td>\n",
              "      <td>1.000000</td>\n",
              "      <td>1.000000</td>\n",
              "      <td>0.000000</td>\n",
              "      <td>1.000000</td>\n",
              "      <td>1.000000</td>\n",
              "      <td>1.000000</td>\n",
              "      <td>1.000000</td>\n",
              "      <td>1.000000</td>\n",
              "      <td>0.500000</td>\n",
              "      <td>0.950000</td>\n",
              "      <td>0.500000</td>\n",
              "      <td>0.750000</td>\n",
              "    </tr>\n",
              "    <tr>\n",
              "      <th>max</th>\n",
              "      <td>1.000000</td>\n",
              "      <td>1.000000</td>\n",
              "      <td>1.000000e+00</td>\n",
              "      <td>1.000000</td>\n",
              "      <td>1.000000</td>\n",
              "      <td>1.000000</td>\n",
              "      <td>1.000000</td>\n",
              "      <td>1.000000</td>\n",
              "      <td>1.000000</td>\n",
              "      <td>1.000000</td>\n",
              "      <td>1.000000</td>\n",
              "      <td>1.000000</td>\n",
              "      <td>1.000000</td>\n",
              "      <td>1.000000</td>\n",
              "      <td>1.000000</td>\n",
              "      <td>1.000000</td>\n",
              "      <td>1.000000</td>\n",
              "      <td>1.000000</td>\n",
              "      <td>1.000000</td>\n",
              "      <td>1.000000</td>\n",
              "      <td>1.000000</td>\n",
              "      <td>1.000000</td>\n",
              "    </tr>\n",
              "  </tbody>\n",
              "</table>\n",
              "</div>"
            ],
            "text/plain": [
              "       find_condominio  find_endereco     find_iptu     find_loc  \\\n",
              "count      4557.000000    4557.000000  4.557000e+03  4557.000000   \n",
              "mean          0.001111       0.406135  6.985622e-04     0.501175   \n",
              "std           0.024979       0.308122  1.536719e-02     0.282680   \n",
              "min           0.000000       0.000000  0.000000e+00     0.000000   \n",
              "25%           0.000001       0.111872  9.259251e-07     0.266588   \n",
              "50%           0.000114       0.335616  1.851850e-06     0.502370   \n",
              "75%           0.000504       0.673516  2.787034e-04     0.744076   \n",
              "max           1.000000       1.000000  1.000000e+00     1.000000   \n",
              "\n",
              "       find_m_quadrado   find_price  find_vendedor  is_academia  \\\n",
              "count      4557.000000  4557.000000    4557.000000  4557.000000   \n",
              "mean          0.000692     0.261314       0.490102     0.468071   \n",
              "std           0.014812     0.175458       0.276655     0.499034   \n",
              "min           0.000000     0.000000       0.000000     0.000000   \n",
              "25%           0.000277     0.143434       0.245409     0.000000   \n",
              "50%           0.000400     0.195972       0.497496     0.000000   \n",
              "75%           0.000615     0.333333       0.714524     1.000000   \n",
              "max           1.000000     1.000000       1.000000     1.000000   \n",
              "\n",
              "       is_apertamento  is_ar_condicionado  is_churrasqueira  is_elevador  \\\n",
              "count     4557.000000         4557.000000       4557.000000  4557.000000   \n",
              "mean         0.964670            0.215054          0.436910     0.677200   \n",
              "std          0.184633            0.410905          0.496058     0.467598   \n",
              "min          0.000000            0.000000          0.000000     0.000000   \n",
              "25%          1.000000            0.000000          0.000000     0.000000   \n",
              "50%          1.000000            0.000000          0.000000     1.000000   \n",
              "75%          1.000000            0.000000          1.000000     1.000000   \n",
              "max          1.000000            1.000000          1.000000     1.000000   \n",
              "\n",
              "       is_mobiliado   is_piscina  is_portaria  is_profissional  \\\n",
              "count   4557.000000  4557.000000  4557.000000      4557.000000   \n",
              "mean       0.062761     0.633092     0.614000         0.979372   \n",
              "std        0.242558     0.482014     0.486884         0.142150   \n",
              "min        0.000000     0.000000     0.000000         0.000000   \n",
              "25%        0.000000     0.000000     0.000000         1.000000   \n",
              "50%        0.000000     1.000000     1.000000         1.000000   \n",
              "75%        0.000000     1.000000     1.000000         1.000000   \n",
              "max        1.000000     1.000000     1.000000         1.000000   \n",
              "\n",
              "       is_salao_festa   is_varanda  n_banheiros      n_fotos   n_garagens  \\\n",
              "count     4557.000000  4557.000000  4557.000000  4557.000000  4557.000000   \n",
              "mean         0.639456     0.346939     0.456424     0.781249     0.364512   \n",
              "std          0.480211     0.476048     0.236917     0.251340     0.166101   \n",
              "min          0.000000     0.000000     0.000000     0.000000     0.000000   \n",
              "25%          0.000000     0.000000     0.250000     0.650000     0.250000   \n",
              "50%          1.000000     0.000000     0.500000     0.900000     0.250000   \n",
              "75%          1.000000     1.000000     0.500000     0.950000     0.500000   \n",
              "max          1.000000     1.000000     1.000000     1.000000     1.000000   \n",
              "\n",
              "         n_quartos  \n",
              "count  4557.000000  \n",
              "mean      0.667654  \n",
              "std       0.219514  \n",
              "min       0.000000  \n",
              "25%       0.500000  \n",
              "50%       0.750000  \n",
              "75%       0.750000  \n",
              "max       1.000000  "
            ]
          },
          "execution_count": 142,
          "metadata": {},
          "output_type": "execute_result"
        }
      ],
      "source": [
        "df_0_norm.describe()"
      ]
    },
    {
      "cell_type": "markdown",
      "id": "35b871ba-9832-4705-a9ca-0029bf73a826",
      "metadata": {
        "id": "35b871ba-9832-4705-a9ca-0029bf73a826",
        "jp-MarkdownHeadingCollapsed": true,
        "tags": []
      },
      "source": [
        "## 2.4 Limpeza dos dados"
      ]
    },
    {
      "cell_type": "code",
      "execution_count": null,
      "id": "sYg8_EO16Z5T",
      "metadata": {
        "colab": {
          "base_uri": "https://localhost:8080/"
        },
        "id": "sYg8_EO16Z5T",
        "outputId": "64231aad-8540-4c84-aba1-0e1c3ba90528"
      },
      "outputs": [],
      "source": [
        "df_1 = df_0.copy()\n",
        "df_1_norm = df_0_norm.copy()"
      ]
    },
    {
      "cell_type": "markdown",
      "id": "abdd1d1e-fe30-4291-90bc-f5a54af4f42e",
      "metadata": {
        "id": "abdd1d1e-fe30-4291-90bc-f5a54af4f42e",
        "jp-MarkdownHeadingCollapsed": true,
        "tags": []
      },
      "source": [
        "### 2.4.1 univariado"
      ]
    },
    {
      "cell_type": "code",
      "execution_count": null,
      "id": "2e4f0939-0105-4212-9f9c-143f6d2ac6d2",
      "metadata": {
        "colab": {
          "base_uri": "https://localhost:8080/",
          "height": 517
        },
        "id": "2e4f0939-0105-4212-9f9c-143f6d2ac6d2",
        "outputId": "866730bb-75dd-4f3c-d36d-82adbcf16d16"
      },
      "outputs": [
        {
          "data": {
            "text/plain": [
              "<Axes: >"
            ]
          },
          "execution_count": 144,
          "metadata": {},
          "output_type": "execute_result"
        },
        {
          "data": {
            "image/png": "[encoded data removed]",
            "text/plain": [
              "<Figure size 640x480 with 1 Axes>"
            ]
          },
          "metadata": {},
          "output_type": "display_data"
        }
      ],
      "source": [
        "df_1['find_price'].plot.box()"
      ]
    },
    {
      "cell_type": "code",
      "execution_count": null,
      "id": "9qFgy0oI6grp",
      "metadata": {
        "colab": {
          "base_uri": "https://localhost:8080/",
          "height": 520
        },
        "id": "9qFgy0oI6grp",
        "outputId": "79a609e4-6640-4ed0-e03b-4063e9e5f6ba"
      },
      "outputs": [
        {
          "data": {
            "text/plain": [
              "<Axes: >"
            ]
          },
          "execution_count": 145,
          "metadata": {},
          "output_type": "execute_result"
        },
        {
          "data": {
            "image/png": "[encoded data removed]",
            "text/plain": [
              "<Figure size 640x480 with 1 Axes>"
            ]
          },
          "metadata": {},
          "output_type": "display_data"
        }
      ],
      "source": [
        "df_1['find_price'].hist()"
      ]
    },
    {
      "cell_type": "code",
      "execution_count": null,
      "id": "o-S4ecFQ6kS5",
      "metadata": {
        "colab": {
          "base_uri": "https://localhost:8080/"
        },
        "collapsed": true,
        "id": "o-S4ecFQ6kS5",
        "outputId": "3bd372a9-358e-41eb-e38b-3dbaed580d1e"
      },
      "outputs": [],
      "source": [
        "from numpy import log10\n",
        "\n",
        "df_1['log_find_price'] = log10(df_1['find_price'])"
      ]
    },
    {
      "cell_type": "code",
      "execution_count": null,
      "id": "HoAr-FMN6yHG",
      "metadata": {
        "colab": {
          "base_uri": "https://localhost:8080/",
          "height": 502
        },
        "id": "HoAr-FMN6yHG",
        "outputId": "2d3f9c0d-6eb3-4029-a7c8-61aebb989012"
      },
      "outputs": [
        {
          "data": {
            "text/plain": [
              "<Axes: >"
            ]
          },
          "execution_count": 147,
          "metadata": {},
          "output_type": "execute_result"
        },
        {
          "data": {
            "image/png": "[encoded data removed]",
            "text/plain": [
              "<Figure size 640x480 with 1 Axes>"
            ]
          },
          "metadata": {},
          "output_type": "display_data"
        }
      ],
      "source": [
        "# sem melhoras significativas no shape da distribuição, vamos usar o find_price\n",
        "df_1['log_find_price'].hist()"
      ]
    },
    {
      "cell_type": "code",
      "execution_count": null,
      "id": "UG8x-FiP7yFu",
      "metadata": {
        "colab": {
          "base_uri": "https://localhost:8080/"
        },
        "id": "UG8x-FiP7yFu",
        "outputId": "155a679c-486f-4c78-e73e-13f0cceb5078"
      },
      "outputs": [
        {
          "name": "stdout",
          "output_type": "stream",
          "text": [
            "470000.0\n"
          ]
        }
      ],
      "source": [
        "q1 = df_1['find_price'].quantile(q=0.25)\n",
        "q3 = df_1['find_price'].quantile(q=0.75)\n",
        "iqr = q3 - q1\n",
        "print(iqr)\n"
      ]
    },
    {
      "cell_type": "code",
      "execution_count": null,
      "id": "VfMpym0l8EBD",
      "metadata": {
        "colab": {
          "base_uri": "https://localhost:8080/"
        },
        "id": "VfMpym0l8EBD",
        "outputId": "b3555ede-5611-4231-cd6a-022a3a59a8f7"
      },
      "outputs": [
        {
          "name": "stdout",
          "output_type": "stream",
          "text": [
            "4557\n",
            "4294\n"
          ]
        }
      ],
      "source": [
        "# aplicando metodo tukey\n",
        "print(len(df_1))\n",
        "df_1 = df_1[(df_1['find_price'] > (q1-1.5*iqr)) & (df_1['find_price'] < (q3+1.5*iqr))]\n",
        "print(len(df_1))"
      ]
    },
    {
      "cell_type": "code",
      "execution_count": null,
      "id": "18aS6f-dXq2Z",
      "metadata": {
        "colab": {
          "base_uri": "https://localhost:8080/"
        },
        "id": "18aS6f-dXq2Z",
        "outputId": "67b8b635-48bd-4102-a7e7-f6c66ae56c88"
      },
      "outputs": [],
      "source": [
        "# sd"
      ]
    },
    {
      "cell_type": "code",
      "execution_count": null,
      "id": "ry4aweMDXrRf",
      "metadata": {
        "colab": {
          "base_uri": "https://localhost:8080/",
          "height": 198
        },
        "id": "ry4aweMDXrRf",
        "outputId": "ff4a7443-b0b4-4bad-fb0d-446c4ff46a55"
      },
      "outputs": [
        {
          "data": {
            "text/html": [
              "<div>\n",
              "<style scoped>\n",
              "    .dataframe tbody tr th:only-of-type {\n",
              "        vertical-align: middle;\n",
              "    }\n",
              "\n",
              "    .dataframe tbody tr th {\n",
              "        vertical-align: top;\n",
              "    }\n",
              "\n",
              "    .dataframe thead th {\n",
              "        text-align: right;\n",
              "    }\n",
              "</style>\n",
              "<table border=\"1\" class=\"dataframe\">\n",
              "  <thead>\n",
              "    <tr style=\"text-align: right;\">\n",
              "      <th></th>\n",
              "      <th>find_condominio</th>\n",
              "      <th>find_endereco</th>\n",
              "      <th>find_iptu</th>\n",
              "      <th>find_loc</th>\n",
              "      <th>find_m_quadrado</th>\n",
              "      <th>find_price</th>\n",
              "      <th>find_vendedor</th>\n",
              "      <th>is_academia</th>\n",
              "      <th>is_apertamento</th>\n",
              "      <th>is_ar_condicionado</th>\n",
              "      <th>is_churrasqueira</th>\n",
              "      <th>is_elevador</th>\n",
              "      <th>is_mobiliado</th>\n",
              "      <th>is_piscina</th>\n",
              "      <th>is_portaria</th>\n",
              "      <th>is_profissional</th>\n",
              "      <th>is_salao_festa</th>\n",
              "      <th>is_varanda</th>\n",
              "      <th>n_banheiros</th>\n",
              "      <th>n_fotos</th>\n",
              "      <th>n_garagens</th>\n",
              "      <th>n_quartos</th>\n",
              "      <th>log_find_price</th>\n",
              "    </tr>\n",
              "  </thead>\n",
              "  <tbody>\n",
              "    <tr>\n",
              "      <th>0</th>\n",
              "      <td>1100.0</td>\n",
              "      <td>6.0</td>\n",
              "      <td>180.0</td>\n",
              "      <td>797.0</td>\n",
              "      <td>105.0</td>\n",
              "      <td>380000.0</td>\n",
              "      <td>59.0</td>\n",
              "      <td>0.0</td>\n",
              "      <td>1.0</td>\n",
              "      <td>0.0</td>\n",
              "      <td>0.0</td>\n",
              "      <td>0.0</td>\n",
              "      <td>0.0</td>\n",
              "      <td>0.0</td>\n",
              "      <td>0.0</td>\n",
              "      <td>1.0</td>\n",
              "      <td>0.0</td>\n",
              "      <td>0.0</td>\n",
              "      <td>3.0</td>\n",
              "      <td>20.0</td>\n",
              "      <td>0.0</td>\n",
              "      <td>3.0</td>\n",
              "      <td>5.579784</td>\n",
              "    </tr>\n",
              "    <tr>\n",
              "      <th>1</th>\n",
              "      <td>0.0</td>\n",
              "      <td>96.0</td>\n",
              "      <td>0.0</td>\n",
              "      <td>317.0</td>\n",
              "      <td>51.0</td>\n",
              "      <td>525000.0</td>\n",
              "      <td>147.0</td>\n",
              "      <td>0.0</td>\n",
              "      <td>1.0</td>\n",
              "      <td>0.0</td>\n",
              "      <td>0.0</td>\n",
              "      <td>0.0</td>\n",
              "      <td>0.0</td>\n",
              "      <td>1.0</td>\n",
              "      <td>0.0</td>\n",
              "      <td>1.0</td>\n",
              "      <td>1.0</td>\n",
              "      <td>0.0</td>\n",
              "      <td>2.0</td>\n",
              "      <td>15.0</td>\n",
              "      <td>1.0</td>\n",
              "      <td>3.0</td>\n",
              "      <td>5.720159</td>\n",
              "    </tr>\n",
              "    <tr>\n",
              "      <th>2</th>\n",
              "      <td>822.0</td>\n",
              "      <td>180.0</td>\n",
              "      <td>291.0</td>\n",
              "      <td>25.0</td>\n",
              "      <td>124.0</td>\n",
              "      <td>620000.0</td>\n",
              "      <td>489.0</td>\n",
              "      <td>0.0</td>\n",
              "      <td>1.0</td>\n",
              "      <td>0.0</td>\n",
              "      <td>0.0</td>\n",
              "      <td>0.0</td>\n",
              "      <td>0.0</td>\n",
              "      <td>0.0</td>\n",
              "      <td>0.0</td>\n",
              "      <td>1.0</td>\n",
              "      <td>0.0</td>\n",
              "      <td>0.0</td>\n",
              "      <td>2.0</td>\n",
              "      <td>14.0</td>\n",
              "      <td>1.0</td>\n",
              "      <td>3.0</td>\n",
              "      <td>5.792392</td>\n",
              "    </tr>\n",
              "  </tbody>\n",
              "</table>\n",
              "</div>"
            ],
            "text/plain": [
              "   find_condominio  find_endereco  find_iptu  find_loc  find_m_quadrado  \\\n",
              "0           1100.0            6.0      180.0     797.0            105.0   \n",
              "1              0.0           96.0        0.0     317.0             51.0   \n",
              "2            822.0          180.0      291.0      25.0            124.0   \n",
              "\n",
              "   find_price  find_vendedor  is_academia  is_apertamento  is_ar_condicionado  \\\n",
              "0    380000.0           59.0          0.0             1.0                 0.0   \n",
              "1    525000.0          147.0          0.0             1.0                 0.0   \n",
              "2    620000.0          489.0          0.0             1.0                 0.0   \n",
              "\n",
              "   is_churrasqueira  is_elevador  is_mobiliado  is_piscina  is_portaria  \\\n",
              "0               0.0          0.0           0.0         0.0          0.0   \n",
              "1               0.0          0.0           0.0         1.0          0.0   \n",
              "2               0.0          0.0           0.0         0.0          0.0   \n",
              "\n",
              "   is_profissional  is_salao_festa  is_varanda  n_banheiros  n_fotos  \\\n",
              "0              1.0             0.0         0.0          3.0     20.0   \n",
              "1              1.0             1.0         0.0          2.0     15.0   \n",
              "2              1.0             0.0         0.0          2.0     14.0   \n",
              "\n",
              "   n_garagens  n_quartos  log_find_price  \n",
              "0         0.0        3.0        5.579784  \n",
              "1         1.0        3.0        5.720159  \n",
              "2         1.0        3.0        5.792392  "
            ]
          },
          "execution_count": 151,
          "metadata": {},
          "output_type": "execute_result"
        }
      ],
      "source": [
        "df_1.head(3)"
      ]
    },
    {
      "cell_type": "code",
      "execution_count": null,
      "id": "3IaIREmcXrb_",
      "metadata": {
        "colab": {
          "base_uri": "https://localhost:8080/"
        },
        "id": "3IaIREmcXrb_",
        "outputId": "c6518e99-c640-4260-ce18-a3ef76f9e9ca"
      },
      "outputs": [],
      "source": [
        "# ed"
      ]
    },
    {
      "cell_type": "markdown",
      "id": "9dcbafeb-b170-4901-8291-fe5e0d604cb3",
      "metadata": {
        "id": "9dcbafeb-b170-4901-8291-fe5e0d604cb3",
        "jp-MarkdownHeadingCollapsed": true,
        "tags": []
      },
      "source": [
        "### 2.4.2 bivariado"
      ]
    },
    {
      "cell_type": "code",
      "execution_count": null,
      "id": "8a75b349-48ba-478d-be73-946b524a7eb8",
      "metadata": {
        "colab": {
          "base_uri": "https://localhost:8080/",
          "height": 522
        },
        "id": "8a75b349-48ba-478d-be73-946b524a7eb8",
        "outputId": "77eba7e0-c83d-450a-8677-05986f0ddbfb"
      },
      "outputs": [
        {
          "data": {
            "text/plain": [
              "<Axes: xlabel='find_price', ylabel='n_banheiros'>"
            ]
          },
          "execution_count": 153,
          "metadata": {},
          "output_type": "execute_result"
        },
        {
          "data": {
            "image/png": "[encoded data removed]",
            "text/plain": [
              "<Figure size 640x480 with 1 Axes>"
            ]
          },
          "metadata": {},
          "output_type": "display_data"
        }
      ],
      "source": [
        "df_1.plot.scatter(x='find_price', y='n_banheiros')"
      ]
    },
    {
      "cell_type": "code",
      "execution_count": null,
      "id": "0CqEPWRbYkCQ",
      "metadata": {
        "colab": {
          "base_uri": "https://localhost:8080/"
        },
        "id": "0CqEPWRbYkCQ",
        "outputId": "889cfd82-cf72-4190-dc04-4db03e06859e"
      },
      "outputs": [],
      "source": [
        "df_1['price_qtdbanheiros'] = df_1['find_price'] / df_1['n_banheiros']"
      ]
    },
    {
      "cell_type": "code",
      "execution_count": null,
      "id": "z24v3eBbY3an",
      "metadata": {
        "colab": {
          "base_uri": "https://localhost:8080/",
          "height": 517
        },
        "id": "z24v3eBbY3an",
        "outputId": "257ec9d1-77ad-4337-9576-433e584448a6"
      },
      "outputs": [
        {
          "data": {
            "text/plain": [
              "<Axes: >"
            ]
          },
          "execution_count": 155,
          "metadata": {},
          "output_type": "execute_result"
        },
        {
          "data": {
            "image/png": "[encoded data removed]",
            "text/plain": [
              "<Figure size 640x480 with 1 Axes>"
            ]
          },
          "metadata": {},
          "output_type": "display_data"
        }
      ],
      "source": [
        "df_1['price_qtdbanheiros'].plot.box()"
      ]
    },
    {
      "cell_type": "code",
      "execution_count": null,
      "id": "-EHlHJi6ZnmU",
      "metadata": {
        "colab": {
          "base_uri": "https://localhost:8080/"
        },
        "id": "-EHlHJi6ZnmU",
        "outputId": "878861ec-def0-4a42-d4b9-7e7f0cc65eb4"
      },
      "outputs": [],
      "source": [
        "mad = abs(df_1['price_qtdbanheiros'] - df_1['price_qtdbanheiros'].median()).median()*(1/0.6745)"
      ]
    },
    {
      "cell_type": "code",
      "execution_count": null,
      "id": "cM8f5UIIZ18q",
      "metadata": {
        "colab": {
          "base_uri": "https://localhost:8080/"
        },
        "id": "cM8f5UIIZ18q",
        "outputId": "34b2d9e1-8153-4656-b37c-eec5e002d6db"
      },
      "outputs": [
        {
          "name": "stdout",
          "output_type": "stream",
          "text": [
            "volumetria antes: 4294\n",
            "volumetria depois: 4047\n"
          ]
        }
      ],
      "source": [
        "print(f'volumetria antes: {len(df_1)}')\n",
        "df_1 = df_1[abs(df_1['price_qtdbanheiros']-df_1['price_qtdbanheiros'].median())/mad < 3.5]\n",
        "print(f'volumetria depois: {len(df_1)}')"
      ]
    },
    {
      "cell_type": "markdown",
      "id": "dc73265c-5015-4f21-ac93-89cfd52c22d3",
      "metadata": {
        "id": "dc73265c-5015-4f21-ac93-89cfd52c22d3",
        "jp-MarkdownHeadingCollapsed": true,
        "tags": []
      },
      "source": [
        "### 2.4.3 multivariado"
      ]
    },
    {
      "cell_type": "code",
      "execution_count": null,
      "id": "2efd541d-94aa-48f3-b931-0dd481cea2cb",
      "metadata": {
        "colab": {
          "base_uri": "https://localhost:8080/",
          "height": 129
        },
        "id": "2efd541d-94aa-48f3-b931-0dd481cea2cb",
        "outputId": "527603d8-280b-4758-93a5-c0a533327b3c"
      },
      "outputs": [
        {
          "data": {
            "text/html": [
              "<style>#sk-container-id-2 {\n",
              "  /* Definition of color scheme common for light and dark mode */\n",
              "  --sklearn-color-text: black;\n",
              "  --sklearn-color-line: gray;\n",
              "  /* Definition of color scheme for unfitted estimators */\n",
              "  --sklearn-color-unfitted-level-0: #fff5e6;\n",
              "  --sklearn-color-unfitted-level-1: #f6e4d2;\n",
              "  --sklearn-color-unfitted-level-2: #ffe0b3;\n",
              "  --sklearn-color-unfitted-level-3: chocolate;\n",
              "  /* Definition of color scheme for fitted estimators */\n",
              "  --sklearn-color-fitted-level-0: #f0f8ff;\n",
              "  --sklearn-color-fitted-level-1: #d4ebff;\n",
              "  --sklearn-color-fitted-level-2: #b3dbfd;\n",
              "  --sklearn-color-fitted-level-3: cornflowerblue;\n",
              "\n",
              "  /* Specific color for light theme */\n",
              "  --sklearn-color-text-on-default-background: var(--sg-text-color, var(--theme-code-foreground, var(--jp-content-font-color1, black)));\n",
              "  --sklearn-color-background: var(--sg-background-color, var(--theme-background, var(--jp-layout-color0, white)));\n",
              "  --sklearn-color-border-box: var(--sg-text-color, var(--theme-code-foreground, var(--jp-content-font-color1, black)));\n",
              "  --sklearn-color-icon: #696969;\n",
              "\n",
              "  @media (prefers-color-scheme: dark) {\n",
              "    /* Redefinition of color scheme for dark theme */\n",
              "    --sklearn-color-text-on-default-background: var(--sg-text-color, var(--theme-code-foreground, var(--jp-content-font-color1, white)));\n",
              "    --sklearn-color-background: var(--sg-background-color, var(--theme-background, var(--jp-layout-color0, #111)));\n",
              "    --sklearn-color-border-box: var(--sg-text-color, var(--theme-code-foreground, var(--jp-content-font-color1, white)));\n",
              "    --sklearn-color-icon: #878787;\n",
              "  }\n",
              "}\n",
              "\n",
              "#sk-container-id-2 {\n",
              "  color: var(--sklearn-color-text);\n",
              "}\n",
              "\n",
              "#sk-container-id-2 pre {\n",
              "  padding: 0;\n",
              "}\n",
              "\n",
              "#sk-container-id-2 input.sk-hidden--visually {\n",
              "  border: 0;\n",
              "  clip: rect(1px 1px 1px 1px);\n",
              "  clip: rect(1px, 1px, 1px, 1px);\n",
              "  height: 1px;\n",
              "  margin: -1px;\n",
              "  overflow: hidden;\n",
              "  padding: 0;\n",
              "  position: absolute;\n",
              "  width: 1px;\n",
              "}\n",
              "\n",
              "#sk-container-id-2 div.sk-dashed-wrapped {\n",
              "  border: 1px dashed var(--sklearn-color-line);\n",
              "  margin: 0 0.4em 0.5em 0.4em;\n",
              "  box-sizing: border-box;\n",
              "  padding-bottom: 0.4em;\n",
              "  background-color: var(--sklearn-color-background);\n",
              "}\n",
              "\n",
              "#sk-container-id-2 div.sk-container {\n",
              "  /* jupyter's `normalize.less` sets `[hidden] { display: none; }`\n",
              "     but bootstrap.min.css set `[hidden] { display: none !important; }`\n",
              "     so we also need the `!important` here to be able to override the\n",
              "     default hidden behavior on the sphinx rendered scikit-learn.org.\n",
              "     See: https://github.com/scikit-learn/scikit-learn/issues/21755 */\n",
              "  display: inline-block !important;\n",
              "  position: relative;\n",
              "}\n",
              "\n",
              "#sk-container-id-2 div.sk-text-repr-fallback {\n",
              "  display: none;\n",
              "}\n",
              "\n",
              "div.sk-parallel-item,\n",
              "div.sk-serial,\n",
              "div.sk-item {\n",
              "  /* draw centered vertical line to link estimators */\n",
              "  background-image: linear-gradient(var(--sklearn-color-text-on-default-background), var(--sklearn-color-text-on-default-background));\n",
              "  background-size: 2px 100%;\n",
              "  background-repeat: no-repeat;\n",
              "  background-position: center center;\n",
              "}\n",
              "\n",
              "/* Parallel-specific style estimator block */\n",
              "\n",
              "#sk-container-id-2 div.sk-parallel-item::after {\n",
              "  content: \"\";\n",
              "  width: 100%;\n",
              "  border-bottom: 2px solid var(--sklearn-color-text-on-default-background);\n",
              "  flex-grow: 1;\n",
              "}\n",
              "\n",
              "#sk-container-id-2 div.sk-parallel {\n",
              "  display: flex;\n",
              "  align-items: stretch;\n",
              "  justify-content: center;\n",
              "  background-color: var(--sklearn-color-background);\n",
              "  position: relative;\n",
              "}\n",
              "\n",
              "#sk-container-id-2 div.sk-parallel-item {\n",
              "  display: flex;\n",
              "  flex-direction: column;\n",
              "}\n",
              "\n",
              "#sk-container-id-2 div.sk-parallel-item:first-child::after {\n",
              "  align-self: flex-end;\n",
              "  width: 50%;\n",
              "}\n",
              "\n",
              "#sk-container-id-2 div.sk-parallel-item:last-child::after {\n",
              "  align-self: flex-start;\n",
              "  width: 50%;\n",
              "}\n",
              "\n",
              "#sk-container-id-2 div.sk-parallel-item:only-child::after {\n",
              "  width: 0;\n",
              "}\n",
              "\n",
              "/* Serial-specific style estimator block */\n",
              "\n",
              "#sk-container-id-2 div.sk-serial {\n",
              "  display: flex;\n",
              "  flex-direction: column;\n",
              "  align-items: center;\n",
              "  background-color: var(--sklearn-color-background);\n",
              "  padding-right: 1em;\n",
              "  padding-left: 1em;\n",
              "}\n",
              "\n",
              "\n",
              "/* Toggleable style: style used for estimator/Pipeline/ColumnTransformer box that is\n",
              "clickable and can be expanded/collapsed.\n",
              "- Pipeline and ColumnTransformer use this feature and define the default style\n",
              "- Estimators will overwrite some part of the style using the `sk-estimator` class\n",
              "*/\n",
              "\n",
              "/* Pipeline and ColumnTransformer style (default) */\n",
              "\n",
              "#sk-container-id-2 div.sk-toggleable {\n",
              "  /* Default theme specific background. It is overwritten whether we have a\n",
              "  specific estimator or a Pipeline/ColumnTransformer */\n",
              "  background-color: var(--sklearn-color-background);\n",
              "}\n",
              "\n",
              "/* Toggleable label */\n",
              "#sk-container-id-2 label.sk-toggleable__label {\n",
              "  cursor: pointer;\n",
              "  display: block;\n",
              "  width: 100%;\n",
              "  margin-bottom: 0;\n",
              "  padding: 0.5em;\n",
              "  box-sizing: border-box;\n",
              "  text-align: center;\n",
              "}\n",
              "\n",
              "#sk-container-id-2 label.sk-toggleable__label-arrow:before {\n",
              "  /* Arrow on the left of the label */\n",
              "  content: \"▸\";\n",
              "  float: left;\n",
              "  margin-right: 0.25em;\n",
              "  color: var(--sklearn-color-icon);\n",
              "}\n",
              "\n",
              "#sk-container-id-2 label.sk-toggleable__label-arrow:hover:before {\n",
              "  color: var(--sklearn-color-text);\n",
              "}\n",
              "\n",
              "/* Toggleable content - dropdown */\n",
              "\n",
              "#sk-container-id-2 div.sk-toggleable__content {\n",
              "  max-height: 0;\n",
              "  max-width: 0;\n",
              "  overflow: hidden;\n",
              "  text-align: left;\n",
              "  /* unfitted */\n",
              "  background-color: var(--sklearn-color-unfitted-level-0);\n",
              "}\n",
              "\n",
              "#sk-container-id-2 div.sk-toggleable__content.fitted {\n",
              "  /* fitted */\n",
              "  background-color: var(--sklearn-color-fitted-level-0);\n",
              "}\n",
              "\n",
              "#sk-container-id-2 div.sk-toggleable__content pre {\n",
              "  margin: 0.2em;\n",
              "  border-radius: 0.25em;\n",
              "  color: var(--sklearn-color-text);\n",
              "  /* unfitted */\n",
              "  background-color: var(--sklearn-color-unfitted-level-0);\n",
              "}\n",
              "\n",
              "#sk-container-id-2 div.sk-toggleable__content.fitted pre {\n",
              "  /* unfitted */\n",
              "  background-color: var(--sklearn-color-fitted-level-0);\n",
              "}\n",
              "\n",
              "#sk-container-id-2 input.sk-toggleable__control:checked~div.sk-toggleable__content {\n",
              "  /* Expand drop-down */\n",
              "  max-height: 200px;\n",
              "  max-width: 100%;\n",
              "  overflow: auto;\n",
              "}\n",
              "\n",
              "#sk-container-id-2 input.sk-toggleable__control:checked~label.sk-toggleable__label-arrow:before {\n",
              "  content: \"▾\";\n",
              "}\n",
              "\n",
              "/* Pipeline/ColumnTransformer-specific style */\n",
              "\n",
              "#sk-container-id-2 div.sk-label input.sk-toggleable__control:checked~label.sk-toggleable__label {\n",
              "  color: var(--sklearn-color-text);\n",
              "  background-color: var(--sklearn-color-unfitted-level-2);\n",
              "}\n",
              "\n",
              "#sk-container-id-2 div.sk-label.fitted input.sk-toggleable__control:checked~label.sk-toggleable__label {\n",
              "  background-color: var(--sklearn-color-fitted-level-2);\n",
              "}\n",
              "\n",
              "/* Estimator-specific style */\n",
              "\n",
              "/* Colorize estimator box */\n",
              "#sk-container-id-2 div.sk-estimator input.sk-toggleable__control:checked~label.sk-toggleable__label {\n",
              "  /* unfitted */\n",
              "  background-color: var(--sklearn-color-unfitted-level-2);\n",
              "}\n",
              "\n",
              "#sk-container-id-2 div.sk-estimator.fitted input.sk-toggleable__control:checked~label.sk-toggleable__label {\n",
              "  /* fitted */\n",
              "  background-color: var(--sklearn-color-fitted-level-2);\n",
              "}\n",
              "\n",
              "#sk-container-id-2 div.sk-label label.sk-toggleable__label,\n",
              "#sk-container-id-2 div.sk-label label {\n",
              "  /* The background is the default theme color */\n",
              "  color: var(--sklearn-color-text-on-default-background);\n",
              "}\n",
              "\n",
              "/* On hover, darken the color of the background */\n",
              "#sk-container-id-2 div.sk-label:hover label.sk-toggleable__label {\n",
              "  color: var(--sklearn-color-text);\n",
              "  background-color: var(--sklearn-color-unfitted-level-2);\n",
              "}\n",
              "\n",
              "/* Label box, darken color on hover, fitted */\n",
              "#sk-container-id-2 div.sk-label.fitted:hover label.sk-toggleable__label.fitted {\n",
              "  color: var(--sklearn-color-text);\n",
              "  background-color: var(--sklearn-color-fitted-level-2);\n",
              "}\n",
              "\n",
              "/* Estimator label */\n",
              "\n",
              "#sk-container-id-2 div.sk-label label {\n",
              "  font-family: monospace;\n",
              "  font-weight: bold;\n",
              "  display: inline-block;\n",
              "  line-height: 1.2em;\n",
              "}\n",
              "\n",
              "#sk-container-id-2 div.sk-label-container {\n",
              "  text-align: center;\n",
              "}\n",
              "\n",
              "/* Estimator-specific */\n",
              "#sk-container-id-2 div.sk-estimator {\n",
              "  font-family: monospace;\n",
              "  border: 1px dotted var(--sklearn-color-border-box);\n",
              "  border-radius: 0.25em;\n",
              "  box-sizing: border-box;\n",
              "  margin-bottom: 0.5em;\n",
              "  /* unfitted */\n",
              "  background-color: var(--sklearn-color-unfitted-level-0);\n",
              "}\n",
              "\n",
              "#sk-container-id-2 div.sk-estimator.fitted {\n",
              "  /* fitted */\n",
              "  background-color: var(--sklearn-color-fitted-level-0);\n",
              "}\n",
              "\n",
              "/* on hover */\n",
              "#sk-container-id-2 div.sk-estimator:hover {\n",
              "  /* unfitted */\n",
              "  background-color: var(--sklearn-color-unfitted-level-2);\n",
              "}\n",
              "\n",
              "#sk-container-id-2 div.sk-estimator.fitted:hover {\n",
              "  /* fitted */\n",
              "  background-color: var(--sklearn-color-fitted-level-2);\n",
              "}\n",
              "\n",
              "/* Specification for estimator info (e.g. \"i\" and \"?\") */\n",
              "\n",
              "/* Common style for \"i\" and \"?\" */\n",
              "\n",
              ".sk-estimator-doc-link,\n",
              "a:link.sk-estimator-doc-link,\n",
              "a:visited.sk-estimator-doc-link {\n",
              "  float: right;\n",
              "  font-size: smaller;\n",
              "  line-height: 1em;\n",
              "  font-family: monospace;\n",
              "  background-color: var(--sklearn-color-background);\n",
              "  border-radius: 1em;\n",
              "  height: 1em;\n",
              "  width: 1em;\n",
              "  text-decoration: none !important;\n",
              "  margin-left: 1ex;\n",
              "  /* unfitted */\n",
              "  border: var(--sklearn-color-unfitted-level-1) 1pt solid;\n",
              "  color: var(--sklearn-color-unfitted-level-1);\n",
              "}\n",
              "\n",
              ".sk-estimator-doc-link.fitted,\n",
              "a:link.sk-estimator-doc-link.fitted,\n",
              "a:visited.sk-estimator-doc-link.fitted {\n",
              "  /* fitted */\n",
              "  border: var(--sklearn-color-fitted-level-1) 1pt solid;\n",
              "  color: var(--sklearn-color-fitted-level-1);\n",
              "}\n",
              "\n",
              "/* On hover */\n",
              "div.sk-estimator:hover .sk-estimator-doc-link:hover,\n",
              ".sk-estimator-doc-link:hover,\n",
              "div.sk-label-container:hover .sk-estimator-doc-link:hover,\n",
              ".sk-estimator-doc-link:hover {\n",
              "  /* unfitted */\n",
              "  background-color: var(--sklearn-color-unfitted-level-3);\n",
              "  color: var(--sklearn-color-background);\n",
              "  text-decoration: none;\n",
              "}\n",
              "\n",
              "div.sk-estimator.fitted:hover .sk-estimator-doc-link.fitted:hover,\n",
              ".sk-estimator-doc-link.fitted:hover,\n",
              "div.sk-label-container:hover .sk-estimator-doc-link.fitted:hover,\n",
              ".sk-estimator-doc-link.fitted:hover {\n",
              "  /* fitted */\n",
              "  background-color: var(--sklearn-color-fitted-level-3);\n",
              "  color: var(--sklearn-color-background);\n",
              "  text-decoration: none;\n",
              "}\n",
              "\n",
              "/* Span, style for the box shown on hovering the info icon */\n",
              ".sk-estimator-doc-link span {\n",
              "  display: none;\n",
              "  z-index: 9999;\n",
              "  position: relative;\n",
              "  font-weight: normal;\n",
              "  right: .2ex;\n",
              "  padding: .5ex;\n",
              "  margin: .5ex;\n",
              "  width: min-content;\n",
              "  min-width: 20ex;\n",
              "  max-width: 50ex;\n",
              "  color: var(--sklearn-color-text);\n",
              "  box-shadow: 2pt 2pt 4pt #999;\n",
              "  /* unfitted */\n",
              "  background: var(--sklearn-color-unfitted-level-0);\n",
              "  border: .5pt solid var(--sklearn-color-unfitted-level-3);\n",
              "}\n",
              "\n",
              ".sk-estimator-doc-link.fitted span {\n",
              "  /* fitted */\n",
              "  background: var(--sklearn-color-fitted-level-0);\n",
              "  border: var(--sklearn-color-fitted-level-3);\n",
              "}\n",
              "\n",
              ".sk-estimator-doc-link:hover span {\n",
              "  display: block;\n",
              "}\n",
              "\n",
              "/* \"?\"-specific style due to the `<a>` HTML tag */\n",
              "\n",
              "#sk-container-id-2 a.estimator_doc_link {\n",
              "  float: right;\n",
              "  font-size: 1rem;\n",
              "  line-height: 1em;\n",
              "  font-family: monospace;\n",
              "  background-color: var(--sklearn-color-background);\n",
              "  border-radius: 1rem;\n",
              "  height: 1rem;\n",
              "  width: 1rem;\n",
              "  text-decoration: none;\n",
              "  /* unfitted */\n",
              "  color: var(--sklearn-color-unfitted-level-1);\n",
              "  border: var(--sklearn-color-unfitted-level-1) 1pt solid;\n",
              "}\n",
              "\n",
              "#sk-container-id-2 a.estimator_doc_link.fitted {\n",
              "  /* fitted */\n",
              "  border: var(--sklearn-color-fitted-level-1) 1pt solid;\n",
              "  color: var(--sklearn-color-fitted-level-1);\n",
              "}\n",
              "\n",
              "/* On hover */\n",
              "#sk-container-id-2 a.estimator_doc_link:hover {\n",
              "  /* unfitted */\n",
              "  background-color: var(--sklearn-color-unfitted-level-3);\n",
              "  color: var(--sklearn-color-background);\n",
              "  text-decoration: none;\n",
              "}\n",
              "\n",
              "#sk-container-id-2 a.estimator_doc_link.fitted:hover {\n",
              "  /* fitted */\n",
              "  background-color: var(--sklearn-color-fitted-level-3);\n",
              "}\n",
              "</style><div id=\"sk-container-id-2\" class=\"sk-top-container\"><div class=\"sk-text-repr-fallback\"><pre>EllipticEnvelope(contamination=0.01)</pre><b>In a Jupyter environment, please rerun this cell to show the HTML representation or trust the notebook. <br />On GitHub, the HTML representation is unable to render, please try loading this page with nbviewer.org.</b></div><div class=\"sk-container\" hidden><div class=\"sk-item\"><div class=\"sk-estimator fitted sk-toggleable\"><input class=\"sk-toggleable__control sk-hidden--visually\" id=\"sk-estimator-id-2\" type=\"checkbox\" checked><label for=\"sk-estimator-id-2\" class=\"sk-toggleable__label fitted sk-toggleable__label-arrow fitted\">&nbsp;&nbsp;EllipticEnvelope<a class=\"sk-estimator-doc-link fitted\" rel=\"noreferrer\" target=\"_blank\" href=\"https://scikit-learn.org/1.5/modules/generated/sklearn.covariance.EllipticEnvelope.html\">?<span>Documentation for EllipticEnvelope</span></a><span class=\"sk-estimator-doc-link fitted\">i<span>Fitted</span></span></label><div class=\"sk-toggleable__content fitted\"><pre>EllipticEnvelope(contamination=0.01)</pre></div> </div></div></div></div>"
            ],
            "text/plain": [
              "EllipticEnvelope(contamination=0.01)"
            ]
          },
          "execution_count": 158,
          "metadata": {},
          "output_type": "execute_result"
        }
      ],
      "source": [
        "detector = EllipticEnvelope(contamination=0.01)\n",
        "detector.fit(df_1)"
      ]
    },
    {
      "cell_type": "code",
      "execution_count": null,
      "id": "ablU5dy7dkoy",
      "metadata": {
        "colab": {
          "base_uri": "https://localhost:8080/",
          "height": 302
        },
        "collapsed": true,
        "id": "ablU5dy7dkoy",
        "outputId": "4f72eaa9-75a0-43b3-9af1-4dc18f4f02e9"
      },
      "outputs": [
        {
          "name": "stderr",
          "output_type": "stream",
          "text": [
            "C:\\Users\\davim\\AppData\\Local\\Temp\\ipykernel_16020\\1587711812.py:1: SettingWithCopyWarning: \n",
            "A value is trying to be set on a copy of a slice from a DataFrame.\n",
            "Try using .loc[row_indexer,col_indexer] = value instead\n",
            "\n",
            "See the caveats in the documentation: https://pandas.pydata.org/pandas-docs/stable/user_guide/indexing.html#returning-a-view-versus-a-copy\n",
            "  df_1['outlier'] = detector.predict(df_1)\n"
          ]
        },
        {
          "data": {
            "text/html": [
              "<div>\n",
              "<style scoped>\n",
              "    .dataframe tbody tr th:only-of-type {\n",
              "        vertical-align: middle;\n",
              "    }\n",
              "\n",
              "    .dataframe tbody tr th {\n",
              "        vertical-align: top;\n",
              "    }\n",
              "\n",
              "    .dataframe thead th {\n",
              "        text-align: right;\n",
              "    }\n",
              "</style>\n",
              "<table border=\"1\" class=\"dataframe\">\n",
              "  <thead>\n",
              "    <tr style=\"text-align: right;\">\n",
              "      <th></th>\n",
              "      <th>find_condominio</th>\n",
              "      <th>find_endereco</th>\n",
              "      <th>find_iptu</th>\n",
              "      <th>find_loc</th>\n",
              "      <th>find_m_quadrado</th>\n",
              "      <th>find_price</th>\n",
              "      <th>find_vendedor</th>\n",
              "      <th>is_academia</th>\n",
              "      <th>is_apertamento</th>\n",
              "      <th>is_ar_condicionado</th>\n",
              "      <th>is_churrasqueira</th>\n",
              "      <th>is_elevador</th>\n",
              "      <th>is_mobiliado</th>\n",
              "      <th>is_piscina</th>\n",
              "      <th>is_portaria</th>\n",
              "      <th>is_profissional</th>\n",
              "      <th>is_salao_festa</th>\n",
              "      <th>is_varanda</th>\n",
              "      <th>n_banheiros</th>\n",
              "      <th>n_fotos</th>\n",
              "      <th>n_garagens</th>\n",
              "      <th>n_quartos</th>\n",
              "      <th>log_find_price</th>\n",
              "      <th>price_qtdbanheiros</th>\n",
              "      <th>outlier</th>\n",
              "    </tr>\n",
              "  </thead>\n",
              "  <tbody>\n",
              "    <tr>\n",
              "      <th>0</th>\n",
              "      <td>1100.0</td>\n",
              "      <td>6.0</td>\n",
              "      <td>180.0</td>\n",
              "      <td>797.0</td>\n",
              "      <td>105.0</td>\n",
              "      <td>380000.0</td>\n",
              "      <td>59.0</td>\n",
              "      <td>0.0</td>\n",
              "      <td>1.0</td>\n",
              "      <td>0.0</td>\n",
              "      <td>0.0</td>\n",
              "      <td>0.0</td>\n",
              "      <td>0.0</td>\n",
              "      <td>0.0</td>\n",
              "      <td>0.0</td>\n",
              "      <td>1.0</td>\n",
              "      <td>0.0</td>\n",
              "      <td>0.0</td>\n",
              "      <td>3.0</td>\n",
              "      <td>20.0</td>\n",
              "      <td>0.0</td>\n",
              "      <td>3.0</td>\n",
              "      <td>5.579784</td>\n",
              "      <td>126666.666667</td>\n",
              "      <td>1</td>\n",
              "    </tr>\n",
              "    <tr>\n",
              "      <th>1</th>\n",
              "      <td>0.0</td>\n",
              "      <td>96.0</td>\n",
              "      <td>0.0</td>\n",
              "      <td>317.0</td>\n",
              "      <td>51.0</td>\n",
              "      <td>525000.0</td>\n",
              "      <td>147.0</td>\n",
              "      <td>0.0</td>\n",
              "      <td>1.0</td>\n",
              "      <td>0.0</td>\n",
              "      <td>0.0</td>\n",
              "      <td>0.0</td>\n",
              "      <td>0.0</td>\n",
              "      <td>1.0</td>\n",
              "      <td>0.0</td>\n",
              "      <td>1.0</td>\n",
              "      <td>1.0</td>\n",
              "      <td>0.0</td>\n",
              "      <td>2.0</td>\n",
              "      <td>15.0</td>\n",
              "      <td>1.0</td>\n",
              "      <td>3.0</td>\n",
              "      <td>5.720159</td>\n",
              "      <td>262500.000000</td>\n",
              "      <td>1</td>\n",
              "    </tr>\n",
              "    <tr>\n",
              "      <th>2</th>\n",
              "      <td>822.0</td>\n",
              "      <td>180.0</td>\n",
              "      <td>291.0</td>\n",
              "      <td>25.0</td>\n",
              "      <td>124.0</td>\n",
              "      <td>620000.0</td>\n",
              "      <td>489.0</td>\n",
              "      <td>0.0</td>\n",
              "      <td>1.0</td>\n",
              "      <td>0.0</td>\n",
              "      <td>0.0</td>\n",
              "      <td>0.0</td>\n",
              "      <td>0.0</td>\n",
              "      <td>0.0</td>\n",
              "      <td>0.0</td>\n",
              "      <td>1.0</td>\n",
              "      <td>0.0</td>\n",
              "      <td>0.0</td>\n",
              "      <td>2.0</td>\n",
              "      <td>14.0</td>\n",
              "      <td>1.0</td>\n",
              "      <td>3.0</td>\n",
              "      <td>5.792392</td>\n",
              "      <td>310000.000000</td>\n",
              "      <td>1</td>\n",
              "    </tr>\n",
              "  </tbody>\n",
              "</table>\n",
              "</div>"
            ],
            "text/plain": [
              "   find_condominio  find_endereco  find_iptu  find_loc  find_m_quadrado  \\\n",
              "0           1100.0            6.0      180.0     797.0            105.0   \n",
              "1              0.0           96.0        0.0     317.0             51.0   \n",
              "2            822.0          180.0      291.0      25.0            124.0   \n",
              "\n",
              "   find_price  find_vendedor  is_academia  is_apertamento  is_ar_condicionado  \\\n",
              "0    380000.0           59.0          0.0             1.0                 0.0   \n",
              "1    525000.0          147.0          0.0             1.0                 0.0   \n",
              "2    620000.0          489.0          0.0             1.0                 0.0   \n",
              "\n",
              "   is_churrasqueira  is_elevador  is_mobiliado  is_piscina  is_portaria  \\\n",
              "0               0.0          0.0           0.0         0.0          0.0   \n",
              "1               0.0          0.0           0.0         1.0          0.0   \n",
              "2               0.0          0.0           0.0         0.0          0.0   \n",
              "\n",
              "   is_profissional  is_salao_festa  is_varanda  n_banheiros  n_fotos  \\\n",
              "0              1.0             0.0         0.0          3.0     20.0   \n",
              "1              1.0             1.0         0.0          2.0     15.0   \n",
              "2              1.0             0.0         0.0          2.0     14.0   \n",
              "\n",
              "   n_garagens  n_quartos  log_find_price  price_qtdbanheiros  outlier  \n",
              "0         0.0        3.0        5.579784       126666.666667        1  \n",
              "1         1.0        3.0        5.720159       262500.000000        1  \n",
              "2         1.0        3.0        5.792392       310000.000000        1  "
            ]
          },
          "execution_count": 159,
          "metadata": {},
          "output_type": "execute_result"
        }
      ],
      "source": [
        "df_1['outlier'] = detector.predict(df_1)\n",
        "df_1.head(3)"
      ]
    },
    {
      "cell_type": "code",
      "execution_count": null,
      "id": "woCu8PateDGe",
      "metadata": {
        "colab": {
          "base_uri": "https://localhost:8080/"
        },
        "id": "woCu8PateDGe",
        "outputId": "42c35d2c-38a0-497b-b931-24978a97f2dd"
      },
      "outputs": [
        {
          "name": "stdout",
          "output_type": "stream",
          "text": [
            "volumetria antes: 4047\n",
            "volumetria depois: 4006\n"
          ]
        }
      ],
      "source": [
        "print(f'volumetria antes: {len(df_1)}')\n",
        "df_1 = df_1[df_1['outlier'] != -1]\n",
        "print(f'volumetria depois: {len(df_1)}')"
      ]
    },
    {
      "cell_type": "markdown",
      "id": "7256dbb6-b7f7-4109-8696-46b41705e2fa",
      "metadata": {
        "id": "7256dbb6-b7f7-4109-8696-46b41705e2fa",
        "jp-MarkdownHeadingCollapsed": true,
        "tags": []
      },
      "source": [
        "# 3. Apresentar estatísticas descritivas dos dados com visualizações"
      ]
    },
    {
      "cell_type": "code",
      "execution_count": null,
      "id": "mshvyId_e9OS",
      "metadata": {
        "colab": {
          "base_uri": "https://localhost:8080/"
        },
        "id": "mshvyId_e9OS",
        "outputId": "aa7846ff-05d5-4b0d-c75a-a522dae86353"
      },
      "outputs": [],
      "source": [
        "df_2 = df_1.copy()\n",
        "df_2_norm = df_1_norm.copy()"
      ]
    },
    {
      "cell_type": "code",
      "execution_count": null,
      "id": "sn0t1fmie8z4",
      "metadata": {
        "colab": {
          "base_uri": "https://localhost:8080/",
          "height": 1000
        },
        "id": "sn0t1fmie8z4",
        "outputId": "760a095c-7bdd-4d48-849b-20dcd641fbfd"
      },
      "outputs": [
        {
          "data": {
            "image/png": "[encoded data removed]",
            "text/plain": [
              "<Figure size 3000x2000 with 25 Axes>"
            ]
          },
          "metadata": {},
          "output_type": "display_data"
        }
      ],
      "source": [
        "# TODO: escrever possíveis insights\n",
        "\n",
        "df_2.hist(figsize=(30, 20), bins=30)\n",
        "\n",
        "plt.tight_layout(pad=3.0)"
      ]
    },
    {
      "cell_type": "code",
      "execution_count": null,
      "id": "86137a49-e179-4efa-9b95-be892ca183ae",
      "metadata": {
        "colab": {
          "base_uri": "https://localhost:8080/",
          "height": 355
        },
        "id": "86137a49-e179-4efa-9b95-be892ca183ae",
        "outputId": "ea195aec-5930-45a1-aad3-b0d65d589db8"
      },
      "outputs": [
        {
          "data": {
            "text/html": [
              "<div>\n",
              "<style scoped>\n",
              "    .dataframe tbody tr th:only-of-type {\n",
              "        vertical-align: middle;\n",
              "    }\n",
              "\n",
              "    .dataframe tbody tr th {\n",
              "        vertical-align: top;\n",
              "    }\n",
              "\n",
              "    .dataframe thead th {\n",
              "        text-align: right;\n",
              "    }\n",
              "</style>\n",
              "<table border=\"1\" class=\"dataframe\">\n",
              "  <thead>\n",
              "    <tr style=\"text-align: right;\">\n",
              "      <th></th>\n",
              "      <th>find_condominio</th>\n",
              "      <th>find_endereco</th>\n",
              "      <th>find_iptu</th>\n",
              "      <th>find_loc</th>\n",
              "      <th>find_m_quadrado</th>\n",
              "      <th>find_price</th>\n",
              "      <th>find_vendedor</th>\n",
              "      <th>is_academia</th>\n",
              "      <th>is_apertamento</th>\n",
              "      <th>is_ar_condicionado</th>\n",
              "      <th>is_churrasqueira</th>\n",
              "      <th>is_elevador</th>\n",
              "      <th>is_mobiliado</th>\n",
              "      <th>is_piscina</th>\n",
              "      <th>is_portaria</th>\n",
              "      <th>is_profissional</th>\n",
              "      <th>is_salao_festa</th>\n",
              "      <th>is_varanda</th>\n",
              "      <th>n_banheiros</th>\n",
              "      <th>n_fotos</th>\n",
              "      <th>n_garagens</th>\n",
              "      <th>n_quartos</th>\n",
              "      <th>log_find_price</th>\n",
              "      <th>price_qtdbanheiros</th>\n",
              "      <th>outlier</th>\n",
              "    </tr>\n",
              "  </thead>\n",
              "  <tbody>\n",
              "    <tr>\n",
              "      <th>count</th>\n",
              "      <td>4006.000000</td>\n",
              "      <td>4006.000000</td>\n",
              "      <td>4006.000000</td>\n",
              "      <td>4006.000000</td>\n",
              "      <td>4006.000000</td>\n",
              "      <td>4.006000e+03</td>\n",
              "      <td>4006.000000</td>\n",
              "      <td>4006.000000</td>\n",
              "      <td>4006.000000</td>\n",
              "      <td>4006.000000</td>\n",
              "      <td>4006.000000</td>\n",
              "      <td>4006.000000</td>\n",
              "      <td>4006.000000</td>\n",
              "      <td>4006.000000</td>\n",
              "      <td>4006.000000</td>\n",
              "      <td>4006.000000</td>\n",
              "      <td>4006.000000</td>\n",
              "      <td>4006.000000</td>\n",
              "      <td>4006.000000</td>\n",
              "      <td>4006.000000</td>\n",
              "      <td>4006.000000</td>\n",
              "      <td>4006.000000</td>\n",
              "      <td>4006.000000</td>\n",
              "      <td>4006.000000</td>\n",
              "      <td>4006.0</td>\n",
              "    </tr>\n",
              "    <tr>\n",
              "      <th>mean</th>\n",
              "      <td>416.275337</td>\n",
              "      <td>356.885671</td>\n",
              "      <td>408.331503</td>\n",
              "      <td>418.119071</td>\n",
              "      <td>81.507214</td>\n",
              "      <td>5.621803e+05</td>\n",
              "      <td>296.745132</td>\n",
              "      <td>0.460060</td>\n",
              "      <td>0.967049</td>\n",
              "      <td>0.216925</td>\n",
              "      <td>0.428607</td>\n",
              "      <td>0.675986</td>\n",
              "      <td>0.064154</td>\n",
              "      <td>0.623814</td>\n",
              "      <td>0.611832</td>\n",
              "      <td>0.978283</td>\n",
              "      <td>0.635297</td>\n",
              "      <td>0.331752</td>\n",
              "      <td>1.828679</td>\n",
              "      <td>16.439341</td>\n",
              "      <td>1.343248</td>\n",
              "      <td>2.554169</td>\n",
              "      <td>5.693209</td>\n",
              "      <td>344111.883440</td>\n",
              "      <td>1.0</td>\n",
              "    </tr>\n",
              "    <tr>\n",
              "      <th>std</th>\n",
              "      <td>503.044059</td>\n",
              "      <td>268.659822</td>\n",
              "      <td>946.569358</td>\n",
              "      <td>234.627275</td>\n",
              "      <td>44.118417</td>\n",
              "      <td>2.993369e+05</td>\n",
              "      <td>165.721047</td>\n",
              "      <td>0.498464</td>\n",
              "      <td>0.178530</td>\n",
              "      <td>0.412202</td>\n",
              "      <td>0.494939</td>\n",
              "      <td>0.468064</td>\n",
              "      <td>0.245057</td>\n",
              "      <td>0.484488</td>\n",
              "      <td>0.487394</td>\n",
              "      <td>0.145778</td>\n",
              "      <td>0.481407</td>\n",
              "      <td>0.470901</td>\n",
              "      <td>0.915192</td>\n",
              "      <td>5.080789</td>\n",
              "      <td>0.573665</td>\n",
              "      <td>0.834007</td>\n",
              "      <td>0.224394</td>\n",
              "      <td>171166.644330</td>\n",
              "      <td>0.0</td>\n",
              "    </tr>\n",
              "    <tr>\n",
              "      <th>min</th>\n",
              "      <td>-1.000000</td>\n",
              "      <td>0.000000</td>\n",
              "      <td>-1.000000</td>\n",
              "      <td>0.000000</td>\n",
              "      <td>0.000000</td>\n",
              "      <td>4.000000e+04</td>\n",
              "      <td>0.000000</td>\n",
              "      <td>0.000000</td>\n",
              "      <td>0.000000</td>\n",
              "      <td>0.000000</td>\n",
              "      <td>0.000000</td>\n",
              "      <td>0.000000</td>\n",
              "      <td>0.000000</td>\n",
              "      <td>0.000000</td>\n",
              "      <td>0.000000</td>\n",
              "      <td>0.000000</td>\n",
              "      <td>0.000000</td>\n",
              "      <td>0.000000</td>\n",
              "      <td>1.000000</td>\n",
              "      <td>1.000000</td>\n",
              "      <td>0.000000</td>\n",
              "      <td>0.000000</td>\n",
              "      <td>4.602060</td>\n",
              "      <td>21000.000000</td>\n",
              "      <td>1.0</td>\n",
              "    </tr>\n",
              "    <tr>\n",
              "      <th>25%</th>\n",
              "      <td>1.000000</td>\n",
              "      <td>108.000000</td>\n",
              "      <td>0.000000</td>\n",
              "      <td>223.000000</td>\n",
              "      <td>51.250000</td>\n",
              "      <td>3.600000e+05</td>\n",
              "      <td>147.000000</td>\n",
              "      <td>0.000000</td>\n",
              "      <td>1.000000</td>\n",
              "      <td>0.000000</td>\n",
              "      <td>0.000000</td>\n",
              "      <td>0.000000</td>\n",
              "      <td>0.000000</td>\n",
              "      <td>0.000000</td>\n",
              "      <td>0.000000</td>\n",
              "      <td>1.000000</td>\n",
              "      <td>0.000000</td>\n",
              "      <td>0.000000</td>\n",
              "      <td>1.000000</td>\n",
              "      <td>14.000000</td>\n",
              "      <td>1.000000</td>\n",
              "      <td>2.000000</td>\n",
              "      <td>5.556303</td>\n",
              "      <td>216666.666667</td>\n",
              "      <td>1.0</td>\n",
              "    </tr>\n",
              "    <tr>\n",
              "      <th>50%</th>\n",
              "      <td>155.000000</td>\n",
              "      <td>294.000000</td>\n",
              "      <td>1.000000</td>\n",
              "      <td>415.500000</td>\n",
              "      <td>69.000000</td>\n",
              "      <td>4.750000e+05</td>\n",
              "      <td>323.000000</td>\n",
              "      <td>0.000000</td>\n",
              "      <td>1.000000</td>\n",
              "      <td>0.000000</td>\n",
              "      <td>0.000000</td>\n",
              "      <td>1.000000</td>\n",
              "      <td>0.000000</td>\n",
              "      <td>1.000000</td>\n",
              "      <td>1.000000</td>\n",
              "      <td>1.000000</td>\n",
              "      <td>1.000000</td>\n",
              "      <td>0.000000</td>\n",
              "      <td>2.000000</td>\n",
              "      <td>19.000000</td>\n",
              "      <td>1.000000</td>\n",
              "      <td>3.000000</td>\n",
              "      <td>5.676694</td>\n",
              "      <td>309700.000000</td>\n",
              "      <td>1.0</td>\n",
              "    </tr>\n",
              "    <tr>\n",
              "      <th>75%</th>\n",
              "      <td>759.000000</td>\n",
              "      <td>572.000000</td>\n",
              "      <td>230.000000</td>\n",
              "      <td>613.000000</td>\n",
              "      <td>101.000000</td>\n",
              "      <td>6.948355e+05</td>\n",
              "      <td>431.000000</td>\n",
              "      <td>1.000000</td>\n",
              "      <td>1.000000</td>\n",
              "      <td>0.000000</td>\n",
              "      <td>1.000000</td>\n",
              "      <td>1.000000</td>\n",
              "      <td>0.000000</td>\n",
              "      <td>1.000000</td>\n",
              "      <td>1.000000</td>\n",
              "      <td>1.000000</td>\n",
              "      <td>1.000000</td>\n",
              "      <td>1.000000</td>\n",
              "      <td>2.000000</td>\n",
              "      <td>20.000000</td>\n",
              "      <td>2.000000</td>\n",
              "      <td>3.000000</td>\n",
              "      <td>5.841882</td>\n",
              "      <td>430000.000000</td>\n",
              "      <td>1.0</td>\n",
              "    </tr>\n",
              "    <tr>\n",
              "      <th>max</th>\n",
              "      <td>4500.000000</td>\n",
              "      <td>875.000000</td>\n",
              "      <td>7900.000000</td>\n",
              "      <td>842.000000</td>\n",
              "      <td>334.000000</td>\n",
              "      <td>1.550000e+06</td>\n",
              "      <td>599.000000</td>\n",
              "      <td>1.000000</td>\n",
              "      <td>1.000000</td>\n",
              "      <td>1.000000</td>\n",
              "      <td>1.000000</td>\n",
              "      <td>1.000000</td>\n",
              "      <td>1.000000</td>\n",
              "      <td>1.000000</td>\n",
              "      <td>1.000000</td>\n",
              "      <td>1.000000</td>\n",
              "      <td>1.000000</td>\n",
              "      <td>1.000000</td>\n",
              "      <td>4.000000</td>\n",
              "      <td>21.000000</td>\n",
              "      <td>4.000000</td>\n",
              "      <td>4.000000</td>\n",
              "      <td>6.190332</td>\n",
              "      <td>900001.000000</td>\n",
              "      <td>1.0</td>\n",
              "    </tr>\n",
              "  </tbody>\n",
              "</table>\n",
              "</div>"
            ],
            "text/plain": [
              "       find_condominio  find_endereco    find_iptu     find_loc  \\\n",
              "count      4006.000000    4006.000000  4006.000000  4006.000000   \n",
              "mean        416.275337     356.885671   408.331503   418.119071   \n",
              "std         503.044059     268.659822   946.569358   234.627275   \n",
              "min          -1.000000       0.000000    -1.000000     0.000000   \n",
              "25%           1.000000     108.000000     0.000000   223.000000   \n",
              "50%         155.000000     294.000000     1.000000   415.500000   \n",
              "75%         759.000000     572.000000   230.000000   613.000000   \n",
              "max        4500.000000     875.000000  7900.000000   842.000000   \n",
              "\n",
              "       find_m_quadrado    find_price  find_vendedor  is_academia  \\\n",
              "count      4006.000000  4.006000e+03    4006.000000  4006.000000   \n",
              "mean         81.507214  5.621803e+05     296.745132     0.460060   \n",
              "std          44.118417  2.993369e+05     165.721047     0.498464   \n",
              "min           0.000000  4.000000e+04       0.000000     0.000000   \n",
              "25%          51.250000  3.600000e+05     147.000000     0.000000   \n",
              "50%          69.000000  4.750000e+05     323.000000     0.000000   \n",
              "75%         101.000000  6.948355e+05     431.000000     1.000000   \n",
              "max         334.000000  1.550000e+06     599.000000     1.000000   \n",
              "\n",
              "       is_apertamento  is_ar_condicionado  is_churrasqueira  is_elevador  \\\n",
              "count     4006.000000         4006.000000       4006.000000  4006.000000   \n",
              "mean         0.967049            0.216925          0.428607     0.675986   \n",
              "std          0.178530            0.412202          0.494939     0.468064   \n",
              "min          0.000000            0.000000          0.000000     0.000000   \n",
              "25%          1.000000            0.000000          0.000000     0.000000   \n",
              "50%          1.000000            0.000000          0.000000     1.000000   \n",
              "75%          1.000000            0.000000          1.000000     1.000000   \n",
              "max          1.000000            1.000000          1.000000     1.000000   \n",
              "\n",
              "       is_mobiliado   is_piscina  is_portaria  is_profissional  \\\n",
              "count   4006.000000  4006.000000  4006.000000      4006.000000   \n",
              "mean       0.064154     0.623814     0.611832         0.978283   \n",
              "std        0.245057     0.484488     0.487394         0.145778   \n",
              "min        0.000000     0.000000     0.000000         0.000000   \n",
              "25%        0.000000     0.000000     0.000000         1.000000   \n",
              "50%        0.000000     1.000000     1.000000         1.000000   \n",
              "75%        0.000000     1.000000     1.000000         1.000000   \n",
              "max        1.000000     1.000000     1.000000         1.000000   \n",
              "\n",
              "       is_salao_festa   is_varanda  n_banheiros      n_fotos   n_garagens  \\\n",
              "count     4006.000000  4006.000000  4006.000000  4006.000000  4006.000000   \n",
              "mean         0.635297     0.331752     1.828679    16.439341     1.343248   \n",
              "std          0.481407     0.470901     0.915192     5.080789     0.573665   \n",
              "min          0.000000     0.000000     1.000000     1.000000     0.000000   \n",
              "25%          0.000000     0.000000     1.000000    14.000000     1.000000   \n",
              "50%          1.000000     0.000000     2.000000    19.000000     1.000000   \n",
              "75%          1.000000     1.000000     2.000000    20.000000     2.000000   \n",
              "max          1.000000     1.000000     4.000000    21.000000     4.000000   \n",
              "\n",
              "         n_quartos  log_find_price  price_qtdbanheiros  outlier  \n",
              "count  4006.000000     4006.000000         4006.000000   4006.0  \n",
              "mean      2.554169        5.693209       344111.883440      1.0  \n",
              "std       0.834007        0.224394       171166.644330      0.0  \n",
              "min       0.000000        4.602060        21000.000000      1.0  \n",
              "25%       2.000000        5.556303       216666.666667      1.0  \n",
              "50%       3.000000        5.676694       309700.000000      1.0  \n",
              "75%       3.000000        5.841882       430000.000000      1.0  \n",
              "max       4.000000        6.190332       900001.000000      1.0  "
            ]
          },
          "execution_count": 163,
          "metadata": {},
          "output_type": "execute_result"
        }
      ],
      "source": [
        "df_2.describe()"
      ]
    },
    {
      "cell_type": "markdown",
      "id": "1d19f506-f5d3-4acd-a74d-aa7b7a30f7aa",
      "metadata": {
        "id": "1d19f506-f5d3-4acd-a74d-aa7b7a30f7aa",
        "jp-MarkdownHeadingCollapsed": true,
        "tags": []
      },
      "source": [
        "# 4. Realizar teste de hipóteses para comparação de valores de categorias e visualizar diferenças"
      ]
    },
    {
      "cell_type": "code",
      "execution_count": null,
      "id": "Tyl7g4nilG1x",
      "metadata": {
        "colab": {
          "base_uri": "https://localhost:8080/"
        },
        "id": "Tyl7g4nilG1x",
        "outputId": "2fa393ac-aa76-4a6c-99af-8446c32d10a6"
      },
      "outputs": [],
      "source": [
        "df_3 = df_2.copy()\n",
        "df_3_norm = df_2_norm.copy()"
      ]
    },
    {
      "cell_type": "markdown",
      "id": "nk6g2uw6itIN",
      "metadata": {
        "id": "nk6g2uw6itIN"
      },
      "source": [
        "## 4.1 Existe diferença significativa no preço médio entre imóveis com piscina e imóveis sem piscina?\n",
        "  - Mann Whitney u-test\n",
        "    - Grupos não pariados\n",
        "    - Teste não paramétrico\n",
        "  - (H₀): Não há diferença significativa no preço médio entre imóveis com piscina e imóveis sem piscina."
      ]
    },
    {
      "cell_type": "code",
      "execution_count": null,
      "id": "fca5eca0-1ffd-42a7-931c-ca4fe3162af5",
      "metadata": {
        "colab": {
          "base_uri": "https://localhost:8080/"
        },
        "id": "fca5eca0-1ffd-42a7-931c-ca4fe3162af5",
        "outputId": "0b7d50a1-2f1f-40be-b757-87b2044ebcac"
      },
      "outputs": [],
      "source": [
        "precos_com_piscina = df_3[df_3['is_piscina'] == 1]['find_price']\n",
        "precos_sem_piscina = df_3[df_3['is_piscina'] == 0]['find_price']"
      ]
    },
    {
      "cell_type": "code",
      "execution_count": null,
      "id": "US1g1q5umMNP",
      "metadata": {
        "colab": {
          "base_uri": "https://localhost:8080/"
        },
        "id": "US1g1q5umMNP",
        "outputId": "61d7c4ae-44c1-4e26-c07e-5d0bfb18796b"
      },
      "outputs": [
        {
          "data": {
            "text/plain": [
              "ShapiroResult(statistic=0.8627527700327289, pvalue=2.7552836919290056e-42)"
            ]
          },
          "execution_count": 166,
          "metadata": {},
          "output_type": "execute_result"
        }
      ],
      "source": [
        "stats.shapiro(precos_com_piscina) # rejeita hip nula -> não apresenta dist normal"
      ]
    },
    {
      "cell_type": "code",
      "execution_count": null,
      "id": "-cAJSsuomVbL",
      "metadata": {
        "colab": {
          "base_uri": "https://localhost:8080/"
        },
        "id": "-cAJSsuomVbL",
        "outputId": "1c9b4a4b-aa0f-4783-ce7c-15b60de50c95"
      },
      "outputs": [
        {
          "data": {
            "text/plain": [
              "ShapiroResult(statistic=0.9162749955116766, pvalue=4.402087533483759e-28)"
            ]
          },
          "execution_count": 167,
          "metadata": {},
          "output_type": "execute_result"
        }
      ],
      "source": [
        "stats.shapiro(precos_sem_piscina) # rejeita hip nula -> não apresenta dist normal"
      ]
    },
    {
      "cell_type": "code",
      "execution_count": null,
      "id": "tCgeFcOqmaMo",
      "metadata": {
        "colab": {
          "base_uri": "https://localhost:8080/",
          "height": 520
        },
        "id": "tCgeFcOqmaMo",
        "outputId": "3324c9fd-336d-43f8-9dab-68e60c39ddb7"
      },
      "outputs": [
        {
          "data": {
            "text/plain": [
              "<Axes: >"
            ]
          },
          "execution_count": 168,
          "metadata": {},
          "output_type": "execute_result"
        },
        {
          "data": {
            "image/png": "[encoded data removed]",
            "text/plain": [
              "<Figure size 640x480 with 1 Axes>"
            ]
          },
          "metadata": {},
          "output_type": "display_data"
        }
      ],
      "source": [
        "precos_com_piscina.hist()"
      ]
    },
    {
      "cell_type": "code",
      "execution_count": null,
      "id": "qVTaUxMlmaYe",
      "metadata": {
        "colab": {
          "base_uri": "https://localhost:8080/",
          "height": 520
        },
        "id": "qVTaUxMlmaYe",
        "outputId": "d049ad18-44fe-4205-e0d4-7b092e833f08"
      },
      "outputs": [
        {
          "data": {
            "text/plain": [
              "<Axes: >"
            ]
          },
          "execution_count": 169,
          "metadata": {},
          "output_type": "execute_result"
        },
        {
          "data": {
            "image/png": "[encoded data removed]",
            "text/plain": [
              "<Figure size 640x480 with 1 Axes>"
            ]
          },
          "metadata": {},
          "output_type": "display_data"
        }
      ],
      "source": [
        "precos_sem_piscina.hist()"
      ]
    },
    {
      "cell_type": "code",
      "execution_count": null,
      "id": "9NYhJAJ6lOBN",
      "metadata": {
        "colab": {
          "base_uri": "https://localhost:8080/"
        },
        "id": "9NYhJAJ6lOBN",
        "outputId": "39900a60-7265-4de9-d4eb-2fee6e729e9b"
      },
      "outputs": [
        {
          "name": "stdout",
          "output_type": "stream",
          "text": [
            "Statistic: 2066325.0, P-value: 2.341799788535256e-07\n"
          ]
        }
      ],
      "source": [
        "stat, p_value = stats.mannwhitneyu(precos_com_piscina, precos_sem_piscina, alternative='two-sided')\n",
        "print(f\"Statistic: {stat}, P-value: {p_value}\") # Rejeitamos a hipótese nula, ou seja, há uma diferença significativa no preço médio entre imóveis com e sem piscina."
      ]
    }
  ],
  "metadata": {
    "colab": {
      "provenance": []
    },
    "kernelspec": {
      "display_name": "Python 3 (ipykernel)",
      "language": "python",
      "name": "python3"
    },
    "language_info": {
      "codemirror_mode": {
        "name": "ipython",
        "version": 3
      },
      "file_extension": ".py",
      "mimetype": "text/x-python",
      "name": "python",
      "nbconvert_exporter": "python",
      "pygments_lexer": "ipython3",
      "version": "3.12.2"
    }
  },
  "nbformat": 4,
  "nbformat_minor": 5
}
