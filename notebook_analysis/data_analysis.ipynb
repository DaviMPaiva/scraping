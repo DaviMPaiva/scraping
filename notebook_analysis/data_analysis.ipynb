{
  "cells": [
    {
      "cell_type": "markdown",
      "id": "3779c030-7ed3-42a9-b945-e4527fa68691",
      "metadata": {
        "id": "3779c030-7ed3-42a9-b945-e4527fa68691",
        "tags": []
      },
      "source": [
        "# 0. Imports"
      ]
    },
    {
      "cell_type": "code",
      "execution_count": 9,
      "id": "dedaa86b-ea6e-4d5d-bdfc-f57fd169fa3f",
      "metadata": {
        "id": "dedaa86b-ea6e-4d5d-bdfc-f57fd169fa3f"
      },
      "outputs": [],
      "source": [
        "# # ideias adicionais:\n",
        "#     - criar coluna gênero de quem anunciou\n",
        "#     - criar coluna CEP\n",
        "#     -"
      ]
    },
    {
      "cell_type": "code",
      "execution_count": 10,
      "id": "c7ea5884-b6e3-4575-a382-fc4a4a6eccd3",
      "metadata": {
        "id": "c7ea5884-b6e3-4575-a382-fc4a4a6eccd3"
      },
      "outputs": [],
      "source": [
        "import pandas as pd\n",
        "pd.set_option('display.max_columns', 1000)"
      ]
    },
    {
      "cell_type": "markdown",
      "id": "2206f321-6b71-4540-bb4e-a9210f0cfcb8",
      "metadata": {
        "id": "2206f321-6b71-4540-bb4e-a9210f0cfcb8"
      },
      "source": [
        "# 1. Coletar dados"
      ]
    },
    {
      "cell_type": "code",
      "execution_count": 11,
      "id": "ff9c1dd4-069c-4c34-805f-5119c979ff3c",
      "metadata": {
        "id": "ff9c1dd4-069c-4c34-805f-5119c979ff3c"
      },
      "outputs": [],
      "source": [
        "# <explicar como foi feita a coleta de dados e onde localizar .py>"
      ]
    },
    {
      "cell_type": "markdown",
      "id": "4ed1279b",
      "metadata": {},
      "source": [
        "| Campop               | Descrição                                      |\n",
        "|----------------------|--------------------------------------------------|\n",
        "| find_anuncio         | o titulo do anuncio                              |\n",
        "| find_condominio      | o preço do condominio                            |\n",
        "| find_descri          | a descrição feita do imovel                      |\n",
        "| find_endereco        | Endereço = bairro, Cidade, estado, cep           |\n",
        "| find_iptu            | IPTU                                             |\n",
        "| find_loc             | geralmente a rua                                 |\n",
        "| find_m_quadrado      | Tamanho do imóvel em metros quadrados            |\n",
        "| find_price           | Preço do imóvel                                  |\n",
        "| find_vendedor        | Informações sobre o vendedor                     |\n",
        "| is_academia          | Indica se há academia/centro de fitness          |\n",
        "| is_apartamento       | Indica se é um apartamento                       |\n",
        "| is_ar_condicionado   | Indica se tem ar condicionado                     |\n",
        "| is_churrasqueira     | Indica se há churrasqueira                       |\n",
        "| is_elevador          | Indica se há elevador                            |\n",
        "| is_mobiliado         | Indica se o imóvel está mobiliado                |\n",
        "| is_piscina           | Indica se há piscina                             |\n",
        "| is_portaria          | Indica se há portaria/serviço de portaria        |\n",
        "| is_profissional      | Indica se o vendedor é um profissional           |\n",
        "| is_salao_festa       | Indica se há salão de festas/área de eventos     |\n",
        "| is_varanda           | Indica se há varanda                             |\n",
        "| n_banheiros          | Número de banheiros                              |\n",
        "| n_fotos              | Número de fotos no anúncio                       |\n",
        "| n_garagens           | Número de vagas/garagens                         |\n",
        "| n_quartos            | Número de quartos                                |"
      ]
    },
    {
      "cell_type": "code",
      "execution_count": 12,
      "id": "2d8c8a8e-e557-4d7e-9209-d908cb8cc663",
      "metadata": {
        "id": "2d8c8a8e-e557-4d7e-9209-d908cb8cc663"
      },
      "outputs": [],
      "source": [
        "path_raw = '../scraped_data.csv'\n",
        "df_raw = pd.read_csv(path_raw, sep=',', on_bad_lines='skip', nrows=100000)"
      ]
    },
    {
      "cell_type": "code",
      "execution_count": 13,
      "id": "8559d4db-a9b1-42df-a1f0-d3223ca9144f",
      "metadata": {
        "colab": {
          "base_uri": "https://localhost:8080/",
          "height": 991
        },
        "id": "8559d4db-a9b1-42df-a1f0-d3223ca9144f",
        "outputId": "129ec25f-7709-4a58-f617-9d5f4ec29e10"
      },
      "outputs": [
        {
          "data": {
            "text/html": [
              "<div>\n",
              "<style scoped>\n",
              "    .dataframe tbody tr th:only-of-type {\n",
              "        vertical-align: middle;\n",
              "    }\n",
              "\n",
              "    .dataframe tbody tr th {\n",
              "        vertical-align: top;\n",
              "    }\n",
              "\n",
              "    .dataframe thead th {\n",
              "        text-align: right;\n",
              "    }\n",
              "</style>\n",
              "<table border=\"1\" class=\"dataframe\">\n",
              "  <thead>\n",
              "    <tr style=\"text-align: right;\">\n",
              "      <th></th>\n",
              "      <th>find_anuncio</th>\n",
              "      <th>find_condominio</th>\n",
              "      <th>find_descri</th>\n",
              "      <th>find_endereco</th>\n",
              "      <th>find_iptu</th>\n",
              "      <th>find_loc</th>\n",
              "      <th>find_m_quadrado</th>\n",
              "      <th>find_price</th>\n",
              "      <th>find_vendedor</th>\n",
              "      <th>is_academia</th>\n",
              "      <th>is_apertamento</th>\n",
              "      <th>is_ar_condicionado</th>\n",
              "      <th>is_churrasqueira</th>\n",
              "      <th>is_elevador</th>\n",
              "      <th>is_mobiliado</th>\n",
              "      <th>is_piscina</th>\n",
              "      <th>is_portaria</th>\n",
              "      <th>is_profissional</th>\n",
              "      <th>is_salao_festa</th>\n",
              "      <th>is_varanda</th>\n",
              "      <th>n_banheiros</th>\n",
              "      <th>n_fotos</th>\n",
              "      <th>n_garagens</th>\n",
              "      <th>n_quartos</th>\n",
              "    </tr>\n",
              "  </thead>\n",
              "  <tbody>\n",
              "    <tr>\n",
              "      <th>0</th>\n",
              "      <td>Apartamento para venda com 105 metros quadrado...</td>\n",
              "      <td>R$ 1.100 / mês</td>\n",
              "      <td>Código do anúncio: C6BAD9\\n\\nO apartamento est...</td>\n",
              "      <td>Aflitos, Recife, PE, 52050340</td>\n",
              "      <td>R$ 180</td>\n",
              "      <td>Rua da Angustura</td>\n",
              "      <td>105m²</td>\n",
              "      <td>380000</td>\n",
              "      <td>Antônio Luciano Santana da Silva</td>\n",
              "      <td>False</td>\n",
              "      <td>True</td>\n",
              "      <td>False</td>\n",
              "      <td>False</td>\n",
              "      <td>False</td>\n",
              "      <td>False</td>\n",
              "      <td>False</td>\n",
              "      <td>False</td>\n",
              "      <td>True</td>\n",
              "      <td>False</td>\n",
              "      <td>False</td>\n",
              "      <td>3</td>\n",
              "      <td>20</td>\n",
              "      <td>0</td>\n",
              "      <td>3</td>\n",
              "    </tr>\n",
              "    <tr>\n",
              "      <th>1</th>\n",
              "      <td>Apartamento para venda possui 51 metros quadra...</td>\n",
              "      <td>R$ 0 / mês</td>\n",
              "      <td>Código do anúncio: S623-1\\n\\nO apartamento no ...</td>\n",
              "      <td>Boa Viagem, Recife, PE, 51021130</td>\n",
              "      <td>R$ 0</td>\n",
              "      <td>Rua Coronel Anízio Rodrigues Coelho</td>\n",
              "      <td>51m²</td>\n",
              "      <td>525000</td>\n",
              "      <td>Dream Residence Imóveis Recife</td>\n",
              "      <td>False</td>\n",
              "      <td>True</td>\n",
              "      <td>False</td>\n",
              "      <td>False</td>\n",
              "      <td>False</td>\n",
              "      <td>False</td>\n",
              "      <td>True</td>\n",
              "      <td>False</td>\n",
              "      <td>True</td>\n",
              "      <td>True</td>\n",
              "      <td>False</td>\n",
              "      <td>2</td>\n",
              "      <td>15</td>\n",
              "      <td>1</td>\n",
              "      <td>3</td>\n",
              "    </tr>\n",
              "    <tr>\n",
              "      <th>2</th>\n",
              "      <td>Apartamento para venda possui 124 metros quadr...</td>\n",
              "      <td>R$ 822 / mês</td>\n",
              "      <td>Código do anúncio: V2009TS-2225\\n\\nApartamento...</td>\n",
              "      <td>Boa Viagem, Recife, PE, 51130000</td>\n",
              "      <td>R$ 291</td>\n",
              "      <td>Avenida Boa Viagem - de 6200/6201 ao fim</td>\n",
              "      <td>124m²</td>\n",
              "      <td>620000</td>\n",
              "      <td>Roberta Gadelha Batista</td>\n",
              "      <td>False</td>\n",
              "      <td>True</td>\n",
              "      <td>False</td>\n",
              "      <td>False</td>\n",
              "      <td>False</td>\n",
              "      <td>False</td>\n",
              "      <td>False</td>\n",
              "      <td>False</td>\n",
              "      <td>True</td>\n",
              "      <td>False</td>\n",
              "      <td>False</td>\n",
              "      <td>2</td>\n",
              "      <td>14</td>\n",
              "      <td>1</td>\n",
              "      <td>3</td>\n",
              "    </tr>\n",
              "  </tbody>\n",
              "</table>\n",
              "</div>"
            ],
            "text/plain": [
              "                                        find_anuncio find_condominio  \\\n",
              "0  Apartamento para venda com 105 metros quadrado...  R$ 1.100 / mês   \n",
              "1  Apartamento para venda possui 51 metros quadra...      R$ 0 / mês   \n",
              "2  Apartamento para venda possui 124 metros quadr...    R$ 822 / mês   \n",
              "\n",
              "                                         find_descri  \\\n",
              "0  Código do anúncio: C6BAD9\\n\\nO apartamento est...   \n",
              "1  Código do anúncio: S623-1\\n\\nO apartamento no ...   \n",
              "2  Código do anúncio: V2009TS-2225\\n\\nApartamento...   \n",
              "\n",
              "                      find_endereco find_iptu  \\\n",
              "0     Aflitos, Recife, PE, 52050340    R$ 180   \n",
              "1  Boa Viagem, Recife, PE, 51021130      R$ 0   \n",
              "2  Boa Viagem, Recife, PE, 51130000    R$ 291   \n",
              "\n",
              "                                   find_loc find_m_quadrado  find_price  \\\n",
              "0                          Rua da Angustura           105m²      380000   \n",
              "1       Rua Coronel Anízio Rodrigues Coelho            51m²      525000   \n",
              "2  Avenida Boa Viagem - de 6200/6201 ao fim           124m²      620000   \n",
              "\n",
              "                      find_vendedor  is_academia  is_apertamento  \\\n",
              "0  Antônio Luciano Santana da Silva        False            True   \n",
              "1    Dream Residence Imóveis Recife        False            True   \n",
              "2           Roberta Gadelha Batista        False            True   \n",
              "\n",
              "   is_ar_condicionado  is_churrasqueira  is_elevador  is_mobiliado  \\\n",
              "0               False             False        False         False   \n",
              "1               False             False        False         False   \n",
              "2               False             False        False         False   \n",
              "\n",
              "   is_piscina  is_portaria  is_profissional  is_salao_festa  is_varanda  \\\n",
              "0       False        False             True           False       False   \n",
              "1        True        False             True            True       False   \n",
              "2       False        False             True           False       False   \n",
              "\n",
              "  n_banheiros  n_fotos n_garagens n_quartos  \n",
              "0           3       20          0         3  \n",
              "1           2       15          1         3  \n",
              "2           2       14          1         3  "
            ]
          },
          "execution_count": 13,
          "metadata": {},
          "output_type": "execute_result"
        }
      ],
      "source": [
        "df_raw.head(3)"
      ]
    },
    {
      "cell_type": "code",
      "execution_count": 14,
      "id": "nucdF9ewkaFz",
      "metadata": {
        "colab": {
          "base_uri": "https://localhost:8080/"
        },
        "id": "nucdF9ewkaFz",
        "outputId": "d384fd94-f4c6-4044-d34f-b8955453fb8d"
      },
      "outputs": [
        {
          "data": {
            "text/plain": [
              "(75922, 24)"
            ]
          },
          "execution_count": 14,
          "metadata": {},
          "output_type": "execute_result"
        }
      ],
      "source": [
        "df_raw.shape"
      ]
    },
    {
      "cell_type": "markdown",
      "id": "5b889c32-6971-4dd4-91eb-e15a6d986bcb",
      "metadata": {
        "id": "5b889c32-6971-4dd4-91eb-e15a6d986bcb"
      },
      "source": [
        "# 2. Realizar pré-processamento dos dados"
      ]
    },
    {
      "cell_type": "code",
      "execution_count": 15,
      "id": "04d67044-1d45-4990-8981-4855aaf7765c",
      "metadata": {
        "id": "04d67044-1d45-4990-8981-4855aaf7765c"
      },
      "outputs": [],
      "source": [
        "df_0 = df_raw.copy()"
      ]
    },
    {
      "cell_type": "markdown",
      "id": "93a7f4f8-69c3-44a9-bd01-b2542d56a201",
      "metadata": {
        "id": "93a7f4f8-69c3-44a9-bd01-b2542d56a201"
      },
      "source": [
        "## 2.0 <dar nome melhor para descrever essas alterações iniciais>"
      ]
    },
    {
      "cell_type": "code",
      "execution_count": 16,
      "id": "f1c65e04-69fb-4220-a686-410f02b8fe53",
      "metadata": {
        "id": "f1c65e04-69fb-4220-a686-410f02b8fe53"
      },
      "outputs": [],
      "source": [
        "# vamos considerar como chave a coluna find_endereco(Bairro-Cidade-estado-cep), ou seja, vamos desconsiderar os imóveis com a mesma localização df_\n",
        "df_0 = df_0.drop_duplicates(subset=['find_endereco'])"
      ]
    },
    {
      "cell_type": "markdown",
      "id": "1f390caa-5e72-4686-81cd-f02710b48dcf",
      "metadata": {
        "id": "1f390caa-5e72-4686-81cd-f02710b48dcf"
      },
      "source": [
        "## 2.1 definição de tipos e criação de novas colunas derivadas"
      ]
    },
    {
      "cell_type": "code",
      "execution_count": 17,
      "id": "hb12P9NjlsD_",
      "metadata": {
        "colab": {
          "base_uri": "https://localhost:8080/"
        },
        "id": "hb12P9NjlsD_",
        "outputId": "b4416b28-095b-4a1a-be48-4810cf257c06"
      },
      "outputs": [
        {
          "data": {
            "text/plain": [
              "find_anuncio          object\n",
              "find_condominio       object\n",
              "find_descri           object\n",
              "find_endereco         object\n",
              "find_iptu             object\n",
              "find_loc              object\n",
              "find_m_quadrado       object\n",
              "find_price             int64\n",
              "find_vendedor         object\n",
              "is_academia             bool\n",
              "is_apertamento          bool\n",
              "is_ar_condicionado      bool\n",
              "is_churrasqueira        bool\n",
              "is_elevador             bool\n",
              "is_mobiliado            bool\n",
              "is_piscina              bool\n",
              "is_portaria             bool\n",
              "is_profissional         bool\n",
              "is_salao_festa          bool\n",
              "is_varanda              bool\n",
              "n_banheiros           object\n",
              "n_fotos                int64\n",
              "n_garagens            object\n",
              "n_quartos             object\n",
              "dtype: object"
            ]
          },
          "execution_count": 17,
          "metadata": {},
          "output_type": "execute_result"
        }
      ],
      "source": [
        "df_0.dtypes"
      ]
    },
    {
      "cell_type": "code",
      "execution_count": 18,
      "id": "a1760679-e7a8-40bf-97dc-96b95d3e64c4",
      "metadata": {
        "id": "a1760679-e7a8-40bf-97dc-96b95d3e64c4",
        "scrolled": true,
        "tags": []
      },
      "outputs": [],
      "source": [
        "# deixando como num a coluna find_condominio\n",
        "df_0['find_condominio'] = df_0['find_condominio'].astype('str').str.replace('R$', '').str.replace(' / mês', '').str.replace('.', '')\n",
        "\n",
        "# deixando como num a coluna find_iptu\n",
        "df_0['find_iptu'] = df_0['find_iptu'].astype('str').str.replace('R$ ', '').str.replace('.', '')\n",
        "\n",
        "# deixando como num a coluna find_m_quadrado\n",
        "df_0['find_m_quadrado'] = df_0['find_m_quadrado'].astype('str').str.replace('m²', '').str.replace('.', '')\n",
        "\n",
        "# cast direto colunas(floats devido a conseguir dar cast em NaN)\n",
        "df_0['find_anuncio'] = df_0['find_anuncio'].astype('category')\n",
        "df_0['find_condominio'] = df_0['find_condominio'].astype('float')\n",
        "df_0['find_descri'] = df_0['find_descri'].astype('category')\n",
        "df_0['find_endereco'] = df_0['find_endereco'].astype('category')\n",
        "df_0['find_iptu'] = df_0['find_iptu'].astype('float')\n",
        "df_0['find_loc'] = df_0['find_loc'].astype('category')\n",
        "df_0['find_m_quadrado'] = df_0['find_m_quadrado'].astype('float')\n",
        "df_0['find_price'] = df_0['find_price'].astype('float')\n",
        "df_0['find_vendedor'] = df_0['find_vendedor'].astype('category')\n",
        "df_0['is_academia'] = df_0['is_academia'].astype('category')\n",
        "df_0['is_apertamento'] = df_0['is_apertamento'].astype('category')\n",
        "df_0['is_ar_condicionado'] = df_0['is_ar_condicionado'].astype('category')\n",
        "df_0['is_churrasqueira'] = df_0['is_churrasqueira'].astype('category')\n",
        "df_0['is_elevador'] = df_0['is_elevador'].astype('category')\n",
        "df_0['is_mobiliado'] = df_0['is_mobiliado'].astype('category')\n",
        "df_0['is_piscina'] = df_0['is_piscina'].astype('category')\n",
        "df_0['is_portaria'] = df_0['is_portaria'].astype('category')\n",
        "df_0['is_profissional'] = df_0['is_profissional'].astype('category')\n",
        "df_0['is_salao_festa'] = df_0['is_salao_festa'].astype('category')\n",
        "df_0['is_varanda'] = df_0['is_varanda'].astype('category')\n",
        "df_0['n_banheiros'] = df_0['n_banheiros'].astype('category') # motivo -> 5 ou mais\n",
        "df_0['n_fotos'] = df_0['n_fotos'].astype('float')\n",
        "df_0['n_garagens'] = df_0['n_garagens'].astype('category') # motivo -> 5 ou mais\n",
        "df_0['n_quartos'] = df_0['n_quartos'].astype('category') # motivo -> 5 ou mais"
      ]
    },
    {
      "cell_type": "code",
      "execution_count": 19,
      "id": "2ca6628e",
      "metadata": {},
      "outputs": [
        {
          "data": {
            "text/plain": [
              "find_anuncio          category\n",
              "find_condominio        float64\n",
              "find_descri           category\n",
              "find_endereco         category\n",
              "find_iptu              float64\n",
              "find_loc              category\n",
              "find_m_quadrado        float64\n",
              "find_price             float64\n",
              "find_vendedor         category\n",
              "is_academia           category\n",
              "is_apertamento        category\n",
              "is_ar_condicionado    category\n",
              "is_churrasqueira      category\n",
              "is_elevador           category\n",
              "is_mobiliado          category\n",
              "is_piscina            category\n",
              "is_portaria           category\n",
              "is_profissional       category\n",
              "is_salao_festa        category\n",
              "is_varanda            category\n",
              "n_banheiros           category\n",
              "n_fotos                float64\n",
              "n_garagens            category\n",
              "n_quartos             category\n",
              "dtype: object"
            ]
          },
          "execution_count": 19,
          "metadata": {},
          "output_type": "execute_result"
        }
      ],
      "source": [
        "df_0.dtypes"
      ]
    },
    {
      "cell_type": "code",
      "execution_count": 22,
      "id": "b1758b2a",
      "metadata": {},
      "outputs": [
        {
          "data": {
            "text/plain": [
              "is_apertamento\n",
              "True     1973\n",
              "False    1356\n",
              "Name: count, dtype: int64"
            ]
          },
          "execution_count": 22,
          "metadata": {},
          "output_type": "execute_result"
        }
      ],
      "source": [
        "df_0['is_apertamento'].value_counts()"
      ]
    },
    {
      "cell_type": "code",
      "execution_count": 23,
      "id": "6f2683db",
      "metadata": {},
      "outputs": [
        {
          "data": {
            "image/png": "[encoded data removed]",
            "text/plain": [
              "<Figure size 640x480 with 1 Axes>"
            ]
          },
          "metadata": {},
          "output_type": "display_data"
        }
      ],
      "source": [
        "import matplotlib.pyplot as plt\n",
        "df_0['find_price'].hist()\n",
        "plt.xlabel('Price')\n",
        "plt.ylabel('Frequency')\n",
        "plt.title('Histogram of is_price')\n",
        "plt.show()"
      ]
    },
    {
      "cell_type": "markdown",
      "id": "781e49a4-4062-4dd8-bd1b-bb2b1d93dc09",
      "metadata": {
        "id": "781e49a4-4062-4dd8-bd1b-bb2b1d93dc09"
      },
      "source": [
        "## 2.2 Tratamento de dados ausentes"
      ]
    },
    {
      "cell_type": "code",
      "execution_count": null,
      "id": "7853d9d8-7f09-4fa3-8c0b-494e1a3e732a",
      "metadata": {
        "id": "7853d9d8-7f09-4fa3-8c0b-494e1a3e732a"
      },
      "outputs": [],
      "source": []
    },
    {
      "cell_type": "markdown",
      "id": "35b871ba-9832-4705-a9ca-0029bf73a826",
      "metadata": {
        "id": "35b871ba-9832-4705-a9ca-0029bf73a826",
        "jp-MarkdownHeadingCollapsed": true,
        "tags": []
      },
      "source": [
        "## 2.3 Limpeza dos dados"
      ]
    },
    {
      "cell_type": "markdown",
      "id": "abdd1d1e-fe30-4291-90bc-f5a54af4f42e",
      "metadata": {
        "id": "abdd1d1e-fe30-4291-90bc-f5a54af4f42e",
        "jp-MarkdownHeadingCollapsed": true,
        "tags": []
      },
      "source": [
        "### 2.3.1 univariado"
      ]
    },
    {
      "cell_type": "code",
      "execution_count": null,
      "id": "2e4f0939-0105-4212-9f9c-143f6d2ac6d2",
      "metadata": {
        "id": "2e4f0939-0105-4212-9f9c-143f6d2ac6d2"
      },
      "outputs": [],
      "source": []
    },
    {
      "cell_type": "markdown",
      "id": "9dcbafeb-b170-4901-8291-fe5e0d604cb3",
      "metadata": {
        "id": "9dcbafeb-b170-4901-8291-fe5e0d604cb3",
        "jp-MarkdownHeadingCollapsed": true,
        "tags": []
      },
      "source": [
        "### 2.3.2 bivariado"
      ]
    },
    {
      "cell_type": "code",
      "execution_count": null,
      "id": "8a75b349-48ba-478d-be73-946b524a7eb8",
      "metadata": {
        "id": "8a75b349-48ba-478d-be73-946b524a7eb8"
      },
      "outputs": [],
      "source": []
    },
    {
      "cell_type": "markdown",
      "id": "dc73265c-5015-4f21-ac93-89cfd52c22d3",
      "metadata": {
        "id": "dc73265c-5015-4f21-ac93-89cfd52c22d3",
        "jp-MarkdownHeadingCollapsed": true,
        "tags": []
      },
      "source": [
        "### 2.3.3 multivariado"
      ]
    },
    {
      "cell_type": "code",
      "execution_count": null,
      "id": "2efd541d-94aa-48f3-b931-0dd481cea2cb",
      "metadata": {
        "id": "2efd541d-94aa-48f3-b931-0dd481cea2cb"
      },
      "outputs": [],
      "source": []
    },
    {
      "cell_type": "markdown",
      "id": "7256dbb6-b7f7-4109-8696-46b41705e2fa",
      "metadata": {
        "id": "7256dbb6-b7f7-4109-8696-46b41705e2fa",
        "jp-MarkdownHeadingCollapsed": true,
        "tags": []
      },
      "source": [
        "# 3. Apresentar estatísticas descritivas dos dados com visualizações"
      ]
    },
    {
      "cell_type": "code",
      "execution_count": null,
      "id": "86137a49-e179-4efa-9b95-be892ca183ae",
      "metadata": {
        "id": "86137a49-e179-4efa-9b95-be892ca183ae"
      },
      "outputs": [],
      "source": []
    },
    {
      "cell_type": "markdown",
      "id": "1d19f506-f5d3-4acd-a74d-aa7b7a30f7aa",
      "metadata": {
        "id": "1d19f506-f5d3-4acd-a74d-aa7b7a30f7aa",
        "jp-MarkdownHeadingCollapsed": true,
        "tags": []
      },
      "source": [
        "# 4. Realizar teste de hipóteses para comparação de valores de categorias e visualizar diferenças"
      ]
    },
    {
      "cell_type": "code",
      "execution_count": null,
      "id": "fca5eca0-1ffd-42a7-931c-ca4fe3162af5",
      "metadata": {
        "id": "fca5eca0-1ffd-42a7-931c-ca4fe3162af5"
      },
      "outputs": [],
      "source": []
    }
  ],
  "metadata": {
    "colab": {
      "provenance": []
    },
    "kernelspec": {
      "display_name": "Python 3 (ipykernel)",
      "language": "python",
      "name": "python3"
    },
    "language_info": {
      "codemirror_mode": {
        "name": "ipython",
        "version": 3
      },
      "file_extension": ".py",
      "mimetype": "text/x-python",
      "name": "python",
      "nbconvert_exporter": "python",
      "pygments_lexer": "ipython3",
      "version": "3.12.2"
    }
  },
  "nbformat": 4,
  "nbformat_minor": 5
}
