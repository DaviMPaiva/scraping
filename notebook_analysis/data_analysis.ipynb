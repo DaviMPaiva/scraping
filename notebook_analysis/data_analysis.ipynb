{
  "cells": [
    {
      "cell_type": "markdown",
      "id": "3779c030-7ed3-42a9-b945-e4527fa68691",
      "metadata": {
        "id": "3779c030-7ed3-42a9-b945-e4527fa68691",
        "tags": []
      },
      "source": [
        "# 0. Imports"
      ]
    },
    {
      "cell_type": "code",
      "execution_count": null,
      "id": "dedaa86b-ea6e-4d5d-bdfc-f57fd169fa3f",
      "metadata": {
        "id": "dedaa86b-ea6e-4d5d-bdfc-f57fd169fa3f"
      },
      "outputs": [],
      "source": [
        "# # ideias adicionais:\n",
        "#     - criar coluna gênero de quem anunciou\n",
        "#     - criar coluna CEP\n",
        "#     -"
      ]
    },
    {
      "cell_type": "code",
      "execution_count": 241,
      "id": "c7ea5884-b6e3-4575-a382-fc4a4a6eccd3",
      "metadata": {
        "id": "c7ea5884-b6e3-4575-a382-fc4a4a6eccd3",
        "colab": {
          "base_uri": "https://localhost:8080/"
        },
        "outputId": "8e1553b8-31ab-4b6f-adb4-655096a7b096"
      },
      "outputs": [
        {
          "output_type": "stream",
          "name": "stderr",
          "text": [
            "/usr/local/lib/python3.10/dist-packages/ipykernel/ipkernel.py:283: DeprecationWarning: `should_run_async` will not call `transform_cell` automatically in the future. Please pass the result to `transformed_cell` argument and any exception that happen during thetransform in `preprocessing_exc_tuple` in IPython 7.17 and above.\n",
            "  and should_run_async(code)\n"
          ]
        }
      ],
      "source": [
        "import pandas as pd\n",
        "import seaborn as sns\n",
        "pd.set_option('display.max_columns', 1000)\n",
        "\n",
        "from sklearn.covariance import EllipticEnvelope\n",
        "\n",
        "import matplotlib.pyplot as plt"
      ]
    },
    {
      "cell_type": "code",
      "execution_count": 3,
      "id": "b9Qis_KviUbD",
      "metadata": {
        "colab": {
          "base_uri": "https://localhost:8080/"
        },
        "id": "b9Qis_KviUbD",
        "outputId": "ad7b7902-0046-4f31-ce10-b7617cf34087",
        "scrolled": true,
        "tags": []
      },
      "outputs": [
        {
          "output_type": "stream",
          "name": "stdout",
          "text": [
            "Collecting fancyimpute\n",
            "  Downloading fancyimpute-0.7.0.tar.gz (25 kB)\n",
            "  Preparing metadata (setup.py) ... \u001b[?25l\u001b[?25hdone\n",
            "Collecting knnimpute>=0.1.0 (from fancyimpute)\n",
            "  Downloading knnimpute-0.1.0.tar.gz (8.3 kB)\n",
            "  Preparing metadata (setup.py) ... \u001b[?25l\u001b[?25hdone\n",
            "Requirement already satisfied: scikit-learn>=0.24.2 in /usr/local/lib/python3.10/dist-packages (from fancyimpute) (1.2.2)\n",
            "Requirement already satisfied: cvxpy in /usr/local/lib/python3.10/dist-packages (from fancyimpute) (1.3.4)\n",
            "Requirement already satisfied: cvxopt in /usr/local/lib/python3.10/dist-packages (from fancyimpute) (1.3.2)\n",
            "Requirement already satisfied: pytest in /usr/local/lib/python3.10/dist-packages (from fancyimpute) (7.4.4)\n",
            "Collecting nose (from fancyimpute)\n",
            "  Downloading nose-1.3.7-py3-none-any.whl (154 kB)\n",
            "\u001b[2K     \u001b[90m━━━━━━━━━━━━━━━━━━━━━━━━━━━━━━━━━━━━━━━━\u001b[0m \u001b[32m154.7/154.7 kB\u001b[0m \u001b[31m5.6 MB/s\u001b[0m eta \u001b[36m0:00:00\u001b[0m\n",
            "\u001b[?25hRequirement already satisfied: six in /usr/local/lib/python3.10/dist-packages (from knnimpute>=0.1.0->fancyimpute) (1.16.0)\n",
            "Requirement already satisfied: numpy>=1.10 in /usr/local/lib/python3.10/dist-packages (from knnimpute>=0.1.0->fancyimpute) (1.25.2)\n",
            "Requirement already satisfied: scipy>=1.3.2 in /usr/local/lib/python3.10/dist-packages (from scikit-learn>=0.24.2->fancyimpute) (1.11.4)\n",
            "Requirement already satisfied: joblib>=1.1.1 in /usr/local/lib/python3.10/dist-packages (from scikit-learn>=0.24.2->fancyimpute) (1.4.2)\n",
            "Requirement already satisfied: threadpoolctl>=2.0.0 in /usr/local/lib/python3.10/dist-packages (from scikit-learn>=0.24.2->fancyimpute) (3.5.0)\n",
            "Requirement already satisfied: osqp>=0.4.1 in /usr/local/lib/python3.10/dist-packages (from cvxpy->fancyimpute) (0.6.2.post8)\n",
            "Requirement already satisfied: ecos>=2 in /usr/local/lib/python3.10/dist-packages (from cvxpy->fancyimpute) (2.0.13)\n",
            "Requirement already satisfied: scs>=1.1.6 in /usr/local/lib/python3.10/dist-packages (from cvxpy->fancyimpute) (3.2.4.post1)\n",
            "Requirement already satisfied: setuptools>65.5.1 in /usr/local/lib/python3.10/dist-packages (from cvxpy->fancyimpute) (67.7.2)\n",
            "Requirement already satisfied: iniconfig in /usr/local/lib/python3.10/dist-packages (from pytest->fancyimpute) (2.0.0)\n",
            "Requirement already satisfied: packaging in /usr/local/lib/python3.10/dist-packages (from pytest->fancyimpute) (24.0)\n",
            "Requirement already satisfied: pluggy<2.0,>=0.12 in /usr/local/lib/python3.10/dist-packages (from pytest->fancyimpute) (1.5.0)\n",
            "Requirement already satisfied: exceptiongroup>=1.0.0rc8 in /usr/local/lib/python3.10/dist-packages (from pytest->fancyimpute) (1.2.1)\n",
            "Requirement already satisfied: tomli>=1.0.0 in /usr/local/lib/python3.10/dist-packages (from pytest->fancyimpute) (2.0.1)\n",
            "Requirement already satisfied: qdldl in /usr/local/lib/python3.10/dist-packages (from osqp>=0.4.1->cvxpy->fancyimpute) (0.1.7.post2)\n",
            "Building wheels for collected packages: fancyimpute, knnimpute\n",
            "  Building wheel for fancyimpute (setup.py) ... \u001b[?25l\u001b[?25hdone\n",
            "  Created wheel for fancyimpute: filename=fancyimpute-0.7.0-py3-none-any.whl size=29881 sha256=98966dd2b41255a402a88d8b5d58c63b1f1f44847f900f3aa5333ae0f421a842\n",
            "  Stored in directory: /root/.cache/pip/wheels/7b/0c/d3/ee82d1fbdcc0858d96434af108608d01703505d453720c84ed\n",
            "  Building wheel for knnimpute (setup.py) ... \u001b[?25l\u001b[?25hdone\n",
            "  Created wheel for knnimpute: filename=knnimpute-0.1.0-py3-none-any.whl size=11330 sha256=3533c19e9c40ab48d957073ea64943b76a80b00b53da1e8e35766e73208bb2ec\n",
            "  Stored in directory: /root/.cache/pip/wheels/46/06/a5/45a724630562413c374e29c08732411d496092408b3a7bf754\n",
            "Successfully built fancyimpute knnimpute\n",
            "Installing collected packages: nose, knnimpute, fancyimpute\n",
            "Successfully installed fancyimpute-0.7.0 knnimpute-0.1.0 nose-1.3.7\n"
          ]
        }
      ],
      "source": [
        "!pip install fancyimpute"
      ]
    },
    {
      "cell_type": "markdown",
      "id": "2206f321-6b71-4540-bb4e-a9210f0cfcb8",
      "metadata": {
        "id": "2206f321-6b71-4540-bb4e-a9210f0cfcb8"
      },
      "source": [
        "# 1. Coletar dados"
      ]
    },
    {
      "cell_type": "code",
      "execution_count": 4,
      "id": "ff9c1dd4-069c-4c34-805f-5119c979ff3c",
      "metadata": {
        "id": "ff9c1dd4-069c-4c34-805f-5119c979ff3c"
      },
      "outputs": [],
      "source": [
        "# <explicar como foi feita a coleta de dados e onde localizar .py>"
      ]
    },
    {
      "cell_type": "markdown",
      "id": "4ed1279b",
      "metadata": {
        "id": "4ed1279b"
      },
      "source": [
        "| Campop               | Descrição                                      |\n",
        "|----------------------|--------------------------------------------------|\n",
        "| find_anuncio         | o titulo do anuncio                              |\n",
        "| find_condominio      | o preço do condominio                            |\n",
        "| find_descri          | a descrição feita do imovel                      |\n",
        "| find_endereco        | Endereço = bairro, Cidade, estado, cep           |\n",
        "| find_iptu            | IPTU                                             |\n",
        "| find_loc             | geralmente a rua                                 |\n",
        "| find_m_quadrado      | Tamanho do imóvel em metros quadrados            |\n",
        "| find_price           | Preço do imóvel                                  |\n",
        "| find_vendedor        | Informações sobre o vendedor                     |\n",
        "| is_academia          | Indica se há academia/centro de fitness          |\n",
        "| is_apartamento       | Indica se é um apartamento                       |\n",
        "| is_ar_condicionado   | Indica se tem ar condicionado                     |\n",
        "| is_churrasqueira     | Indica se há churrasqueira                       |\n",
        "| is_elevador          | Indica se há elevador                            |\n",
        "| is_mobiliado         | Indica se o imóvel está mobiliado                |\n",
        "| is_piscina           | Indica se há piscina                             |\n",
        "| is_portaria          | Indica se há portaria/serviço de portaria        |\n",
        "| is_profissional      | Indica se o vendedor é um profissional           |\n",
        "| is_salao_festa       | Indica se há salão de festas/área de eventos     |\n",
        "| is_varanda           | Indica se há varanda                             |\n",
        "| n_banheiros          | Número de banheiros                              |\n",
        "| n_fotos              | Número de fotos no anúncio                       |\n",
        "| n_garagens           | Número de vagas/garagens                         |\n",
        "| n_quartos            | Número de quartos                                |"
      ]
    },
    {
      "cell_type": "code",
      "execution_count": 12,
      "id": "2d8c8a8e-e557-4d7e-9209-d908cb8cc663",
      "metadata": {
        "id": "2d8c8a8e-e557-4d7e-9209-d908cb8cc663"
      },
      "outputs": [],
      "source": [
        "path_raw = '/content/scraped_data.csv'\n",
        "df_raw = pd.read_csv(path_raw, sep=',', nrows=5000)"
      ]
    },
    {
      "cell_type": "code",
      "execution_count": 13,
      "id": "8559d4db-a9b1-42df-a1f0-d3223ca9144f",
      "metadata": {
        "colab": {
          "base_uri": "https://localhost:8080/",
          "height": 389
        },
        "id": "8559d4db-a9b1-42df-a1f0-d3223ca9144f",
        "outputId": "6d4fda8d-2d9d-43e9-8ad5-180c911bb225"
      },
      "outputs": [
        {
          "output_type": "execute_result",
          "data": {
            "text/plain": [
              "                                        find_anuncio find_condominio  \\\n",
              "0  Apartamento para venda com 105 metros quadrado...  R$ 1.100 / mês   \n",
              "1  Apartamento para venda possui 51 metros quadra...      R$ 0 / mês   \n",
              "2  Apartamento para venda possui 124 metros quadr...    R$ 822 / mês   \n",
              "\n",
              "                                         find_descri  \\\n",
              "0  Código do anúncio: C6BAD9\\n\\nO apartamento est...   \n",
              "1  Código do anúncio: S623-1\\n\\nO apartamento no ...   \n",
              "2  Código do anúncio: V2009TS-2225\\n\\nApartamento...   \n",
              "\n",
              "                      find_endereco find_iptu  \\\n",
              "0     Aflitos, Recife, PE, 52050340    R$ 180   \n",
              "1  Boa Viagem, Recife, PE, 51021130      R$ 0   \n",
              "2  Boa Viagem, Recife, PE, 51130000    R$ 291   \n",
              "\n",
              "                                   find_loc find_m_quadrado  find_price  \\\n",
              "0                          Rua da Angustura           105m²      380000   \n",
              "1       Rua Coronel Anízio Rodrigues Coelho            51m²      525000   \n",
              "2  Avenida Boa Viagem - de 6200/6201 ao fim           124m²      620000   \n",
              "\n",
              "                      find_vendedor  is_academia  is_apertamento  \\\n",
              "0  Antônio Luciano Santana da Silva        False            True   \n",
              "1    Dream Residence Imóveis Recife        False            True   \n",
              "2           Roberta Gadelha Batista        False            True   \n",
              "\n",
              "   is_ar_condicionado  is_churrasqueira  is_elevador  is_mobiliado  \\\n",
              "0               False             False        False         False   \n",
              "1               False             False        False         False   \n",
              "2               False             False        False         False   \n",
              "\n",
              "   is_piscina  is_portaria  is_profissional  is_salao_festa  is_varanda  \\\n",
              "0       False        False             True           False       False   \n",
              "1        True        False             True            True       False   \n",
              "2       False        False             True           False       False   \n",
              "\n",
              "  n_banheiros  n_fotos n_garagens n_quartos  \n",
              "0           3       20          0         3  \n",
              "1           2       15          1         3  \n",
              "2           2       14          1         3  "
            ],
            "text/html": [
              "\n",
              "  <div id=\"df-b8f709f5-d335-4523-9d1c-827ee4bacb88\" class=\"colab-df-container\">\n",
              "    <div>\n",
              "<style scoped>\n",
              "    .dataframe tbody tr th:only-of-type {\n",
              "        vertical-align: middle;\n",
              "    }\n",
              "\n",
              "    .dataframe tbody tr th {\n",
              "        vertical-align: top;\n",
              "    }\n",
              "\n",
              "    .dataframe thead th {\n",
              "        text-align: right;\n",
              "    }\n",
              "</style>\n",
              "<table border=\"1\" class=\"dataframe\">\n",
              "  <thead>\n",
              "    <tr style=\"text-align: right;\">\n",
              "      <th></th>\n",
              "      <th>find_anuncio</th>\n",
              "      <th>find_condominio</th>\n",
              "      <th>find_descri</th>\n",
              "      <th>find_endereco</th>\n",
              "      <th>find_iptu</th>\n",
              "      <th>find_loc</th>\n",
              "      <th>find_m_quadrado</th>\n",
              "      <th>find_price</th>\n",
              "      <th>find_vendedor</th>\n",
              "      <th>is_academia</th>\n",
              "      <th>is_apertamento</th>\n",
              "      <th>is_ar_condicionado</th>\n",
              "      <th>is_churrasqueira</th>\n",
              "      <th>is_elevador</th>\n",
              "      <th>is_mobiliado</th>\n",
              "      <th>is_piscina</th>\n",
              "      <th>is_portaria</th>\n",
              "      <th>is_profissional</th>\n",
              "      <th>is_salao_festa</th>\n",
              "      <th>is_varanda</th>\n",
              "      <th>n_banheiros</th>\n",
              "      <th>n_fotos</th>\n",
              "      <th>n_garagens</th>\n",
              "      <th>n_quartos</th>\n",
              "    </tr>\n",
              "  </thead>\n",
              "  <tbody>\n",
              "    <tr>\n",
              "      <th>0</th>\n",
              "      <td>Apartamento para venda com 105 metros quadrado...</td>\n",
              "      <td>R$ 1.100 / mês</td>\n",
              "      <td>Código do anúncio: C6BAD9\\n\\nO apartamento est...</td>\n",
              "      <td>Aflitos, Recife, PE, 52050340</td>\n",
              "      <td>R$ 180</td>\n",
              "      <td>Rua da Angustura</td>\n",
              "      <td>105m²</td>\n",
              "      <td>380000</td>\n",
              "      <td>Antônio Luciano Santana da Silva</td>\n",
              "      <td>False</td>\n",
              "      <td>True</td>\n",
              "      <td>False</td>\n",
              "      <td>False</td>\n",
              "      <td>False</td>\n",
              "      <td>False</td>\n",
              "      <td>False</td>\n",
              "      <td>False</td>\n",
              "      <td>True</td>\n",
              "      <td>False</td>\n",
              "      <td>False</td>\n",
              "      <td>3</td>\n",
              "      <td>20</td>\n",
              "      <td>0</td>\n",
              "      <td>3</td>\n",
              "    </tr>\n",
              "    <tr>\n",
              "      <th>1</th>\n",
              "      <td>Apartamento para venda possui 51 metros quadra...</td>\n",
              "      <td>R$ 0 / mês</td>\n",
              "      <td>Código do anúncio: S623-1\\n\\nO apartamento no ...</td>\n",
              "      <td>Boa Viagem, Recife, PE, 51021130</td>\n",
              "      <td>R$ 0</td>\n",
              "      <td>Rua Coronel Anízio Rodrigues Coelho</td>\n",
              "      <td>51m²</td>\n",
              "      <td>525000</td>\n",
              "      <td>Dream Residence Imóveis Recife</td>\n",
              "      <td>False</td>\n",
              "      <td>True</td>\n",
              "      <td>False</td>\n",
              "      <td>False</td>\n",
              "      <td>False</td>\n",
              "      <td>False</td>\n",
              "      <td>True</td>\n",
              "      <td>False</td>\n",
              "      <td>True</td>\n",
              "      <td>True</td>\n",
              "      <td>False</td>\n",
              "      <td>2</td>\n",
              "      <td>15</td>\n",
              "      <td>1</td>\n",
              "      <td>3</td>\n",
              "    </tr>\n",
              "    <tr>\n",
              "      <th>2</th>\n",
              "      <td>Apartamento para venda possui 124 metros quadr...</td>\n",
              "      <td>R$ 822 / mês</td>\n",
              "      <td>Código do anúncio: V2009TS-2225\\n\\nApartamento...</td>\n",
              "      <td>Boa Viagem, Recife, PE, 51130000</td>\n",
              "      <td>R$ 291</td>\n",
              "      <td>Avenida Boa Viagem - de 6200/6201 ao fim</td>\n",
              "      <td>124m²</td>\n",
              "      <td>620000</td>\n",
              "      <td>Roberta Gadelha Batista</td>\n",
              "      <td>False</td>\n",
              "      <td>True</td>\n",
              "      <td>False</td>\n",
              "      <td>False</td>\n",
              "      <td>False</td>\n",
              "      <td>False</td>\n",
              "      <td>False</td>\n",
              "      <td>False</td>\n",
              "      <td>True</td>\n",
              "      <td>False</td>\n",
              "      <td>False</td>\n",
              "      <td>2</td>\n",
              "      <td>14</td>\n",
              "      <td>1</td>\n",
              "      <td>3</td>\n",
              "    </tr>\n",
              "  </tbody>\n",
              "</table>\n",
              "</div>\n",
              "    <div class=\"colab-df-buttons\">\n",
              "\n",
              "  <div class=\"colab-df-container\">\n",
              "    <button class=\"colab-df-convert\" onclick=\"convertToInteractive('df-b8f709f5-d335-4523-9d1c-827ee4bacb88')\"\n",
              "            title=\"Convert this dataframe to an interactive table.\"\n",
              "            style=\"display:none;\">\n",
              "\n",
              "  <svg xmlns=\"http://www.w3.org/2000/svg\" height=\"24px\" viewBox=\"0 -960 960 960\">\n",
              "    <path d=\"M120-120v-720h720v720H120Zm60-500h600v-160H180v160Zm220 220h160v-160H400v160Zm0 220h160v-160H400v160ZM180-400h160v-160H180v160Zm440 0h160v-160H620v160ZM180-180h160v-160H180v160Zm440 0h160v-160H620v160Z\"/>\n",
              "  </svg>\n",
              "    </button>\n",
              "\n",
              "  <style>\n",
              "    .colab-df-container {\n",
              "      display:flex;\n",
              "      gap: 12px;\n",
              "    }\n",
              "\n",
              "    .colab-df-convert {\n",
              "      background-color: #E8F0FE;\n",
              "      border: none;\n",
              "      border-radius: 50%;\n",
              "      cursor: pointer;\n",
              "      display: none;\n",
              "      fill: #1967D2;\n",
              "      height: 32px;\n",
              "      padding: 0 0 0 0;\n",
              "      width: 32px;\n",
              "    }\n",
              "\n",
              "    .colab-df-convert:hover {\n",
              "      background-color: #E2EBFA;\n",
              "      box-shadow: 0px 1px 2px rgba(60, 64, 67, 0.3), 0px 1px 3px 1px rgba(60, 64, 67, 0.15);\n",
              "      fill: #174EA6;\n",
              "    }\n",
              "\n",
              "    .colab-df-buttons div {\n",
              "      margin-bottom: 4px;\n",
              "    }\n",
              "\n",
              "    [theme=dark] .colab-df-convert {\n",
              "      background-color: #3B4455;\n",
              "      fill: #D2E3FC;\n",
              "    }\n",
              "\n",
              "    [theme=dark] .colab-df-convert:hover {\n",
              "      background-color: #434B5C;\n",
              "      box-shadow: 0px 1px 3px 1px rgba(0, 0, 0, 0.15);\n",
              "      filter: drop-shadow(0px 1px 2px rgba(0, 0, 0, 0.3));\n",
              "      fill: #FFFFFF;\n",
              "    }\n",
              "  </style>\n",
              "\n",
              "    <script>\n",
              "      const buttonEl =\n",
              "        document.querySelector('#df-b8f709f5-d335-4523-9d1c-827ee4bacb88 button.colab-df-convert');\n",
              "      buttonEl.style.display =\n",
              "        google.colab.kernel.accessAllowed ? 'block' : 'none';\n",
              "\n",
              "      async function convertToInteractive(key) {\n",
              "        const element = document.querySelector('#df-b8f709f5-d335-4523-9d1c-827ee4bacb88');\n",
              "        const dataTable =\n",
              "          await google.colab.kernel.invokeFunction('convertToInteractive',\n",
              "                                                    [key], {});\n",
              "        if (!dataTable) return;\n",
              "\n",
              "        const docLinkHtml = 'Like what you see? Visit the ' +\n",
              "          '<a target=\"_blank\" href=https://colab.research.google.com/notebooks/data_table.ipynb>data table notebook</a>'\n",
              "          + ' to learn more about interactive tables.';\n",
              "        element.innerHTML = '';\n",
              "        dataTable['output_type'] = 'display_data';\n",
              "        await google.colab.output.renderOutput(dataTable, element);\n",
              "        const docLink = document.createElement('div');\n",
              "        docLink.innerHTML = docLinkHtml;\n",
              "        element.appendChild(docLink);\n",
              "      }\n",
              "    </script>\n",
              "  </div>\n",
              "\n",
              "\n",
              "<div id=\"df-ec756bae-34ea-48ad-b28c-6a14bd7f865c\">\n",
              "  <button class=\"colab-df-quickchart\" onclick=\"quickchart('df-ec756bae-34ea-48ad-b28c-6a14bd7f865c')\"\n",
              "            title=\"Suggest charts\"\n",
              "            style=\"display:none;\">\n",
              "\n",
              "<svg xmlns=\"http://www.w3.org/2000/svg\" height=\"24px\"viewBox=\"0 0 24 24\"\n",
              "     width=\"24px\">\n",
              "    <g>\n",
              "        <path d=\"M19 3H5c-1.1 0-2 .9-2 2v14c0 1.1.9 2 2 2h14c1.1 0 2-.9 2-2V5c0-1.1-.9-2-2-2zM9 17H7v-7h2v7zm4 0h-2V7h2v10zm4 0h-2v-4h2v4z\"/>\n",
              "    </g>\n",
              "</svg>\n",
              "  </button>\n",
              "\n",
              "<style>\n",
              "  .colab-df-quickchart {\n",
              "      --bg-color: #E8F0FE;\n",
              "      --fill-color: #1967D2;\n",
              "      --hover-bg-color: #E2EBFA;\n",
              "      --hover-fill-color: #174EA6;\n",
              "      --disabled-fill-color: #AAA;\n",
              "      --disabled-bg-color: #DDD;\n",
              "  }\n",
              "\n",
              "  [theme=dark] .colab-df-quickchart {\n",
              "      --bg-color: #3B4455;\n",
              "      --fill-color: #D2E3FC;\n",
              "      --hover-bg-color: #434B5C;\n",
              "      --hover-fill-color: #FFFFFF;\n",
              "      --disabled-bg-color: #3B4455;\n",
              "      --disabled-fill-color: #666;\n",
              "  }\n",
              "\n",
              "  .colab-df-quickchart {\n",
              "    background-color: var(--bg-color);\n",
              "    border: none;\n",
              "    border-radius: 50%;\n",
              "    cursor: pointer;\n",
              "    display: none;\n",
              "    fill: var(--fill-color);\n",
              "    height: 32px;\n",
              "    padding: 0;\n",
              "    width: 32px;\n",
              "  }\n",
              "\n",
              "  .colab-df-quickchart:hover {\n",
              "    background-color: var(--hover-bg-color);\n",
              "    box-shadow: 0 1px 2px rgba(60, 64, 67, 0.3), 0 1px 3px 1px rgba(60, 64, 67, 0.15);\n",
              "    fill: var(--button-hover-fill-color);\n",
              "  }\n",
              "\n",
              "  .colab-df-quickchart-complete:disabled,\n",
              "  .colab-df-quickchart-complete:disabled:hover {\n",
              "    background-color: var(--disabled-bg-color);\n",
              "    fill: var(--disabled-fill-color);\n",
              "    box-shadow: none;\n",
              "  }\n",
              "\n",
              "  .colab-df-spinner {\n",
              "    border: 2px solid var(--fill-color);\n",
              "    border-color: transparent;\n",
              "    border-bottom-color: var(--fill-color);\n",
              "    animation:\n",
              "      spin 1s steps(1) infinite;\n",
              "  }\n",
              "\n",
              "  @keyframes spin {\n",
              "    0% {\n",
              "      border-color: transparent;\n",
              "      border-bottom-color: var(--fill-color);\n",
              "      border-left-color: var(--fill-color);\n",
              "    }\n",
              "    20% {\n",
              "      border-color: transparent;\n",
              "      border-left-color: var(--fill-color);\n",
              "      border-top-color: var(--fill-color);\n",
              "    }\n",
              "    30% {\n",
              "      border-color: transparent;\n",
              "      border-left-color: var(--fill-color);\n",
              "      border-top-color: var(--fill-color);\n",
              "      border-right-color: var(--fill-color);\n",
              "    }\n",
              "    40% {\n",
              "      border-color: transparent;\n",
              "      border-right-color: var(--fill-color);\n",
              "      border-top-color: var(--fill-color);\n",
              "    }\n",
              "    60% {\n",
              "      border-color: transparent;\n",
              "      border-right-color: var(--fill-color);\n",
              "    }\n",
              "    80% {\n",
              "      border-color: transparent;\n",
              "      border-right-color: var(--fill-color);\n",
              "      border-bottom-color: var(--fill-color);\n",
              "    }\n",
              "    90% {\n",
              "      border-color: transparent;\n",
              "      border-bottom-color: var(--fill-color);\n",
              "    }\n",
              "  }\n",
              "</style>\n",
              "\n",
              "  <script>\n",
              "    async function quickchart(key) {\n",
              "      const quickchartButtonEl =\n",
              "        document.querySelector('#' + key + ' button');\n",
              "      quickchartButtonEl.disabled = true;  // To prevent multiple clicks.\n",
              "      quickchartButtonEl.classList.add('colab-df-spinner');\n",
              "      try {\n",
              "        const charts = await google.colab.kernel.invokeFunction(\n",
              "            'suggestCharts', [key], {});\n",
              "      } catch (error) {\n",
              "        console.error('Error during call to suggestCharts:', error);\n",
              "      }\n",
              "      quickchartButtonEl.classList.remove('colab-df-spinner');\n",
              "      quickchartButtonEl.classList.add('colab-df-quickchart-complete');\n",
              "    }\n",
              "    (() => {\n",
              "      let quickchartButtonEl =\n",
              "        document.querySelector('#df-ec756bae-34ea-48ad-b28c-6a14bd7f865c button');\n",
              "      quickchartButtonEl.style.display =\n",
              "        google.colab.kernel.accessAllowed ? 'block' : 'none';\n",
              "    })();\n",
              "  </script>\n",
              "</div>\n",
              "    </div>\n",
              "  </div>\n"
            ],
            "application/vnd.google.colaboratory.intrinsic+json": {
              "type": "dataframe",
              "variable_name": "df_raw"
            }
          },
          "metadata": {},
          "execution_count": 13
        }
      ],
      "source": [
        "df_raw.head(3)"
      ]
    },
    {
      "cell_type": "markdown",
      "id": "5b889c32-6971-4dd4-91eb-e15a6d986bcb",
      "metadata": {
        "id": "5b889c32-6971-4dd4-91eb-e15a6d986bcb",
        "tags": []
      },
      "source": [
        "# 2. Realizar pré-processamento dos dados"
      ]
    },
    {
      "cell_type": "code",
      "execution_count": 176,
      "id": "nucdF9ewkaFz",
      "metadata": {
        "colab": {
          "base_uri": "https://localhost:8080/"
        },
        "id": "nucdF9ewkaFz",
        "outputId": "ff9eda89-c083-4df7-b696-93411426cc83"
      },
      "outputs": [
        {
          "output_type": "stream",
          "name": "stderr",
          "text": [
            "/usr/local/lib/python3.10/dist-packages/ipykernel/ipkernel.py:283: DeprecationWarning: `should_run_async` will not call `transform_cell` automatically in the future. Please pass the result to `transformed_cell` argument and any exception that happen during thetransform in `preprocessing_exc_tuple` in IPython 7.17 and above.\n",
            "  and should_run_async(code)\n"
          ]
        },
        {
          "output_type": "execute_result",
          "data": {
            "text/plain": [
              "(5000, 24)"
            ]
          },
          "metadata": {},
          "execution_count": 176
        }
      ],
      "source": [
        "df_raw.shape"
      ]
    },
    {
      "cell_type": "code",
      "execution_count": 177,
      "id": "04d67044-1d45-4990-8981-4855aaf7765c",
      "metadata": {
        "id": "04d67044-1d45-4990-8981-4855aaf7765c",
        "colab": {
          "base_uri": "https://localhost:8080/"
        },
        "outputId": "d4eeaac8-8f1b-44b9-e866-e65be8d11c5f"
      },
      "outputs": [
        {
          "output_type": "stream",
          "name": "stderr",
          "text": [
            "/usr/local/lib/python3.10/dist-packages/ipykernel/ipkernel.py:283: DeprecationWarning: `should_run_async` will not call `transform_cell` automatically in the future. Please pass the result to `transformed_cell` argument and any exception that happen during thetransform in `preprocessing_exc_tuple` in IPython 7.17 and above.\n",
            "  and should_run_async(code)\n"
          ]
        }
      ],
      "source": [
        "df_0 = df_raw.copy()"
      ]
    },
    {
      "cell_type": "code",
      "execution_count": 178,
      "id": "f1c65e04-69fb-4220-a686-410f02b8fe53",
      "metadata": {
        "id": "f1c65e04-69fb-4220-a686-410f02b8fe53",
        "colab": {
          "base_uri": "https://localhost:8080/"
        },
        "outputId": "0156e7cc-f59b-4053-ab20-189f50a94a85"
      },
      "outputs": [
        {
          "output_type": "stream",
          "name": "stderr",
          "text": [
            "/usr/local/lib/python3.10/dist-packages/ipykernel/ipkernel.py:283: DeprecationWarning: `should_run_async` will not call `transform_cell` automatically in the future. Please pass the result to `transformed_cell` argument and any exception that happen during thetransform in `preprocessing_exc_tuple` in IPython 7.17 and above.\n",
            "  and should_run_async(code)\n"
          ]
        }
      ],
      "source": [
        "# vamos considerar como chave todas as colunas menos\n",
        "df_0 = df_0.drop_duplicates(subset=['find_condominio','find_endereco','find_iptu','find_loc', 'find_m_quadrado', 'find_price', 'find_vendedor', 'is_academia', 'is_apertamento', 'is_ar_condicionado', 'is_churrasqueira', 'is_elevador', 'is_mobiliado', 'is_piscina', 'is_portaria', 'is_profissional', 'is_salao_festa', 'is_varanda', 'n_banheiros', 'n_fotos', 'n_garagens', 'n_quartos'])"
      ]
    },
    {
      "cell_type": "code",
      "execution_count": 179,
      "id": "kOuJwh2obc6z",
      "metadata": {
        "colab": {
          "base_uri": "https://localhost:8080/"
        },
        "id": "kOuJwh2obc6z",
        "outputId": "16e9a3c2-c202-4f98-dfc6-9e2e3a2a52ce"
      },
      "outputs": [
        {
          "output_type": "stream",
          "name": "stderr",
          "text": [
            "/usr/local/lib/python3.10/dist-packages/ipykernel/ipkernel.py:283: DeprecationWarning: `should_run_async` will not call `transform_cell` automatically in the future. Please pass the result to `transformed_cell` argument and any exception that happen during thetransform in `preprocessing_exc_tuple` in IPython 7.17 and above.\n",
            "  and should_run_async(code)\n"
          ]
        },
        {
          "output_type": "execute_result",
          "data": {
            "text/plain": [
              "{'find_anuncio', 'find_descri'}"
            ]
          },
          "metadata": {},
          "execution_count": 179
        }
      ],
      "source": [
        "set(df_0.columns) - set(['find_condominio','find_endereco','find_iptu','find_loc', 'find_m_quadrado', 'find_price', 'find_vendedor', 'is_academia', 'is_apertamento', 'is_ar_condicionado', 'is_churrasqueira', 'is_elevador', 'is_mobiliado', 'is_piscina', 'is_portaria', 'is_profissional', 'is_salao_festa', 'is_varanda', 'n_banheiros', 'n_fotos', 'n_garagens', 'n_quartos'])\n",
        "\n",
        "# chave primária vai ser todas as colunas menos o que texto que tem no anuncio e na descrição dele"
      ]
    },
    {
      "cell_type": "code",
      "execution_count": 180,
      "id": "561236b1",
      "metadata": {
        "colab": {
          "base_uri": "https://localhost:8080/"
        },
        "id": "561236b1",
        "outputId": "506d15ab-8b06-4f49-dc33-7cb6f9c07aa5"
      },
      "outputs": [
        {
          "output_type": "stream",
          "name": "stderr",
          "text": [
            "/usr/local/lib/python3.10/dist-packages/ipykernel/ipkernel.py:283: DeprecationWarning: `should_run_async` will not call `transform_cell` automatically in the future. Please pass the result to `transformed_cell` argument and any exception that happen during thetransform in `preprocessing_exc_tuple` in IPython 7.17 and above.\n",
            "  and should_run_async(code)\n"
          ]
        },
        {
          "output_type": "execute_result",
          "data": {
            "text/plain": [
              "(4890, 24)"
            ]
          },
          "metadata": {},
          "execution_count": 180
        }
      ],
      "source": [
        "df_0.shape"
      ]
    },
    {
      "cell_type": "markdown",
      "id": "93a7f4f8-69c3-44a9-bd01-b2542d56a201",
      "metadata": {
        "id": "93a7f4f8-69c3-44a9-bd01-b2542d56a201"
      },
      "source": [
        "## 2.0 <dar nome melhor para descrever essas alterações iniciais>"
      ]
    },
    {
      "cell_type": "markdown",
      "id": "moEBtsfocPFb",
      "metadata": {
        "id": "moEBtsfocPFb"
      },
      "source": [
        "### 2.0.1 Algumas classes são muito uteis como valor numerico, mas não podem ser totalmente convertidas. exemplo: o numero de quartos tem o campo '5 ou mais' vamos fazer o drop desses valores"
      ]
    },
    {
      "cell_type": "code",
      "execution_count": 181,
      "id": "-L7vunnAcKZc",
      "metadata": {
        "id": "-L7vunnAcKZc",
        "colab": {
          "base_uri": "https://localhost:8080/"
        },
        "outputId": "ec08ca20-bdee-42fb-89e1-a1e272648048"
      },
      "outputs": [
        {
          "output_type": "stream",
          "name": "stderr",
          "text": [
            "/usr/local/lib/python3.10/dist-packages/ipykernel/ipkernel.py:283: DeprecationWarning: `should_run_async` will not call `transform_cell` automatically in the future. Please pass the result to `transformed_cell` argument and any exception that happen during thetransform in `preprocessing_exc_tuple` in IPython 7.17 and above.\n",
            "  and should_run_async(code)\n"
          ]
        }
      ],
      "source": [
        "df_0 = df_0[df_0['n_quartos'] != '5 ou mais']\n",
        "df_0 = df_0[df_0['n_banheiros'] != '5 ou mais']\n",
        "df_0 = df_0[df_0['n_garagens'] != '5 ou mais']\n",
        "\n",
        "df_0 = df_0[df_0['find_price'] > 0]"
      ]
    },
    {
      "cell_type": "markdown",
      "id": "1f390caa-5e72-4686-81cd-f02710b48dcf",
      "metadata": {
        "id": "1f390caa-5e72-4686-81cd-f02710b48dcf"
      },
      "source": [
        "## 2.1 definição de tipos e criação de novas colunas derivadas"
      ]
    },
    {
      "cell_type": "code",
      "execution_count": 182,
      "id": "hb12P9NjlsD_",
      "metadata": {
        "colab": {
          "base_uri": "https://localhost:8080/"
        },
        "id": "hb12P9NjlsD_",
        "outputId": "c8cfa3ce-82d1-4145-ffc2-3229b1289d6c"
      },
      "outputs": [
        {
          "output_type": "stream",
          "name": "stderr",
          "text": [
            "/usr/local/lib/python3.10/dist-packages/ipykernel/ipkernel.py:283: DeprecationWarning: `should_run_async` will not call `transform_cell` automatically in the future. Please pass the result to `transformed_cell` argument and any exception that happen during thetransform in `preprocessing_exc_tuple` in IPython 7.17 and above.\n",
            "  and should_run_async(code)\n"
          ]
        },
        {
          "output_type": "execute_result",
          "data": {
            "text/plain": [
              "find_anuncio          object\n",
              "find_condominio       object\n",
              "find_descri           object\n",
              "find_endereco         object\n",
              "find_iptu             object\n",
              "find_loc              object\n",
              "find_m_quadrado       object\n",
              "find_price             int64\n",
              "find_vendedor         object\n",
              "is_academia             bool\n",
              "is_apertamento          bool\n",
              "is_ar_condicionado      bool\n",
              "is_churrasqueira        bool\n",
              "is_elevador             bool\n",
              "is_mobiliado            bool\n",
              "is_piscina              bool\n",
              "is_portaria             bool\n",
              "is_profissional         bool\n",
              "is_salao_festa          bool\n",
              "is_varanda              bool\n",
              "n_banheiros           object\n",
              "n_fotos                int64\n",
              "n_garagens            object\n",
              "n_quartos             object\n",
              "dtype: object"
            ]
          },
          "metadata": {},
          "execution_count": 182
        }
      ],
      "source": [
        "df_0.dtypes"
      ]
    },
    {
      "cell_type": "code",
      "execution_count": 183,
      "id": "a1760679-e7a8-40bf-97dc-96b95d3e64c4",
      "metadata": {
        "id": "a1760679-e7a8-40bf-97dc-96b95d3e64c4",
        "scrolled": true,
        "tags": [],
        "colab": {
          "base_uri": "https://localhost:8080/"
        },
        "outputId": "ee5e99d4-72b8-4021-df06-d652c29869f6"
      },
      "outputs": [
        {
          "output_type": "stream",
          "name": "stderr",
          "text": [
            "/usr/local/lib/python3.10/dist-packages/ipykernel/ipkernel.py:283: DeprecationWarning: `should_run_async` will not call `transform_cell` automatically in the future. Please pass the result to `transformed_cell` argument and any exception that happen during thetransform in `preprocessing_exc_tuple` in IPython 7.17 and above.\n",
            "  and should_run_async(code)\n"
          ]
        }
      ],
      "source": [
        "# deixando como num a coluna find_condominio\n",
        "df_0['find_condominio'] = df_0['find_condominio'].astype('str').str.replace('R$', '').str.replace(' / mês', '').str.replace('.', '')\n",
        "\n",
        "# deixando como num a coluna find_iptu\n",
        "df_0['find_iptu'] = df_0['find_iptu'].astype('str').str.replace('R$ ', '').str.replace('.', '')\n",
        "\n",
        "# deixando como num a coluna find_m_quadrado\n",
        "df_0['find_m_quadrado'] = df_0['find_m_quadrado'].astype('str').str.replace('m²', '').str.replace('.', '')\n",
        "\n",
        "# cast direto colunas(floats devido a conseguir dar cast em NaN)\n",
        "df_0['find_anuncio'] = df_0['find_anuncio'].astype('category')\n",
        "df_0['find_condominio'] = df_0['find_condominio'].astype('float')\n",
        "df_0['find_descri'] = df_0['find_descri'].astype('category')\n",
        "df_0['find_endereco'] = df_0['find_endereco'].astype('category')\n",
        "df_0['find_iptu'] = df_0['find_iptu'].astype('float')\n",
        "df_0['find_loc'] = df_0['find_loc'].astype('category')\n",
        "df_0['find_m_quadrado'] = df_0['find_m_quadrado'].astype('float')\n",
        "df_0['find_price'] = df_0['find_price'].astype('float')\n",
        "df_0['find_vendedor'] = df_0['find_vendedor'].astype('category')\n",
        "df_0['is_academia'] = df_0['is_academia'].astype('category')\n",
        "df_0['is_apertamento'] = df_0['is_apertamento'].astype('category')\n",
        "df_0['is_ar_condicionado'] = df_0['is_ar_condicionado'].astype('category')\n",
        "df_0['is_churrasqueira'] = df_0['is_churrasqueira'].astype('category')\n",
        "df_0['is_elevador'] = df_0['is_elevador'].astype('category')\n",
        "df_0['is_mobiliado'] = df_0['is_mobiliado'].astype('category')\n",
        "df_0['is_piscina'] = df_0['is_piscina'].astype('category')\n",
        "df_0['is_portaria'] = df_0['is_portaria'].astype('category')\n",
        "df_0['is_profissional'] = df_0['is_profissional'].astype('category')\n",
        "df_0['is_salao_festa'] = df_0['is_salao_festa'].astype('category')\n",
        "df_0['is_varanda'] = df_0['is_varanda'].astype('category')\n",
        "df_0['n_banheiros'] = df_0['n_banheiros'].astype('float')\n",
        "df_0['n_fotos'] = df_0['n_fotos'].astype('float')\n",
        "df_0['n_garagens'] = df_0['n_garagens'].astype('float')\n",
        "df_0['n_quartos'] = df_0['n_quartos'].astype('float')\n"
      ]
    },
    {
      "cell_type": "code",
      "execution_count": 184,
      "id": "Y8NQUfrqc7wB",
      "metadata": {
        "colab": {
          "base_uri": "https://localhost:8080/"
        },
        "id": "Y8NQUfrqc7wB",
        "outputId": "477cd59f-41c4-4973-c6ba-16d264bd48c6"
      },
      "outputs": [
        {
          "output_type": "stream",
          "name": "stderr",
          "text": [
            "/usr/local/lib/python3.10/dist-packages/ipykernel/ipkernel.py:283: DeprecationWarning: `should_run_async` will not call `transform_cell` automatically in the future. Please pass the result to `transformed_cell` argument and any exception that happen during thetransform in `preprocessing_exc_tuple` in IPython 7.17 and above.\n",
            "  and should_run_async(code)\n"
          ]
        },
        {
          "output_type": "execute_result",
          "data": {
            "text/plain": [
              "find_anuncio          category\n",
              "find_condominio        float64\n",
              "find_descri           category\n",
              "find_endereco         category\n",
              "find_iptu              float64\n",
              "find_loc              category\n",
              "find_m_quadrado        float64\n",
              "find_price             float64\n",
              "find_vendedor         category\n",
              "is_academia           category\n",
              "is_apertamento        category\n",
              "is_ar_condicionado    category\n",
              "is_churrasqueira      category\n",
              "is_elevador           category\n",
              "is_mobiliado          category\n",
              "is_piscina            category\n",
              "is_portaria           category\n",
              "is_profissional       category\n",
              "is_salao_festa        category\n",
              "is_varanda            category\n",
              "n_banheiros            float64\n",
              "n_fotos                float64\n",
              "n_garagens             float64\n",
              "n_quartos              float64\n",
              "dtype: object"
            ]
          },
          "metadata": {},
          "execution_count": 184
        }
      ],
      "source": [
        "df_0.dtypes"
      ]
    },
    {
      "cell_type": "code",
      "execution_count": 185,
      "id": "MhUyKVvQjn7F",
      "metadata": {
        "id": "MhUyKVvQjn7F",
        "colab": {
          "base_uri": "https://localhost:8080/"
        },
        "outputId": "84ba129f-b8a6-4f95-cbef-c109fbbaef62"
      },
      "outputs": [
        {
          "output_type": "stream",
          "name": "stderr",
          "text": [
            "/usr/local/lib/python3.10/dist-packages/ipykernel/ipkernel.py:283: DeprecationWarning: `should_run_async` will not call `transform_cell` automatically in the future. Please pass the result to `transformed_cell` argument and any exception that happen during thetransform in `preprocessing_exc_tuple` in IPython 7.17 and above.\n",
            "  and should_run_async(code)\n"
          ]
        }
      ],
      "source": [
        "df_0[df_0.select_dtypes(['category']).columns] = df_0.select_dtypes(['category']).apply(lambda x: x.cat.codes)"
      ]
    },
    {
      "cell_type": "code",
      "execution_count": 186,
      "id": "vIa0h30vkQWF",
      "metadata": {
        "colab": {
          "base_uri": "https://localhost:8080/"
        },
        "id": "vIa0h30vkQWF",
        "outputId": "15ca0003-5757-4487-8b1f-afba8c7e1d8b"
      },
      "outputs": [
        {
          "output_type": "stream",
          "name": "stderr",
          "text": [
            "/usr/local/lib/python3.10/dist-packages/ipykernel/ipkernel.py:283: DeprecationWarning: `should_run_async` will not call `transform_cell` automatically in the future. Please pass the result to `transformed_cell` argument and any exception that happen during thetransform in `preprocessing_exc_tuple` in IPython 7.17 and above.\n",
            "  and should_run_async(code)\n"
          ]
        },
        {
          "output_type": "execute_result",
          "data": {
            "text/plain": [
              "find_anuncio            int16\n",
              "find_condominio       float64\n",
              "find_descri             int16\n",
              "find_endereco           int16\n",
              "find_iptu             float64\n",
              "find_loc                int16\n",
              "find_m_quadrado       float64\n",
              "find_price            float64\n",
              "find_vendedor           int16\n",
              "is_academia              int8\n",
              "is_apertamento           int8\n",
              "is_ar_condicionado       int8\n",
              "is_churrasqueira         int8\n",
              "is_elevador              int8\n",
              "is_mobiliado             int8\n",
              "is_piscina               int8\n",
              "is_portaria              int8\n",
              "is_profissional          int8\n",
              "is_salao_festa           int8\n",
              "is_varanda               int8\n",
              "n_banheiros           float64\n",
              "n_fotos               float64\n",
              "n_garagens            float64\n",
              "n_quartos             float64\n",
              "dtype: object"
            ]
          },
          "metadata": {},
          "execution_count": 186
        }
      ],
      "source": [
        "df_0.dtypes"
      ]
    },
    {
      "cell_type": "markdown",
      "id": "781e49a4-4062-4dd8-bd1b-bb2b1d93dc09",
      "metadata": {
        "id": "781e49a4-4062-4dd8-bd1b-bb2b1d93dc09"
      },
      "source": [
        "## 2.2 Tratamento de dados ausentes\n",
        "  - vamos fazer a imputação das únicas 3 colunas que apresentam preenchimento vazio\n",
        "    - find_m_quadrado\n",
        "    - n_banheiros\n",
        "    - n_garagens"
      ]
    },
    {
      "cell_type": "code",
      "execution_count": 187,
      "id": "7853d9d8-7f09-4fa3-8c0b-494e1a3e732a",
      "metadata": {
        "colab": {
          "base_uri": "https://localhost:8080/"
        },
        "id": "7853d9d8-7f09-4fa3-8c0b-494e1a3e732a",
        "outputId": "0e04fb84-d0b8-4411-ad18-312bb8b140ed"
      },
      "outputs": [
        {
          "output_type": "stream",
          "name": "stderr",
          "text": [
            "/usr/local/lib/python3.10/dist-packages/ipykernel/ipkernel.py:283: DeprecationWarning: `should_run_async` will not call `transform_cell` automatically in the future. Please pass the result to `transformed_cell` argument and any exception that happen during thetransform in `preprocessing_exc_tuple` in IPython 7.17 and above.\n",
            "  and should_run_async(code)\n"
          ]
        },
        {
          "output_type": "execute_result",
          "data": {
            "text/plain": [
              "find_anuncio            0\n",
              "find_condominio         0\n",
              "find_descri             0\n",
              "find_endereco           0\n",
              "find_iptu               0\n",
              "find_loc                0\n",
              "find_m_quadrado        32\n",
              "find_price              0\n",
              "find_vendedor           0\n",
              "is_academia             0\n",
              "is_apertamento          0\n",
              "is_ar_condicionado      0\n",
              "is_churrasqueira        0\n",
              "is_elevador             0\n",
              "is_mobiliado            0\n",
              "is_piscina              0\n",
              "is_portaria             0\n",
              "is_profissional         0\n",
              "is_salao_festa          0\n",
              "is_varanda              0\n",
              "n_banheiros             7\n",
              "n_fotos                 0\n",
              "n_garagens            116\n",
              "n_quartos               0\n",
              "dtype: int64"
            ]
          },
          "metadata": {},
          "execution_count": 187
        }
      ],
      "source": [
        "df_0.isna().sum()"
      ]
    },
    {
      "cell_type": "markdown",
      "id": "ZmPYaVeigfQf",
      "metadata": {
        "id": "ZmPYaVeigfQf",
        "tags": []
      },
      "source": [
        "### 2.2.1 Removendo colunas pelo knnimputer"
      ]
    },
    {
      "cell_type": "code",
      "execution_count": 188,
      "id": "RUqrpf54gDF4",
      "metadata": {
        "colab": {
          "base_uri": "https://localhost:8080/"
        },
        "id": "RUqrpf54gDF4",
        "outputId": "c92b2804-0b74-4893-df23-35abc38562d5",
        "scrolled": true,
        "tags": []
      },
      "outputs": [
        {
          "output_type": "stream",
          "name": "stderr",
          "text": [
            "/usr/local/lib/python3.10/dist-packages/ipykernel/ipkernel.py:283: DeprecationWarning: `should_run_async` will not call `transform_cell` automatically in the future. Please pass the result to `transformed_cell` argument and any exception that happen during thetransform in `preprocessing_exc_tuple` in IPython 7.17 and above.\n",
            "  and should_run_async(code)\n"
          ]
        },
        {
          "output_type": "stream",
          "name": "stdout",
          "text": [
            "Imputing row 1/4557 with 0 missing, elapsed time: 4.561\n",
            "Imputing row 101/4557 with 0 missing, elapsed time: 4.563\n",
            "Imputing row 201/4557 with 0 missing, elapsed time: 4.565\n",
            "Imputing row 301/4557 with 0 missing, elapsed time: 4.566\n",
            "Imputing row 401/4557 with 0 missing, elapsed time: 4.567\n",
            "Imputing row 501/4557 with 0 missing, elapsed time: 4.570\n",
            "Imputing row 601/4557 with 0 missing, elapsed time: 4.571\n",
            "Imputing row 701/4557 with 0 missing, elapsed time: 4.572\n",
            "Imputing row 801/4557 with 0 missing, elapsed time: 4.572\n",
            "Imputing row 901/4557 with 0 missing, elapsed time: 4.573\n",
            "Imputing row 1001/4557 with 0 missing, elapsed time: 4.573\n",
            "Imputing row 1101/4557 with 0 missing, elapsed time: 4.574\n",
            "Imputing row 1201/4557 with 0 missing, elapsed time: 4.578\n",
            "Imputing row 1301/4557 with 0 missing, elapsed time: 4.579\n",
            "Imputing row 1401/4557 with 0 missing, elapsed time: 4.580\n",
            "Imputing row 1501/4557 with 0 missing, elapsed time: 4.581\n",
            "Imputing row 1601/4557 with 0 missing, elapsed time: 4.582\n",
            "Imputing row 1701/4557 with 0 missing, elapsed time: 4.583\n",
            "Imputing row 1801/4557 with 0 missing, elapsed time: 4.584\n",
            "Imputing row 1901/4557 with 0 missing, elapsed time: 4.585\n",
            "Imputing row 2001/4557 with 0 missing, elapsed time: 4.586\n",
            "Imputing row 2101/4557 with 0 missing, elapsed time: 4.587\n",
            "Imputing row 2201/4557 with 0 missing, elapsed time: 4.587\n",
            "Imputing row 2301/4557 with 0 missing, elapsed time: 4.588\n",
            "Imputing row 2401/4557 with 0 missing, elapsed time: 4.589\n",
            "Imputing row 2501/4557 with 0 missing, elapsed time: 4.590\n",
            "Imputing row 2601/4557 with 0 missing, elapsed time: 4.591\n",
            "Imputing row 2701/4557 with 0 missing, elapsed time: 4.592\n",
            "Imputing row 2801/4557 with 0 missing, elapsed time: 4.592\n",
            "Imputing row 2901/4557 with 0 missing, elapsed time: 4.593\n",
            "Imputing row 3001/4557 with 0 missing, elapsed time: 4.594\n",
            "Imputing row 3101/4557 with 0 missing, elapsed time: 4.595\n",
            "Imputing row 3201/4557 with 0 missing, elapsed time: 4.596\n",
            "Imputing row 3301/4557 with 0 missing, elapsed time: 4.597\n",
            "Imputing row 3401/4557 with 0 missing, elapsed time: 4.597\n",
            "Imputing row 3501/4557 with 0 missing, elapsed time: 4.598\n",
            "Imputing row 3601/4557 with 1 missing, elapsed time: 4.599\n",
            "Imputing row 3701/4557 with 0 missing, elapsed time: 4.599\n",
            "Imputing row 3801/4557 with 0 missing, elapsed time: 4.602\n",
            "Imputing row 3901/4557 with 0 missing, elapsed time: 4.603\n",
            "Imputing row 4001/4557 with 0 missing, elapsed time: 4.604\n",
            "Imputing row 4101/4557 with 0 missing, elapsed time: 4.605\n",
            "Imputing row 4201/4557 with 0 missing, elapsed time: 4.606\n",
            "Imputing row 4301/4557 with 0 missing, elapsed time: 4.607\n",
            "Imputing row 4401/4557 with 0 missing, elapsed time: 4.608\n",
            "Imputing row 4501/4557 with 0 missing, elapsed time: 4.609\n"
          ]
        }
      ],
      "source": [
        "from fancyimpute import KNN\n",
        "\n",
        "df_0_knn = KNN(k=2).fit_transform(df_0)"
      ]
    },
    {
      "cell_type": "code",
      "execution_count": 189,
      "id": "HWY6iQEylcWd",
      "metadata": {
        "id": "HWY6iQEylcWd",
        "colab": {
          "base_uri": "https://localhost:8080/"
        },
        "outputId": "ee7b701b-f8da-4f4a-cc9c-c7235a52cf9e"
      },
      "outputs": [
        {
          "output_type": "stream",
          "name": "stderr",
          "text": [
            "/usr/local/lib/python3.10/dist-packages/ipykernel/ipkernel.py:283: DeprecationWarning: `should_run_async` will not call `transform_cell` automatically in the future. Please pass the result to `transformed_cell` argument and any exception that happen during thetransform in `preprocessing_exc_tuple` in IPython 7.17 and above.\n",
            "  and should_run_async(code)\n"
          ]
        }
      ],
      "source": [
        "df_0 = pd.DataFrame(data=df_0_knn[0:,0:],columns=df_0.columns)\n"
      ]
    },
    {
      "cell_type": "code",
      "execution_count": 190,
      "id": "30dM3v7XgDSZ",
      "metadata": {
        "colab": {
          "base_uri": "https://localhost:8080/"
        },
        "id": "30dM3v7XgDSZ",
        "outputId": "f1231585-b5a9-4d50-e694-88491ae71b75"
      },
      "outputs": [
        {
          "output_type": "stream",
          "name": "stderr",
          "text": [
            "/usr/local/lib/python3.10/dist-packages/ipykernel/ipkernel.py:283: DeprecationWarning: `should_run_async` will not call `transform_cell` automatically in the future. Please pass the result to `transformed_cell` argument and any exception that happen during thetransform in `preprocessing_exc_tuple` in IPython 7.17 and above.\n",
            "  and should_run_async(code)\n"
          ]
        },
        {
          "output_type": "execute_result",
          "data": {
            "text/plain": [
              "find_anuncio          0\n",
              "find_condominio       0\n",
              "find_descri           0\n",
              "find_endereco         0\n",
              "find_iptu             0\n",
              "find_loc              0\n",
              "find_m_quadrado       0\n",
              "find_price            0\n",
              "find_vendedor         0\n",
              "is_academia           0\n",
              "is_apertamento        0\n",
              "is_ar_condicionado    0\n",
              "is_churrasqueira      0\n",
              "is_elevador           0\n",
              "is_mobiliado          0\n",
              "is_piscina            0\n",
              "is_portaria           0\n",
              "is_profissional       0\n",
              "is_salao_festa        0\n",
              "is_varanda            0\n",
              "n_banheiros           0\n",
              "n_fotos               0\n",
              "n_garagens            0\n",
              "n_quartos             0\n",
              "dtype: int64"
            ]
          },
          "metadata": {},
          "execution_count": 190
        }
      ],
      "source": [
        "df_0.isna().sum()"
      ]
    },
    {
      "cell_type": "markdown",
      "id": "VJfo9lywm6KP",
      "metadata": {
        "id": "VJfo9lywm6KP"
      },
      "source": [
        "## 2.3 Normalização e discretização dos dados"
      ]
    },
    {
      "cell_type": "code",
      "source": [
        "# fazendo a discretização do find_m_quadrado para entender melhor distribuição pelos segmentos\n",
        "df_disc = df_0.copy()\n",
        "df_disc['dist_find_m_quadrado'] = pd.cut(df_disc['find_m_quadrado'], bins=10000)\n",
        "\n",
        "df_disc['dist_find_m_quadrado'].value_counts()[:25].plot(kind='bar')"
      ],
      "metadata": {
        "colab": {
          "base_uri": "https://localhost:8080/",
          "height": 624
        },
        "id": "LPMh6ClnU3TJ",
        "outputId": "9548d90b-f456-4c76-dcea-029d552e11b0"
      },
      "id": "LPMh6ClnU3TJ",
      "execution_count": 193,
      "outputs": [
        {
          "output_type": "stream",
          "name": "stderr",
          "text": [
            "/usr/local/lib/python3.10/dist-packages/ipykernel/ipkernel.py:283: DeprecationWarning: `should_run_async` will not call `transform_cell` automatically in the future. Please pass the result to `transformed_cell` argument and any exception that happen during thetransform in `preprocessing_exc_tuple` in IPython 7.17 and above.\n",
            "  and should_run_async(code)\n"
          ]
        },
        {
          "output_type": "execute_result",
          "data": {
            "text/plain": [
              "<Axes: xlabel='dist_find_m_quadrado'>"
            ]
          },
          "metadata": {},
          "execution_count": 193
        },
        {
          "output_type": "display_data",
          "data": {
            "text/plain": [
              "<Figure size 640x480 with 1 Axes>"
            ],
            "image/png": "[encoded data removed]"
          },
          "metadata": {}
        }
      ]
    },
    {
      "cell_type": "code",
      "execution_count": 194,
      "id": "0gzeNIt1m5TQ",
      "metadata": {
        "id": "0gzeNIt1m5TQ",
        "colab": {
          "base_uri": "https://localhost:8080/"
        },
        "outputId": "4d8d3f99-dfc0-435d-efe1-3c95cd1cf858"
      },
      "outputs": [
        {
          "output_type": "stream",
          "name": "stderr",
          "text": [
            "/usr/local/lib/python3.10/dist-packages/ipykernel/ipkernel.py:283: DeprecationWarning: `should_run_async` will not call `transform_cell` automatically in the future. Please pass the result to `transformed_cell` argument and any exception that happen during thetransform in `preprocessing_exc_tuple` in IPython 7.17 and above.\n",
            "  and should_run_async(code)\n"
          ]
        }
      ],
      "source": [
        "# minmax em todo o dataframe\n",
        "df_0_norm = (df_0 - df_0.min()) / (df_0.max() - df_0.min()).copy()"
      ]
    },
    {
      "cell_type": "code",
      "execution_count": 195,
      "id": "heA_Du61oTJh",
      "metadata": {
        "colab": {
          "base_uri": "https://localhost:8080/",
          "height": 355
        },
        "id": "heA_Du61oTJh",
        "outputId": "29c3aa8c-f1b3-4adb-a205-afa236890cef"
      },
      "outputs": [
        {
          "output_type": "stream",
          "name": "stderr",
          "text": [
            "/usr/local/lib/python3.10/dist-packages/ipykernel/ipkernel.py:283: DeprecationWarning: `should_run_async` will not call `transform_cell` automatically in the future. Please pass the result to `transformed_cell` argument and any exception that happen during thetransform in `preprocessing_exc_tuple` in IPython 7.17 and above.\n",
            "  and should_run_async(code)\n"
          ]
        },
        {
          "output_type": "execute_result",
          "data": {
            "text/plain": [
              "       find_anuncio  find_condominio  find_descri  find_endereco  \\\n",
              "count   4557.000000      4557.000000  4557.000000    4557.000000   \n",
              "mean       0.482763         0.001111     0.501437       0.406135   \n",
              "std        0.281275         0.024979     0.289263       0.308122   \n",
              "min        0.000000         0.000000     0.000000       0.000000   \n",
              "25%        0.255073         0.000001     0.250938       0.111872   \n",
              "50%        0.467506         0.000114     0.502317       0.335616   \n",
              "75%        0.720267         0.000504     0.751931       0.673516   \n",
              "max        1.000000         1.000000     1.000000       1.000000   \n",
              "\n",
              "          find_iptu     find_loc  find_m_quadrado   find_price  find_vendedor  \\\n",
              "count  4.557000e+03  4557.000000      4557.000000  4557.000000    4557.000000   \n",
              "mean   6.985622e-04     0.501175         0.000691     0.261314       0.490102   \n",
              "std    1.536719e-02     0.282680         0.014812     0.175458       0.276655   \n",
              "min    0.000000e+00     0.000000         0.000000     0.000000       0.000000   \n",
              "25%    9.259251e-07     0.266588         0.000277     0.143434       0.245409   \n",
              "50%    1.851850e-06     0.502370         0.000395     0.195972       0.497496   \n",
              "75%    2.787034e-04     0.744076         0.000615     0.333333       0.714524   \n",
              "max    1.000000e+00     1.000000         1.000000     1.000000       1.000000   \n",
              "\n",
              "       is_academia  is_apertamento  is_ar_condicionado  is_churrasqueira  \\\n",
              "count  4557.000000     4557.000000         4557.000000       4557.000000   \n",
              "mean      0.468071        0.964670            0.215054          0.436910   \n",
              "std       0.499034        0.184633            0.410905          0.496058   \n",
              "min       0.000000        0.000000            0.000000          0.000000   \n",
              "25%       0.000000        1.000000            0.000000          0.000000   \n",
              "50%       0.000000        1.000000            0.000000          0.000000   \n",
              "75%       1.000000        1.000000            0.000000          1.000000   \n",
              "max       1.000000        1.000000            1.000000          1.000000   \n",
              "\n",
              "       is_elevador  is_mobiliado   is_piscina  is_portaria  is_profissional  \\\n",
              "count  4557.000000   4557.000000  4557.000000  4557.000000      4557.000000   \n",
              "mean      0.677200      0.062761     0.633092     0.614000         0.979372   \n",
              "std       0.467598      0.242558     0.482014     0.486884         0.142150   \n",
              "min       0.000000      0.000000     0.000000     0.000000         0.000000   \n",
              "25%       0.000000      0.000000     0.000000     0.000000         1.000000   \n",
              "50%       1.000000      0.000000     1.000000     1.000000         1.000000   \n",
              "75%       1.000000      0.000000     1.000000     1.000000         1.000000   \n",
              "max       1.000000      1.000000     1.000000     1.000000         1.000000   \n",
              "\n",
              "       is_salao_festa   is_varanda  n_banheiros      n_fotos   n_garagens  \\\n",
              "count     4557.000000  4557.000000  4557.000000  4557.000000  4557.000000   \n",
              "mean         0.639456     0.346939     0.456463     0.781249     0.364573   \n",
              "std          0.480211     0.476048     0.236903     0.251340     0.165810   \n",
              "min          0.000000     0.000000     0.000000     0.000000     0.000000   \n",
              "25%          0.000000     0.000000     0.250000     0.650000     0.250000   \n",
              "50%          1.000000     0.000000     0.500000     0.900000     0.250000   \n",
              "75%          1.000000     1.000000     0.500000     0.950000     0.500000   \n",
              "max          1.000000     1.000000     1.000000     1.000000     1.000000   \n",
              "\n",
              "         n_quartos  \n",
              "count  4557.000000  \n",
              "mean      0.667654  \n",
              "std       0.219514  \n",
              "min       0.000000  \n",
              "25%       0.500000  \n",
              "50%       0.750000  \n",
              "75%       0.750000  \n",
              "max       1.000000  "
            ],
            "text/html": [
              "\n",
              "  <div id=\"df-42dfb3b7-346c-44b7-a265-1aada08d1e02\" class=\"colab-df-container\">\n",
              "    <div>\n",
              "<style scoped>\n",
              "    .dataframe tbody tr th:only-of-type {\n",
              "        vertical-align: middle;\n",
              "    }\n",
              "\n",
              "    .dataframe tbody tr th {\n",
              "        vertical-align: top;\n",
              "    }\n",
              "\n",
              "    .dataframe thead th {\n",
              "        text-align: right;\n",
              "    }\n",
              "</style>\n",
              "<table border=\"1\" class=\"dataframe\">\n",
              "  <thead>\n",
              "    <tr style=\"text-align: right;\">\n",
              "      <th></th>\n",
              "      <th>find_anuncio</th>\n",
              "      <th>find_condominio</th>\n",
              "      <th>find_descri</th>\n",
              "      <th>find_endereco</th>\n",
              "      <th>find_iptu</th>\n",
              "      <th>find_loc</th>\n",
              "      <th>find_m_quadrado</th>\n",
              "      <th>find_price</th>\n",
              "      <th>find_vendedor</th>\n",
              "      <th>is_academia</th>\n",
              "      <th>is_apertamento</th>\n",
              "      <th>is_ar_condicionado</th>\n",
              "      <th>is_churrasqueira</th>\n",
              "      <th>is_elevador</th>\n",
              "      <th>is_mobiliado</th>\n",
              "      <th>is_piscina</th>\n",
              "      <th>is_portaria</th>\n",
              "      <th>is_profissional</th>\n",
              "      <th>is_salao_festa</th>\n",
              "      <th>is_varanda</th>\n",
              "      <th>n_banheiros</th>\n",
              "      <th>n_fotos</th>\n",
              "      <th>n_garagens</th>\n",
              "      <th>n_quartos</th>\n",
              "    </tr>\n",
              "  </thead>\n",
              "  <tbody>\n",
              "    <tr>\n",
              "      <th>count</th>\n",
              "      <td>4557.000000</td>\n",
              "      <td>4557.000000</td>\n",
              "      <td>4557.000000</td>\n",
              "      <td>4557.000000</td>\n",
              "      <td>4.557000e+03</td>\n",
              "      <td>4557.000000</td>\n",
              "      <td>4557.000000</td>\n",
              "      <td>4557.000000</td>\n",
              "      <td>4557.000000</td>\n",
              "      <td>4557.000000</td>\n",
              "      <td>4557.000000</td>\n",
              "      <td>4557.000000</td>\n",
              "      <td>4557.000000</td>\n",
              "      <td>4557.000000</td>\n",
              "      <td>4557.000000</td>\n",
              "      <td>4557.000000</td>\n",
              "      <td>4557.000000</td>\n",
              "      <td>4557.000000</td>\n",
              "      <td>4557.000000</td>\n",
              "      <td>4557.000000</td>\n",
              "      <td>4557.000000</td>\n",
              "      <td>4557.000000</td>\n",
              "      <td>4557.000000</td>\n",
              "      <td>4557.000000</td>\n",
              "    </tr>\n",
              "    <tr>\n",
              "      <th>mean</th>\n",
              "      <td>0.482763</td>\n",
              "      <td>0.001111</td>\n",
              "      <td>0.501437</td>\n",
              "      <td>0.406135</td>\n",
              "      <td>6.985622e-04</td>\n",
              "      <td>0.501175</td>\n",
              "      <td>0.000691</td>\n",
              "      <td>0.261314</td>\n",
              "      <td>0.490102</td>\n",
              "      <td>0.468071</td>\n",
              "      <td>0.964670</td>\n",
              "      <td>0.215054</td>\n",
              "      <td>0.436910</td>\n",
              "      <td>0.677200</td>\n",
              "      <td>0.062761</td>\n",
              "      <td>0.633092</td>\n",
              "      <td>0.614000</td>\n",
              "      <td>0.979372</td>\n",
              "      <td>0.639456</td>\n",
              "      <td>0.346939</td>\n",
              "      <td>0.456463</td>\n",
              "      <td>0.781249</td>\n",
              "      <td>0.364573</td>\n",
              "      <td>0.667654</td>\n",
              "    </tr>\n",
              "    <tr>\n",
              "      <th>std</th>\n",
              "      <td>0.281275</td>\n",
              "      <td>0.024979</td>\n",
              "      <td>0.289263</td>\n",
              "      <td>0.308122</td>\n",
              "      <td>1.536719e-02</td>\n",
              "      <td>0.282680</td>\n",
              "      <td>0.014812</td>\n",
              "      <td>0.175458</td>\n",
              "      <td>0.276655</td>\n",
              "      <td>0.499034</td>\n",
              "      <td>0.184633</td>\n",
              "      <td>0.410905</td>\n",
              "      <td>0.496058</td>\n",
              "      <td>0.467598</td>\n",
              "      <td>0.242558</td>\n",
              "      <td>0.482014</td>\n",
              "      <td>0.486884</td>\n",
              "      <td>0.142150</td>\n",
              "      <td>0.480211</td>\n",
              "      <td>0.476048</td>\n",
              "      <td>0.236903</td>\n",
              "      <td>0.251340</td>\n",
              "      <td>0.165810</td>\n",
              "      <td>0.219514</td>\n",
              "    </tr>\n",
              "    <tr>\n",
              "      <th>min</th>\n",
              "      <td>0.000000</td>\n",
              "      <td>0.000000</td>\n",
              "      <td>0.000000</td>\n",
              "      <td>0.000000</td>\n",
              "      <td>0.000000e+00</td>\n",
              "      <td>0.000000</td>\n",
              "      <td>0.000000</td>\n",
              "      <td>0.000000</td>\n",
              "      <td>0.000000</td>\n",
              "      <td>0.000000</td>\n",
              "      <td>0.000000</td>\n",
              "      <td>0.000000</td>\n",
              "      <td>0.000000</td>\n",
              "      <td>0.000000</td>\n",
              "      <td>0.000000</td>\n",
              "      <td>0.000000</td>\n",
              "      <td>0.000000</td>\n",
              "      <td>0.000000</td>\n",
              "      <td>0.000000</td>\n",
              "      <td>0.000000</td>\n",
              "      <td>0.000000</td>\n",
              "      <td>0.000000</td>\n",
              "      <td>0.000000</td>\n",
              "      <td>0.000000</td>\n",
              "    </tr>\n",
              "    <tr>\n",
              "      <th>25%</th>\n",
              "      <td>0.255073</td>\n",
              "      <td>0.000001</td>\n",
              "      <td>0.250938</td>\n",
              "      <td>0.111872</td>\n",
              "      <td>9.259251e-07</td>\n",
              "      <td>0.266588</td>\n",
              "      <td>0.000277</td>\n",
              "      <td>0.143434</td>\n",
              "      <td>0.245409</td>\n",
              "      <td>0.000000</td>\n",
              "      <td>1.000000</td>\n",
              "      <td>0.000000</td>\n",
              "      <td>0.000000</td>\n",
              "      <td>0.000000</td>\n",
              "      <td>0.000000</td>\n",
              "      <td>0.000000</td>\n",
              "      <td>0.000000</td>\n",
              "      <td>1.000000</td>\n",
              "      <td>0.000000</td>\n",
              "      <td>0.000000</td>\n",
              "      <td>0.250000</td>\n",
              "      <td>0.650000</td>\n",
              "      <td>0.250000</td>\n",
              "      <td>0.500000</td>\n",
              "    </tr>\n",
              "    <tr>\n",
              "      <th>50%</th>\n",
              "      <td>0.467506</td>\n",
              "      <td>0.000114</td>\n",
              "      <td>0.502317</td>\n",
              "      <td>0.335616</td>\n",
              "      <td>1.851850e-06</td>\n",
              "      <td>0.502370</td>\n",
              "      <td>0.000395</td>\n",
              "      <td>0.195972</td>\n",
              "      <td>0.497496</td>\n",
              "      <td>0.000000</td>\n",
              "      <td>1.000000</td>\n",
              "      <td>0.000000</td>\n",
              "      <td>0.000000</td>\n",
              "      <td>1.000000</td>\n",
              "      <td>0.000000</td>\n",
              "      <td>1.000000</td>\n",
              "      <td>1.000000</td>\n",
              "      <td>1.000000</td>\n",
              "      <td>1.000000</td>\n",
              "      <td>0.000000</td>\n",
              "      <td>0.500000</td>\n",
              "      <td>0.900000</td>\n",
              "      <td>0.250000</td>\n",
              "      <td>0.750000</td>\n",
              "    </tr>\n",
              "    <tr>\n",
              "      <th>75%</th>\n",
              "      <td>0.720267</td>\n",
              "      <td>0.000504</td>\n",
              "      <td>0.751931</td>\n",
              "      <td>0.673516</td>\n",
              "      <td>2.787034e-04</td>\n",
              "      <td>0.744076</td>\n",
              "      <td>0.000615</td>\n",
              "      <td>0.333333</td>\n",
              "      <td>0.714524</td>\n",
              "      <td>1.000000</td>\n",
              "      <td>1.000000</td>\n",
              "      <td>0.000000</td>\n",
              "      <td>1.000000</td>\n",
              "      <td>1.000000</td>\n",
              "      <td>0.000000</td>\n",
              "      <td>1.000000</td>\n",
              "      <td>1.000000</td>\n",
              "      <td>1.000000</td>\n",
              "      <td>1.000000</td>\n",
              "      <td>1.000000</td>\n",
              "      <td>0.500000</td>\n",
              "      <td>0.950000</td>\n",
              "      <td>0.500000</td>\n",
              "      <td>0.750000</td>\n",
              "    </tr>\n",
              "    <tr>\n",
              "      <th>max</th>\n",
              "      <td>1.000000</td>\n",
              "      <td>1.000000</td>\n",
              "      <td>1.000000</td>\n",
              "      <td>1.000000</td>\n",
              "      <td>1.000000e+00</td>\n",
              "      <td>1.000000</td>\n",
              "      <td>1.000000</td>\n",
              "      <td>1.000000</td>\n",
              "      <td>1.000000</td>\n",
              "      <td>1.000000</td>\n",
              "      <td>1.000000</td>\n",
              "      <td>1.000000</td>\n",
              "      <td>1.000000</td>\n",
              "      <td>1.000000</td>\n",
              "      <td>1.000000</td>\n",
              "      <td>1.000000</td>\n",
              "      <td>1.000000</td>\n",
              "      <td>1.000000</td>\n",
              "      <td>1.000000</td>\n",
              "      <td>1.000000</td>\n",
              "      <td>1.000000</td>\n",
              "      <td>1.000000</td>\n",
              "      <td>1.000000</td>\n",
              "      <td>1.000000</td>\n",
              "    </tr>\n",
              "  </tbody>\n",
              "</table>\n",
              "</div>\n",
              "    <div class=\"colab-df-buttons\">\n",
              "\n",
              "  <div class=\"colab-df-container\">\n",
              "    <button class=\"colab-df-convert\" onclick=\"convertToInteractive('df-42dfb3b7-346c-44b7-a265-1aada08d1e02')\"\n",
              "            title=\"Convert this dataframe to an interactive table.\"\n",
              "            style=\"display:none;\">\n",
              "\n",
              "  <svg xmlns=\"http://www.w3.org/2000/svg\" height=\"24px\" viewBox=\"0 -960 960 960\">\n",
              "    <path d=\"M120-120v-720h720v720H120Zm60-500h600v-160H180v160Zm220 220h160v-160H400v160Zm0 220h160v-160H400v160ZM180-400h160v-160H180v160Zm440 0h160v-160H620v160ZM180-180h160v-160H180v160Zm440 0h160v-160H620v160Z\"/>\n",
              "  </svg>\n",
              "    </button>\n",
              "\n",
              "  <style>\n",
              "    .colab-df-container {\n",
              "      display:flex;\n",
              "      gap: 12px;\n",
              "    }\n",
              "\n",
              "    .colab-df-convert {\n",
              "      background-color: #E8F0FE;\n",
              "      border: none;\n",
              "      border-radius: 50%;\n",
              "      cursor: pointer;\n",
              "      display: none;\n",
              "      fill: #1967D2;\n",
              "      height: 32px;\n",
              "      padding: 0 0 0 0;\n",
              "      width: 32px;\n",
              "    }\n",
              "\n",
              "    .colab-df-convert:hover {\n",
              "      background-color: #E2EBFA;\n",
              "      box-shadow: 0px 1px 2px rgba(60, 64, 67, 0.3), 0px 1px 3px 1px rgba(60, 64, 67, 0.15);\n",
              "      fill: #174EA6;\n",
              "    }\n",
              "\n",
              "    .colab-df-buttons div {\n",
              "      margin-bottom: 4px;\n",
              "    }\n",
              "\n",
              "    [theme=dark] .colab-df-convert {\n",
              "      background-color: #3B4455;\n",
              "      fill: #D2E3FC;\n",
              "    }\n",
              "\n",
              "    [theme=dark] .colab-df-convert:hover {\n",
              "      background-color: #434B5C;\n",
              "      box-shadow: 0px 1px 3px 1px rgba(0, 0, 0, 0.15);\n",
              "      filter: drop-shadow(0px 1px 2px rgba(0, 0, 0, 0.3));\n",
              "      fill: #FFFFFF;\n",
              "    }\n",
              "  </style>\n",
              "\n",
              "    <script>\n",
              "      const buttonEl =\n",
              "        document.querySelector('#df-42dfb3b7-346c-44b7-a265-1aada08d1e02 button.colab-df-convert');\n",
              "      buttonEl.style.display =\n",
              "        google.colab.kernel.accessAllowed ? 'block' : 'none';\n",
              "\n",
              "      async function convertToInteractive(key) {\n",
              "        const element = document.querySelector('#df-42dfb3b7-346c-44b7-a265-1aada08d1e02');\n",
              "        const dataTable =\n",
              "          await google.colab.kernel.invokeFunction('convertToInteractive',\n",
              "                                                    [key], {});\n",
              "        if (!dataTable) return;\n",
              "\n",
              "        const docLinkHtml = 'Like what you see? Visit the ' +\n",
              "          '<a target=\"_blank\" href=https://colab.research.google.com/notebooks/data_table.ipynb>data table notebook</a>'\n",
              "          + ' to learn more about interactive tables.';\n",
              "        element.innerHTML = '';\n",
              "        dataTable['output_type'] = 'display_data';\n",
              "        await google.colab.output.renderOutput(dataTable, element);\n",
              "        const docLink = document.createElement('div');\n",
              "        docLink.innerHTML = docLinkHtml;\n",
              "        element.appendChild(docLink);\n",
              "      }\n",
              "    </script>\n",
              "  </div>\n",
              "\n",
              "\n",
              "<div id=\"df-f9ab1d35-c0f2-417e-a8b4-e728fa0cab7a\">\n",
              "  <button class=\"colab-df-quickchart\" onclick=\"quickchart('df-f9ab1d35-c0f2-417e-a8b4-e728fa0cab7a')\"\n",
              "            title=\"Suggest charts\"\n",
              "            style=\"display:none;\">\n",
              "\n",
              "<svg xmlns=\"http://www.w3.org/2000/svg\" height=\"24px\"viewBox=\"0 0 24 24\"\n",
              "     width=\"24px\">\n",
              "    <g>\n",
              "        <path d=\"M19 3H5c-1.1 0-2 .9-2 2v14c0 1.1.9 2 2 2h14c1.1 0 2-.9 2-2V5c0-1.1-.9-2-2-2zM9 17H7v-7h2v7zm4 0h-2V7h2v10zm4 0h-2v-4h2v4z\"/>\n",
              "    </g>\n",
              "</svg>\n",
              "  </button>\n",
              "\n",
              "<style>\n",
              "  .colab-df-quickchart {\n",
              "      --bg-color: #E8F0FE;\n",
              "      --fill-color: #1967D2;\n",
              "      --hover-bg-color: #E2EBFA;\n",
              "      --hover-fill-color: #174EA6;\n",
              "      --disabled-fill-color: #AAA;\n",
              "      --disabled-bg-color: #DDD;\n",
              "  }\n",
              "\n",
              "  [theme=dark] .colab-df-quickchart {\n",
              "      --bg-color: #3B4455;\n",
              "      --fill-color: #D2E3FC;\n",
              "      --hover-bg-color: #434B5C;\n",
              "      --hover-fill-color: #FFFFFF;\n",
              "      --disabled-bg-color: #3B4455;\n",
              "      --disabled-fill-color: #666;\n",
              "  }\n",
              "\n",
              "  .colab-df-quickchart {\n",
              "    background-color: var(--bg-color);\n",
              "    border: none;\n",
              "    border-radius: 50%;\n",
              "    cursor: pointer;\n",
              "    display: none;\n",
              "    fill: var(--fill-color);\n",
              "    height: 32px;\n",
              "    padding: 0;\n",
              "    width: 32px;\n",
              "  }\n",
              "\n",
              "  .colab-df-quickchart:hover {\n",
              "    background-color: var(--hover-bg-color);\n",
              "    box-shadow: 0 1px 2px rgba(60, 64, 67, 0.3), 0 1px 3px 1px rgba(60, 64, 67, 0.15);\n",
              "    fill: var(--button-hover-fill-color);\n",
              "  }\n",
              "\n",
              "  .colab-df-quickchart-complete:disabled,\n",
              "  .colab-df-quickchart-complete:disabled:hover {\n",
              "    background-color: var(--disabled-bg-color);\n",
              "    fill: var(--disabled-fill-color);\n",
              "    box-shadow: none;\n",
              "  }\n",
              "\n",
              "  .colab-df-spinner {\n",
              "    border: 2px solid var(--fill-color);\n",
              "    border-color: transparent;\n",
              "    border-bottom-color: var(--fill-color);\n",
              "    animation:\n",
              "      spin 1s steps(1) infinite;\n",
              "  }\n",
              "\n",
              "  @keyframes spin {\n",
              "    0% {\n",
              "      border-color: transparent;\n",
              "      border-bottom-color: var(--fill-color);\n",
              "      border-left-color: var(--fill-color);\n",
              "    }\n",
              "    20% {\n",
              "      border-color: transparent;\n",
              "      border-left-color: var(--fill-color);\n",
              "      border-top-color: var(--fill-color);\n",
              "    }\n",
              "    30% {\n",
              "      border-color: transparent;\n",
              "      border-left-color: var(--fill-color);\n",
              "      border-top-color: var(--fill-color);\n",
              "      border-right-color: var(--fill-color);\n",
              "    }\n",
              "    40% {\n",
              "      border-color: transparent;\n",
              "      border-right-color: var(--fill-color);\n",
              "      border-top-color: var(--fill-color);\n",
              "    }\n",
              "    60% {\n",
              "      border-color: transparent;\n",
              "      border-right-color: var(--fill-color);\n",
              "    }\n",
              "    80% {\n",
              "      border-color: transparent;\n",
              "      border-right-color: var(--fill-color);\n",
              "      border-bottom-color: var(--fill-color);\n",
              "    }\n",
              "    90% {\n",
              "      border-color: transparent;\n",
              "      border-bottom-color: var(--fill-color);\n",
              "    }\n",
              "  }\n",
              "</style>\n",
              "\n",
              "  <script>\n",
              "    async function quickchart(key) {\n",
              "      const quickchartButtonEl =\n",
              "        document.querySelector('#' + key + ' button');\n",
              "      quickchartButtonEl.disabled = true;  // To prevent multiple clicks.\n",
              "      quickchartButtonEl.classList.add('colab-df-spinner');\n",
              "      try {\n",
              "        const charts = await google.colab.kernel.invokeFunction(\n",
              "            'suggestCharts', [key], {});\n",
              "      } catch (error) {\n",
              "        console.error('Error during call to suggestCharts:', error);\n",
              "      }\n",
              "      quickchartButtonEl.classList.remove('colab-df-spinner');\n",
              "      quickchartButtonEl.classList.add('colab-df-quickchart-complete');\n",
              "    }\n",
              "    (() => {\n",
              "      let quickchartButtonEl =\n",
              "        document.querySelector('#df-f9ab1d35-c0f2-417e-a8b4-e728fa0cab7a button');\n",
              "      quickchartButtonEl.style.display =\n",
              "        google.colab.kernel.accessAllowed ? 'block' : 'none';\n",
              "    })();\n",
              "  </script>\n",
              "</div>\n",
              "    </div>\n",
              "  </div>\n"
            ],
            "application/vnd.google.colaboratory.intrinsic+json": {
              "type": "dataframe"
            }
          },
          "metadata": {},
          "execution_count": 195
        }
      ],
      "source": [
        "df_0_norm.describe()"
      ]
    },
    {
      "cell_type": "markdown",
      "id": "35b871ba-9832-4705-a9ca-0029bf73a826",
      "metadata": {
        "id": "35b871ba-9832-4705-a9ca-0029bf73a826",
        "jp-MarkdownHeadingCollapsed": true,
        "tags": []
      },
      "source": [
        "## 2.4 Limpeza dos dados"
      ]
    },
    {
      "cell_type": "code",
      "execution_count": 218,
      "id": "sYg8_EO16Z5T",
      "metadata": {
        "id": "sYg8_EO16Z5T",
        "colab": {
          "base_uri": "https://localhost:8080/"
        },
        "outputId": "64231aad-8540-4c84-aba1-0e1c3ba90528"
      },
      "outputs": [
        {
          "output_type": "stream",
          "name": "stderr",
          "text": [
            "/usr/local/lib/python3.10/dist-packages/ipykernel/ipkernel.py:283: DeprecationWarning: `should_run_async` will not call `transform_cell` automatically in the future. Please pass the result to `transformed_cell` argument and any exception that happen during thetransform in `preprocessing_exc_tuple` in IPython 7.17 and above.\n",
            "  and should_run_async(code)\n"
          ]
        }
      ],
      "source": [
        "df_1 = df_0.copy()\n",
        "df_1_norm = df_0_norm.copy()"
      ]
    },
    {
      "cell_type": "markdown",
      "id": "abdd1d1e-fe30-4291-90bc-f5a54af4f42e",
      "metadata": {
        "id": "abdd1d1e-fe30-4291-90bc-f5a54af4f42e",
        "jp-MarkdownHeadingCollapsed": true,
        "tags": []
      },
      "source": [
        "### 2.4.1 univariado"
      ]
    },
    {
      "cell_type": "code",
      "execution_count": 219,
      "id": "2e4f0939-0105-4212-9f9c-143f6d2ac6d2",
      "metadata": {
        "colab": {
          "base_uri": "https://localhost:8080/",
          "height": 517
        },
        "id": "2e4f0939-0105-4212-9f9c-143f6d2ac6d2",
        "outputId": "866730bb-75dd-4f3c-d36d-82adbcf16d16"
      },
      "outputs": [
        {
          "output_type": "stream",
          "name": "stderr",
          "text": [
            "/usr/local/lib/python3.10/dist-packages/ipykernel/ipkernel.py:283: DeprecationWarning: `should_run_async` will not call `transform_cell` automatically in the future. Please pass the result to `transformed_cell` argument and any exception that happen during thetransform in `preprocessing_exc_tuple` in IPython 7.17 and above.\n",
            "  and should_run_async(code)\n"
          ]
        },
        {
          "output_type": "execute_result",
          "data": {
            "text/plain": [
              "<Axes: >"
            ]
          },
          "metadata": {},
          "execution_count": 219
        },
        {
          "output_type": "display_data",
          "data": {
            "text/plain": [
              "<Figure size 640x480 with 1 Axes>"
            ],
            "image/png": "[encoded data removed]"
          },
          "metadata": {}
        }
      ],
      "source": [
        "df_1['find_price'].plot.box()"
      ]
    },
    {
      "cell_type": "code",
      "execution_count": 220,
      "id": "9qFgy0oI6grp",
      "metadata": {
        "colab": {
          "base_uri": "https://localhost:8080/",
          "height": 520
        },
        "id": "9qFgy0oI6grp",
        "outputId": "79a609e4-6640-4ed0-e03b-4063e9e5f6ba"
      },
      "outputs": [
        {
          "output_type": "stream",
          "name": "stderr",
          "text": [
            "/usr/local/lib/python3.10/dist-packages/ipykernel/ipkernel.py:283: DeprecationWarning: `should_run_async` will not call `transform_cell` automatically in the future. Please pass the result to `transformed_cell` argument and any exception that happen during thetransform in `preprocessing_exc_tuple` in IPython 7.17 and above.\n",
            "  and should_run_async(code)\n"
          ]
        },
        {
          "output_type": "execute_result",
          "data": {
            "text/plain": [
              "<Axes: >"
            ]
          },
          "metadata": {},
          "execution_count": 220
        },
        {
          "output_type": "display_data",
          "data": {
            "text/plain": [
              "<Figure size 640x480 with 1 Axes>"
            ],
            "image/png": "[encoded data removed]"
          },
          "metadata": {}
        }
      ],
      "source": [
        "df_1['find_price'].hist()"
      ]
    },
    {
      "cell_type": "code",
      "execution_count": 221,
      "id": "o-S4ecFQ6kS5",
      "metadata": {
        "id": "o-S4ecFQ6kS5",
        "colab": {
          "base_uri": "https://localhost:8080/"
        },
        "collapsed": true,
        "outputId": "3bd372a9-358e-41eb-e38b-3dbaed580d1e"
      },
      "outputs": [
        {
          "output_type": "stream",
          "name": "stderr",
          "text": [
            "/usr/local/lib/python3.10/dist-packages/ipykernel/ipkernel.py:283: DeprecationWarning: `should_run_async` will not call `transform_cell` automatically in the future. Please pass the result to `transformed_cell` argument and any exception that happen during thetransform in `preprocessing_exc_tuple` in IPython 7.17 and above.\n",
            "  and should_run_async(code)\n"
          ]
        }
      ],
      "source": [
        "from numpy import log10\n",
        "\n",
        "df_1['log_find_price'] = log10(df_1['find_price'])"
      ]
    },
    {
      "cell_type": "code",
      "execution_count": 222,
      "id": "HoAr-FMN6yHG",
      "metadata": {
        "colab": {
          "base_uri": "https://localhost:8080/",
          "height": 502
        },
        "id": "HoAr-FMN6yHG",
        "outputId": "2d3f9c0d-6eb3-4029-a7c8-61aebb989012"
      },
      "outputs": [
        {
          "output_type": "stream",
          "name": "stderr",
          "text": [
            "/usr/local/lib/python3.10/dist-packages/ipykernel/ipkernel.py:283: DeprecationWarning: `should_run_async` will not call `transform_cell` automatically in the future. Please pass the result to `transformed_cell` argument and any exception that happen during thetransform in `preprocessing_exc_tuple` in IPython 7.17 and above.\n",
            "  and should_run_async(code)\n"
          ]
        },
        {
          "output_type": "execute_result",
          "data": {
            "text/plain": [
              "<Axes: >"
            ]
          },
          "metadata": {},
          "execution_count": 222
        },
        {
          "output_type": "display_data",
          "data": {
            "text/plain": [
              "<Figure size 640x480 with 1 Axes>"
            ],
            "image/png": "[encoded data removed]"
          },
          "metadata": {}
        }
      ],
      "source": [
        "# sem melhoras significativas no shape da distribuição, vamos usar o find_price\n",
        "df_1['log_find_price'].hist()"
      ]
    },
    {
      "cell_type": "code",
      "execution_count": 223,
      "id": "UG8x-FiP7yFu",
      "metadata": {
        "colab": {
          "base_uri": "https://localhost:8080/"
        },
        "id": "UG8x-FiP7yFu",
        "outputId": "155a679c-486f-4c78-e73e-13f0cceb5078"
      },
      "outputs": [
        {
          "output_type": "stream",
          "name": "stdout",
          "text": [
            "470000.0\n"
          ]
        },
        {
          "output_type": "stream",
          "name": "stderr",
          "text": [
            "/usr/local/lib/python3.10/dist-packages/ipykernel/ipkernel.py:283: DeprecationWarning: `should_run_async` will not call `transform_cell` automatically in the future. Please pass the result to `transformed_cell` argument and any exception that happen during thetransform in `preprocessing_exc_tuple` in IPython 7.17 and above.\n",
            "  and should_run_async(code)\n"
          ]
        }
      ],
      "source": [
        "q1 = df_1['find_price'].quantile(q=0.25)\n",
        "q3 = df_1['find_price'].quantile(q=0.75)\n",
        "iqr = q3 - q1\n",
        "print(iqr)\n"
      ]
    },
    {
      "cell_type": "code",
      "execution_count": 224,
      "id": "VfMpym0l8EBD",
      "metadata": {
        "colab": {
          "base_uri": "https://localhost:8080/"
        },
        "id": "VfMpym0l8EBD",
        "outputId": "b3555ede-5611-4231-cd6a-022a3a59a8f7"
      },
      "outputs": [
        {
          "output_type": "stream",
          "name": "stdout",
          "text": [
            "4557\n",
            "4294\n"
          ]
        },
        {
          "output_type": "stream",
          "name": "stderr",
          "text": [
            "/usr/local/lib/python3.10/dist-packages/ipykernel/ipkernel.py:283: DeprecationWarning: `should_run_async` will not call `transform_cell` automatically in the future. Please pass the result to `transformed_cell` argument and any exception that happen during thetransform in `preprocessing_exc_tuple` in IPython 7.17 and above.\n",
            "  and should_run_async(code)\n"
          ]
        }
      ],
      "source": [
        "# aplicando metodo tukey\n",
        "print(len(df_1))\n",
        "df_1 = df_1[(df_1['find_price'] > (q1-1.5*iqr)) & (df_1['find_price'] < (q3+1.5*iqr))]\n",
        "print(len(df_1))"
      ]
    },
    {
      "cell_type": "code",
      "source": [
        "# sd"
      ],
      "metadata": {
        "colab": {
          "base_uri": "https://localhost:8080/"
        },
        "id": "18aS6f-dXq2Z",
        "outputId": "67b8b635-48bd-4102-a7e7-f6c66ae56c88"
      },
      "id": "18aS6f-dXq2Z",
      "execution_count": 225,
      "outputs": [
        {
          "output_type": "stream",
          "name": "stderr",
          "text": [
            "/usr/local/lib/python3.10/dist-packages/ipykernel/ipkernel.py:283: DeprecationWarning: `should_run_async` will not call `transform_cell` automatically in the future. Please pass the result to `transformed_cell` argument and any exception that happen during thetransform in `preprocessing_exc_tuple` in IPython 7.17 and above.\n",
            "  and should_run_async(code)\n"
          ]
        }
      ]
    },
    {
      "cell_type": "code",
      "source": [
        "df_1.head(3)"
      ],
      "metadata": {
        "colab": {
          "base_uri": "https://localhost:8080/",
          "height": 198
        },
        "id": "ry4aweMDXrRf",
        "outputId": "ff4a7443-b0b4-4bad-fb0d-446c4ff46a55"
      },
      "id": "ry4aweMDXrRf",
      "execution_count": 226,
      "outputs": [
        {
          "output_type": "stream",
          "name": "stderr",
          "text": [
            "/usr/local/lib/python3.10/dist-packages/ipykernel/ipkernel.py:283: DeprecationWarning: `should_run_async` will not call `transform_cell` automatically in the future. Please pass the result to `transformed_cell` argument and any exception that happen during thetransform in `preprocessing_exc_tuple` in IPython 7.17 and above.\n",
            "  and should_run_async(code)\n"
          ]
        },
        {
          "output_type": "execute_result",
          "data": {
            "text/plain": [
              "   find_anuncio  find_condominio  find_descri  find_endereco  find_iptu  \\\n",
              "0         971.0           1100.0       1032.0            6.0      180.0   \n",
              "1        1499.0              0.0       2352.0           96.0        0.0   \n",
              "2        1381.0            822.0       2738.0          180.0      291.0   \n",
              "\n",
              "   find_loc  find_m_quadrado  find_price  find_vendedor  is_academia  \\\n",
              "0     797.0            105.0    380000.0           59.0          0.0   \n",
              "1     317.0             51.0    525000.0          147.0          0.0   \n",
              "2      25.0            124.0    620000.0          489.0          0.0   \n",
              "\n",
              "   is_apertamento  is_ar_condicionado  is_churrasqueira  is_elevador  \\\n",
              "0             1.0                 0.0               0.0          0.0   \n",
              "1             1.0                 0.0               0.0          0.0   \n",
              "2             1.0                 0.0               0.0          0.0   \n",
              "\n",
              "   is_mobiliado  is_piscina  is_portaria  is_profissional  is_salao_festa  \\\n",
              "0           0.0         0.0          0.0              1.0             0.0   \n",
              "1           0.0         1.0          0.0              1.0             1.0   \n",
              "2           0.0         0.0          0.0              1.0             0.0   \n",
              "\n",
              "   is_varanda  n_banheiros  n_fotos  n_garagens  n_quartos  log_find_price  \n",
              "0         0.0          3.0     20.0         0.0        3.0        5.579784  \n",
              "1         0.0          2.0     15.0         1.0        3.0        5.720159  \n",
              "2         0.0          2.0     14.0         1.0        3.0        5.792392  "
            ],
            "text/html": [
              "\n",
              "  <div id=\"df-63152f01-c4b9-42ed-884c-6dc3e9a2e810\" class=\"colab-df-container\">\n",
              "    <div>\n",
              "<style scoped>\n",
              "    .dataframe tbody tr th:only-of-type {\n",
              "        vertical-align: middle;\n",
              "    }\n",
              "\n",
              "    .dataframe tbody tr th {\n",
              "        vertical-align: top;\n",
              "    }\n",
              "\n",
              "    .dataframe thead th {\n",
              "        text-align: right;\n",
              "    }\n",
              "</style>\n",
              "<table border=\"1\" class=\"dataframe\">\n",
              "  <thead>\n",
              "    <tr style=\"text-align: right;\">\n",
              "      <th></th>\n",
              "      <th>find_anuncio</th>\n",
              "      <th>find_condominio</th>\n",
              "      <th>find_descri</th>\n",
              "      <th>find_endereco</th>\n",
              "      <th>find_iptu</th>\n",
              "      <th>find_loc</th>\n",
              "      <th>find_m_quadrado</th>\n",
              "      <th>find_price</th>\n",
              "      <th>find_vendedor</th>\n",
              "      <th>is_academia</th>\n",
              "      <th>is_apertamento</th>\n",
              "      <th>is_ar_condicionado</th>\n",
              "      <th>is_churrasqueira</th>\n",
              "      <th>is_elevador</th>\n",
              "      <th>is_mobiliado</th>\n",
              "      <th>is_piscina</th>\n",
              "      <th>is_portaria</th>\n",
              "      <th>is_profissional</th>\n",
              "      <th>is_salao_festa</th>\n",
              "      <th>is_varanda</th>\n",
              "      <th>n_banheiros</th>\n",
              "      <th>n_fotos</th>\n",
              "      <th>n_garagens</th>\n",
              "      <th>n_quartos</th>\n",
              "      <th>log_find_price</th>\n",
              "    </tr>\n",
              "  </thead>\n",
              "  <tbody>\n",
              "    <tr>\n",
              "      <th>0</th>\n",
              "      <td>971.0</td>\n",
              "      <td>1100.0</td>\n",
              "      <td>1032.0</td>\n",
              "      <td>6.0</td>\n",
              "      <td>180.0</td>\n",
              "      <td>797.0</td>\n",
              "      <td>105.0</td>\n",
              "      <td>380000.0</td>\n",
              "      <td>59.0</td>\n",
              "      <td>0.0</td>\n",
              "      <td>1.0</td>\n",
              "      <td>0.0</td>\n",
              "      <td>0.0</td>\n",
              "      <td>0.0</td>\n",
              "      <td>0.0</td>\n",
              "      <td>0.0</td>\n",
              "      <td>0.0</td>\n",
              "      <td>1.0</td>\n",
              "      <td>0.0</td>\n",
              "      <td>0.0</td>\n",
              "      <td>3.0</td>\n",
              "      <td>20.0</td>\n",
              "      <td>0.0</td>\n",
              "      <td>3.0</td>\n",
              "      <td>5.579784</td>\n",
              "    </tr>\n",
              "    <tr>\n",
              "      <th>1</th>\n",
              "      <td>1499.0</td>\n",
              "      <td>0.0</td>\n",
              "      <td>2352.0</td>\n",
              "      <td>96.0</td>\n",
              "      <td>0.0</td>\n",
              "      <td>317.0</td>\n",
              "      <td>51.0</td>\n",
              "      <td>525000.0</td>\n",
              "      <td>147.0</td>\n",
              "      <td>0.0</td>\n",
              "      <td>1.0</td>\n",
              "      <td>0.0</td>\n",
              "      <td>0.0</td>\n",
              "      <td>0.0</td>\n",
              "      <td>0.0</td>\n",
              "      <td>1.0</td>\n",
              "      <td>0.0</td>\n",
              "      <td>1.0</td>\n",
              "      <td>1.0</td>\n",
              "      <td>0.0</td>\n",
              "      <td>2.0</td>\n",
              "      <td>15.0</td>\n",
              "      <td>1.0</td>\n",
              "      <td>3.0</td>\n",
              "      <td>5.720159</td>\n",
              "    </tr>\n",
              "    <tr>\n",
              "      <th>2</th>\n",
              "      <td>1381.0</td>\n",
              "      <td>822.0</td>\n",
              "      <td>2738.0</td>\n",
              "      <td>180.0</td>\n",
              "      <td>291.0</td>\n",
              "      <td>25.0</td>\n",
              "      <td>124.0</td>\n",
              "      <td>620000.0</td>\n",
              "      <td>489.0</td>\n",
              "      <td>0.0</td>\n",
              "      <td>1.0</td>\n",
              "      <td>0.0</td>\n",
              "      <td>0.0</td>\n",
              "      <td>0.0</td>\n",
              "      <td>0.0</td>\n",
              "      <td>0.0</td>\n",
              "      <td>0.0</td>\n",
              "      <td>1.0</td>\n",
              "      <td>0.0</td>\n",
              "      <td>0.0</td>\n",
              "      <td>2.0</td>\n",
              "      <td>14.0</td>\n",
              "      <td>1.0</td>\n",
              "      <td>3.0</td>\n",
              "      <td>5.792392</td>\n",
              "    </tr>\n",
              "  </tbody>\n",
              "</table>\n",
              "</div>\n",
              "    <div class=\"colab-df-buttons\">\n",
              "\n",
              "  <div class=\"colab-df-container\">\n",
              "    <button class=\"colab-df-convert\" onclick=\"convertToInteractive('df-63152f01-c4b9-42ed-884c-6dc3e9a2e810')\"\n",
              "            title=\"Convert this dataframe to an interactive table.\"\n",
              "            style=\"display:none;\">\n",
              "\n",
              "  <svg xmlns=\"http://www.w3.org/2000/svg\" height=\"24px\" viewBox=\"0 -960 960 960\">\n",
              "    <path d=\"M120-120v-720h720v720H120Zm60-500h600v-160H180v160Zm220 220h160v-160H400v160Zm0 220h160v-160H400v160ZM180-400h160v-160H180v160Zm440 0h160v-160H620v160ZM180-180h160v-160H180v160Zm440 0h160v-160H620v160Z\"/>\n",
              "  </svg>\n",
              "    </button>\n",
              "\n",
              "  <style>\n",
              "    .colab-df-container {\n",
              "      display:flex;\n",
              "      gap: 12px;\n",
              "    }\n",
              "\n",
              "    .colab-df-convert {\n",
              "      background-color: #E8F0FE;\n",
              "      border: none;\n",
              "      border-radius: 50%;\n",
              "      cursor: pointer;\n",
              "      display: none;\n",
              "      fill: #1967D2;\n",
              "      height: 32px;\n",
              "      padding: 0 0 0 0;\n",
              "      width: 32px;\n",
              "    }\n",
              "\n",
              "    .colab-df-convert:hover {\n",
              "      background-color: #E2EBFA;\n",
              "      box-shadow: 0px 1px 2px rgba(60, 64, 67, 0.3), 0px 1px 3px 1px rgba(60, 64, 67, 0.15);\n",
              "      fill: #174EA6;\n",
              "    }\n",
              "\n",
              "    .colab-df-buttons div {\n",
              "      margin-bottom: 4px;\n",
              "    }\n",
              "\n",
              "    [theme=dark] .colab-df-convert {\n",
              "      background-color: #3B4455;\n",
              "      fill: #D2E3FC;\n",
              "    }\n",
              "\n",
              "    [theme=dark] .colab-df-convert:hover {\n",
              "      background-color: #434B5C;\n",
              "      box-shadow: 0px 1px 3px 1px rgba(0, 0, 0, 0.15);\n",
              "      filter: drop-shadow(0px 1px 2px rgba(0, 0, 0, 0.3));\n",
              "      fill: #FFFFFF;\n",
              "    }\n",
              "  </style>\n",
              "\n",
              "    <script>\n",
              "      const buttonEl =\n",
              "        document.querySelector('#df-63152f01-c4b9-42ed-884c-6dc3e9a2e810 button.colab-df-convert');\n",
              "      buttonEl.style.display =\n",
              "        google.colab.kernel.accessAllowed ? 'block' : 'none';\n",
              "\n",
              "      async function convertToInteractive(key) {\n",
              "        const element = document.querySelector('#df-63152f01-c4b9-42ed-884c-6dc3e9a2e810');\n",
              "        const dataTable =\n",
              "          await google.colab.kernel.invokeFunction('convertToInteractive',\n",
              "                                                    [key], {});\n",
              "        if (!dataTable) return;\n",
              "\n",
              "        const docLinkHtml = 'Like what you see? Visit the ' +\n",
              "          '<a target=\"_blank\" href=https://colab.research.google.com/notebooks/data_table.ipynb>data table notebook</a>'\n",
              "          + ' to learn more about interactive tables.';\n",
              "        element.innerHTML = '';\n",
              "        dataTable['output_type'] = 'display_data';\n",
              "        await google.colab.output.renderOutput(dataTable, element);\n",
              "        const docLink = document.createElement('div');\n",
              "        docLink.innerHTML = docLinkHtml;\n",
              "        element.appendChild(docLink);\n",
              "      }\n",
              "    </script>\n",
              "  </div>\n",
              "\n",
              "\n",
              "<div id=\"df-278b8055-fdb8-4eee-bba7-3b6ec76f0349\">\n",
              "  <button class=\"colab-df-quickchart\" onclick=\"quickchart('df-278b8055-fdb8-4eee-bba7-3b6ec76f0349')\"\n",
              "            title=\"Suggest charts\"\n",
              "            style=\"display:none;\">\n",
              "\n",
              "<svg xmlns=\"http://www.w3.org/2000/svg\" height=\"24px\"viewBox=\"0 0 24 24\"\n",
              "     width=\"24px\">\n",
              "    <g>\n",
              "        <path d=\"M19 3H5c-1.1 0-2 .9-2 2v14c0 1.1.9 2 2 2h14c1.1 0 2-.9 2-2V5c0-1.1-.9-2-2-2zM9 17H7v-7h2v7zm4 0h-2V7h2v10zm4 0h-2v-4h2v4z\"/>\n",
              "    </g>\n",
              "</svg>\n",
              "  </button>\n",
              "\n",
              "<style>\n",
              "  .colab-df-quickchart {\n",
              "      --bg-color: #E8F0FE;\n",
              "      --fill-color: #1967D2;\n",
              "      --hover-bg-color: #E2EBFA;\n",
              "      --hover-fill-color: #174EA6;\n",
              "      --disabled-fill-color: #AAA;\n",
              "      --disabled-bg-color: #DDD;\n",
              "  }\n",
              "\n",
              "  [theme=dark] .colab-df-quickchart {\n",
              "      --bg-color: #3B4455;\n",
              "      --fill-color: #D2E3FC;\n",
              "      --hover-bg-color: #434B5C;\n",
              "      --hover-fill-color: #FFFFFF;\n",
              "      --disabled-bg-color: #3B4455;\n",
              "      --disabled-fill-color: #666;\n",
              "  }\n",
              "\n",
              "  .colab-df-quickchart {\n",
              "    background-color: var(--bg-color);\n",
              "    border: none;\n",
              "    border-radius: 50%;\n",
              "    cursor: pointer;\n",
              "    display: none;\n",
              "    fill: var(--fill-color);\n",
              "    height: 32px;\n",
              "    padding: 0;\n",
              "    width: 32px;\n",
              "  }\n",
              "\n",
              "  .colab-df-quickchart:hover {\n",
              "    background-color: var(--hover-bg-color);\n",
              "    box-shadow: 0 1px 2px rgba(60, 64, 67, 0.3), 0 1px 3px 1px rgba(60, 64, 67, 0.15);\n",
              "    fill: var(--button-hover-fill-color);\n",
              "  }\n",
              "\n",
              "  .colab-df-quickchart-complete:disabled,\n",
              "  .colab-df-quickchart-complete:disabled:hover {\n",
              "    background-color: var(--disabled-bg-color);\n",
              "    fill: var(--disabled-fill-color);\n",
              "    box-shadow: none;\n",
              "  }\n",
              "\n",
              "  .colab-df-spinner {\n",
              "    border: 2px solid var(--fill-color);\n",
              "    border-color: transparent;\n",
              "    border-bottom-color: var(--fill-color);\n",
              "    animation:\n",
              "      spin 1s steps(1) infinite;\n",
              "  }\n",
              "\n",
              "  @keyframes spin {\n",
              "    0% {\n",
              "      border-color: transparent;\n",
              "      border-bottom-color: var(--fill-color);\n",
              "      border-left-color: var(--fill-color);\n",
              "    }\n",
              "    20% {\n",
              "      border-color: transparent;\n",
              "      border-left-color: var(--fill-color);\n",
              "      border-top-color: var(--fill-color);\n",
              "    }\n",
              "    30% {\n",
              "      border-color: transparent;\n",
              "      border-left-color: var(--fill-color);\n",
              "      border-top-color: var(--fill-color);\n",
              "      border-right-color: var(--fill-color);\n",
              "    }\n",
              "    40% {\n",
              "      border-color: transparent;\n",
              "      border-right-color: var(--fill-color);\n",
              "      border-top-color: var(--fill-color);\n",
              "    }\n",
              "    60% {\n",
              "      border-color: transparent;\n",
              "      border-right-color: var(--fill-color);\n",
              "    }\n",
              "    80% {\n",
              "      border-color: transparent;\n",
              "      border-right-color: var(--fill-color);\n",
              "      border-bottom-color: var(--fill-color);\n",
              "    }\n",
              "    90% {\n",
              "      border-color: transparent;\n",
              "      border-bottom-color: var(--fill-color);\n",
              "    }\n",
              "  }\n",
              "</style>\n",
              "\n",
              "  <script>\n",
              "    async function quickchart(key) {\n",
              "      const quickchartButtonEl =\n",
              "        document.querySelector('#' + key + ' button');\n",
              "      quickchartButtonEl.disabled = true;  // To prevent multiple clicks.\n",
              "      quickchartButtonEl.classList.add('colab-df-spinner');\n",
              "      try {\n",
              "        const charts = await google.colab.kernel.invokeFunction(\n",
              "            'suggestCharts', [key], {});\n",
              "      } catch (error) {\n",
              "        console.error('Error during call to suggestCharts:', error);\n",
              "      }\n",
              "      quickchartButtonEl.classList.remove('colab-df-spinner');\n",
              "      quickchartButtonEl.classList.add('colab-df-quickchart-complete');\n",
              "    }\n",
              "    (() => {\n",
              "      let quickchartButtonEl =\n",
              "        document.querySelector('#df-278b8055-fdb8-4eee-bba7-3b6ec76f0349 button');\n",
              "      quickchartButtonEl.style.display =\n",
              "        google.colab.kernel.accessAllowed ? 'block' : 'none';\n",
              "    })();\n",
              "  </script>\n",
              "</div>\n",
              "    </div>\n",
              "  </div>\n"
            ],
            "application/vnd.google.colaboratory.intrinsic+json": {
              "type": "dataframe",
              "variable_name": "df_1"
            }
          },
          "metadata": {},
          "execution_count": 226
        }
      ]
    },
    {
      "cell_type": "code",
      "source": [
        "# ed"
      ],
      "metadata": {
        "colab": {
          "base_uri": "https://localhost:8080/"
        },
        "id": "3IaIREmcXrb_",
        "outputId": "c6518e99-c640-4260-ce18-a3ef76f9e9ca"
      },
      "id": "3IaIREmcXrb_",
      "execution_count": 227,
      "outputs": [
        {
          "output_type": "stream",
          "name": "stderr",
          "text": [
            "/usr/local/lib/python3.10/dist-packages/ipykernel/ipkernel.py:283: DeprecationWarning: `should_run_async` will not call `transform_cell` automatically in the future. Please pass the result to `transformed_cell` argument and any exception that happen during thetransform in `preprocessing_exc_tuple` in IPython 7.17 and above.\n",
            "  and should_run_async(code)\n"
          ]
        }
      ]
    },
    {
      "cell_type": "markdown",
      "id": "9dcbafeb-b170-4901-8291-fe5e0d604cb3",
      "metadata": {
        "id": "9dcbafeb-b170-4901-8291-fe5e0d604cb3",
        "jp-MarkdownHeadingCollapsed": true,
        "tags": []
      },
      "source": [
        "### 2.4.2 bivariado"
      ]
    },
    {
      "cell_type": "code",
      "execution_count": 228,
      "id": "8a75b349-48ba-478d-be73-946b524a7eb8",
      "metadata": {
        "id": "8a75b349-48ba-478d-be73-946b524a7eb8",
        "colab": {
          "base_uri": "https://localhost:8080/",
          "height": 522
        },
        "outputId": "77eba7e0-c83d-450a-8677-05986f0ddbfb"
      },
      "outputs": [
        {
          "output_type": "stream",
          "name": "stderr",
          "text": [
            "/usr/local/lib/python3.10/dist-packages/ipykernel/ipkernel.py:283: DeprecationWarning: `should_run_async` will not call `transform_cell` automatically in the future. Please pass the result to `transformed_cell` argument and any exception that happen during thetransform in `preprocessing_exc_tuple` in IPython 7.17 and above.\n",
            "  and should_run_async(code)\n"
          ]
        },
        {
          "output_type": "execute_result",
          "data": {
            "text/plain": [
              "<Axes: xlabel='find_price', ylabel='n_banheiros'>"
            ]
          },
          "metadata": {},
          "execution_count": 228
        },
        {
          "output_type": "display_data",
          "data": {
            "text/plain": [
              "<Figure size 640x480 with 1 Axes>"
            ],
            "image/png": "[encoded data removed]"
          },
          "metadata": {}
        }
      ],
      "source": [
        "df_1.plot.scatter(x='find_price', y='n_banheiros')"
      ]
    },
    {
      "cell_type": "code",
      "source": [
        "df_1['price_qtdbanheiros'] = df_1['find_price'] / df_1['n_banheiros']"
      ],
      "metadata": {
        "colab": {
          "base_uri": "https://localhost:8080/"
        },
        "id": "0CqEPWRbYkCQ",
        "outputId": "889cfd82-cf72-4190-dc04-4db03e06859e"
      },
      "id": "0CqEPWRbYkCQ",
      "execution_count": 229,
      "outputs": [
        {
          "output_type": "stream",
          "name": "stderr",
          "text": [
            "/usr/local/lib/python3.10/dist-packages/ipykernel/ipkernel.py:283: DeprecationWarning: `should_run_async` will not call `transform_cell` automatically in the future. Please pass the result to `transformed_cell` argument and any exception that happen during thetransform in `preprocessing_exc_tuple` in IPython 7.17 and above.\n",
            "  and should_run_async(code)\n"
          ]
        }
      ]
    },
    {
      "cell_type": "code",
      "source": [
        "df_1['price_qtdbanheiros'].plot.box()"
      ],
      "metadata": {
        "colab": {
          "base_uri": "https://localhost:8080/",
          "height": 517
        },
        "id": "z24v3eBbY3an",
        "outputId": "257ec9d1-77ad-4337-9576-433e584448a6"
      },
      "id": "z24v3eBbY3an",
      "execution_count": 230,
      "outputs": [
        {
          "output_type": "stream",
          "name": "stderr",
          "text": [
            "/usr/local/lib/python3.10/dist-packages/ipykernel/ipkernel.py:283: DeprecationWarning: `should_run_async` will not call `transform_cell` automatically in the future. Please pass the result to `transformed_cell` argument and any exception that happen during thetransform in `preprocessing_exc_tuple` in IPython 7.17 and above.\n",
            "  and should_run_async(code)\n"
          ]
        },
        {
          "output_type": "execute_result",
          "data": {
            "text/plain": [
              "<Axes: >"
            ]
          },
          "metadata": {},
          "execution_count": 230
        },
        {
          "output_type": "display_data",
          "data": {
            "text/plain": [
              "<Figure size 640x480 with 1 Axes>"
            ],
            "image/png": "[encoded data removed]"
          },
          "metadata": {}
        }
      ]
    },
    {
      "cell_type": "code",
      "source": [
        "mad = abs(df_1['price_qtdbanheiros'] - df_1['price_qtdbanheiros'].median()).median()*(1/0.6745)"
      ],
      "metadata": {
        "colab": {
          "base_uri": "https://localhost:8080/"
        },
        "id": "-EHlHJi6ZnmU",
        "outputId": "878861ec-def0-4a42-d4b9-7e7f0cc65eb4"
      },
      "id": "-EHlHJi6ZnmU",
      "execution_count": 231,
      "outputs": [
        {
          "output_type": "stream",
          "name": "stderr",
          "text": [
            "/usr/local/lib/python3.10/dist-packages/ipykernel/ipkernel.py:283: DeprecationWarning: `should_run_async` will not call `transform_cell` automatically in the future. Please pass the result to `transformed_cell` argument and any exception that happen during thetransform in `preprocessing_exc_tuple` in IPython 7.17 and above.\n",
            "  and should_run_async(code)\n"
          ]
        }
      ]
    },
    {
      "cell_type": "code",
      "source": [
        "print(f'volumetria antes: {len(df_1)}')\n",
        "df_1 = df_1[abs(df_1['price_qtdbanheiros']-df_1['price_qtdbanheiros'].median())/mad < 3.5]\n",
        "print(f'volumetria depois: {len(df_1)}')"
      ],
      "metadata": {
        "colab": {
          "base_uri": "https://localhost:8080/"
        },
        "id": "cM8f5UIIZ18q",
        "outputId": "34b2d9e1-8153-4656-b37c-eec5e002d6db"
      },
      "id": "cM8f5UIIZ18q",
      "execution_count": 232,
      "outputs": [
        {
          "output_type": "stream",
          "name": "stdout",
          "text": [
            "volumetria antes: 4294\n",
            "volumetria depois: 4047\n"
          ]
        },
        {
          "output_type": "stream",
          "name": "stderr",
          "text": [
            "/usr/local/lib/python3.10/dist-packages/ipykernel/ipkernel.py:283: DeprecationWarning: `should_run_async` will not call `transform_cell` automatically in the future. Please pass the result to `transformed_cell` argument and any exception that happen during thetransform in `preprocessing_exc_tuple` in IPython 7.17 and above.\n",
            "  and should_run_async(code)\n"
          ]
        }
      ]
    },
    {
      "cell_type": "markdown",
      "id": "dc73265c-5015-4f21-ac93-89cfd52c22d3",
      "metadata": {
        "id": "dc73265c-5015-4f21-ac93-89cfd52c22d3",
        "jp-MarkdownHeadingCollapsed": true,
        "tags": []
      },
      "source": [
        "### 2.4.3 multivariado"
      ]
    },
    {
      "cell_type": "code",
      "execution_count": 233,
      "id": "2efd541d-94aa-48f3-b931-0dd481cea2cb",
      "metadata": {
        "id": "2efd541d-94aa-48f3-b931-0dd481cea2cb",
        "colab": {
          "base_uri": "https://localhost:8080/",
          "height": 129
        },
        "outputId": "527603d8-280b-4758-93a5-c0a533327b3c"
      },
      "outputs": [
        {
          "output_type": "stream",
          "name": "stderr",
          "text": [
            "/usr/local/lib/python3.10/dist-packages/ipykernel/ipkernel.py:283: DeprecationWarning: `should_run_async` will not call `transform_cell` automatically in the future. Please pass the result to `transformed_cell` argument and any exception that happen during thetransform in `preprocessing_exc_tuple` in IPython 7.17 and above.\n",
            "  and should_run_async(code)\n"
          ]
        },
        {
          "output_type": "execute_result",
          "data": {
            "text/plain": [
              "EllipticEnvelope(contamination=0.01)"
            ],
            "text/html": [
              "<style>#sk-container-id-2 {color: black;background-color: white;}#sk-container-id-2 pre{padding: 0;}#sk-container-id-2 div.sk-toggleable {background-color: white;}#sk-container-id-2 label.sk-toggleable__label {cursor: pointer;display: block;width: 100%;margin-bottom: 0;padding: 0.3em;box-sizing: border-box;text-align: center;}#sk-container-id-2 label.sk-toggleable__label-arrow:before {content: \"▸\";float: left;margin-right: 0.25em;color: #696969;}#sk-container-id-2 label.sk-toggleable__label-arrow:hover:before {color: black;}#sk-container-id-2 div.sk-estimator:hover label.sk-toggleable__label-arrow:before {color: black;}#sk-container-id-2 div.sk-toggleable__content {max-height: 0;max-width: 0;overflow: hidden;text-align: left;background-color: #f0f8ff;}#sk-container-id-2 div.sk-toggleable__content pre {margin: 0.2em;color: black;border-radius: 0.25em;background-color: #f0f8ff;}#sk-container-id-2 input.sk-toggleable__control:checked~div.sk-toggleable__content {max-height: 200px;max-width: 100%;overflow: auto;}#sk-container-id-2 input.sk-toggleable__control:checked~label.sk-toggleable__label-arrow:before {content: \"▾\";}#sk-container-id-2 div.sk-estimator input.sk-toggleable__control:checked~label.sk-toggleable__label {background-color: #d4ebff;}#sk-container-id-2 div.sk-label input.sk-toggleable__control:checked~label.sk-toggleable__label {background-color: #d4ebff;}#sk-container-id-2 input.sk-hidden--visually {border: 0;clip: rect(1px 1px 1px 1px);clip: rect(1px, 1px, 1px, 1px);height: 1px;margin: -1px;overflow: hidden;padding: 0;position: absolute;width: 1px;}#sk-container-id-2 div.sk-estimator {font-family: monospace;background-color: #f0f8ff;border: 1px dotted black;border-radius: 0.25em;box-sizing: border-box;margin-bottom: 0.5em;}#sk-container-id-2 div.sk-estimator:hover {background-color: #d4ebff;}#sk-container-id-2 div.sk-parallel-item::after {content: \"\";width: 100%;border-bottom: 1px solid gray;flex-grow: 1;}#sk-container-id-2 div.sk-label:hover label.sk-toggleable__label {background-color: #d4ebff;}#sk-container-id-2 div.sk-serial::before {content: \"\";position: absolute;border-left: 1px solid gray;box-sizing: border-box;top: 0;bottom: 0;left: 50%;z-index: 0;}#sk-container-id-2 div.sk-serial {display: flex;flex-direction: column;align-items: center;background-color: white;padding-right: 0.2em;padding-left: 0.2em;position: relative;}#sk-container-id-2 div.sk-item {position: relative;z-index: 1;}#sk-container-id-2 div.sk-parallel {display: flex;align-items: stretch;justify-content: center;background-color: white;position: relative;}#sk-container-id-2 div.sk-item::before, #sk-container-id-2 div.sk-parallel-item::before {content: \"\";position: absolute;border-left: 1px solid gray;box-sizing: border-box;top: 0;bottom: 0;left: 50%;z-index: -1;}#sk-container-id-2 div.sk-parallel-item {display: flex;flex-direction: column;z-index: 1;position: relative;background-color: white;}#sk-container-id-2 div.sk-parallel-item:first-child::after {align-self: flex-end;width: 50%;}#sk-container-id-2 div.sk-parallel-item:last-child::after {align-self: flex-start;width: 50%;}#sk-container-id-2 div.sk-parallel-item:only-child::after {width: 0;}#sk-container-id-2 div.sk-dashed-wrapped {border: 1px dashed gray;margin: 0 0.4em 0.5em 0.4em;box-sizing: border-box;padding-bottom: 0.4em;background-color: white;}#sk-container-id-2 div.sk-label label {font-family: monospace;font-weight: bold;display: inline-block;line-height: 1.2em;}#sk-container-id-2 div.sk-label-container {text-align: center;}#sk-container-id-2 div.sk-container {/* jupyter's `normalize.less` sets `[hidden] { display: none; }` but bootstrap.min.css set `[hidden] { display: none !important; }` so we also need the `!important` here to be able to override the default hidden behavior on the sphinx rendered scikit-learn.org. See: https://github.com/scikit-learn/scikit-learn/issues/21755 */display: inline-block !important;position: relative;}#sk-container-id-2 div.sk-text-repr-fallback {display: none;}</style><div id=\"sk-container-id-2\" class=\"sk-top-container\"><div class=\"sk-text-repr-fallback\"><pre>EllipticEnvelope(contamination=0.01)</pre><b>In a Jupyter environment, please rerun this cell to show the HTML representation or trust the notebook. <br />On GitHub, the HTML representation is unable to render, please try loading this page with nbviewer.org.</b></div><div class=\"sk-container\" hidden><div class=\"sk-item\"><div class=\"sk-estimator sk-toggleable\"><input class=\"sk-toggleable__control sk-hidden--visually\" id=\"sk-estimator-id-2\" type=\"checkbox\" checked><label for=\"sk-estimator-id-2\" class=\"sk-toggleable__label sk-toggleable__label-arrow\">EllipticEnvelope</label><div class=\"sk-toggleable__content\"><pre>EllipticEnvelope(contamination=0.01)</pre></div></div></div></div></div>"
            ]
          },
          "metadata": {},
          "execution_count": 233
        }
      ],
      "source": [
        "detector = EllipticEnvelope(contamination=0.01)\n",
        "detector.fit(df_1)"
      ]
    },
    {
      "cell_type": "code",
      "source": [
        "df_1['outlier'] = detector.predict(df_1)\n",
        "df_1.head(3)"
      ],
      "metadata": {
        "colab": {
          "base_uri": "https://localhost:8080/",
          "height": 302
        },
        "collapsed": true,
        "id": "ablU5dy7dkoy",
        "outputId": "4f72eaa9-75a0-43b3-9af1-4dc18f4f02e9"
      },
      "id": "ablU5dy7dkoy",
      "execution_count": 234,
      "outputs": [
        {
          "output_type": "stream",
          "name": "stderr",
          "text": [
            "/usr/local/lib/python3.10/dist-packages/ipykernel/ipkernel.py:283: DeprecationWarning: `should_run_async` will not call `transform_cell` automatically in the future. Please pass the result to `transformed_cell` argument and any exception that happen during thetransform in `preprocessing_exc_tuple` in IPython 7.17 and above.\n",
            "  and should_run_async(code)\n",
            "<ipython-input-234-77740d809e07>:1: SettingWithCopyWarning: \n",
            "A value is trying to be set on a copy of a slice from a DataFrame.\n",
            "Try using .loc[row_indexer,col_indexer] = value instead\n",
            "\n",
            "See the caveats in the documentation: https://pandas.pydata.org/pandas-docs/stable/user_guide/indexing.html#returning-a-view-versus-a-copy\n",
            "  df_1['outlier'] = detector.predict(df_1)\n"
          ]
        },
        {
          "output_type": "execute_result",
          "data": {
            "text/plain": [
              "   find_anuncio  find_condominio  find_descri  find_endereco  find_iptu  \\\n",
              "0         971.0           1100.0       1032.0            6.0      180.0   \n",
              "1        1499.0              0.0       2352.0           96.0        0.0   \n",
              "2        1381.0            822.0       2738.0          180.0      291.0   \n",
              "\n",
              "   find_loc  find_m_quadrado  find_price  find_vendedor  is_academia  \\\n",
              "0     797.0            105.0    380000.0           59.0          0.0   \n",
              "1     317.0             51.0    525000.0          147.0          0.0   \n",
              "2      25.0            124.0    620000.0          489.0          0.0   \n",
              "\n",
              "   is_apertamento  is_ar_condicionado  is_churrasqueira  is_elevador  \\\n",
              "0             1.0                 0.0               0.0          0.0   \n",
              "1             1.0                 0.0               0.0          0.0   \n",
              "2             1.0                 0.0               0.0          0.0   \n",
              "\n",
              "   is_mobiliado  is_piscina  is_portaria  is_profissional  is_salao_festa  \\\n",
              "0           0.0         0.0          0.0              1.0             0.0   \n",
              "1           0.0         1.0          0.0              1.0             1.0   \n",
              "2           0.0         0.0          0.0              1.0             0.0   \n",
              "\n",
              "   is_varanda  n_banheiros  n_fotos  n_garagens  n_quartos  log_find_price  \\\n",
              "0         0.0          3.0     20.0         0.0        3.0        5.579784   \n",
              "1         0.0          2.0     15.0         1.0        3.0        5.720159   \n",
              "2         0.0          2.0     14.0         1.0        3.0        5.792392   \n",
              "\n",
              "   price_qtdbanheiros  outlier  \n",
              "0       126666.666667        1  \n",
              "1       262500.000000        1  \n",
              "2       310000.000000        1  "
            ],
            "text/html": [
              "\n",
              "  <div id=\"df-75ab1e4c-f2f3-44df-9b2f-e1fe137c6447\" class=\"colab-df-container\">\n",
              "    <div>\n",
              "<style scoped>\n",
              "    .dataframe tbody tr th:only-of-type {\n",
              "        vertical-align: middle;\n",
              "    }\n",
              "\n",
              "    .dataframe tbody tr th {\n",
              "        vertical-align: top;\n",
              "    }\n",
              "\n",
              "    .dataframe thead th {\n",
              "        text-align: right;\n",
              "    }\n",
              "</style>\n",
              "<table border=\"1\" class=\"dataframe\">\n",
              "  <thead>\n",
              "    <tr style=\"text-align: right;\">\n",
              "      <th></th>\n",
              "      <th>find_anuncio</th>\n",
              "      <th>find_condominio</th>\n",
              "      <th>find_descri</th>\n",
              "      <th>find_endereco</th>\n",
              "      <th>find_iptu</th>\n",
              "      <th>find_loc</th>\n",
              "      <th>find_m_quadrado</th>\n",
              "      <th>find_price</th>\n",
              "      <th>find_vendedor</th>\n",
              "      <th>is_academia</th>\n",
              "      <th>is_apertamento</th>\n",
              "      <th>is_ar_condicionado</th>\n",
              "      <th>is_churrasqueira</th>\n",
              "      <th>is_elevador</th>\n",
              "      <th>is_mobiliado</th>\n",
              "      <th>is_piscina</th>\n",
              "      <th>is_portaria</th>\n",
              "      <th>is_profissional</th>\n",
              "      <th>is_salao_festa</th>\n",
              "      <th>is_varanda</th>\n",
              "      <th>n_banheiros</th>\n",
              "      <th>n_fotos</th>\n",
              "      <th>n_garagens</th>\n",
              "      <th>n_quartos</th>\n",
              "      <th>log_find_price</th>\n",
              "      <th>price_qtdbanheiros</th>\n",
              "      <th>outlier</th>\n",
              "    </tr>\n",
              "  </thead>\n",
              "  <tbody>\n",
              "    <tr>\n",
              "      <th>0</th>\n",
              "      <td>971.0</td>\n",
              "      <td>1100.0</td>\n",
              "      <td>1032.0</td>\n",
              "      <td>6.0</td>\n",
              "      <td>180.0</td>\n",
              "      <td>797.0</td>\n",
              "      <td>105.0</td>\n",
              "      <td>380000.0</td>\n",
              "      <td>59.0</td>\n",
              "      <td>0.0</td>\n",
              "      <td>1.0</td>\n",
              "      <td>0.0</td>\n",
              "      <td>0.0</td>\n",
              "      <td>0.0</td>\n",
              "      <td>0.0</td>\n",
              "      <td>0.0</td>\n",
              "      <td>0.0</td>\n",
              "      <td>1.0</td>\n",
              "      <td>0.0</td>\n",
              "      <td>0.0</td>\n",
              "      <td>3.0</td>\n",
              "      <td>20.0</td>\n",
              "      <td>0.0</td>\n",
              "      <td>3.0</td>\n",
              "      <td>5.579784</td>\n",
              "      <td>126666.666667</td>\n",
              "      <td>1</td>\n",
              "    </tr>\n",
              "    <tr>\n",
              "      <th>1</th>\n",
              "      <td>1499.0</td>\n",
              "      <td>0.0</td>\n",
              "      <td>2352.0</td>\n",
              "      <td>96.0</td>\n",
              "      <td>0.0</td>\n",
              "      <td>317.0</td>\n",
              "      <td>51.0</td>\n",
              "      <td>525000.0</td>\n",
              "      <td>147.0</td>\n",
              "      <td>0.0</td>\n",
              "      <td>1.0</td>\n",
              "      <td>0.0</td>\n",
              "      <td>0.0</td>\n",
              "      <td>0.0</td>\n",
              "      <td>0.0</td>\n",
              "      <td>1.0</td>\n",
              "      <td>0.0</td>\n",
              "      <td>1.0</td>\n",
              "      <td>1.0</td>\n",
              "      <td>0.0</td>\n",
              "      <td>2.0</td>\n",
              "      <td>15.0</td>\n",
              "      <td>1.0</td>\n",
              "      <td>3.0</td>\n",
              "      <td>5.720159</td>\n",
              "      <td>262500.000000</td>\n",
              "      <td>1</td>\n",
              "    </tr>\n",
              "    <tr>\n",
              "      <th>2</th>\n",
              "      <td>1381.0</td>\n",
              "      <td>822.0</td>\n",
              "      <td>2738.0</td>\n",
              "      <td>180.0</td>\n",
              "      <td>291.0</td>\n",
              "      <td>25.0</td>\n",
              "      <td>124.0</td>\n",
              "      <td>620000.0</td>\n",
              "      <td>489.0</td>\n",
              "      <td>0.0</td>\n",
              "      <td>1.0</td>\n",
              "      <td>0.0</td>\n",
              "      <td>0.0</td>\n",
              "      <td>0.0</td>\n",
              "      <td>0.0</td>\n",
              "      <td>0.0</td>\n",
              "      <td>0.0</td>\n",
              "      <td>1.0</td>\n",
              "      <td>0.0</td>\n",
              "      <td>0.0</td>\n",
              "      <td>2.0</td>\n",
              "      <td>14.0</td>\n",
              "      <td>1.0</td>\n",
              "      <td>3.0</td>\n",
              "      <td>5.792392</td>\n",
              "      <td>310000.000000</td>\n",
              "      <td>1</td>\n",
              "    </tr>\n",
              "  </tbody>\n",
              "</table>\n",
              "</div>\n",
              "    <div class=\"colab-df-buttons\">\n",
              "\n",
              "  <div class=\"colab-df-container\">\n",
              "    <button class=\"colab-df-convert\" onclick=\"convertToInteractive('df-75ab1e4c-f2f3-44df-9b2f-e1fe137c6447')\"\n",
              "            title=\"Convert this dataframe to an interactive table.\"\n",
              "            style=\"display:none;\">\n",
              "\n",
              "  <svg xmlns=\"http://www.w3.org/2000/svg\" height=\"24px\" viewBox=\"0 -960 960 960\">\n",
              "    <path d=\"M120-120v-720h720v720H120Zm60-500h600v-160H180v160Zm220 220h160v-160H400v160Zm0 220h160v-160H400v160ZM180-400h160v-160H180v160Zm440 0h160v-160H620v160ZM180-180h160v-160H180v160Zm440 0h160v-160H620v160Z\"/>\n",
              "  </svg>\n",
              "    </button>\n",
              "\n",
              "  <style>\n",
              "    .colab-df-container {\n",
              "      display:flex;\n",
              "      gap: 12px;\n",
              "    }\n",
              "\n",
              "    .colab-df-convert {\n",
              "      background-color: #E8F0FE;\n",
              "      border: none;\n",
              "      border-radius: 50%;\n",
              "      cursor: pointer;\n",
              "      display: none;\n",
              "      fill: #1967D2;\n",
              "      height: 32px;\n",
              "      padding: 0 0 0 0;\n",
              "      width: 32px;\n",
              "    }\n",
              "\n",
              "    .colab-df-convert:hover {\n",
              "      background-color: #E2EBFA;\n",
              "      box-shadow: 0px 1px 2px rgba(60, 64, 67, 0.3), 0px 1px 3px 1px rgba(60, 64, 67, 0.15);\n",
              "      fill: #174EA6;\n",
              "    }\n",
              "\n",
              "    .colab-df-buttons div {\n",
              "      margin-bottom: 4px;\n",
              "    }\n",
              "\n",
              "    [theme=dark] .colab-df-convert {\n",
              "      background-color: #3B4455;\n",
              "      fill: #D2E3FC;\n",
              "    }\n",
              "\n",
              "    [theme=dark] .colab-df-convert:hover {\n",
              "      background-color: #434B5C;\n",
              "      box-shadow: 0px 1px 3px 1px rgba(0, 0, 0, 0.15);\n",
              "      filter: drop-shadow(0px 1px 2px rgba(0, 0, 0, 0.3));\n",
              "      fill: #FFFFFF;\n",
              "    }\n",
              "  </style>\n",
              "\n",
              "    <script>\n",
              "      const buttonEl =\n",
              "        document.querySelector('#df-75ab1e4c-f2f3-44df-9b2f-e1fe137c6447 button.colab-df-convert');\n",
              "      buttonEl.style.display =\n",
              "        google.colab.kernel.accessAllowed ? 'block' : 'none';\n",
              "\n",
              "      async function convertToInteractive(key) {\n",
              "        const element = document.querySelector('#df-75ab1e4c-f2f3-44df-9b2f-e1fe137c6447');\n",
              "        const dataTable =\n",
              "          await google.colab.kernel.invokeFunction('convertToInteractive',\n",
              "                                                    [key], {});\n",
              "        if (!dataTable) return;\n",
              "\n",
              "        const docLinkHtml = 'Like what you see? Visit the ' +\n",
              "          '<a target=\"_blank\" href=https://colab.research.google.com/notebooks/data_table.ipynb>data table notebook</a>'\n",
              "          + ' to learn more about interactive tables.';\n",
              "        element.innerHTML = '';\n",
              "        dataTable['output_type'] = 'display_data';\n",
              "        await google.colab.output.renderOutput(dataTable, element);\n",
              "        const docLink = document.createElement('div');\n",
              "        docLink.innerHTML = docLinkHtml;\n",
              "        element.appendChild(docLink);\n",
              "      }\n",
              "    </script>\n",
              "  </div>\n",
              "\n",
              "\n",
              "<div id=\"df-b5056f2b-98db-420f-8d4f-ccdad0f1cd88\">\n",
              "  <button class=\"colab-df-quickchart\" onclick=\"quickchart('df-b5056f2b-98db-420f-8d4f-ccdad0f1cd88')\"\n",
              "            title=\"Suggest charts\"\n",
              "            style=\"display:none;\">\n",
              "\n",
              "<svg xmlns=\"http://www.w3.org/2000/svg\" height=\"24px\"viewBox=\"0 0 24 24\"\n",
              "     width=\"24px\">\n",
              "    <g>\n",
              "        <path d=\"M19 3H5c-1.1 0-2 .9-2 2v14c0 1.1.9 2 2 2h14c1.1 0 2-.9 2-2V5c0-1.1-.9-2-2-2zM9 17H7v-7h2v7zm4 0h-2V7h2v10zm4 0h-2v-4h2v4z\"/>\n",
              "    </g>\n",
              "</svg>\n",
              "  </button>\n",
              "\n",
              "<style>\n",
              "  .colab-df-quickchart {\n",
              "      --bg-color: #E8F0FE;\n",
              "      --fill-color: #1967D2;\n",
              "      --hover-bg-color: #E2EBFA;\n",
              "      --hover-fill-color: #174EA6;\n",
              "      --disabled-fill-color: #AAA;\n",
              "      --disabled-bg-color: #DDD;\n",
              "  }\n",
              "\n",
              "  [theme=dark] .colab-df-quickchart {\n",
              "      --bg-color: #3B4455;\n",
              "      --fill-color: #D2E3FC;\n",
              "      --hover-bg-color: #434B5C;\n",
              "      --hover-fill-color: #FFFFFF;\n",
              "      --disabled-bg-color: #3B4455;\n",
              "      --disabled-fill-color: #666;\n",
              "  }\n",
              "\n",
              "  .colab-df-quickchart {\n",
              "    background-color: var(--bg-color);\n",
              "    border: none;\n",
              "    border-radius: 50%;\n",
              "    cursor: pointer;\n",
              "    display: none;\n",
              "    fill: var(--fill-color);\n",
              "    height: 32px;\n",
              "    padding: 0;\n",
              "    width: 32px;\n",
              "  }\n",
              "\n",
              "  .colab-df-quickchart:hover {\n",
              "    background-color: var(--hover-bg-color);\n",
              "    box-shadow: 0 1px 2px rgba(60, 64, 67, 0.3), 0 1px 3px 1px rgba(60, 64, 67, 0.15);\n",
              "    fill: var(--button-hover-fill-color);\n",
              "  }\n",
              "\n",
              "  .colab-df-quickchart-complete:disabled,\n",
              "  .colab-df-quickchart-complete:disabled:hover {\n",
              "    background-color: var(--disabled-bg-color);\n",
              "    fill: var(--disabled-fill-color);\n",
              "    box-shadow: none;\n",
              "  }\n",
              "\n",
              "  .colab-df-spinner {\n",
              "    border: 2px solid var(--fill-color);\n",
              "    border-color: transparent;\n",
              "    border-bottom-color: var(--fill-color);\n",
              "    animation:\n",
              "      spin 1s steps(1) infinite;\n",
              "  }\n",
              "\n",
              "  @keyframes spin {\n",
              "    0% {\n",
              "      border-color: transparent;\n",
              "      border-bottom-color: var(--fill-color);\n",
              "      border-left-color: var(--fill-color);\n",
              "    }\n",
              "    20% {\n",
              "      border-color: transparent;\n",
              "      border-left-color: var(--fill-color);\n",
              "      border-top-color: var(--fill-color);\n",
              "    }\n",
              "    30% {\n",
              "      border-color: transparent;\n",
              "      border-left-color: var(--fill-color);\n",
              "      border-top-color: var(--fill-color);\n",
              "      border-right-color: var(--fill-color);\n",
              "    }\n",
              "    40% {\n",
              "      border-color: transparent;\n",
              "      border-right-color: var(--fill-color);\n",
              "      border-top-color: var(--fill-color);\n",
              "    }\n",
              "    60% {\n",
              "      border-color: transparent;\n",
              "      border-right-color: var(--fill-color);\n",
              "    }\n",
              "    80% {\n",
              "      border-color: transparent;\n",
              "      border-right-color: var(--fill-color);\n",
              "      border-bottom-color: var(--fill-color);\n",
              "    }\n",
              "    90% {\n",
              "      border-color: transparent;\n",
              "      border-bottom-color: var(--fill-color);\n",
              "    }\n",
              "  }\n",
              "</style>\n",
              "\n",
              "  <script>\n",
              "    async function quickchart(key) {\n",
              "      const quickchartButtonEl =\n",
              "        document.querySelector('#' + key + ' button');\n",
              "      quickchartButtonEl.disabled = true;  // To prevent multiple clicks.\n",
              "      quickchartButtonEl.classList.add('colab-df-spinner');\n",
              "      try {\n",
              "        const charts = await google.colab.kernel.invokeFunction(\n",
              "            'suggestCharts', [key], {});\n",
              "      } catch (error) {\n",
              "        console.error('Error during call to suggestCharts:', error);\n",
              "      }\n",
              "      quickchartButtonEl.classList.remove('colab-df-spinner');\n",
              "      quickchartButtonEl.classList.add('colab-df-quickchart-complete');\n",
              "    }\n",
              "    (() => {\n",
              "      let quickchartButtonEl =\n",
              "        document.querySelector('#df-b5056f2b-98db-420f-8d4f-ccdad0f1cd88 button');\n",
              "      quickchartButtonEl.style.display =\n",
              "        google.colab.kernel.accessAllowed ? 'block' : 'none';\n",
              "    })();\n",
              "  </script>\n",
              "</div>\n",
              "    </div>\n",
              "  </div>\n"
            ],
            "application/vnd.google.colaboratory.intrinsic+json": {
              "type": "dataframe",
              "variable_name": "df_1"
            }
          },
          "metadata": {},
          "execution_count": 234
        }
      ]
    },
    {
      "cell_type": "code",
      "source": [
        "print(f'volumetria antes: {len(df_1)}')\n",
        "df_1 = df_1[df_1['outlier'] != -1]\n",
        "print(f'volumetria depois: {len(df_1)}')"
      ],
      "metadata": {
        "colab": {
          "base_uri": "https://localhost:8080/"
        },
        "id": "woCu8PateDGe",
        "outputId": "42c35d2c-38a0-497b-b931-24978a97f2dd"
      },
      "id": "woCu8PateDGe",
      "execution_count": 235,
      "outputs": [
        {
          "output_type": "stream",
          "name": "stdout",
          "text": [
            "volumetria antes: 4047\n",
            "volumetria depois: 4006\n"
          ]
        },
        {
          "output_type": "stream",
          "name": "stderr",
          "text": [
            "/usr/local/lib/python3.10/dist-packages/ipykernel/ipkernel.py:283: DeprecationWarning: `should_run_async` will not call `transform_cell` automatically in the future. Please pass the result to `transformed_cell` argument and any exception that happen during thetransform in `preprocessing_exc_tuple` in IPython 7.17 and above.\n",
            "  and should_run_async(code)\n"
          ]
        }
      ]
    },
    {
      "cell_type": "markdown",
      "id": "7256dbb6-b7f7-4109-8696-46b41705e2fa",
      "metadata": {
        "id": "7256dbb6-b7f7-4109-8696-46b41705e2fa",
        "jp-MarkdownHeadingCollapsed": true,
        "tags": []
      },
      "source": [
        "# 3. Apresentar estatísticas descritivas dos dados com visualizações"
      ]
    },
    {
      "cell_type": "code",
      "source": [
        "df_2 = df_1.copy()\n",
        "df_2_norm = df_1_norm.copy()"
      ],
      "metadata": {
        "colab": {
          "base_uri": "https://localhost:8080/"
        },
        "id": "mshvyId_e9OS",
        "outputId": "aa7846ff-05d5-4b0d-c75a-a522dae86353"
      },
      "id": "mshvyId_e9OS",
      "execution_count": 236,
      "outputs": [
        {
          "output_type": "stream",
          "name": "stderr",
          "text": [
            "/usr/local/lib/python3.10/dist-packages/ipykernel/ipkernel.py:283: DeprecationWarning: `should_run_async` will not call `transform_cell` automatically in the future. Please pass the result to `transformed_cell` argument and any exception that happen during thetransform in `preprocessing_exc_tuple` in IPython 7.17 and above.\n",
            "  and should_run_async(code)\n"
          ]
        }
      ]
    },
    {
      "cell_type": "code",
      "source": [
        "# TODO: escrever possíveis insights\n",
        "\n",
        "df_2.hist(figsize=(30, 20), bins=30)\n",
        "\n",
        "plt.tight_layout(pad=3.0)"
      ],
      "metadata": {
        "colab": {
          "base_uri": "https://localhost:8080/",
          "height": 623
        },
        "id": "sn0t1fmie8z4",
        "outputId": "760a095c-7bdd-4d48-849b-20dcd641fbfd"
      },
      "id": "sn0t1fmie8z4",
      "execution_count": 250,
      "outputs": [
        {
          "output_type": "stream",
          "name": "stderr",
          "text": [
            "/usr/local/lib/python3.10/dist-packages/ipykernel/ipkernel.py:283: DeprecationWarning: `should_run_async` will not call `transform_cell` automatically in the future. Please pass the result to `transformed_cell` argument and any exception that happen during thetransform in `preprocessing_exc_tuple` in IPython 7.17 and above.\n",
            "  and should_run_async(code)\n"
          ]
        },
        {
          "output_type": "display_data",
          "data": {
            "text/plain": [
              "<Figure size 3000x2000 with 30 Axes>"
            ],
            "image/png": "[encoded data removed]"
          },
          "metadata": {}
        }
      ]
    },
    {
      "cell_type": "code",
      "execution_count": 249,
      "id": "86137a49-e179-4efa-9b95-be892ca183ae",
      "metadata": {
        "id": "86137a49-e179-4efa-9b95-be892ca183ae",
        "colab": {
          "base_uri": "https://localhost:8080/",
          "height": 355
        },
        "outputId": "ea195aec-5930-45a1-aad3-b0d65d589db8"
      },
      "outputs": [
        {
          "output_type": "stream",
          "name": "stderr",
          "text": [
            "/usr/local/lib/python3.10/dist-packages/ipykernel/ipkernel.py:283: DeprecationWarning: `should_run_async` will not call `transform_cell` automatically in the future. Please pass the result to `transformed_cell` argument and any exception that happen during thetransform in `preprocessing_exc_tuple` in IPython 7.17 and above.\n",
            "  and should_run_async(code)\n"
          ]
        },
        {
          "output_type": "execute_result",
          "data": {
            "text/plain": [
              "       find_anuncio  find_condominio  find_descri  find_endereco  \\\n",
              "count   4006.000000      4006.000000  4006.000000    4006.000000   \n",
              "mean    1893.428607       419.098352  2243.457064     356.529206   \n",
              "std     1096.521668       506.614437  1315.735126     268.612589   \n",
              "min        0.000000        -1.000000     0.000000       0.000000   \n",
              "25%     1009.250000         1.000000  1103.250000     108.000000   \n",
              "50%     1845.500000       170.000000  2219.500000     294.000000   \n",
              "75%     2829.750000       760.000000  3348.750000     572.000000   \n",
              "max     3893.000000      4500.000000  4530.000000     875.000000   \n",
              "\n",
              "          find_iptu     find_loc  find_m_quadrado    find_price  \\\n",
              "count   4006.000000  4006.000000      4006.000000  4.006000e+03   \n",
              "mean     419.536945   418.413380        81.800544  5.643406e+05   \n",
              "std      987.863427   234.922016        44.506743  3.003275e+05   \n",
              "min       -1.000000     0.000000         0.000000  5.500000e+04   \n",
              "25%        0.000000   223.000000        51.870911  3.648220e+05   \n",
              "50%        1.000000   416.500000        70.000000  4.799445e+05   \n",
              "75%      230.000000   613.000000       102.000000  6.980000e+05   \n",
              "max    10100.000000   842.000000       334.000000  1.550000e+06   \n",
              "\n",
              "       find_vendedor  is_academia  is_apertamento  is_ar_condicionado  \\\n",
              "count    4006.000000  4006.000000     4006.000000         4006.000000   \n",
              "mean      296.541438     0.460310        0.968048            0.217424   \n",
              "std       165.510527     0.498484        0.175894            0.412545   \n",
              "min         0.000000     0.000000        0.000000            0.000000   \n",
              "25%       147.000000     0.000000        1.000000            0.000000   \n",
              "50%       323.000000     0.000000        1.000000            0.000000   \n",
              "75%       430.000000     1.000000        1.000000            0.000000   \n",
              "max       599.000000     1.000000        1.000000            1.000000   \n",
              "\n",
              "       is_churrasqueira  is_elevador  is_mobiliado   is_piscina  is_portaria  \\\n",
              "count       4006.000000  4006.000000   4006.000000  4006.000000  4006.000000   \n",
              "mean           0.429106     0.676985      0.064154     0.624314     0.612831   \n",
              "std            0.495010     0.467687      0.245057     0.484360     0.487164   \n",
              "min            0.000000     0.000000      0.000000     0.000000     0.000000   \n",
              "25%            0.000000     0.000000      0.000000     0.000000     0.000000   \n",
              "50%            0.000000     1.000000      0.000000     1.000000     1.000000   \n",
              "75%            1.000000     1.000000      0.000000     1.000000     1.000000   \n",
              "max            1.000000     1.000000      1.000000     1.000000     1.000000   \n",
              "\n",
              "       is_profissional  is_salao_festa   is_varanda  n_banheiros      n_fotos  \\\n",
              "count      4006.000000     4006.000000  4006.000000  4006.000000  4006.000000   \n",
              "mean          0.980030        0.636296     0.332252     1.832103    16.455816   \n",
              "std           0.139915        0.481125     0.471079     0.916683     5.066590   \n",
              "min           0.000000        0.000000     0.000000     1.000000     1.000000   \n",
              "25%           1.000000        0.000000     0.000000     1.000000    14.000000   \n",
              "50%           1.000000        1.000000     0.000000     2.000000    19.000000   \n",
              "75%           1.000000        1.000000     1.000000     2.000000    20.000000   \n",
              "max           1.000000        1.000000     1.000000     4.000000    21.000000   \n",
              "\n",
              "        n_garagens    n_quartos  log_find_price  price_qtdbanheiros  outlier  \n",
              "count  4006.000000  4006.000000     4006.000000         4006.000000   4006.0  \n",
              "mean      1.344955     2.556915        5.695659       344676.919353      1.0  \n",
              "std       0.573577     0.835320        0.221111       170727.851401      0.0  \n",
              "min       0.000000     0.000000        4.740363        40000.000000      1.0  \n",
              "25%       1.000000     2.000000        5.562081       216675.000000      1.0  \n",
              "50%       1.000000     3.000000        5.681191       309925.000000      1.0  \n",
              "75%       2.000000     3.000000        5.843855       430000.000000      1.0  \n",
              "max       4.000000     4.000000        6.190332       900001.000000      1.0  "
            ],
            "text/html": [
              "\n",
              "  <div id=\"df-c0f27445-d80b-4986-a8a1-560b9b56f53f\" class=\"colab-df-container\">\n",
              "    <div>\n",
              "<style scoped>\n",
              "    .dataframe tbody tr th:only-of-type {\n",
              "        vertical-align: middle;\n",
              "    }\n",
              "\n",
              "    .dataframe tbody tr th {\n",
              "        vertical-align: top;\n",
              "    }\n",
              "\n",
              "    .dataframe thead th {\n",
              "        text-align: right;\n",
              "    }\n",
              "</style>\n",
              "<table border=\"1\" class=\"dataframe\">\n",
              "  <thead>\n",
              "    <tr style=\"text-align: right;\">\n",
              "      <th></th>\n",
              "      <th>find_anuncio</th>\n",
              "      <th>find_condominio</th>\n",
              "      <th>find_descri</th>\n",
              "      <th>find_endereco</th>\n",
              "      <th>find_iptu</th>\n",
              "      <th>find_loc</th>\n",
              "      <th>find_m_quadrado</th>\n",
              "      <th>find_price</th>\n",
              "      <th>find_vendedor</th>\n",
              "      <th>is_academia</th>\n",
              "      <th>is_apertamento</th>\n",
              "      <th>is_ar_condicionado</th>\n",
              "      <th>is_churrasqueira</th>\n",
              "      <th>is_elevador</th>\n",
              "      <th>is_mobiliado</th>\n",
              "      <th>is_piscina</th>\n",
              "      <th>is_portaria</th>\n",
              "      <th>is_profissional</th>\n",
              "      <th>is_salao_festa</th>\n",
              "      <th>is_varanda</th>\n",
              "      <th>n_banheiros</th>\n",
              "      <th>n_fotos</th>\n",
              "      <th>n_garagens</th>\n",
              "      <th>n_quartos</th>\n",
              "      <th>log_find_price</th>\n",
              "      <th>price_qtdbanheiros</th>\n",
              "      <th>outlier</th>\n",
              "    </tr>\n",
              "  </thead>\n",
              "  <tbody>\n",
              "    <tr>\n",
              "      <th>count</th>\n",
              "      <td>4006.000000</td>\n",
              "      <td>4006.000000</td>\n",
              "      <td>4006.000000</td>\n",
              "      <td>4006.000000</td>\n",
              "      <td>4006.000000</td>\n",
              "      <td>4006.000000</td>\n",
              "      <td>4006.000000</td>\n",
              "      <td>4.006000e+03</td>\n",
              "      <td>4006.000000</td>\n",
              "      <td>4006.000000</td>\n",
              "      <td>4006.000000</td>\n",
              "      <td>4006.000000</td>\n",
              "      <td>4006.000000</td>\n",
              "      <td>4006.000000</td>\n",
              "      <td>4006.000000</td>\n",
              "      <td>4006.000000</td>\n",
              "      <td>4006.000000</td>\n",
              "      <td>4006.000000</td>\n",
              "      <td>4006.000000</td>\n",
              "      <td>4006.000000</td>\n",
              "      <td>4006.000000</td>\n",
              "      <td>4006.000000</td>\n",
              "      <td>4006.000000</td>\n",
              "      <td>4006.000000</td>\n",
              "      <td>4006.000000</td>\n",
              "      <td>4006.000000</td>\n",
              "      <td>4006.0</td>\n",
              "    </tr>\n",
              "    <tr>\n",
              "      <th>mean</th>\n",
              "      <td>1893.428607</td>\n",
              "      <td>419.098352</td>\n",
              "      <td>2243.457064</td>\n",
              "      <td>356.529206</td>\n",
              "      <td>419.536945</td>\n",
              "      <td>418.413380</td>\n",
              "      <td>81.800544</td>\n",
              "      <td>5.643406e+05</td>\n",
              "      <td>296.541438</td>\n",
              "      <td>0.460310</td>\n",
              "      <td>0.968048</td>\n",
              "      <td>0.217424</td>\n",
              "      <td>0.429106</td>\n",
              "      <td>0.676985</td>\n",
              "      <td>0.064154</td>\n",
              "      <td>0.624314</td>\n",
              "      <td>0.612831</td>\n",
              "      <td>0.980030</td>\n",
              "      <td>0.636296</td>\n",
              "      <td>0.332252</td>\n",
              "      <td>1.832103</td>\n",
              "      <td>16.455816</td>\n",
              "      <td>1.344955</td>\n",
              "      <td>2.556915</td>\n",
              "      <td>5.695659</td>\n",
              "      <td>344676.919353</td>\n",
              "      <td>1.0</td>\n",
              "    </tr>\n",
              "    <tr>\n",
              "      <th>std</th>\n",
              "      <td>1096.521668</td>\n",
              "      <td>506.614437</td>\n",
              "      <td>1315.735126</td>\n",
              "      <td>268.612589</td>\n",
              "      <td>987.863427</td>\n",
              "      <td>234.922016</td>\n",
              "      <td>44.506743</td>\n",
              "      <td>3.003275e+05</td>\n",
              "      <td>165.510527</td>\n",
              "      <td>0.498484</td>\n",
              "      <td>0.175894</td>\n",
              "      <td>0.412545</td>\n",
              "      <td>0.495010</td>\n",
              "      <td>0.467687</td>\n",
              "      <td>0.245057</td>\n",
              "      <td>0.484360</td>\n",
              "      <td>0.487164</td>\n",
              "      <td>0.139915</td>\n",
              "      <td>0.481125</td>\n",
              "      <td>0.471079</td>\n",
              "      <td>0.916683</td>\n",
              "      <td>5.066590</td>\n",
              "      <td>0.573577</td>\n",
              "      <td>0.835320</td>\n",
              "      <td>0.221111</td>\n",
              "      <td>170727.851401</td>\n",
              "      <td>0.0</td>\n",
              "    </tr>\n",
              "    <tr>\n",
              "      <th>min</th>\n",
              "      <td>0.000000</td>\n",
              "      <td>-1.000000</td>\n",
              "      <td>0.000000</td>\n",
              "      <td>0.000000</td>\n",
              "      <td>-1.000000</td>\n",
              "      <td>0.000000</td>\n",
              "      <td>0.000000</td>\n",
              "      <td>5.500000e+04</td>\n",
              "      <td>0.000000</td>\n",
              "      <td>0.000000</td>\n",
              "      <td>0.000000</td>\n",
              "      <td>0.000000</td>\n",
              "      <td>0.000000</td>\n",
              "      <td>0.000000</td>\n",
              "      <td>0.000000</td>\n",
              "      <td>0.000000</td>\n",
              "      <td>0.000000</td>\n",
              "      <td>0.000000</td>\n",
              "      <td>0.000000</td>\n",
              "      <td>0.000000</td>\n",
              "      <td>1.000000</td>\n",
              "      <td>1.000000</td>\n",
              "      <td>0.000000</td>\n",
              "      <td>0.000000</td>\n",
              "      <td>4.740363</td>\n",
              "      <td>40000.000000</td>\n",
              "      <td>1.0</td>\n",
              "    </tr>\n",
              "    <tr>\n",
              "      <th>25%</th>\n",
              "      <td>1009.250000</td>\n",
              "      <td>1.000000</td>\n",
              "      <td>1103.250000</td>\n",
              "      <td>108.000000</td>\n",
              "      <td>0.000000</td>\n",
              "      <td>223.000000</td>\n",
              "      <td>51.870911</td>\n",
              "      <td>3.648220e+05</td>\n",
              "      <td>147.000000</td>\n",
              "      <td>0.000000</td>\n",
              "      <td>1.000000</td>\n",
              "      <td>0.000000</td>\n",
              "      <td>0.000000</td>\n",
              "      <td>0.000000</td>\n",
              "      <td>0.000000</td>\n",
              "      <td>0.000000</td>\n",
              "      <td>0.000000</td>\n",
              "      <td>1.000000</td>\n",
              "      <td>0.000000</td>\n",
              "      <td>0.000000</td>\n",
              "      <td>1.000000</td>\n",
              "      <td>14.000000</td>\n",
              "      <td>1.000000</td>\n",
              "      <td>2.000000</td>\n",
              "      <td>5.562081</td>\n",
              "      <td>216675.000000</td>\n",
              "      <td>1.0</td>\n",
              "    </tr>\n",
              "    <tr>\n",
              "      <th>50%</th>\n",
              "      <td>1845.500000</td>\n",
              "      <td>170.000000</td>\n",
              "      <td>2219.500000</td>\n",
              "      <td>294.000000</td>\n",
              "      <td>1.000000</td>\n",
              "      <td>416.500000</td>\n",
              "      <td>70.000000</td>\n",
              "      <td>4.799445e+05</td>\n",
              "      <td>323.000000</td>\n",
              "      <td>0.000000</td>\n",
              "      <td>1.000000</td>\n",
              "      <td>0.000000</td>\n",
              "      <td>0.000000</td>\n",
              "      <td>1.000000</td>\n",
              "      <td>0.000000</td>\n",
              "      <td>1.000000</td>\n",
              "      <td>1.000000</td>\n",
              "      <td>1.000000</td>\n",
              "      <td>1.000000</td>\n",
              "      <td>0.000000</td>\n",
              "      <td>2.000000</td>\n",
              "      <td>19.000000</td>\n",
              "      <td>1.000000</td>\n",
              "      <td>3.000000</td>\n",
              "      <td>5.681191</td>\n",
              "      <td>309925.000000</td>\n",
              "      <td>1.0</td>\n",
              "    </tr>\n",
              "    <tr>\n",
              "      <th>75%</th>\n",
              "      <td>2829.750000</td>\n",
              "      <td>760.000000</td>\n",
              "      <td>3348.750000</td>\n",
              "      <td>572.000000</td>\n",
              "      <td>230.000000</td>\n",
              "      <td>613.000000</td>\n",
              "      <td>102.000000</td>\n",
              "      <td>6.980000e+05</td>\n",
              "      <td>430.000000</td>\n",
              "      <td>1.000000</td>\n",
              "      <td>1.000000</td>\n",
              "      <td>0.000000</td>\n",
              "      <td>1.000000</td>\n",
              "      <td>1.000000</td>\n",
              "      <td>0.000000</td>\n",
              "      <td>1.000000</td>\n",
              "      <td>1.000000</td>\n",
              "      <td>1.000000</td>\n",
              "      <td>1.000000</td>\n",
              "      <td>1.000000</td>\n",
              "      <td>2.000000</td>\n",
              "      <td>20.000000</td>\n",
              "      <td>2.000000</td>\n",
              "      <td>3.000000</td>\n",
              "      <td>5.843855</td>\n",
              "      <td>430000.000000</td>\n",
              "      <td>1.0</td>\n",
              "    </tr>\n",
              "    <tr>\n",
              "      <th>max</th>\n",
              "      <td>3893.000000</td>\n",
              "      <td>4500.000000</td>\n",
              "      <td>4530.000000</td>\n",
              "      <td>875.000000</td>\n",
              "      <td>10100.000000</td>\n",
              "      <td>842.000000</td>\n",
              "      <td>334.000000</td>\n",
              "      <td>1.550000e+06</td>\n",
              "      <td>599.000000</td>\n",
              "      <td>1.000000</td>\n",
              "      <td>1.000000</td>\n",
              "      <td>1.000000</td>\n",
              "      <td>1.000000</td>\n",
              "      <td>1.000000</td>\n",
              "      <td>1.000000</td>\n",
              "      <td>1.000000</td>\n",
              "      <td>1.000000</td>\n",
              "      <td>1.000000</td>\n",
              "      <td>1.000000</td>\n",
              "      <td>1.000000</td>\n",
              "      <td>4.000000</td>\n",
              "      <td>21.000000</td>\n",
              "      <td>4.000000</td>\n",
              "      <td>4.000000</td>\n",
              "      <td>6.190332</td>\n",
              "      <td>900001.000000</td>\n",
              "      <td>1.0</td>\n",
              "    </tr>\n",
              "  </tbody>\n",
              "</table>\n",
              "</div>\n",
              "    <div class=\"colab-df-buttons\">\n",
              "\n",
              "  <div class=\"colab-df-container\">\n",
              "    <button class=\"colab-df-convert\" onclick=\"convertToInteractive('df-c0f27445-d80b-4986-a8a1-560b9b56f53f')\"\n",
              "            title=\"Convert this dataframe to an interactive table.\"\n",
              "            style=\"display:none;\">\n",
              "\n",
              "  <svg xmlns=\"http://www.w3.org/2000/svg\" height=\"24px\" viewBox=\"0 -960 960 960\">\n",
              "    <path d=\"M120-120v-720h720v720H120Zm60-500h600v-160H180v160Zm220 220h160v-160H400v160Zm0 220h160v-160H400v160ZM180-400h160v-160H180v160Zm440 0h160v-160H620v160ZM180-180h160v-160H180v160Zm440 0h160v-160H620v160Z\"/>\n",
              "  </svg>\n",
              "    </button>\n",
              "\n",
              "  <style>\n",
              "    .colab-df-container {\n",
              "      display:flex;\n",
              "      gap: 12px;\n",
              "    }\n",
              "\n",
              "    .colab-df-convert {\n",
              "      background-color: #E8F0FE;\n",
              "      border: none;\n",
              "      border-radius: 50%;\n",
              "      cursor: pointer;\n",
              "      display: none;\n",
              "      fill: #1967D2;\n",
              "      height: 32px;\n",
              "      padding: 0 0 0 0;\n",
              "      width: 32px;\n",
              "    }\n",
              "\n",
              "    .colab-df-convert:hover {\n",
              "      background-color: #E2EBFA;\n",
              "      box-shadow: 0px 1px 2px rgba(60, 64, 67, 0.3), 0px 1px 3px 1px rgba(60, 64, 67, 0.15);\n",
              "      fill: #174EA6;\n",
              "    }\n",
              "\n",
              "    .colab-df-buttons div {\n",
              "      margin-bottom: 4px;\n",
              "    }\n",
              "\n",
              "    [theme=dark] .colab-df-convert {\n",
              "      background-color: #3B4455;\n",
              "      fill: #D2E3FC;\n",
              "    }\n",
              "\n",
              "    [theme=dark] .colab-df-convert:hover {\n",
              "      background-color: #434B5C;\n",
              "      box-shadow: 0px 1px 3px 1px rgba(0, 0, 0, 0.15);\n",
              "      filter: drop-shadow(0px 1px 2px rgba(0, 0, 0, 0.3));\n",
              "      fill: #FFFFFF;\n",
              "    }\n",
              "  </style>\n",
              "\n",
              "    <script>\n",
              "      const buttonEl =\n",
              "        document.querySelector('#df-c0f27445-d80b-4986-a8a1-560b9b56f53f button.colab-df-convert');\n",
              "      buttonEl.style.display =\n",
              "        google.colab.kernel.accessAllowed ? 'block' : 'none';\n",
              "\n",
              "      async function convertToInteractive(key) {\n",
              "        const element = document.querySelector('#df-c0f27445-d80b-4986-a8a1-560b9b56f53f');\n",
              "        const dataTable =\n",
              "          await google.colab.kernel.invokeFunction('convertToInteractive',\n",
              "                                                    [key], {});\n",
              "        if (!dataTable) return;\n",
              "\n",
              "        const docLinkHtml = 'Like what you see? Visit the ' +\n",
              "          '<a target=\"_blank\" href=https://colab.research.google.com/notebooks/data_table.ipynb>data table notebook</a>'\n",
              "          + ' to learn more about interactive tables.';\n",
              "        element.innerHTML = '';\n",
              "        dataTable['output_type'] = 'display_data';\n",
              "        await google.colab.output.renderOutput(dataTable, element);\n",
              "        const docLink = document.createElement('div');\n",
              "        docLink.innerHTML = docLinkHtml;\n",
              "        element.appendChild(docLink);\n",
              "      }\n",
              "    </script>\n",
              "  </div>\n",
              "\n",
              "\n",
              "<div id=\"df-b9e5bbb5-9844-4f2a-afb3-83c5bb640378\">\n",
              "  <button class=\"colab-df-quickchart\" onclick=\"quickchart('df-b9e5bbb5-9844-4f2a-afb3-83c5bb640378')\"\n",
              "            title=\"Suggest charts\"\n",
              "            style=\"display:none;\">\n",
              "\n",
              "<svg xmlns=\"http://www.w3.org/2000/svg\" height=\"24px\"viewBox=\"0 0 24 24\"\n",
              "     width=\"24px\">\n",
              "    <g>\n",
              "        <path d=\"M19 3H5c-1.1 0-2 .9-2 2v14c0 1.1.9 2 2 2h14c1.1 0 2-.9 2-2V5c0-1.1-.9-2-2-2zM9 17H7v-7h2v7zm4 0h-2V7h2v10zm4 0h-2v-4h2v4z\"/>\n",
              "    </g>\n",
              "</svg>\n",
              "  </button>\n",
              "\n",
              "<style>\n",
              "  .colab-df-quickchart {\n",
              "      --bg-color: #E8F0FE;\n",
              "      --fill-color: #1967D2;\n",
              "      --hover-bg-color: #E2EBFA;\n",
              "      --hover-fill-color: #174EA6;\n",
              "      --disabled-fill-color: #AAA;\n",
              "      --disabled-bg-color: #DDD;\n",
              "  }\n",
              "\n",
              "  [theme=dark] .colab-df-quickchart {\n",
              "      --bg-color: #3B4455;\n",
              "      --fill-color: #D2E3FC;\n",
              "      --hover-bg-color: #434B5C;\n",
              "      --hover-fill-color: #FFFFFF;\n",
              "      --disabled-bg-color: #3B4455;\n",
              "      --disabled-fill-color: #666;\n",
              "  }\n",
              "\n",
              "  .colab-df-quickchart {\n",
              "    background-color: var(--bg-color);\n",
              "    border: none;\n",
              "    border-radius: 50%;\n",
              "    cursor: pointer;\n",
              "    display: none;\n",
              "    fill: var(--fill-color);\n",
              "    height: 32px;\n",
              "    padding: 0;\n",
              "    width: 32px;\n",
              "  }\n",
              "\n",
              "  .colab-df-quickchart:hover {\n",
              "    background-color: var(--hover-bg-color);\n",
              "    box-shadow: 0 1px 2px rgba(60, 64, 67, 0.3), 0 1px 3px 1px rgba(60, 64, 67, 0.15);\n",
              "    fill: var(--button-hover-fill-color);\n",
              "  }\n",
              "\n",
              "  .colab-df-quickchart-complete:disabled,\n",
              "  .colab-df-quickchart-complete:disabled:hover {\n",
              "    background-color: var(--disabled-bg-color);\n",
              "    fill: var(--disabled-fill-color);\n",
              "    box-shadow: none;\n",
              "  }\n",
              "\n",
              "  .colab-df-spinner {\n",
              "    border: 2px solid var(--fill-color);\n",
              "    border-color: transparent;\n",
              "    border-bottom-color: var(--fill-color);\n",
              "    animation:\n",
              "      spin 1s steps(1) infinite;\n",
              "  }\n",
              "\n",
              "  @keyframes spin {\n",
              "    0% {\n",
              "      border-color: transparent;\n",
              "      border-bottom-color: var(--fill-color);\n",
              "      border-left-color: var(--fill-color);\n",
              "    }\n",
              "    20% {\n",
              "      border-color: transparent;\n",
              "      border-left-color: var(--fill-color);\n",
              "      border-top-color: var(--fill-color);\n",
              "    }\n",
              "    30% {\n",
              "      border-color: transparent;\n",
              "      border-left-color: var(--fill-color);\n",
              "      border-top-color: var(--fill-color);\n",
              "      border-right-color: var(--fill-color);\n",
              "    }\n",
              "    40% {\n",
              "      border-color: transparent;\n",
              "      border-right-color: var(--fill-color);\n",
              "      border-top-color: var(--fill-color);\n",
              "    }\n",
              "    60% {\n",
              "      border-color: transparent;\n",
              "      border-right-color: var(--fill-color);\n",
              "    }\n",
              "    80% {\n",
              "      border-color: transparent;\n",
              "      border-right-color: var(--fill-color);\n",
              "      border-bottom-color: var(--fill-color);\n",
              "    }\n",
              "    90% {\n",
              "      border-color: transparent;\n",
              "      border-bottom-color: var(--fill-color);\n",
              "    }\n",
              "  }\n",
              "</style>\n",
              "\n",
              "  <script>\n",
              "    async function quickchart(key) {\n",
              "      const quickchartButtonEl =\n",
              "        document.querySelector('#' + key + ' button');\n",
              "      quickchartButtonEl.disabled = true;  // To prevent multiple clicks.\n",
              "      quickchartButtonEl.classList.add('colab-df-spinner');\n",
              "      try {\n",
              "        const charts = await google.colab.kernel.invokeFunction(\n",
              "            'suggestCharts', [key], {});\n",
              "      } catch (error) {\n",
              "        console.error('Error during call to suggestCharts:', error);\n",
              "      }\n",
              "      quickchartButtonEl.classList.remove('colab-df-spinner');\n",
              "      quickchartButtonEl.classList.add('colab-df-quickchart-complete');\n",
              "    }\n",
              "    (() => {\n",
              "      let quickchartButtonEl =\n",
              "        document.querySelector('#df-b9e5bbb5-9844-4f2a-afb3-83c5bb640378 button');\n",
              "      quickchartButtonEl.style.display =\n",
              "        google.colab.kernel.accessAllowed ? 'block' : 'none';\n",
              "    })();\n",
              "  </script>\n",
              "</div>\n",
              "    </div>\n",
              "  </div>\n"
            ],
            "application/vnd.google.colaboratory.intrinsic+json": {
              "type": "dataframe"
            }
          },
          "metadata": {},
          "execution_count": 249
        }
      ],
      "source": [
        "df_2.describe()"
      ]
    },
    {
      "cell_type": "markdown",
      "id": "1d19f506-f5d3-4acd-a74d-aa7b7a30f7aa",
      "metadata": {
        "id": "1d19f506-f5d3-4acd-a74d-aa7b7a30f7aa",
        "jp-MarkdownHeadingCollapsed": true,
        "tags": []
      },
      "source": [
        "# 4. Realizar teste de hipóteses para comparação de valores de categorias e visualizar diferenças"
      ]
    },
    {
      "cell_type": "code",
      "execution_count": 234,
      "id": "fca5eca0-1ffd-42a7-931c-ca4fe3162af5",
      "metadata": {
        "id": "fca5eca0-1ffd-42a7-931c-ca4fe3162af5",
        "colab": {
          "base_uri": "https://localhost:8080/"
        },
        "outputId": "4667fa51-e644-46a1-9b99-0c43c4a4983d"
      },
      "outputs": [
        {
          "output_type": "stream",
          "name": "stderr",
          "text": [
            "/usr/local/lib/python3.10/dist-packages/ipykernel/ipkernel.py:283: DeprecationWarning: `should_run_async` will not call `transform_cell` automatically in the future. Please pass the result to `transformed_cell` argument and any exception that happen during thetransform in `preprocessing_exc_tuple` in IPython 7.17 and above.\n",
            "  and should_run_async(code)\n"
          ]
        }
      ],
      "source": []
    }
  ],
  "metadata": {
    "colab": {
      "provenance": []
    },
    "kernelspec": {
      "display_name": "Python 3 (ipykernel)",
      "language": "python",
      "name": "python3"
    },
    "language_info": {
      "codemirror_mode": {
        "name": "ipython",
        "version": 3
      },
      "file_extension": ".py",
      "mimetype": "text/x-python",
      "name": "python",
      "nbconvert_exporter": "python",
      "pygments_lexer": "ipython3",
      "version": "3.9.12"
    }
  },
  "nbformat": 4,
  "nbformat_minor": 5
}