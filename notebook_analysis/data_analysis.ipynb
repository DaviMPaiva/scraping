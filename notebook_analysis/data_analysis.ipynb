{
 "cells": [
  {
   "cell_type": "markdown",
   "id": "3779c030-7ed3-42a9-b945-e4527fa68691",
   "metadata": {
    "id": "3779c030-7ed3-42a9-b945-e4527fa68691",
    "tags": []
   },
   "source": [
    "# 0. Imports"
   ]
  },
  {
   "cell_type": "code",
   "execution_count": 2,
   "id": "c7ea5884-b6e3-4575-a382-fc4a4a6eccd3",
   "metadata": {
    "colab": {
     "base_uri": "https://localhost:8080/"
    },
    "id": "c7ea5884-b6e3-4575-a382-fc4a4a6eccd3",
    "outputId": "c6b8039d-5922-434e-affa-c62f9e440648"
   },
   "outputs": [],
   "source": [
    "import pandas as pd\n",
    "import seaborn as sns\n",
    "pd.set_option('display.max_columns', 1000)\n",
    "\n",
    "from sklearn.covariance import EllipticEnvelope\n",
    "\n",
    "import matplotlib.pyplot as plt\n",
    "\n",
    "from scipy import stats\n",
    "\n",
    "from dotenv import load_dotenv\n",
    "load_dotenv()\n",
    "import os"
   ]
  },
  {
   "cell_type": "markdown",
   "id": "2206f321-6b71-4540-bb4e-a9210f0cfcb8",
   "metadata": {
    "id": "2206f321-6b71-4540-bb4e-a9210f0cfcb8"
   },
   "source": [
    "# 1. Coletar dados"
   ]
  },
  {
   "cell_type": "markdown",
   "id": "8f47ef49",
   "metadata": {},
   "source": [
    "Fizemos o scrap do site olx, setado para categoria de imoveis em recife, primeiros o extract_single_link.py para pegar os links dos sites, criamos e juntamos um json com esses links e depois fomos em cada um desses link usando scraping.py e criamos um csv com todos os dados colotados."
   ]
  },
  {
   "cell_type": "markdown",
   "id": "4ed1279b",
   "metadata": {
    "id": "4ed1279b"
   },
   "source": [
    "| Campop               | Descrição                                      |\n",
    "|----------------------|--------------------------------------------------|\n",
    "| find_anuncio         | o titulo do anuncio                              |\n",
    "| find_condominio      | o preço do condominio                            |\n",
    "| find_descri          | a descrição feita do imovel                      |\n",
    "| find_endereco        | Endereço = bairro, Cidade, estado, cep           |\n",
    "| find_iptu            | IPTU                                             |\n",
    "| find_loc             | geralmente a rua                                 |\n",
    "| find_m_quadrado      | Tamanho do imóvel em metros quadrados            |\n",
    "| find_price           | Preço do imóvel                                  |\n",
    "| find_vendedor        | Informações sobre o vendedor                     |\n",
    "| is_academia          | Indica se há academia/centro de fitness          |\n",
    "| is_apartamento       | Indica se é um apartamento                       |\n",
    "| is_ar_condicionado   | Indica se tem ar condicionado                     |\n",
    "| is_churrasqueira     | Indica se há churrasqueira                       |\n",
    "| is_elevador          | Indica se há elevador                            |\n",
    "| is_mobiliado         | Indica se o imóvel está mobiliado                |\n",
    "| is_piscina           | Indica se há piscina                             |\n",
    "| is_portaria          | Indica se há portaria/serviço de portaria        |\n",
    "| is_profissional      | Indica se o vendedor é um profissional           |\n",
    "| is_salao_festa       | Indica se há salão de festas/área de eventos     |\n",
    "| is_varanda           | Indica se há varanda                             |\n",
    "| n_banheiros          | Número de banheiros                              |\n",
    "| n_fotos              | Número de fotos no anúncio                       |\n",
    "| n_garagens           | Número de vagas/garagens                         |\n",
    "| n_quartos            | Número de quartos                                |"
   ]
  },
  {
   "cell_type": "code",
   "execution_count": 6,
   "id": "2d8c8a8e-e557-4d7e-9209-d908cb8cc663",
   "metadata": {
    "id": "2d8c8a8e-e557-4d7e-9209-d908cb8cc663"
   },
   "outputs": [],
   "source": [
    "path_raw = os.getenv('PATH_RAW')\n",
    "df_raw = pd.read_csv(path_raw, sep=',')"
   ]
  },
  {
   "cell_type": "code",
   "execution_count": 7,
   "id": "8559d4db-a9b1-42df-a1f0-d3223ca9144f",
   "metadata": {
    "colab": {
     "base_uri": "https://localhost:8080/",
     "height": 389
    },
    "id": "8559d4db-a9b1-42df-a1f0-d3223ca9144f",
    "outputId": "6d4fda8d-2d9d-43e9-8ad5-180c911bb225"
   },
   "outputs": [
    {
     "data": {
      "text/html": [
       "<div>\n",
       "<style scoped>\n",
       "    .dataframe tbody tr th:only-of-type {\n",
       "        vertical-align: middle;\n",
       "    }\n",
       "\n",
       "    .dataframe tbody tr th {\n",
       "        vertical-align: top;\n",
       "    }\n",
       "\n",
       "    .dataframe thead th {\n",
       "        text-align: right;\n",
       "    }\n",
       "</style>\n",
       "<table border=\"1\" class=\"dataframe\">\n",
       "  <thead>\n",
       "    <tr style=\"text-align: right;\">\n",
       "      <th></th>\n",
       "      <th>find_anuncio</th>\n",
       "      <th>find_condominio</th>\n",
       "      <th>find_descri</th>\n",
       "      <th>find_endereco</th>\n",
       "      <th>find_iptu</th>\n",
       "      <th>find_loc</th>\n",
       "      <th>find_m_quadrado</th>\n",
       "      <th>find_price</th>\n",
       "      <th>find_vendedor</th>\n",
       "      <th>is_academia</th>\n",
       "      <th>is_apertamento</th>\n",
       "      <th>is_ar_condicionado</th>\n",
       "      <th>is_churrasqueira</th>\n",
       "      <th>is_elevador</th>\n",
       "      <th>is_mobiliado</th>\n",
       "      <th>is_piscina</th>\n",
       "      <th>is_portaria</th>\n",
       "      <th>is_profissional</th>\n",
       "      <th>is_salao_festa</th>\n",
       "      <th>is_varanda</th>\n",
       "      <th>n_banheiros</th>\n",
       "      <th>n_fotos</th>\n",
       "      <th>n_garagens</th>\n",
       "      <th>n_quartos</th>\n",
       "    </tr>\n",
       "  </thead>\n",
       "  <tbody>\n",
       "    <tr>\n",
       "      <th>0</th>\n",
       "      <td>Apartamento para venda com 105 metros quadrado...</td>\n",
       "      <td>R$ 1.100 / mês</td>\n",
       "      <td>Código do anúncio: C6BAD9\\n\\nO apartamento est...</td>\n",
       "      <td>Aflitos, Recife, PE, 52050340</td>\n",
       "      <td>R$ 180</td>\n",
       "      <td>Rua da Angustura</td>\n",
       "      <td>105m²</td>\n",
       "      <td>380000</td>\n",
       "      <td>Antônio Luciano Santana da Silva</td>\n",
       "      <td>False</td>\n",
       "      <td>True</td>\n",
       "      <td>False</td>\n",
       "      <td>False</td>\n",
       "      <td>False</td>\n",
       "      <td>False</td>\n",
       "      <td>False</td>\n",
       "      <td>False</td>\n",
       "      <td>True</td>\n",
       "      <td>False</td>\n",
       "      <td>False</td>\n",
       "      <td>3</td>\n",
       "      <td>20</td>\n",
       "      <td>0</td>\n",
       "      <td>3</td>\n",
       "    </tr>\n",
       "    <tr>\n",
       "      <th>1</th>\n",
       "      <td>Apartamento para venda possui 51 metros quadra...</td>\n",
       "      <td>R$ 0 / mês</td>\n",
       "      <td>Código do anúncio: S623-1\\n\\nO apartamento no ...</td>\n",
       "      <td>Boa Viagem, Recife, PE, 51021130</td>\n",
       "      <td>R$ 0</td>\n",
       "      <td>Rua Coronel Anízio Rodrigues Coelho</td>\n",
       "      <td>51m²</td>\n",
       "      <td>525000</td>\n",
       "      <td>Dream Residence Imóveis Recife</td>\n",
       "      <td>False</td>\n",
       "      <td>True</td>\n",
       "      <td>False</td>\n",
       "      <td>False</td>\n",
       "      <td>False</td>\n",
       "      <td>False</td>\n",
       "      <td>True</td>\n",
       "      <td>False</td>\n",
       "      <td>True</td>\n",
       "      <td>True</td>\n",
       "      <td>False</td>\n",
       "      <td>2</td>\n",
       "      <td>15</td>\n",
       "      <td>1</td>\n",
       "      <td>3</td>\n",
       "    </tr>\n",
       "    <tr>\n",
       "      <th>2</th>\n",
       "      <td>Apartamento para venda possui 124 metros quadr...</td>\n",
       "      <td>R$ 822 / mês</td>\n",
       "      <td>Código do anúncio: V2009TS-2225\\n\\nApartamento...</td>\n",
       "      <td>Boa Viagem, Recife, PE, 51130000</td>\n",
       "      <td>R$ 291</td>\n",
       "      <td>Avenida Boa Viagem - de 6200/6201 ao fim</td>\n",
       "      <td>124m²</td>\n",
       "      <td>620000</td>\n",
       "      <td>Roberta Gadelha Batista</td>\n",
       "      <td>False</td>\n",
       "      <td>True</td>\n",
       "      <td>False</td>\n",
       "      <td>False</td>\n",
       "      <td>False</td>\n",
       "      <td>False</td>\n",
       "      <td>False</td>\n",
       "      <td>False</td>\n",
       "      <td>True</td>\n",
       "      <td>False</td>\n",
       "      <td>False</td>\n",
       "      <td>2</td>\n",
       "      <td>14</td>\n",
       "      <td>1</td>\n",
       "      <td>3</td>\n",
       "    </tr>\n",
       "  </tbody>\n",
       "</table>\n",
       "</div>"
      ],
      "text/plain": [
       "                                        find_anuncio find_condominio  \\\n",
       "0  Apartamento para venda com 105 metros quadrado...  R$ 1.100 / mês   \n",
       "1  Apartamento para venda possui 51 metros quadra...      R$ 0 / mês   \n",
       "2  Apartamento para venda possui 124 metros quadr...    R$ 822 / mês   \n",
       "\n",
       "                                         find_descri  \\\n",
       "0  Código do anúncio: C6BAD9\\n\\nO apartamento est...   \n",
       "1  Código do anúncio: S623-1\\n\\nO apartamento no ...   \n",
       "2  Código do anúncio: V2009TS-2225\\n\\nApartamento...   \n",
       "\n",
       "                      find_endereco find_iptu  \\\n",
       "0     Aflitos, Recife, PE, 52050340    R$ 180   \n",
       "1  Boa Viagem, Recife, PE, 51021130      R$ 0   \n",
       "2  Boa Viagem, Recife, PE, 51130000    R$ 291   \n",
       "\n",
       "                                   find_loc find_m_quadrado  find_price  \\\n",
       "0                          Rua da Angustura           105m²      380000   \n",
       "1       Rua Coronel Anízio Rodrigues Coelho            51m²      525000   \n",
       "2  Avenida Boa Viagem - de 6200/6201 ao fim           124m²      620000   \n",
       "\n",
       "                      find_vendedor  is_academia  is_apertamento  \\\n",
       "0  Antônio Luciano Santana da Silva        False            True   \n",
       "1    Dream Residence Imóveis Recife        False            True   \n",
       "2           Roberta Gadelha Batista        False            True   \n",
       "\n",
       "   is_ar_condicionado  is_churrasqueira  is_elevador  is_mobiliado  \\\n",
       "0               False             False        False         False   \n",
       "1               False             False        False         False   \n",
       "2               False             False        False         False   \n",
       "\n",
       "   is_piscina  is_portaria  is_profissional  is_salao_festa  is_varanda  \\\n",
       "0       False        False             True           False       False   \n",
       "1        True        False             True            True       False   \n",
       "2       False        False             True           False       False   \n",
       "\n",
       "  n_banheiros  n_fotos n_garagens n_quartos  \n",
       "0           3       20          0         3  \n",
       "1           2       15          1         3  \n",
       "2           2       14          1         3  "
      ]
     },
     "execution_count": 7,
     "metadata": {},
     "output_type": "execute_result"
    }
   ],
   "source": [
    "df_raw.head(3)"
   ]
  },
  {
   "cell_type": "markdown",
   "id": "5b889c32-6971-4dd4-91eb-e15a6d986bcb",
   "metadata": {
    "id": "5b889c32-6971-4dd4-91eb-e15a6d986bcb",
    "tags": []
   },
   "source": [
    "# 2. Realizar pré-processamento dos dados"
   ]
  },
  {
   "cell_type": "code",
   "execution_count": 5,
   "id": "nucdF9ewkaFz",
   "metadata": {
    "colab": {
     "base_uri": "https://localhost:8080/"
    },
    "id": "nucdF9ewkaFz",
    "outputId": "ff9eda89-c083-4df7-b696-93411426cc83"
   },
   "outputs": [
    {
     "data": {
      "text/plain": [
       "(5000, 24)"
      ]
     },
     "execution_count": 5,
     "metadata": {},
     "output_type": "execute_result"
    }
   ],
   "source": [
    "df_raw.shape"
   ]
  },
  {
   "cell_type": "code",
   "execution_count": 153,
   "id": "04d67044-1d45-4990-8981-4855aaf7765c",
   "metadata": {
    "colab": {
     "base_uri": "https://localhost:8080/"
    },
    "id": "04d67044-1d45-4990-8981-4855aaf7765c",
    "outputId": "d4eeaac8-8f1b-44b9-e866-e65be8d11c5f"
   },
   "outputs": [],
   "source": [
    "df_0 = df_raw.copy()"
   ]
  },
  {
   "cell_type": "markdown",
   "id": "6f4f83b8",
   "metadata": {},
   "source": [
    "Vamos tirar a descrção e anuncio, pois está fora do escopo do projeto fazer analise com esse tipo de texto"
   ]
  },
  {
   "cell_type": "code",
   "execution_count": 154,
   "id": "8b7264c1",
   "metadata": {},
   "outputs": [],
   "source": [
    "df_0 = df_0.drop(['find_anuncio','find_descri'], axis=1) "
   ]
  },
  {
   "cell_type": "markdown",
   "id": "5da4bfa1",
   "metadata": {},
   "source": [
    "Vamos separar o bairro e o cep"
   ]
  },
  {
   "cell_type": "code",
   "execution_count": 155,
   "id": "07363b1f",
   "metadata": {},
   "outputs": [],
   "source": [
    "df_0[['Bairro','CEP']] = df_0['find_endereco'].str.split(', ', expand=True)[[0,3]]\n"
   ]
  },
  {
   "cell_type": "markdown",
   "id": "06b6560e",
   "metadata": {},
   "source": [
    "vamos remover as duplicadas ea coluna de endereço"
   ]
  },
  {
   "cell_type": "code",
   "execution_count": 156,
   "id": "61b8709c",
   "metadata": {},
   "outputs": [],
   "source": [
    "df_0 = df_0.drop(columns=['find_endereco'])\n",
    "df_0 = df_0.drop_duplicates()"
   ]
  },
  {
   "cell_type": "code",
   "execution_count": 157,
   "id": "561236b1",
   "metadata": {
    "colab": {
     "base_uri": "https://localhost:8080/"
    },
    "id": "561236b1",
    "outputId": "506d15ab-8b06-4f49-dc33-7cb6f9c07aa5"
   },
   "outputs": [
    {
     "data": {
      "text/plain": [
       "(4890, 23)"
      ]
     },
     "execution_count": 157,
     "metadata": {},
     "output_type": "execute_result"
    }
   ],
   "source": [
    "df_0.shape"
   ]
  },
  {
   "cell_type": "markdown",
   "id": "93a7f4f8-69c3-44a9-bd01-b2542d56a201",
   "metadata": {
    "id": "93a7f4f8-69c3-44a9-bd01-b2542d56a201"
   },
   "source": [
    "## 2.0 Tratamento de dados"
   ]
  },
  {
   "cell_type": "markdown",
   "id": "moEBtsfocPFb",
   "metadata": {
    "id": "moEBtsfocPFb"
   },
   "source": [
    "### 2.0.1 Algumas classes são muito uteis como valor numerico, mas não podem ser totalmente convertidas. exemplo: o numero de quartos tem o campo '5 ou mais' vamos fazer o drop desses valores"
   ]
  },
  {
   "cell_type": "code",
   "execution_count": 158,
   "id": "-L7vunnAcKZc",
   "metadata": {
    "colab": {
     "base_uri": "https://localhost:8080/"
    },
    "id": "-L7vunnAcKZc",
    "outputId": "ec08ca20-bdee-42fb-89e1-a1e272648048"
   },
   "outputs": [],
   "source": [
    "df_0 = df_0[df_0['n_quartos'] != '5 ou mais'] # por recomendação do professor\n",
    "df_0 = df_0[df_0['n_banheiros'] != '5 ou mais']\n",
    "df_0 = df_0[df_0['n_garagens'] != '5 ou mais']\n",
    "\n",
    "df_0 = df_0[df_0['find_price'] > 10000]# vamo tirar aguns precos muito absurdos"
   ]
  },
  {
   "cell_type": "code",
   "execution_count": 159,
   "id": "fbab6679",
   "metadata": {},
   "outputs": [
    {
     "data": {
      "text/plain": [
       "(4557, 23)"
      ]
     },
     "execution_count": 159,
     "metadata": {},
     "output_type": "execute_result"
    }
   ],
   "source": [
    "df_0.shape"
   ]
  },
  {
   "cell_type": "markdown",
   "id": "1f390caa-5e72-4686-81cd-f02710b48dcf",
   "metadata": {
    "id": "1f390caa-5e72-4686-81cd-f02710b48dcf"
   },
   "source": [
    "## 2.1 definição de tipos e criação de novas colunas derivadas"
   ]
  },
  {
   "cell_type": "code",
   "execution_count": 160,
   "id": "hb12P9NjlsD_",
   "metadata": {
    "colab": {
     "base_uri": "https://localhost:8080/"
    },
    "id": "hb12P9NjlsD_",
    "outputId": "c8cfa3ce-82d1-4145-ffc2-3229b1289d6c"
   },
   "outputs": [
    {
     "data": {
      "text/plain": [
       "find_condominio       object\n",
       "find_iptu             object\n",
       "find_loc              object\n",
       "find_m_quadrado       object\n",
       "find_price             int64\n",
       "find_vendedor         object\n",
       "is_academia             bool\n",
       "is_apertamento          bool\n",
       "is_ar_condicionado      bool\n",
       "is_churrasqueira        bool\n",
       "is_elevador             bool\n",
       "is_mobiliado            bool\n",
       "is_piscina              bool\n",
       "is_portaria             bool\n",
       "is_profissional         bool\n",
       "is_salao_festa          bool\n",
       "is_varanda              bool\n",
       "n_banheiros           object\n",
       "n_fotos                int64\n",
       "n_garagens            object\n",
       "n_quartos             object\n",
       "Bairro                object\n",
       "CEP                   object\n",
       "dtype: object"
      ]
     },
     "execution_count": 160,
     "metadata": {},
     "output_type": "execute_result"
    }
   ],
   "source": [
    "df_0.dtypes"
   ]
  },
  {
   "cell_type": "code",
   "execution_count": 161,
   "id": "a1760679-e7a8-40bf-97dc-96b95d3e64c4",
   "metadata": {
    "colab": {
     "base_uri": "https://localhost:8080/"
    },
    "id": "a1760679-e7a8-40bf-97dc-96b95d3e64c4",
    "outputId": "ee5e99d4-72b8-4021-df06-d652c29869f6",
    "scrolled": true,
    "tags": []
   },
   "outputs": [],
   "source": [
    "# deixando como num a coluna find_condominio\n",
    "df_0['find_condominio'] = df_0['find_condominio'].astype('str').str.replace('R$', '').str.replace(' / mês', '').str.replace('.', '')\n",
    "\n",
    "# deixando como num a coluna find_iptu\n",
    "df_0['find_iptu'] = df_0['find_iptu'].astype('str').str.replace('R$ ', '').str.replace('.', '')\n",
    "\n",
    "# deixando como num a coluna find_m_quadrado\n",
    "df_0['find_m_quadrado'] = df_0['find_m_quadrado'].astype('str').str.replace('m²', '').str.replace('.', '')\n",
    "\n",
    "# cast direto colunas(floats devido a conseguir dar cast em NaN)\n",
    "df_0['find_condominio'] = df_0['find_condominio'].astype('float')\n",
    "df_0['Bairro'] = df_0['Bairro'].astype('category')\n",
    "df_0['CEP'] = df_0['CEP'].astype('category')\n",
    "df_0['find_iptu'] = df_0['find_iptu'].astype('float')\n",
    "df_0['find_loc'] = df_0['find_loc'].astype('category')\n",
    "df_0['find_m_quadrado'] = df_0['find_m_quadrado'].astype('float')\n",
    "df_0['find_price'] = df_0['find_price'].astype('float')\n",
    "df_0['find_vendedor'] = df_0['find_vendedor'].astype('category')\n",
    "df_0['is_academia'] = df_0['is_academia'].astype('category')\n",
    "df_0['is_apertamento'] = df_0['is_apertamento'].astype('category')\n",
    "df_0['is_ar_condicionado'] = df_0['is_ar_condicionado'].astype('category')\n",
    "df_0['is_churrasqueira'] = df_0['is_churrasqueira'].astype('category')\n",
    "df_0['is_elevador'] = df_0['is_elevador'].astype('category')\n",
    "df_0['is_mobiliado'] = df_0['is_mobiliado'].astype('category')\n",
    "df_0['is_piscina'] = df_0['is_piscina'].astype('category')\n",
    "df_0['is_portaria'] = df_0['is_portaria'].astype('category')\n",
    "df_0['is_profissional'] = df_0['is_profissional'].astype('category')\n",
    "df_0['is_salao_festa'] = df_0['is_salao_festa'].astype('category')\n",
    "df_0['is_varanda'] = df_0['is_varanda'].astype('category')\n",
    "df_0['n_banheiros'] = df_0['n_banheiros'].astype('float')\n",
    "df_0['n_fotos'] = df_0['n_fotos'].astype('float')\n",
    "df_0['n_garagens'] = df_0['n_garagens'].astype('float')\n",
    "df_0['n_quartos'] = df_0['n_quartos'].astype('float')\n"
   ]
  },
  {
   "cell_type": "code",
   "execution_count": 162,
   "id": "Y8NQUfrqc7wB",
   "metadata": {
    "colab": {
     "base_uri": "https://localhost:8080/"
    },
    "id": "Y8NQUfrqc7wB",
    "outputId": "477cd59f-41c4-4973-c6ba-16d264bd48c6"
   },
   "outputs": [
    {
     "data": {
      "text/plain": [
       "find_condominio        float64\n",
       "find_iptu              float64\n",
       "find_loc              category\n",
       "find_m_quadrado        float64\n",
       "find_price             float64\n",
       "find_vendedor         category\n",
       "is_academia           category\n",
       "is_apertamento        category\n",
       "is_ar_condicionado    category\n",
       "is_churrasqueira      category\n",
       "is_elevador           category\n",
       "is_mobiliado          category\n",
       "is_piscina            category\n",
       "is_portaria           category\n",
       "is_profissional       category\n",
       "is_salao_festa        category\n",
       "is_varanda            category\n",
       "n_banheiros            float64\n",
       "n_fotos                float64\n",
       "n_garagens             float64\n",
       "n_quartos              float64\n",
       "Bairro                category\n",
       "CEP                   category\n",
       "dtype: object"
      ]
     },
     "execution_count": 162,
     "metadata": {},
     "output_type": "execute_result"
    }
   ],
   "source": [
    "df_0.dtypes"
   ]
  },
  {
   "cell_type": "code",
   "execution_count": 163,
   "id": "MhUyKVvQjn7F",
   "metadata": {
    "colab": {
     "base_uri": "https://localhost:8080/"
    },
    "id": "MhUyKVvQjn7F",
    "outputId": "84ba129f-b8a6-4f95-cbef-c109fbbaef62"
   },
   "outputs": [],
   "source": [
    "df_0[df_0.select_dtypes(['category']).columns] = df_0.select_dtypes(['category']).apply(lambda x: x.cat.codes)"
   ]
  },
  {
   "cell_type": "code",
   "execution_count": 164,
   "id": "vIa0h30vkQWF",
   "metadata": {
    "colab": {
     "base_uri": "https://localhost:8080/"
    },
    "id": "vIa0h30vkQWF",
    "outputId": "15ca0003-5757-4487-8b1f-afba8c7e1d8b"
   },
   "outputs": [
    {
     "data": {
      "text/plain": [
       "find_condominio       float64\n",
       "find_iptu             float64\n",
       "find_loc                int16\n",
       "find_m_quadrado       float64\n",
       "find_price            float64\n",
       "find_vendedor           int16\n",
       "is_academia              int8\n",
       "is_apertamento           int8\n",
       "is_ar_condicionado       int8\n",
       "is_churrasqueira         int8\n",
       "is_elevador              int8\n",
       "is_mobiliado             int8\n",
       "is_piscina               int8\n",
       "is_portaria              int8\n",
       "is_profissional          int8\n",
       "is_salao_festa           int8\n",
       "is_varanda               int8\n",
       "n_banheiros           float64\n",
       "n_fotos               float64\n",
       "n_garagens            float64\n",
       "n_quartos             float64\n",
       "Bairro                   int8\n",
       "CEP                     int16\n",
       "dtype: object"
      ]
     },
     "execution_count": 164,
     "metadata": {},
     "output_type": "execute_result"
    }
   ],
   "source": [
    "df_0.dtypes"
   ]
  },
  {
   "cell_type": "markdown",
   "id": "781e49a4-4062-4dd8-bd1b-bb2b1d93dc09",
   "metadata": {
    "id": "781e49a4-4062-4dd8-bd1b-bb2b1d93dc09"
   },
   "source": [
    "## 2.2 Tratamento de dados ausentes\n",
    "  - vamos fazer a imputação das únicas 3 colunas que apresentam preenchimento vazio\n",
    "    - find_m_quadrado\n",
    "    - n_banheiros\n",
    "    - n_garagens"
   ]
  },
  {
   "cell_type": "code",
   "execution_count": 165,
   "id": "7853d9d8-7f09-4fa3-8c0b-494e1a3e732a",
   "metadata": {
    "colab": {
     "base_uri": "https://localhost:8080/"
    },
    "id": "7853d9d8-7f09-4fa3-8c0b-494e1a3e732a",
    "outputId": "0e04fb84-d0b8-4411-ad18-312bb8b140ed"
   },
   "outputs": [
    {
     "data": {
      "text/plain": [
       "find_condominio         0\n",
       "find_iptu               0\n",
       "find_loc                0\n",
       "find_m_quadrado        32\n",
       "find_price              0\n",
       "find_vendedor           0\n",
       "is_academia             0\n",
       "is_apertamento          0\n",
       "is_ar_condicionado      0\n",
       "is_churrasqueira        0\n",
       "is_elevador             0\n",
       "is_mobiliado            0\n",
       "is_piscina              0\n",
       "is_portaria             0\n",
       "is_profissional         0\n",
       "is_salao_festa          0\n",
       "is_varanda              0\n",
       "n_banheiros             7\n",
       "n_fotos                 0\n",
       "n_garagens            116\n",
       "n_quartos               0\n",
       "Bairro                  0\n",
       "CEP                     0\n",
       "dtype: int64"
      ]
     },
     "execution_count": 165,
     "metadata": {},
     "output_type": "execute_result"
    }
   ],
   "source": [
    "df_0.isna().sum()"
   ]
  },
  {
   "cell_type": "markdown",
   "id": "ZmPYaVeigfQf",
   "metadata": {
    "id": "ZmPYaVeigfQf",
    "tags": []
   },
   "source": [
    "### 2.2.1 Removendo colunas pelo knnimputer"
   ]
  },
  {
   "cell_type": "code",
   "execution_count": 166,
   "id": "RUqrpf54gDF4",
   "metadata": {
    "colab": {
     "base_uri": "https://localhost:8080/"
    },
    "id": "RUqrpf54gDF4",
    "outputId": "c92b2804-0b74-4893-df23-35abc38562d5",
    "scrolled": true,
    "tags": []
   },
   "outputs": [
    {
     "name": "stdout",
     "output_type": "stream",
     "text": [
      "Imputing row 1/4557 with 0 missing, elapsed time: 3.548\n",
      "Imputing row 101/4557 with 0 missing, elapsed time: 3.558\n",
      "Imputing row 201/4557 with 0 missing, elapsed time: 3.559\n",
      "Imputing row 301/4557 with 0 missing, elapsed time: 3.559\n",
      "Imputing row 401/4557 with 0 missing, elapsed time: 3.559\n",
      "Imputing row 501/4557 with 0 missing, elapsed time: 3.559\n",
      "Imputing row 601/4557 with 0 missing, elapsed time: 3.559\n",
      "Imputing row 701/4557 with 0 missing, elapsed time: 3.559\n",
      "Imputing row 801/4557 with 0 missing, elapsed time: 3.559\n",
      "Imputing row 901/4557 with 0 missing, elapsed time: 3.559\n",
      "Imputing row 1001/4557 with 0 missing, elapsed time: 3.559\n",
      "Imputing row 1101/4557 with 0 missing, elapsed time: 3.559\n",
      "Imputing row 1201/4557 with 0 missing, elapsed time: 3.559\n",
      "Imputing row 1301/4557 with 0 missing, elapsed time: 3.559\n",
      "Imputing row 1401/4557 with 0 missing, elapsed time: 3.559\n",
      "Imputing row 1501/4557 with 0 missing, elapsed time: 3.559\n",
      "Imputing row 1601/4557 with 0 missing, elapsed time: 3.559\n",
      "Imputing row 1701/4557 with 0 missing, elapsed time: 3.559\n",
      "Imputing row 1801/4557 with 0 missing, elapsed time: 3.559\n",
      "Imputing row 1901/4557 with 0 missing, elapsed time: 3.559\n",
      "Imputing row 2001/4557 with 0 missing, elapsed time: 3.559\n",
      "Imputing row 2101/4557 with 0 missing, elapsed time: 3.559\n",
      "Imputing row 2201/4557 with 0 missing, elapsed time: 3.559\n",
      "Imputing row 2301/4557 with 0 missing, elapsed time: 3.559\n",
      "Imputing row 2401/4557 with 0 missing, elapsed time: 3.559\n",
      "Imputing row 2501/4557 with 0 missing, elapsed time: 3.559\n",
      "Imputing row 2601/4557 with 0 missing, elapsed time: 3.559\n",
      "Imputing row 2701/4557 with 0 missing, elapsed time: 3.567\n",
      "Imputing row 2801/4557 with 0 missing, elapsed time: 3.567\n",
      "Imputing row 2901/4557 with 0 missing, elapsed time: 3.567\n",
      "Imputing row 3001/4557 with 0 missing, elapsed time: 3.567\n",
      "Imputing row 3101/4557 with 0 missing, elapsed time: 3.568\n",
      "Imputing row 3201/4557 with 0 missing, elapsed time: 3.568\n",
      "Imputing row 3301/4557 with 0 missing, elapsed time: 3.568\n",
      "Imputing row 3401/4557 with 0 missing, elapsed time: 3.568\n",
      "Imputing row 3501/4557 with 0 missing, elapsed time: 3.568\n",
      "Imputing row 3601/4557 with 1 missing, elapsed time: 3.568\n",
      "Imputing row 3701/4557 with 0 missing, elapsed time: 3.568\n",
      "Imputing row 3801/4557 with 0 missing, elapsed time: 3.568\n",
      "Imputing row 3901/4557 with 0 missing, elapsed time: 3.568\n",
      "Imputing row 4001/4557 with 0 missing, elapsed time: 3.571\n",
      "Imputing row 4101/4557 with 0 missing, elapsed time: 3.571\n",
      "Imputing row 4201/4557 with 0 missing, elapsed time: 3.571\n",
      "Imputing row 4301/4557 with 0 missing, elapsed time: 3.571\n",
      "Imputing row 4401/4557 with 0 missing, elapsed time: 3.571\n",
      "Imputing row 4501/4557 with 0 missing, elapsed time: 3.571\n"
     ]
    }
   ],
   "source": [
    "from fancyimpute import KNN\n",
    "\n",
    "df_0_knn = KNN(k=2).fit_transform(df_0)"
   ]
  },
  {
   "cell_type": "code",
   "execution_count": 167,
   "id": "HWY6iQEylcWd",
   "metadata": {
    "colab": {
     "base_uri": "https://localhost:8080/"
    },
    "id": "HWY6iQEylcWd",
    "outputId": "ee7b701b-f8da-4f4a-cc9c-c7235a52cf9e"
   },
   "outputs": [],
   "source": [
    "df_0 = pd.DataFrame(data=df_0_knn[0:,0:],columns=df_0.columns)"
   ]
  },
  {
   "cell_type": "code",
   "execution_count": 168,
   "id": "30dM3v7XgDSZ",
   "metadata": {
    "colab": {
     "base_uri": "https://localhost:8080/"
    },
    "id": "30dM3v7XgDSZ",
    "outputId": "f1231585-b5a9-4d50-e694-88491ae71b75"
   },
   "outputs": [
    {
     "data": {
      "text/plain": [
       "find_condominio       0\n",
       "find_iptu             0\n",
       "find_loc              0\n",
       "find_m_quadrado       0\n",
       "find_price            0\n",
       "find_vendedor         0\n",
       "is_academia           0\n",
       "is_apertamento        0\n",
       "is_ar_condicionado    0\n",
       "is_churrasqueira      0\n",
       "is_elevador           0\n",
       "is_mobiliado          0\n",
       "is_piscina            0\n",
       "is_portaria           0\n",
       "is_profissional       0\n",
       "is_salao_festa        0\n",
       "is_varanda            0\n",
       "n_banheiros           0\n",
       "n_fotos               0\n",
       "n_garagens            0\n",
       "n_quartos             0\n",
       "Bairro                0\n",
       "CEP                   0\n",
       "dtype: int64"
      ]
     },
     "execution_count": 168,
     "metadata": {},
     "output_type": "execute_result"
    }
   ],
   "source": [
    "df_0.isna().sum()"
   ]
  },
  {
   "cell_type": "markdown",
   "id": "VJfo9lywm6KP",
   "metadata": {
    "id": "VJfo9lywm6KP"
   },
   "source": [
    "## 2.3 Normalização e discretização dos dados"
   ]
  },
  {
   "cell_type": "code",
   "execution_count": 169,
   "id": "LPMh6ClnU3TJ",
   "metadata": {
    "colab": {
     "base_uri": "https://localhost:8080/",
     "height": 624
    },
    "id": "LPMh6ClnU3TJ",
    "outputId": "9548d90b-f456-4c76-dcea-029d552e11b0"
   },
   "outputs": [
    {
     "data": {
      "text/plain": [
       "<Axes: xlabel='dist_find_m_quadrado'>"
      ]
     },
     "execution_count": 169,
     "metadata": {},
     "output_type": "execute_result"
    },
    {
     "data": {
      "image/png": "[encoded data removed]",
      "text/plain": [
       "<Figure size 640x480 with 1 Axes>"
      ]
     },
     "metadata": {},
     "output_type": "display_data"
    }
   ],
   "source": [
    "# fazendo a discretização do find_m_quadrado para entender melhor distribuição pelos segmentos\n",
    "df_disc = df_0.copy()\n",
    "df_disc['dist_find_m_quadrado'] = pd.cut(df_disc['find_m_quadrado'], bins=10000)\n",
    "\n",
    "df_disc['dist_find_m_quadrado'].value_counts()[:25].plot(kind='bar')"
   ]
  },
  {
   "cell_type": "code",
   "execution_count": 170,
   "id": "0gzeNIt1m5TQ",
   "metadata": {
    "colab": {
     "base_uri": "https://localhost:8080/"
    },
    "id": "0gzeNIt1m5TQ",
    "outputId": "4d8d3f99-dfc0-435d-efe1-3c95cd1cf858"
   },
   "outputs": [],
   "source": [
    "# minmax em todo o dataframe\n",
    "df_0_norm = (df_0 - df_0.min()) / (df_0.max() - df_0.min()).copy()"
   ]
  },
  {
   "cell_type": "code",
   "execution_count": 171,
   "id": "heA_Du61oTJh",
   "metadata": {
    "colab": {
     "base_uri": "https://localhost:8080/",
     "height": 355
    },
    "id": "heA_Du61oTJh",
    "outputId": "29c3aa8c-f1b3-4adb-a205-afa236890cef"
   },
   "outputs": [
    {
     "data": {
      "text/html": [
       "<div>\n",
       "<style scoped>\n",
       "    .dataframe tbody tr th:only-of-type {\n",
       "        vertical-align: middle;\n",
       "    }\n",
       "\n",
       "    .dataframe tbody tr th {\n",
       "        vertical-align: top;\n",
       "    }\n",
       "\n",
       "    .dataframe thead th {\n",
       "        text-align: right;\n",
       "    }\n",
       "</style>\n",
       "<table border=\"1\" class=\"dataframe\">\n",
       "  <thead>\n",
       "    <tr style=\"text-align: right;\">\n",
       "      <th></th>\n",
       "      <th>find_condominio</th>\n",
       "      <th>find_iptu</th>\n",
       "      <th>find_loc</th>\n",
       "      <th>find_m_quadrado</th>\n",
       "      <th>find_price</th>\n",
       "      <th>find_vendedor</th>\n",
       "      <th>is_academia</th>\n",
       "      <th>is_apertamento</th>\n",
       "      <th>is_ar_condicionado</th>\n",
       "      <th>is_churrasqueira</th>\n",
       "      <th>is_elevador</th>\n",
       "      <th>is_mobiliado</th>\n",
       "      <th>is_piscina</th>\n",
       "      <th>is_portaria</th>\n",
       "      <th>is_profissional</th>\n",
       "      <th>is_salao_festa</th>\n",
       "      <th>is_varanda</th>\n",
       "      <th>n_banheiros</th>\n",
       "      <th>n_fotos</th>\n",
       "      <th>n_garagens</th>\n",
       "      <th>n_quartos</th>\n",
       "      <th>Bairro</th>\n",
       "      <th>CEP</th>\n",
       "    </tr>\n",
       "  </thead>\n",
       "  <tbody>\n",
       "    <tr>\n",
       "      <th>count</th>\n",
       "      <td>4557.000000</td>\n",
       "      <td>4.557000e+03</td>\n",
       "      <td>4557.000000</td>\n",
       "      <td>4557.000000</td>\n",
       "      <td>4557.000000</td>\n",
       "      <td>4557.000000</td>\n",
       "      <td>4557.000000</td>\n",
       "      <td>4557.000000</td>\n",
       "      <td>4557.000000</td>\n",
       "      <td>4557.000000</td>\n",
       "      <td>4557.000000</td>\n",
       "      <td>4557.000000</td>\n",
       "      <td>4557.000000</td>\n",
       "      <td>4557.000000</td>\n",
       "      <td>4557.000000</td>\n",
       "      <td>4557.000000</td>\n",
       "      <td>4557.000000</td>\n",
       "      <td>4557.000000</td>\n",
       "      <td>4557.000000</td>\n",
       "      <td>4557.000000</td>\n",
       "      <td>4557.000000</td>\n",
       "      <td>4557.000000</td>\n",
       "      <td>4557.000000</td>\n",
       "    </tr>\n",
       "    <tr>\n",
       "      <th>mean</th>\n",
       "      <td>0.001111</td>\n",
       "      <td>6.985622e-04</td>\n",
       "      <td>0.501175</td>\n",
       "      <td>0.000691</td>\n",
       "      <td>0.261314</td>\n",
       "      <td>0.490102</td>\n",
       "      <td>0.468071</td>\n",
       "      <td>0.964670</td>\n",
       "      <td>0.215054</td>\n",
       "      <td>0.436910</td>\n",
       "      <td>0.677200</td>\n",
       "      <td>0.062761</td>\n",
       "      <td>0.633092</td>\n",
       "      <td>0.614000</td>\n",
       "      <td>0.979372</td>\n",
       "      <td>0.639456</td>\n",
       "      <td>0.346939</td>\n",
       "      <td>0.456422</td>\n",
       "      <td>0.781249</td>\n",
       "      <td>0.364362</td>\n",
       "      <td>0.667654</td>\n",
       "      <td>0.360121</td>\n",
       "      <td>0.467776</td>\n",
       "    </tr>\n",
       "    <tr>\n",
       "      <th>std</th>\n",
       "      <td>0.024979</td>\n",
       "      <td>1.536719e-02</td>\n",
       "      <td>0.282680</td>\n",
       "      <td>0.014812</td>\n",
       "      <td>0.175458</td>\n",
       "      <td>0.276655</td>\n",
       "      <td>0.499034</td>\n",
       "      <td>0.184633</td>\n",
       "      <td>0.410905</td>\n",
       "      <td>0.496058</td>\n",
       "      <td>0.467598</td>\n",
       "      <td>0.242558</td>\n",
       "      <td>0.482014</td>\n",
       "      <td>0.486884</td>\n",
       "      <td>0.142150</td>\n",
       "      <td>0.480211</td>\n",
       "      <td>0.476048</td>\n",
       "      <td>0.236917</td>\n",
       "      <td>0.251340</td>\n",
       "      <td>0.166026</td>\n",
       "      <td>0.219514</td>\n",
       "      <td>0.298105</td>\n",
       "      <td>0.258175</td>\n",
       "    </tr>\n",
       "    <tr>\n",
       "      <th>min</th>\n",
       "      <td>0.000000</td>\n",
       "      <td>0.000000e+00</td>\n",
       "      <td>0.000000</td>\n",
       "      <td>0.000000</td>\n",
       "      <td>0.000000</td>\n",
       "      <td>0.000000</td>\n",
       "      <td>0.000000</td>\n",
       "      <td>0.000000</td>\n",
       "      <td>0.000000</td>\n",
       "      <td>0.000000</td>\n",
       "      <td>0.000000</td>\n",
       "      <td>0.000000</td>\n",
       "      <td>0.000000</td>\n",
       "      <td>0.000000</td>\n",
       "      <td>0.000000</td>\n",
       "      <td>0.000000</td>\n",
       "      <td>0.000000</td>\n",
       "      <td>0.000000</td>\n",
       "      <td>0.000000</td>\n",
       "      <td>0.000000</td>\n",
       "      <td>0.000000</td>\n",
       "      <td>0.000000</td>\n",
       "      <td>0.000000</td>\n",
       "    </tr>\n",
       "    <tr>\n",
       "      <th>25%</th>\n",
       "      <td>0.000001</td>\n",
       "      <td>9.259251e-07</td>\n",
       "      <td>0.266588</td>\n",
       "      <td>0.000277</td>\n",
       "      <td>0.143434</td>\n",
       "      <td>0.245409</td>\n",
       "      <td>0.000000</td>\n",
       "      <td>1.000000</td>\n",
       "      <td>0.000000</td>\n",
       "      <td>0.000000</td>\n",
       "      <td>0.000000</td>\n",
       "      <td>0.000000</td>\n",
       "      <td>0.000000</td>\n",
       "      <td>0.000000</td>\n",
       "      <td>1.000000</td>\n",
       "      <td>0.000000</td>\n",
       "      <td>0.000000</td>\n",
       "      <td>0.250000</td>\n",
       "      <td>0.650000</td>\n",
       "      <td>0.250000</td>\n",
       "      <td>0.500000</td>\n",
       "      <td>0.097222</td>\n",
       "      <td>0.326555</td>\n",
       "    </tr>\n",
       "    <tr>\n",
       "      <th>50%</th>\n",
       "      <td>0.000114</td>\n",
       "      <td>1.851850e-06</td>\n",
       "      <td>0.502370</td>\n",
       "      <td>0.000395</td>\n",
       "      <td>0.195972</td>\n",
       "      <td>0.497496</td>\n",
       "      <td>0.000000</td>\n",
       "      <td>1.000000</td>\n",
       "      <td>0.000000</td>\n",
       "      <td>0.000000</td>\n",
       "      <td>1.000000</td>\n",
       "      <td>0.000000</td>\n",
       "      <td>1.000000</td>\n",
       "      <td>1.000000</td>\n",
       "      <td>1.000000</td>\n",
       "      <td>1.000000</td>\n",
       "      <td>0.000000</td>\n",
       "      <td>0.500000</td>\n",
       "      <td>0.900000</td>\n",
       "      <td>0.250000</td>\n",
       "      <td>0.750000</td>\n",
       "      <td>0.208333</td>\n",
       "      <td>0.429426</td>\n",
       "    </tr>\n",
       "    <tr>\n",
       "      <th>75%</th>\n",
       "      <td>0.000504</td>\n",
       "      <td>2.787034e-04</td>\n",
       "      <td>0.744076</td>\n",
       "      <td>0.000615</td>\n",
       "      <td>0.333333</td>\n",
       "      <td>0.714524</td>\n",
       "      <td>1.000000</td>\n",
       "      <td>1.000000</td>\n",
       "      <td>0.000000</td>\n",
       "      <td>1.000000</td>\n",
       "      <td>1.000000</td>\n",
       "      <td>0.000000</td>\n",
       "      <td>1.000000</td>\n",
       "      <td>1.000000</td>\n",
       "      <td>1.000000</td>\n",
       "      <td>1.000000</td>\n",
       "      <td>1.000000</td>\n",
       "      <td>0.500000</td>\n",
       "      <td>0.950000</td>\n",
       "      <td>0.500000</td>\n",
       "      <td>0.750000</td>\n",
       "      <td>0.569444</td>\n",
       "      <td>0.671053</td>\n",
       "    </tr>\n",
       "    <tr>\n",
       "      <th>max</th>\n",
       "      <td>1.000000</td>\n",
       "      <td>1.000000e+00</td>\n",
       "      <td>1.000000</td>\n",
       "      <td>1.000000</td>\n",
       "      <td>1.000000</td>\n",
       "      <td>1.000000</td>\n",
       "      <td>1.000000</td>\n",
       "      <td>1.000000</td>\n",
       "      <td>1.000000</td>\n",
       "      <td>1.000000</td>\n",
       "      <td>1.000000</td>\n",
       "      <td>1.000000</td>\n",
       "      <td>1.000000</td>\n",
       "      <td>1.000000</td>\n",
       "      <td>1.000000</td>\n",
       "      <td>1.000000</td>\n",
       "      <td>1.000000</td>\n",
       "      <td>1.000000</td>\n",
       "      <td>1.000000</td>\n",
       "      <td>1.000000</td>\n",
       "      <td>1.000000</td>\n",
       "      <td>1.000000</td>\n",
       "      <td>1.000000</td>\n",
       "    </tr>\n",
       "  </tbody>\n",
       "</table>\n",
       "</div>"
      ],
      "text/plain": [
       "       find_condominio     find_iptu     find_loc  find_m_quadrado  \\\n",
       "count      4557.000000  4.557000e+03  4557.000000      4557.000000   \n",
       "mean          0.001111  6.985622e-04     0.501175         0.000691   \n",
       "std           0.024979  1.536719e-02     0.282680         0.014812   \n",
       "min           0.000000  0.000000e+00     0.000000         0.000000   \n",
       "25%           0.000001  9.259251e-07     0.266588         0.000277   \n",
       "50%           0.000114  1.851850e-06     0.502370         0.000395   \n",
       "75%           0.000504  2.787034e-04     0.744076         0.000615   \n",
       "max           1.000000  1.000000e+00     1.000000         1.000000   \n",
       "\n",
       "        find_price  find_vendedor  is_academia  is_apertamento  \\\n",
       "count  4557.000000    4557.000000  4557.000000     4557.000000   \n",
       "mean      0.261314       0.490102     0.468071        0.964670   \n",
       "std       0.175458       0.276655     0.499034        0.184633   \n",
       "min       0.000000       0.000000     0.000000        0.000000   \n",
       "25%       0.143434       0.245409     0.000000        1.000000   \n",
       "50%       0.195972       0.497496     0.000000        1.000000   \n",
       "75%       0.333333       0.714524     1.000000        1.000000   \n",
       "max       1.000000       1.000000     1.000000        1.000000   \n",
       "\n",
       "       is_ar_condicionado  is_churrasqueira  is_elevador  is_mobiliado  \\\n",
       "count         4557.000000       4557.000000  4557.000000   4557.000000   \n",
       "mean             0.215054          0.436910     0.677200      0.062761   \n",
       "std              0.410905          0.496058     0.467598      0.242558   \n",
       "min              0.000000          0.000000     0.000000      0.000000   \n",
       "25%              0.000000          0.000000     0.000000      0.000000   \n",
       "50%              0.000000          0.000000     1.000000      0.000000   \n",
       "75%              0.000000          1.000000     1.000000      0.000000   \n",
       "max              1.000000          1.000000     1.000000      1.000000   \n",
       "\n",
       "        is_piscina  is_portaria  is_profissional  is_salao_festa   is_varanda  \\\n",
       "count  4557.000000  4557.000000      4557.000000     4557.000000  4557.000000   \n",
       "mean      0.633092     0.614000         0.979372        0.639456     0.346939   \n",
       "std       0.482014     0.486884         0.142150        0.480211     0.476048   \n",
       "min       0.000000     0.000000         0.000000        0.000000     0.000000   \n",
       "25%       0.000000     0.000000         1.000000        0.000000     0.000000   \n",
       "50%       1.000000     1.000000         1.000000        1.000000     0.000000   \n",
       "75%       1.000000     1.000000         1.000000        1.000000     1.000000   \n",
       "max       1.000000     1.000000         1.000000        1.000000     1.000000   \n",
       "\n",
       "       n_banheiros      n_fotos   n_garagens    n_quartos       Bairro  \\\n",
       "count  4557.000000  4557.000000  4557.000000  4557.000000  4557.000000   \n",
       "mean      0.456422     0.781249     0.364362     0.667654     0.360121   \n",
       "std       0.236917     0.251340     0.166026     0.219514     0.298105   \n",
       "min       0.000000     0.000000     0.000000     0.000000     0.000000   \n",
       "25%       0.250000     0.650000     0.250000     0.500000     0.097222   \n",
       "50%       0.500000     0.900000     0.250000     0.750000     0.208333   \n",
       "75%       0.500000     0.950000     0.500000     0.750000     0.569444   \n",
       "max       1.000000     1.000000     1.000000     1.000000     1.000000   \n",
       "\n",
       "               CEP  \n",
       "count  4557.000000  \n",
       "mean      0.467776  \n",
       "std       0.258175  \n",
       "min       0.000000  \n",
       "25%       0.326555  \n",
       "50%       0.429426  \n",
       "75%       0.671053  \n",
       "max       1.000000  "
      ]
     },
     "execution_count": 171,
     "metadata": {},
     "output_type": "execute_result"
    }
   ],
   "source": [
    "df_0_norm.describe()"
   ]
  },
  {
   "cell_type": "markdown",
   "id": "35b871ba-9832-4705-a9ca-0029bf73a826",
   "metadata": {
    "id": "35b871ba-9832-4705-a9ca-0029bf73a826",
    "tags": []
   },
   "source": [
    "## 2.4 Limpeza dos dados"
   ]
  },
  {
   "cell_type": "code",
   "execution_count": 172,
   "id": "sYg8_EO16Z5T",
   "metadata": {
    "colab": {
     "base_uri": "https://localhost:8080/"
    },
    "id": "sYg8_EO16Z5T",
    "outputId": "64231aad-8540-4c84-aba1-0e1c3ba90528"
   },
   "outputs": [],
   "source": [
    "df_1 = df_0.copy()\n",
    "df_1_norm = df_0_norm.copy()"
   ]
  },
  {
   "cell_type": "markdown",
   "id": "abdd1d1e-fe30-4291-90bc-f5a54af4f42e",
   "metadata": {
    "id": "abdd1d1e-fe30-4291-90bc-f5a54af4f42e",
    "tags": []
   },
   "source": [
    "### 2.4.1 univariado"
   ]
  },
  {
   "cell_type": "code",
   "execution_count": 173,
   "id": "2e4f0939-0105-4212-9f9c-143f6d2ac6d2",
   "metadata": {
    "colab": {
     "base_uri": "https://localhost:8080/",
     "height": 517
    },
    "id": "2e4f0939-0105-4212-9f9c-143f6d2ac6d2",
    "outputId": "866730bb-75dd-4f3c-d36d-82adbcf16d16"
   },
   "outputs": [
    {
     "data": {
      "text/plain": [
       "<Axes: >"
      ]
     },
     "execution_count": 173,
     "metadata": {},
     "output_type": "execute_result"
    },
    {
     "data": {
      "image/png": "[encoded data removed]",
      "text/plain": [
       "<Figure size 640x480 with 1 Axes>"
      ]
     },
     "metadata": {},
     "output_type": "display_data"
    }
   ],
   "source": [
    "df_1['find_price'].plot.box()"
   ]
  },
  {
   "cell_type": "code",
   "execution_count": 174,
   "id": "9qFgy0oI6grp",
   "metadata": {
    "colab": {
     "base_uri": "https://localhost:8080/",
     "height": 520
    },
    "id": "9qFgy0oI6grp",
    "outputId": "79a609e4-6640-4ed0-e03b-4063e9e5f6ba"
   },
   "outputs": [
    {
     "data": {
      "text/plain": [
       "<Axes: >"
      ]
     },
     "execution_count": 174,
     "metadata": {},
     "output_type": "execute_result"
    },
    {
     "data": {
      "image/png": "[encoded data removed]",
      "text/plain": [
       "<Figure size 640x480 with 1 Axes>"
      ]
     },
     "metadata": {},
     "output_type": "display_data"
    }
   ],
   "source": [
    "df_1['find_price'].hist()"
   ]
  },
  {
   "cell_type": "code",
   "execution_count": 175,
   "id": "o-S4ecFQ6kS5",
   "metadata": {
    "colab": {
     "base_uri": "https://localhost:8080/"
    },
    "collapsed": true,
    "id": "o-S4ecFQ6kS5",
    "jupyter": {
     "outputs_hidden": true
    },
    "outputId": "3bd372a9-358e-41eb-e38b-3dbaed580d1e"
   },
   "outputs": [],
   "source": [
    "from numpy import log10\n",
    "\n",
    "df_1['log_find_price'] = log10(df_1['find_price'])"
   ]
  },
  {
   "cell_type": "code",
   "execution_count": 176,
   "id": "HoAr-FMN6yHG",
   "metadata": {
    "colab": {
     "base_uri": "https://localhost:8080/",
     "height": 502
    },
    "id": "HoAr-FMN6yHG",
    "outputId": "2d3f9c0d-6eb3-4029-a7c8-61aebb989012"
   },
   "outputs": [
    {
     "data": {
      "text/plain": [
       "<Axes: >"
      ]
     },
     "execution_count": 176,
     "metadata": {},
     "output_type": "execute_result"
    },
    {
     "data": {
      "image/png": "[encoded data removed]",
      "text/plain": [
       "<Figure size 640x480 with 1 Axes>"
      ]
     },
     "metadata": {},
     "output_type": "display_data"
    }
   ],
   "source": [
    "# sem melhoras significativas no shape da distribuição, vamos usar o find_price\n",
    "df_1['log_find_price'].hist()"
   ]
  },
  {
   "cell_type": "code",
   "execution_count": 177,
   "id": "UG8x-FiP7yFu",
   "metadata": {
    "colab": {
     "base_uri": "https://localhost:8080/"
    },
    "id": "UG8x-FiP7yFu",
    "outputId": "155a679c-486f-4c78-e73e-13f0cceb5078"
   },
   "outputs": [
    {
     "name": "stdout",
     "output_type": "stream",
     "text": [
      "470000.0\n"
     ]
    }
   ],
   "source": [
    "q1 = df_1['find_price'].quantile(q=0.25)\n",
    "q3 = df_1['find_price'].quantile(q=0.75)\n",
    "iqr = q3 - q1\n",
    "print(iqr)\n"
   ]
  },
  {
   "cell_type": "code",
   "execution_count": 178,
   "id": "VfMpym0l8EBD",
   "metadata": {
    "colab": {
     "base_uri": "https://localhost:8080/"
    },
    "id": "VfMpym0l8EBD",
    "outputId": "b3555ede-5611-4231-cd6a-022a3a59a8f7"
   },
   "outputs": [
    {
     "name": "stdout",
     "output_type": "stream",
     "text": [
      "4557\n",
      "4294\n"
     ]
    }
   ],
   "source": [
    "# aplicando metodo tukey\n",
    "print(len(df_1))\n",
    "df_1 = df_1[(df_1['find_price'] > (q1-1.5*iqr)) & (df_1['find_price'] < (q3+1.5*iqr))]\n",
    "print(len(df_1))"
   ]
  },
  {
   "cell_type": "markdown",
   "id": "9dcbafeb-b170-4901-8291-fe5e0d604cb3",
   "metadata": {
    "id": "9dcbafeb-b170-4901-8291-fe5e0d604cb3",
    "jp-MarkdownHeadingCollapsed": true,
    "tags": []
   },
   "source": [
    "### 2.4.2 bivariado"
   ]
  },
  {
   "cell_type": "code",
   "execution_count": 182,
   "id": "8a75b349-48ba-478d-be73-946b524a7eb8",
   "metadata": {
    "colab": {
     "base_uri": "https://localhost:8080/",
     "height": 522
    },
    "id": "8a75b349-48ba-478d-be73-946b524a7eb8",
    "outputId": "77eba7e0-c83d-450a-8677-05986f0ddbfb"
   },
   "outputs": [
    {
     "data": {
      "text/plain": [
       "<Axes: xlabel='find_price', ylabel='n_banheiros'>"
      ]
     },
     "execution_count": 182,
     "metadata": {},
     "output_type": "execute_result"
    },
    {
     "data": {
      "image/png": "[encoded data removed]",
      "text/plain": [
       "<Figure size 640x480 with 1 Axes>"
      ]
     },
     "metadata": {},
     "output_type": "display_data"
    }
   ],
   "source": [
    "df_1.plot.scatter(x='find_price', y='n_banheiros')"
   ]
  },
  {
   "cell_type": "code",
   "execution_count": 183,
   "id": "0CqEPWRbYkCQ",
   "metadata": {
    "colab": {
     "base_uri": "https://localhost:8080/"
    },
    "id": "0CqEPWRbYkCQ",
    "outputId": "889cfd82-cf72-4190-dc04-4db03e06859e"
   },
   "outputs": [],
   "source": [
    "df_1['price_qtdbanheiros'] = df_1['find_price'] / df_1['n_banheiros']"
   ]
  },
  {
   "cell_type": "code",
   "execution_count": 184,
   "id": "z24v3eBbY3an",
   "metadata": {
    "colab": {
     "base_uri": "https://localhost:8080/",
     "height": 517
    },
    "id": "z24v3eBbY3an",
    "outputId": "257ec9d1-77ad-4337-9576-433e584448a6"
   },
   "outputs": [
    {
     "data": {
      "text/plain": [
       "<Axes: >"
      ]
     },
     "execution_count": 184,
     "metadata": {},
     "output_type": "execute_result"
    },
    {
     "data": {
      "image/png": "[encoded data removed]",
      "text/plain": [
       "<Figure size 640x480 with 1 Axes>"
      ]
     },
     "metadata": {},
     "output_type": "display_data"
    }
   ],
   "source": [
    "df_1['price_qtdbanheiros'].plot.box()"
   ]
  },
  {
   "cell_type": "code",
   "execution_count": 185,
   "id": "-EHlHJi6ZnmU",
   "metadata": {
    "colab": {
     "base_uri": "https://localhost:8080/"
    },
    "id": "-EHlHJi6ZnmU",
    "outputId": "878861ec-def0-4a42-d4b9-7e7f0cc65eb4"
   },
   "outputs": [],
   "source": [
    "mad = abs(df_1['price_qtdbanheiros'] - df_1['price_qtdbanheiros'].median()).median()*(1/0.6745)"
   ]
  },
  {
   "cell_type": "code",
   "execution_count": 186,
   "id": "cM8f5UIIZ18q",
   "metadata": {
    "colab": {
     "base_uri": "https://localhost:8080/"
    },
    "id": "cM8f5UIIZ18q",
    "outputId": "34b2d9e1-8153-4656-b37c-eec5e002d6db"
   },
   "outputs": [
    {
     "name": "stdout",
     "output_type": "stream",
     "text": [
      "volumetria antes: 4294\n",
      "volumetria depois: 4047\n"
     ]
    }
   ],
   "source": [
    "print(f'volumetria antes: {len(df_1)}')\n",
    "df_1 = df_1[abs(df_1['price_qtdbanheiros']-df_1['price_qtdbanheiros'].median())/mad < 3.5]\n",
    "print(f'volumetria depois: {len(df_1)}')"
   ]
  },
  {
   "cell_type": "markdown",
   "id": "dc73265c-5015-4f21-ac93-89cfd52c22d3",
   "metadata": {
    "id": "dc73265c-5015-4f21-ac93-89cfd52c22d3",
    "jp-MarkdownHeadingCollapsed": true,
    "tags": []
   },
   "source": [
    "### 2.4.3 multivariado"
   ]
  },
  {
   "cell_type": "code",
   "execution_count": 187,
   "id": "2efd541d-94aa-48f3-b931-0dd481cea2cb",
   "metadata": {
    "colab": {
     "base_uri": "https://localhost:8080/",
     "height": 129
    },
    "id": "2efd541d-94aa-48f3-b931-0dd481cea2cb",
    "outputId": "527603d8-280b-4758-93a5-c0a533327b3c"
   },
   "outputs": [
    {
     "data": {
      "text/html": [
       "<style>#sk-container-id-1 {\n",
       "  /* Definition of color scheme common for light and dark mode */\n",
       "  --sklearn-color-text: black;\n",
       "  --sklearn-color-line: gray;\n",
       "  /* Definition of color scheme for unfitted estimators */\n",
       "  --sklearn-color-unfitted-level-0: #fff5e6;\n",
       "  --sklearn-color-unfitted-level-1: #f6e4d2;\n",
       "  --sklearn-color-unfitted-level-2: #ffe0b3;\n",
       "  --sklearn-color-unfitted-level-3: chocolate;\n",
       "  /* Definition of color scheme for fitted estimators */\n",
       "  --sklearn-color-fitted-level-0: #f0f8ff;\n",
       "  --sklearn-color-fitted-level-1: #d4ebff;\n",
       "  --sklearn-color-fitted-level-2: #b3dbfd;\n",
       "  --sklearn-color-fitted-level-3: cornflowerblue;\n",
       "\n",
       "  /* Specific color for light theme */\n",
       "  --sklearn-color-text-on-default-background: var(--sg-text-color, var(--theme-code-foreground, var(--jp-content-font-color1, black)));\n",
       "  --sklearn-color-background: var(--sg-background-color, var(--theme-background, var(--jp-layout-color0, white)));\n",
       "  --sklearn-color-border-box: var(--sg-text-color, var(--theme-code-foreground, var(--jp-content-font-color1, black)));\n",
       "  --sklearn-color-icon: #696969;\n",
       "\n",
       "  @media (prefers-color-scheme: dark) {\n",
       "    /* Redefinition of color scheme for dark theme */\n",
       "    --sklearn-color-text-on-default-background: var(--sg-text-color, var(--theme-code-foreground, var(--jp-content-font-color1, white)));\n",
       "    --sklearn-color-background: var(--sg-background-color, var(--theme-background, var(--jp-layout-color0, #111)));\n",
       "    --sklearn-color-border-box: var(--sg-text-color, var(--theme-code-foreground, var(--jp-content-font-color1, white)));\n",
       "    --sklearn-color-icon: #878787;\n",
       "  }\n",
       "}\n",
       "\n",
       "#sk-container-id-1 {\n",
       "  color: var(--sklearn-color-text);\n",
       "}\n",
       "\n",
       "#sk-container-id-1 pre {\n",
       "  padding: 0;\n",
       "}\n",
       "\n",
       "#sk-container-id-1 input.sk-hidden--visually {\n",
       "  border: 0;\n",
       "  clip: rect(1px 1px 1px 1px);\n",
       "  clip: rect(1px, 1px, 1px, 1px);\n",
       "  height: 1px;\n",
       "  margin: -1px;\n",
       "  overflow: hidden;\n",
       "  padding: 0;\n",
       "  position: absolute;\n",
       "  width: 1px;\n",
       "}\n",
       "\n",
       "#sk-container-id-1 div.sk-dashed-wrapped {\n",
       "  border: 1px dashed var(--sklearn-color-line);\n",
       "  margin: 0 0.4em 0.5em 0.4em;\n",
       "  box-sizing: border-box;\n",
       "  padding-bottom: 0.4em;\n",
       "  background-color: var(--sklearn-color-background);\n",
       "}\n",
       "\n",
       "#sk-container-id-1 div.sk-container {\n",
       "  /* jupyter's `normalize.less` sets `[hidden] { display: none; }`\n",
       "     but bootstrap.min.css set `[hidden] { display: none !important; }`\n",
       "     so we also need the `!important` here to be able to override the\n",
       "     default hidden behavior on the sphinx rendered scikit-learn.org.\n",
       "     See: https://github.com/scikit-learn/scikit-learn/issues/21755 */\n",
       "  display: inline-block !important;\n",
       "  position: relative;\n",
       "}\n",
       "\n",
       "#sk-container-id-1 div.sk-text-repr-fallback {\n",
       "  display: none;\n",
       "}\n",
       "\n",
       "div.sk-parallel-item,\n",
       "div.sk-serial,\n",
       "div.sk-item {\n",
       "  /* draw centered vertical line to link estimators */\n",
       "  background-image: linear-gradient(var(--sklearn-color-text-on-default-background), var(--sklearn-color-text-on-default-background));\n",
       "  background-size: 2px 100%;\n",
       "  background-repeat: no-repeat;\n",
       "  background-position: center center;\n",
       "}\n",
       "\n",
       "/* Parallel-specific style estimator block */\n",
       "\n",
       "#sk-container-id-1 div.sk-parallel-item::after {\n",
       "  content: \"\";\n",
       "  width: 100%;\n",
       "  border-bottom: 2px solid var(--sklearn-color-text-on-default-background);\n",
       "  flex-grow: 1;\n",
       "}\n",
       "\n",
       "#sk-container-id-1 div.sk-parallel {\n",
       "  display: flex;\n",
       "  align-items: stretch;\n",
       "  justify-content: center;\n",
       "  background-color: var(--sklearn-color-background);\n",
       "  position: relative;\n",
       "}\n",
       "\n",
       "#sk-container-id-1 div.sk-parallel-item {\n",
       "  display: flex;\n",
       "  flex-direction: column;\n",
       "}\n",
       "\n",
       "#sk-container-id-1 div.sk-parallel-item:first-child::after {\n",
       "  align-self: flex-end;\n",
       "  width: 50%;\n",
       "}\n",
       "\n",
       "#sk-container-id-1 div.sk-parallel-item:last-child::after {\n",
       "  align-self: flex-start;\n",
       "  width: 50%;\n",
       "}\n",
       "\n",
       "#sk-container-id-1 div.sk-parallel-item:only-child::after {\n",
       "  width: 0;\n",
       "}\n",
       "\n",
       "/* Serial-specific style estimator block */\n",
       "\n",
       "#sk-container-id-1 div.sk-serial {\n",
       "  display: flex;\n",
       "  flex-direction: column;\n",
       "  align-items: center;\n",
       "  background-color: var(--sklearn-color-background);\n",
       "  padding-right: 1em;\n",
       "  padding-left: 1em;\n",
       "}\n",
       "\n",
       "\n",
       "/* Toggleable style: style used for estimator/Pipeline/ColumnTransformer box that is\n",
       "clickable and can be expanded/collapsed.\n",
       "- Pipeline and ColumnTransformer use this feature and define the default style\n",
       "- Estimators will overwrite some part of the style using the `sk-estimator` class\n",
       "*/\n",
       "\n",
       "/* Pipeline and ColumnTransformer style (default) */\n",
       "\n",
       "#sk-container-id-1 div.sk-toggleable {\n",
       "  /* Default theme specific background. It is overwritten whether we have a\n",
       "  specific estimator or a Pipeline/ColumnTransformer */\n",
       "  background-color: var(--sklearn-color-background);\n",
       "}\n",
       "\n",
       "/* Toggleable label */\n",
       "#sk-container-id-1 label.sk-toggleable__label {\n",
       "  cursor: pointer;\n",
       "  display: block;\n",
       "  width: 100%;\n",
       "  margin-bottom: 0;\n",
       "  padding: 0.5em;\n",
       "  box-sizing: border-box;\n",
       "  text-align: center;\n",
       "}\n",
       "\n",
       "#sk-container-id-1 label.sk-toggleable__label-arrow:before {\n",
       "  /* Arrow on the left of the label */\n",
       "  content: \"▸\";\n",
       "  float: left;\n",
       "  margin-right: 0.25em;\n",
       "  color: var(--sklearn-color-icon);\n",
       "}\n",
       "\n",
       "#sk-container-id-1 label.sk-toggleable__label-arrow:hover:before {\n",
       "  color: var(--sklearn-color-text);\n",
       "}\n",
       "\n",
       "/* Toggleable content - dropdown */\n",
       "\n",
       "#sk-container-id-1 div.sk-toggleable__content {\n",
       "  max-height: 0;\n",
       "  max-width: 0;\n",
       "  overflow: hidden;\n",
       "  text-align: left;\n",
       "  /* unfitted */\n",
       "  background-color: var(--sklearn-color-unfitted-level-0);\n",
       "}\n",
       "\n",
       "#sk-container-id-1 div.sk-toggleable__content.fitted {\n",
       "  /* fitted */\n",
       "  background-color: var(--sklearn-color-fitted-level-0);\n",
       "}\n",
       "\n",
       "#sk-container-id-1 div.sk-toggleable__content pre {\n",
       "  margin: 0.2em;\n",
       "  border-radius: 0.25em;\n",
       "  color: var(--sklearn-color-text);\n",
       "  /* unfitted */\n",
       "  background-color: var(--sklearn-color-unfitted-level-0);\n",
       "}\n",
       "\n",
       "#sk-container-id-1 div.sk-toggleable__content.fitted pre {\n",
       "  /* unfitted */\n",
       "  background-color: var(--sklearn-color-fitted-level-0);\n",
       "}\n",
       "\n",
       "#sk-container-id-1 input.sk-toggleable__control:checked~div.sk-toggleable__content {\n",
       "  /* Expand drop-down */\n",
       "  max-height: 200px;\n",
       "  max-width: 100%;\n",
       "  overflow: auto;\n",
       "}\n",
       "\n",
       "#sk-container-id-1 input.sk-toggleable__control:checked~label.sk-toggleable__label-arrow:before {\n",
       "  content: \"▾\";\n",
       "}\n",
       "\n",
       "/* Pipeline/ColumnTransformer-specific style */\n",
       "\n",
       "#sk-container-id-1 div.sk-label input.sk-toggleable__control:checked~label.sk-toggleable__label {\n",
       "  color: var(--sklearn-color-text);\n",
       "  background-color: var(--sklearn-color-unfitted-level-2);\n",
       "}\n",
       "\n",
       "#sk-container-id-1 div.sk-label.fitted input.sk-toggleable__control:checked~label.sk-toggleable__label {\n",
       "  background-color: var(--sklearn-color-fitted-level-2);\n",
       "}\n",
       "\n",
       "/* Estimator-specific style */\n",
       "\n",
       "/* Colorize estimator box */\n",
       "#sk-container-id-1 div.sk-estimator input.sk-toggleable__control:checked~label.sk-toggleable__label {\n",
       "  /* unfitted */\n",
       "  background-color: var(--sklearn-color-unfitted-level-2);\n",
       "}\n",
       "\n",
       "#sk-container-id-1 div.sk-estimator.fitted input.sk-toggleable__control:checked~label.sk-toggleable__label {\n",
       "  /* fitted */\n",
       "  background-color: var(--sklearn-color-fitted-level-2);\n",
       "}\n",
       "\n",
       "#sk-container-id-1 div.sk-label label.sk-toggleable__label,\n",
       "#sk-container-id-1 div.sk-label label {\n",
       "  /* The background is the default theme color */\n",
       "  color: var(--sklearn-color-text-on-default-background);\n",
       "}\n",
       "\n",
       "/* On hover, darken the color of the background */\n",
       "#sk-container-id-1 div.sk-label:hover label.sk-toggleable__label {\n",
       "  color: var(--sklearn-color-text);\n",
       "  background-color: var(--sklearn-color-unfitted-level-2);\n",
       "}\n",
       "\n",
       "/* Label box, darken color on hover, fitted */\n",
       "#sk-container-id-1 div.sk-label.fitted:hover label.sk-toggleable__label.fitted {\n",
       "  color: var(--sklearn-color-text);\n",
       "  background-color: var(--sklearn-color-fitted-level-2);\n",
       "}\n",
       "\n",
       "/* Estimator label */\n",
       "\n",
       "#sk-container-id-1 div.sk-label label {\n",
       "  font-family: monospace;\n",
       "  font-weight: bold;\n",
       "  display: inline-block;\n",
       "  line-height: 1.2em;\n",
       "}\n",
       "\n",
       "#sk-container-id-1 div.sk-label-container {\n",
       "  text-align: center;\n",
       "}\n",
       "\n",
       "/* Estimator-specific */\n",
       "#sk-container-id-1 div.sk-estimator {\n",
       "  font-family: monospace;\n",
       "  border: 1px dotted var(--sklearn-color-border-box);\n",
       "  border-radius: 0.25em;\n",
       "  box-sizing: border-box;\n",
       "  margin-bottom: 0.5em;\n",
       "  /* unfitted */\n",
       "  background-color: var(--sklearn-color-unfitted-level-0);\n",
       "}\n",
       "\n",
       "#sk-container-id-1 div.sk-estimator.fitted {\n",
       "  /* fitted */\n",
       "  background-color: var(--sklearn-color-fitted-level-0);\n",
       "}\n",
       "\n",
       "/* on hover */\n",
       "#sk-container-id-1 div.sk-estimator:hover {\n",
       "  /* unfitted */\n",
       "  background-color: var(--sklearn-color-unfitted-level-2);\n",
       "}\n",
       "\n",
       "#sk-container-id-1 div.sk-estimator.fitted:hover {\n",
       "  /* fitted */\n",
       "  background-color: var(--sklearn-color-fitted-level-2);\n",
       "}\n",
       "\n",
       "/* Specification for estimator info (e.g. \"i\" and \"?\") */\n",
       "\n",
       "/* Common style for \"i\" and \"?\" */\n",
       "\n",
       ".sk-estimator-doc-link,\n",
       "a:link.sk-estimator-doc-link,\n",
       "a:visited.sk-estimator-doc-link {\n",
       "  float: right;\n",
       "  font-size: smaller;\n",
       "  line-height: 1em;\n",
       "  font-family: monospace;\n",
       "  background-color: var(--sklearn-color-background);\n",
       "  border-radius: 1em;\n",
       "  height: 1em;\n",
       "  width: 1em;\n",
       "  text-decoration: none !important;\n",
       "  margin-left: 1ex;\n",
       "  /* unfitted */\n",
       "  border: var(--sklearn-color-unfitted-level-1) 1pt solid;\n",
       "  color: var(--sklearn-color-unfitted-level-1);\n",
       "}\n",
       "\n",
       ".sk-estimator-doc-link.fitted,\n",
       "a:link.sk-estimator-doc-link.fitted,\n",
       "a:visited.sk-estimator-doc-link.fitted {\n",
       "  /* fitted */\n",
       "  border: var(--sklearn-color-fitted-level-1) 1pt solid;\n",
       "  color: var(--sklearn-color-fitted-level-1);\n",
       "}\n",
       "\n",
       "/* On hover */\n",
       "div.sk-estimator:hover .sk-estimator-doc-link:hover,\n",
       ".sk-estimator-doc-link:hover,\n",
       "div.sk-label-container:hover .sk-estimator-doc-link:hover,\n",
       ".sk-estimator-doc-link:hover {\n",
       "  /* unfitted */\n",
       "  background-color: var(--sklearn-color-unfitted-level-3);\n",
       "  color: var(--sklearn-color-background);\n",
       "  text-decoration: none;\n",
       "}\n",
       "\n",
       "div.sk-estimator.fitted:hover .sk-estimator-doc-link.fitted:hover,\n",
       ".sk-estimator-doc-link.fitted:hover,\n",
       "div.sk-label-container:hover .sk-estimator-doc-link.fitted:hover,\n",
       ".sk-estimator-doc-link.fitted:hover {\n",
       "  /* fitted */\n",
       "  background-color: var(--sklearn-color-fitted-level-3);\n",
       "  color: var(--sklearn-color-background);\n",
       "  text-decoration: none;\n",
       "}\n",
       "\n",
       "/* Span, style for the box shown on hovering the info icon */\n",
       ".sk-estimator-doc-link span {\n",
       "  display: none;\n",
       "  z-index: 9999;\n",
       "  position: relative;\n",
       "  font-weight: normal;\n",
       "  right: .2ex;\n",
       "  padding: .5ex;\n",
       "  margin: .5ex;\n",
       "  width: min-content;\n",
       "  min-width: 20ex;\n",
       "  max-width: 50ex;\n",
       "  color: var(--sklearn-color-text);\n",
       "  box-shadow: 2pt 2pt 4pt #999;\n",
       "  /* unfitted */\n",
       "  background: var(--sklearn-color-unfitted-level-0);\n",
       "  border: .5pt solid var(--sklearn-color-unfitted-level-3);\n",
       "}\n",
       "\n",
       ".sk-estimator-doc-link.fitted span {\n",
       "  /* fitted */\n",
       "  background: var(--sklearn-color-fitted-level-0);\n",
       "  border: var(--sklearn-color-fitted-level-3);\n",
       "}\n",
       "\n",
       ".sk-estimator-doc-link:hover span {\n",
       "  display: block;\n",
       "}\n",
       "\n",
       "/* \"?\"-specific style due to the `<a>` HTML tag */\n",
       "\n",
       "#sk-container-id-1 a.estimator_doc_link {\n",
       "  float: right;\n",
       "  font-size: 1rem;\n",
       "  line-height: 1em;\n",
       "  font-family: monospace;\n",
       "  background-color: var(--sklearn-color-background);\n",
       "  border-radius: 1rem;\n",
       "  height: 1rem;\n",
       "  width: 1rem;\n",
       "  text-decoration: none;\n",
       "  /* unfitted */\n",
       "  color: var(--sklearn-color-unfitted-level-1);\n",
       "  border: var(--sklearn-color-unfitted-level-1) 1pt solid;\n",
       "}\n",
       "\n",
       "#sk-container-id-1 a.estimator_doc_link.fitted {\n",
       "  /* fitted */\n",
       "  border: var(--sklearn-color-fitted-level-1) 1pt solid;\n",
       "  color: var(--sklearn-color-fitted-level-1);\n",
       "}\n",
       "\n",
       "/* On hover */\n",
       "#sk-container-id-1 a.estimator_doc_link:hover {\n",
       "  /* unfitted */\n",
       "  background-color: var(--sklearn-color-unfitted-level-3);\n",
       "  color: var(--sklearn-color-background);\n",
       "  text-decoration: none;\n",
       "}\n",
       "\n",
       "#sk-container-id-1 a.estimator_doc_link.fitted:hover {\n",
       "  /* fitted */\n",
       "  background-color: var(--sklearn-color-fitted-level-3);\n",
       "}\n",
       "</style><div id=\"sk-container-id-1\" class=\"sk-top-container\"><div class=\"sk-text-repr-fallback\"><pre>EllipticEnvelope(contamination=0.01)</pre><b>In a Jupyter environment, please rerun this cell to show the HTML representation or trust the notebook. <br />On GitHub, the HTML representation is unable to render, please try loading this page with nbviewer.org.</b></div><div class=\"sk-container\" hidden><div class=\"sk-item\"><div class=\"sk-estimator fitted sk-toggleable\"><input class=\"sk-toggleable__control sk-hidden--visually\" id=\"sk-estimator-id-1\" type=\"checkbox\" checked><label for=\"sk-estimator-id-1\" class=\"sk-toggleable__label fitted sk-toggleable__label-arrow fitted\">&nbsp;&nbsp;EllipticEnvelope<a class=\"sk-estimator-doc-link fitted\" rel=\"noreferrer\" target=\"_blank\" href=\"https://scikit-learn.org/1.5/modules/generated/sklearn.covariance.EllipticEnvelope.html\">?<span>Documentation for EllipticEnvelope</span></a><span class=\"sk-estimator-doc-link fitted\">i<span>Fitted</span></span></label><div class=\"sk-toggleable__content fitted\"><pre>EllipticEnvelope(contamination=0.01)</pre></div> </div></div></div></div>"
      ],
      "text/plain": [
       "EllipticEnvelope(contamination=0.01)"
      ]
     },
     "execution_count": 187,
     "metadata": {},
     "output_type": "execute_result"
    }
   ],
   "source": [
    "detector = EllipticEnvelope(contamination=0.01)\n",
    "detector.fit(df_1)"
   ]
  },
  {
   "cell_type": "code",
   "execution_count": 188,
   "id": "ablU5dy7dkoy",
   "metadata": {
    "colab": {
     "base_uri": "https://localhost:8080/",
     "height": 302
    },
    "collapsed": true,
    "id": "ablU5dy7dkoy",
    "jupyter": {
     "outputs_hidden": true
    },
    "outputId": "4f72eaa9-75a0-43b3-9af1-4dc18f4f02e9"
   },
   "outputs": [
    {
     "name": "stderr",
     "output_type": "stream",
     "text": [
      "C:\\Users\\davim\\AppData\\Local\\Temp\\ipykernel_3712\\1587711812.py:1: SettingWithCopyWarning: \n",
      "A value is trying to be set on a copy of a slice from a DataFrame.\n",
      "Try using .loc[row_indexer,col_indexer] = value instead\n",
      "\n",
      "See the caveats in the documentation: https://pandas.pydata.org/pandas-docs/stable/user_guide/indexing.html#returning-a-view-versus-a-copy\n",
      "  df_1['outlier'] = detector.predict(df_1)\n"
     ]
    },
    {
     "data": {
      "text/html": [
       "<div>\n",
       "<style scoped>\n",
       "    .dataframe tbody tr th:only-of-type {\n",
       "        vertical-align: middle;\n",
       "    }\n",
       "\n",
       "    .dataframe tbody tr th {\n",
       "        vertical-align: top;\n",
       "    }\n",
       "\n",
       "    .dataframe thead th {\n",
       "        text-align: right;\n",
       "    }\n",
       "</style>\n",
       "<table border=\"1\" class=\"dataframe\">\n",
       "  <thead>\n",
       "    <tr style=\"text-align: right;\">\n",
       "      <th></th>\n",
       "      <th>find_condominio</th>\n",
       "      <th>find_iptu</th>\n",
       "      <th>find_loc</th>\n",
       "      <th>find_m_quadrado</th>\n",
       "      <th>find_price</th>\n",
       "      <th>find_vendedor</th>\n",
       "      <th>is_academia</th>\n",
       "      <th>is_apertamento</th>\n",
       "      <th>is_ar_condicionado</th>\n",
       "      <th>is_churrasqueira</th>\n",
       "      <th>is_elevador</th>\n",
       "      <th>is_mobiliado</th>\n",
       "      <th>is_piscina</th>\n",
       "      <th>is_portaria</th>\n",
       "      <th>is_profissional</th>\n",
       "      <th>is_salao_festa</th>\n",
       "      <th>is_varanda</th>\n",
       "      <th>n_banheiros</th>\n",
       "      <th>n_fotos</th>\n",
       "      <th>n_garagens</th>\n",
       "      <th>n_quartos</th>\n",
       "      <th>Bairro</th>\n",
       "      <th>CEP</th>\n",
       "      <th>log_find_price</th>\n",
       "      <th>price_qtdbanheiros</th>\n",
       "      <th>outlier</th>\n",
       "    </tr>\n",
       "  </thead>\n",
       "  <tbody>\n",
       "    <tr>\n",
       "      <th>0</th>\n",
       "      <td>1100.0</td>\n",
       "      <td>180.0</td>\n",
       "      <td>797.0</td>\n",
       "      <td>105.0</td>\n",
       "      <td>380000.0</td>\n",
       "      <td>59.0</td>\n",
       "      <td>0.0</td>\n",
       "      <td>1.0</td>\n",
       "      <td>0.0</td>\n",
       "      <td>0.0</td>\n",
       "      <td>0.0</td>\n",
       "      <td>0.0</td>\n",
       "      <td>0.0</td>\n",
       "      <td>0.0</td>\n",
       "      <td>1.0</td>\n",
       "      <td>0.0</td>\n",
       "      <td>0.0</td>\n",
       "      <td>3.0</td>\n",
       "      <td>20.0</td>\n",
       "      <td>0.0</td>\n",
       "      <td>3.0</td>\n",
       "      <td>0.0</td>\n",
       "      <td>660.0</td>\n",
       "      <td>5.579784</td>\n",
       "      <td>126666.666667</td>\n",
       "      <td>1</td>\n",
       "    </tr>\n",
       "    <tr>\n",
       "      <th>1</th>\n",
       "      <td>0.0</td>\n",
       "      <td>0.0</td>\n",
       "      <td>317.0</td>\n",
       "      <td>51.0</td>\n",
       "      <td>525000.0</td>\n",
       "      <td>147.0</td>\n",
       "      <td>0.0</td>\n",
       "      <td>1.0</td>\n",
       "      <td>0.0</td>\n",
       "      <td>0.0</td>\n",
       "      <td>0.0</td>\n",
       "      <td>0.0</td>\n",
       "      <td>1.0</td>\n",
       "      <td>0.0</td>\n",
       "      <td>1.0</td>\n",
       "      <td>1.0</td>\n",
       "      <td>0.0</td>\n",
       "      <td>2.0</td>\n",
       "      <td>15.0</td>\n",
       "      <td>1.0</td>\n",
       "      <td>3.0</td>\n",
       "      <td>7.0</td>\n",
       "      <td>356.0</td>\n",
       "      <td>5.720159</td>\n",
       "      <td>262500.000000</td>\n",
       "      <td>1</td>\n",
       "    </tr>\n",
       "    <tr>\n",
       "      <th>2</th>\n",
       "      <td>822.0</td>\n",
       "      <td>291.0</td>\n",
       "      <td>25.0</td>\n",
       "      <td>124.0</td>\n",
       "      <td>620000.0</td>\n",
       "      <td>489.0</td>\n",
       "      <td>0.0</td>\n",
       "      <td>1.0</td>\n",
       "      <td>0.0</td>\n",
       "      <td>0.0</td>\n",
       "      <td>0.0</td>\n",
       "      <td>0.0</td>\n",
       "      <td>0.0</td>\n",
       "      <td>0.0</td>\n",
       "      <td>1.0</td>\n",
       "      <td>0.0</td>\n",
       "      <td>0.0</td>\n",
       "      <td>2.0</td>\n",
       "      <td>14.0</td>\n",
       "      <td>1.0</td>\n",
       "      <td>3.0</td>\n",
       "      <td>7.0</td>\n",
       "      <td>449.0</td>\n",
       "      <td>5.792392</td>\n",
       "      <td>310000.000000</td>\n",
       "      <td>1</td>\n",
       "    </tr>\n",
       "  </tbody>\n",
       "</table>\n",
       "</div>"
      ],
      "text/plain": [
       "   find_condominio  find_iptu  find_loc  find_m_quadrado  find_price  \\\n",
       "0           1100.0      180.0     797.0            105.0    380000.0   \n",
       "1              0.0        0.0     317.0             51.0    525000.0   \n",
       "2            822.0      291.0      25.0            124.0    620000.0   \n",
       "\n",
       "   find_vendedor  is_academia  is_apertamento  is_ar_condicionado  \\\n",
       "0           59.0          0.0             1.0                 0.0   \n",
       "1          147.0          0.0             1.0                 0.0   \n",
       "2          489.0          0.0             1.0                 0.0   \n",
       "\n",
       "   is_churrasqueira  is_elevador  is_mobiliado  is_piscina  is_portaria  \\\n",
       "0               0.0          0.0           0.0         0.0          0.0   \n",
       "1               0.0          0.0           0.0         1.0          0.0   \n",
       "2               0.0          0.0           0.0         0.0          0.0   \n",
       "\n",
       "   is_profissional  is_salao_festa  is_varanda  n_banheiros  n_fotos  \\\n",
       "0              1.0             0.0         0.0          3.0     20.0   \n",
       "1              1.0             1.0         0.0          2.0     15.0   \n",
       "2              1.0             0.0         0.0          2.0     14.0   \n",
       "\n",
       "   n_garagens  n_quartos  Bairro    CEP  log_find_price  price_qtdbanheiros  \\\n",
       "0         0.0        3.0     0.0  660.0        5.579784       126666.666667   \n",
       "1         1.0        3.0     7.0  356.0        5.720159       262500.000000   \n",
       "2         1.0        3.0     7.0  449.0        5.792392       310000.000000   \n",
       "\n",
       "   outlier  \n",
       "0        1  \n",
       "1        1  \n",
       "2        1  "
      ]
     },
     "execution_count": 188,
     "metadata": {},
     "output_type": "execute_result"
    }
   ],
   "source": [
    "df_1['outlier'] = detector.predict(df_1)\n",
    "df_1.head(3)"
   ]
  },
  {
   "cell_type": "code",
   "execution_count": 189,
   "id": "woCu8PateDGe",
   "metadata": {
    "colab": {
     "base_uri": "https://localhost:8080/"
    },
    "id": "woCu8PateDGe",
    "outputId": "42c35d2c-38a0-497b-b931-24978a97f2dd"
   },
   "outputs": [
    {
     "name": "stdout",
     "output_type": "stream",
     "text": [
      "volumetria antes: 4047\n",
      "volumetria depois: 4006\n"
     ]
    }
   ],
   "source": [
    "print(f'volumetria antes: {len(df_1)}')\n",
    "df_1 = df_1[df_1['outlier'] != -1]\n",
    "print(f'volumetria depois: {len(df_1)}')"
   ]
  },
  {
   "cell_type": "markdown",
   "id": "7256dbb6-b7f7-4109-8696-46b41705e2fa",
   "metadata": {
    "id": "7256dbb6-b7f7-4109-8696-46b41705e2fa",
    "jp-MarkdownHeadingCollapsed": true,
    "tags": []
   },
   "source": [
    "# 3. Apresentar estatísticas descritivas dos dados com visualizações"
   ]
  },
  {
   "cell_type": "code",
   "execution_count": 190,
   "id": "mshvyId_e9OS",
   "metadata": {
    "colab": {
     "base_uri": "https://localhost:8080/"
    },
    "id": "mshvyId_e9OS",
    "outputId": "aa7846ff-05d5-4b0d-c75a-a522dae86353"
   },
   "outputs": [],
   "source": [
    "df_2 = df_1.copy()\n",
    "df_2_norm = df_1_norm.copy()"
   ]
  },
  {
   "cell_type": "code",
   "execution_count": 191,
   "id": "sn0t1fmie8z4",
   "metadata": {
    "colab": {
     "base_uri": "https://localhost:8080/",
     "height": 1000
    },
    "id": "sn0t1fmie8z4",
    "outputId": "760a095c-7bdd-4d48-849b-20dcd641fbfd"
   },
   "outputs": [
    {
     "data": {
      "image/png": "[encoded data removed]",
      "text/plain": [
       "<Figure size 3000x2000 with 30 Axes>"
      ]
     },
     "metadata": {},
     "output_type": "display_data"
    }
   ],
   "source": [
    "# TODO: escrever possíveis insights\n",
    "\n",
    "df_2.hist(figsize=(30, 20), bins=30)\n",
    "\n",
    "plt.tight_layout(pad=3.0)"
   ]
  },
  {
   "cell_type": "code",
   "execution_count": 192,
   "id": "86137a49-e179-4efa-9b95-be892ca183ae",
   "metadata": {
    "colab": {
     "base_uri": "https://localhost:8080/",
     "height": 355
    },
    "id": "86137a49-e179-4efa-9b95-be892ca183ae",
    "outputId": "ea195aec-5930-45a1-aad3-b0d65d589db8"
   },
   "outputs": [
    {
     "data": {
      "text/html": [
       "<div>\n",
       "<style scoped>\n",
       "    .dataframe tbody tr th:only-of-type {\n",
       "        vertical-align: middle;\n",
       "    }\n",
       "\n",
       "    .dataframe tbody tr th {\n",
       "        vertical-align: top;\n",
       "    }\n",
       "\n",
       "    .dataframe thead th {\n",
       "        text-align: right;\n",
       "    }\n",
       "</style>\n",
       "<table border=\"1\" class=\"dataframe\">\n",
       "  <thead>\n",
       "    <tr style=\"text-align: right;\">\n",
       "      <th></th>\n",
       "      <th>find_condominio</th>\n",
       "      <th>find_iptu</th>\n",
       "      <th>find_loc</th>\n",
       "      <th>find_m_quadrado</th>\n",
       "      <th>find_price</th>\n",
       "      <th>find_vendedor</th>\n",
       "      <th>is_academia</th>\n",
       "      <th>is_apertamento</th>\n",
       "      <th>is_ar_condicionado</th>\n",
       "      <th>is_churrasqueira</th>\n",
       "      <th>is_elevador</th>\n",
       "      <th>is_mobiliado</th>\n",
       "      <th>is_piscina</th>\n",
       "      <th>is_portaria</th>\n",
       "      <th>is_profissional</th>\n",
       "      <th>is_salao_festa</th>\n",
       "      <th>is_varanda</th>\n",
       "      <th>n_banheiros</th>\n",
       "      <th>n_fotos</th>\n",
       "      <th>n_garagens</th>\n",
       "      <th>n_quartos</th>\n",
       "      <th>Bairro</th>\n",
       "      <th>CEP</th>\n",
       "      <th>log_find_price</th>\n",
       "      <th>price_qtdbanheiros</th>\n",
       "      <th>outlier</th>\n",
       "    </tr>\n",
       "  </thead>\n",
       "  <tbody>\n",
       "    <tr>\n",
       "      <th>count</th>\n",
       "      <td>4006.000000</td>\n",
       "      <td>4006.000000</td>\n",
       "      <td>4006.000000</td>\n",
       "      <td>4006.000000</td>\n",
       "      <td>4.006000e+03</td>\n",
       "      <td>4006.000000</td>\n",
       "      <td>4006.000000</td>\n",
       "      <td>4006.000000</td>\n",
       "      <td>4006.000000</td>\n",
       "      <td>4006.000000</td>\n",
       "      <td>4006.000000</td>\n",
       "      <td>4006.000000</td>\n",
       "      <td>4006.000000</td>\n",
       "      <td>4006.000000</td>\n",
       "      <td>4006.000000</td>\n",
       "      <td>4006.000000</td>\n",
       "      <td>4006.000000</td>\n",
       "      <td>4006.000000</td>\n",
       "      <td>4006.000000</td>\n",
       "      <td>4006.000000</td>\n",
       "      <td>4006.000000</td>\n",
       "      <td>4006.000000</td>\n",
       "      <td>4006.000000</td>\n",
       "      <td>4006.000000</td>\n",
       "      <td>4006.000000</td>\n",
       "      <td>4006.0</td>\n",
       "    </tr>\n",
       "    <tr>\n",
       "      <th>mean</th>\n",
       "      <td>415.074388</td>\n",
       "      <td>379.050674</td>\n",
       "      <td>418.005492</td>\n",
       "      <td>82.201976</td>\n",
       "      <td>5.598468e+05</td>\n",
       "      <td>297.031203</td>\n",
       "      <td>0.459561</td>\n",
       "      <td>0.963305</td>\n",
       "      <td>0.216176</td>\n",
       "      <td>0.428357</td>\n",
       "      <td>0.672741</td>\n",
       "      <td>0.064154</td>\n",
       "      <td>0.622566</td>\n",
       "      <td>0.609835</td>\n",
       "      <td>0.977034</td>\n",
       "      <td>0.631802</td>\n",
       "      <td>0.331253</td>\n",
       "      <td>1.823430</td>\n",
       "      <td>16.422117</td>\n",
       "      <td>1.339864</td>\n",
       "      <td>2.548677</td>\n",
       "      <td>25.964803</td>\n",
       "      <td>390.001747</td>\n",
       "      <td>5.690949</td>\n",
       "      <td>343792.777219</td>\n",
       "      <td>1.0</td>\n",
       "    </tr>\n",
       "    <tr>\n",
       "      <th>std</th>\n",
       "      <td>565.940121</td>\n",
       "      <td>857.577459</td>\n",
       "      <td>234.492486</td>\n",
       "      <td>48.463790</td>\n",
       "      <td>2.978166e+05</td>\n",
       "      <td>166.021304</td>\n",
       "      <td>0.498424</td>\n",
       "      <td>0.188035</td>\n",
       "      <td>0.411687</td>\n",
       "      <td>0.494903</td>\n",
       "      <td>0.469271</td>\n",
       "      <td>0.245057</td>\n",
       "      <td>0.484805</td>\n",
       "      <td>0.487848</td>\n",
       "      <td>0.149812</td>\n",
       "      <td>0.482376</td>\n",
       "      <td>0.470723</td>\n",
       "      <td>0.912146</td>\n",
       "      <td>5.092532</td>\n",
       "      <td>0.575614</td>\n",
       "      <td>0.832548</td>\n",
       "      <td>21.562626</td>\n",
       "      <td>214.355691</td>\n",
       "      <td>0.226819</td>\n",
       "      <td>171648.976893</td>\n",
       "      <td>0.0</td>\n",
       "    </tr>\n",
       "    <tr>\n",
       "      <th>min</th>\n",
       "      <td>-1.000000</td>\n",
       "      <td>-1.000000</td>\n",
       "      <td>0.000000</td>\n",
       "      <td>0.000000</td>\n",
       "      <td>2.500000e+04</td>\n",
       "      <td>0.000000</td>\n",
       "      <td>0.000000</td>\n",
       "      <td>0.000000</td>\n",
       "      <td>0.000000</td>\n",
       "      <td>0.000000</td>\n",
       "      <td>0.000000</td>\n",
       "      <td>0.000000</td>\n",
       "      <td>0.000000</td>\n",
       "      <td>0.000000</td>\n",
       "      <td>0.000000</td>\n",
       "      <td>0.000000</td>\n",
       "      <td>0.000000</td>\n",
       "      <td>1.000000</td>\n",
       "      <td>1.000000</td>\n",
       "      <td>0.000000</td>\n",
       "      <td>0.000000</td>\n",
       "      <td>0.000000</td>\n",
       "      <td>-1.000000</td>\n",
       "      <td>4.397940</td>\n",
       "      <td>21000.000000</td>\n",
       "      <td>1.0</td>\n",
       "    </tr>\n",
       "    <tr>\n",
       "      <th>25%</th>\n",
       "      <td>0.000000</td>\n",
       "      <td>0.000000</td>\n",
       "      <td>223.000000</td>\n",
       "      <td>51.000000</td>\n",
       "      <td>3.600000e+05</td>\n",
       "      <td>147.000000</td>\n",
       "      <td>0.000000</td>\n",
       "      <td>1.000000</td>\n",
       "      <td>0.000000</td>\n",
       "      <td>0.000000</td>\n",
       "      <td>0.000000</td>\n",
       "      <td>0.000000</td>\n",
       "      <td>0.000000</td>\n",
       "      <td>0.000000</td>\n",
       "      <td>1.000000</td>\n",
       "      <td>0.000000</td>\n",
       "      <td>0.000000</td>\n",
       "      <td>1.000000</td>\n",
       "      <td>14.000000</td>\n",
       "      <td>1.000000</td>\n",
       "      <td>2.000000</td>\n",
       "      <td>7.000000</td>\n",
       "      <td>262.250000</td>\n",
       "      <td>5.556303</td>\n",
       "      <td>216666.666667</td>\n",
       "      <td>1.0</td>\n",
       "    </tr>\n",
       "    <tr>\n",
       "      <th>50%</th>\n",
       "      <td>100.000000</td>\n",
       "      <td>1.000000</td>\n",
       "      <td>412.500000</td>\n",
       "      <td>69.000000</td>\n",
       "      <td>4.706080e+05</td>\n",
       "      <td>324.500000</td>\n",
       "      <td>0.000000</td>\n",
       "      <td>1.000000</td>\n",
       "      <td>0.000000</td>\n",
       "      <td>0.000000</td>\n",
       "      <td>1.000000</td>\n",
       "      <td>0.000000</td>\n",
       "      <td>1.000000</td>\n",
       "      <td>1.000000</td>\n",
       "      <td>1.000000</td>\n",
       "      <td>1.000000</td>\n",
       "      <td>0.000000</td>\n",
       "      <td>2.000000</td>\n",
       "      <td>19.000000</td>\n",
       "      <td>1.000000</td>\n",
       "      <td>3.000000</td>\n",
       "      <td>15.000000</td>\n",
       "      <td>361.000000</td>\n",
       "      <td>5.672659</td>\n",
       "      <td>307710.500000</td>\n",
       "      <td>1.0</td>\n",
       "    </tr>\n",
       "    <tr>\n",
       "      <th>75%</th>\n",
       "      <td>750.000000</td>\n",
       "      <td>226.000000</td>\n",
       "      <td>613.000000</td>\n",
       "      <td>100.000000</td>\n",
       "      <td>6.900000e+05</td>\n",
       "      <td>432.000000</td>\n",
       "      <td>1.000000</td>\n",
       "      <td>1.000000</td>\n",
       "      <td>0.000000</td>\n",
       "      <td>1.000000</td>\n",
       "      <td>1.000000</td>\n",
       "      <td>0.000000</td>\n",
       "      <td>1.000000</td>\n",
       "      <td>1.000000</td>\n",
       "      <td>1.000000</td>\n",
       "      <td>1.000000</td>\n",
       "      <td>1.000000</td>\n",
       "      <td>2.000000</td>\n",
       "      <td>20.000000</td>\n",
       "      <td>2.000000</td>\n",
       "      <td>3.000000</td>\n",
       "      <td>41.000000</td>\n",
       "      <td>559.000000</td>\n",
       "      <td>5.838849</td>\n",
       "      <td>430000.000000</td>\n",
       "      <td>1.0</td>\n",
       "    </tr>\n",
       "    <tr>\n",
       "      <th>max</th>\n",
       "      <td>13000.000000</td>\n",
       "      <td>5100.000000</td>\n",
       "      <td>842.000000</td>\n",
       "      <td>500.000000</td>\n",
       "      <td>1.550000e+06</td>\n",
       "      <td>599.000000</td>\n",
       "      <td>1.000000</td>\n",
       "      <td>1.000000</td>\n",
       "      <td>1.000000</td>\n",
       "      <td>1.000000</td>\n",
       "      <td>1.000000</td>\n",
       "      <td>1.000000</td>\n",
       "      <td>1.000000</td>\n",
       "      <td>1.000000</td>\n",
       "      <td>1.000000</td>\n",
       "      <td>1.000000</td>\n",
       "      <td>1.000000</td>\n",
       "      <td>4.000000</td>\n",
       "      <td>21.000000</td>\n",
       "      <td>4.000000</td>\n",
       "      <td>4.000000</td>\n",
       "      <td>72.000000</td>\n",
       "      <td>835.000000</td>\n",
       "      <td>6.190332</td>\n",
       "      <td>900001.000000</td>\n",
       "      <td>1.0</td>\n",
       "    </tr>\n",
       "  </tbody>\n",
       "</table>\n",
       "</div>"
      ],
      "text/plain": [
       "       find_condominio    find_iptu     find_loc  find_m_quadrado  \\\n",
       "count      4006.000000  4006.000000  4006.000000      4006.000000   \n",
       "mean        415.074388   379.050674   418.005492        82.201976   \n",
       "std         565.940121   857.577459   234.492486        48.463790   \n",
       "min          -1.000000    -1.000000     0.000000         0.000000   \n",
       "25%           0.000000     0.000000   223.000000        51.000000   \n",
       "50%         100.000000     1.000000   412.500000        69.000000   \n",
       "75%         750.000000   226.000000   613.000000       100.000000   \n",
       "max       13000.000000  5100.000000   842.000000       500.000000   \n",
       "\n",
       "         find_price  find_vendedor  is_academia  is_apertamento  \\\n",
       "count  4.006000e+03    4006.000000  4006.000000     4006.000000   \n",
       "mean   5.598468e+05     297.031203     0.459561        0.963305   \n",
       "std    2.978166e+05     166.021304     0.498424        0.188035   \n",
       "min    2.500000e+04       0.000000     0.000000        0.000000   \n",
       "25%    3.600000e+05     147.000000     0.000000        1.000000   \n",
       "50%    4.706080e+05     324.500000     0.000000        1.000000   \n",
       "75%    6.900000e+05     432.000000     1.000000        1.000000   \n",
       "max    1.550000e+06     599.000000     1.000000        1.000000   \n",
       "\n",
       "       is_ar_condicionado  is_churrasqueira  is_elevador  is_mobiliado  \\\n",
       "count         4006.000000       4006.000000  4006.000000   4006.000000   \n",
       "mean             0.216176          0.428357     0.672741      0.064154   \n",
       "std              0.411687          0.494903     0.469271      0.245057   \n",
       "min              0.000000          0.000000     0.000000      0.000000   \n",
       "25%              0.000000          0.000000     0.000000      0.000000   \n",
       "50%              0.000000          0.000000     1.000000      0.000000   \n",
       "75%              0.000000          1.000000     1.000000      0.000000   \n",
       "max              1.000000          1.000000     1.000000      1.000000   \n",
       "\n",
       "        is_piscina  is_portaria  is_profissional  is_salao_festa   is_varanda  \\\n",
       "count  4006.000000  4006.000000      4006.000000     4006.000000  4006.000000   \n",
       "mean      0.622566     0.609835         0.977034        0.631802     0.331253   \n",
       "std       0.484805     0.487848         0.149812        0.482376     0.470723   \n",
       "min       0.000000     0.000000         0.000000        0.000000     0.000000   \n",
       "25%       0.000000     0.000000         1.000000        0.000000     0.000000   \n",
       "50%       1.000000     1.000000         1.000000        1.000000     0.000000   \n",
       "75%       1.000000     1.000000         1.000000        1.000000     1.000000   \n",
       "max       1.000000     1.000000         1.000000        1.000000     1.000000   \n",
       "\n",
       "       n_banheiros      n_fotos   n_garagens    n_quartos       Bairro  \\\n",
       "count  4006.000000  4006.000000  4006.000000  4006.000000  4006.000000   \n",
       "mean      1.823430    16.422117     1.339864     2.548677    25.964803   \n",
       "std       0.912146     5.092532     0.575614     0.832548    21.562626   \n",
       "min       1.000000     1.000000     0.000000     0.000000     0.000000   \n",
       "25%       1.000000    14.000000     1.000000     2.000000     7.000000   \n",
       "50%       2.000000    19.000000     1.000000     3.000000    15.000000   \n",
       "75%       2.000000    20.000000     2.000000     3.000000    41.000000   \n",
       "max       4.000000    21.000000     4.000000     4.000000    72.000000   \n",
       "\n",
       "               CEP  log_find_price  price_qtdbanheiros  outlier  \n",
       "count  4006.000000     4006.000000         4006.000000   4006.0  \n",
       "mean    390.001747        5.690949       343792.777219      1.0  \n",
       "std     214.355691        0.226819       171648.976893      0.0  \n",
       "min      -1.000000        4.397940        21000.000000      1.0  \n",
       "25%     262.250000        5.556303       216666.666667      1.0  \n",
       "50%     361.000000        5.672659       307710.500000      1.0  \n",
       "75%     559.000000        5.838849       430000.000000      1.0  \n",
       "max     835.000000        6.190332       900001.000000      1.0  "
      ]
     },
     "execution_count": 192,
     "metadata": {},
     "output_type": "execute_result"
    }
   ],
   "source": [
    "df_2.describe()"
   ]
  },
  {
   "cell_type": "markdown",
   "id": "1d19f506-f5d3-4acd-a74d-aa7b7a30f7aa",
   "metadata": {
    "id": "1d19f506-f5d3-4acd-a74d-aa7b7a30f7aa",
    "jp-MarkdownHeadingCollapsed": true,
    "tags": []
   },
   "source": [
    "# 4. Realizar teste de hipóteses para comparação de valores de categorias e visualizar diferenças"
   ]
  },
  {
   "cell_type": "code",
   "execution_count": 193,
   "id": "Tyl7g4nilG1x",
   "metadata": {
    "colab": {
     "base_uri": "https://localhost:8080/"
    },
    "id": "Tyl7g4nilG1x",
    "outputId": "2fa393ac-aa76-4a6c-99af-8446c32d10a6"
   },
   "outputs": [],
   "source": [
    "df_3 = df_2.copy()\n",
    "df_3_norm = df_2_norm.copy()"
   ]
  },
  {
   "cell_type": "markdown",
   "id": "nk6g2uw6itIN",
   "metadata": {
    "id": "nk6g2uw6itIN"
   },
   "source": [
    "## 4.1 Existe diferença significativa no preço médio entre imóveis com piscina e imóveis sem piscina?\n",
    "  - Mann Whitney u-test\n",
    "    - Grupos não pariados\n",
    "    - Teste não paramétrico\n",
    "  - (H₀): Não há diferença significativa no preço médio entre imóveis com piscina e imóveis sem piscina."
   ]
  },
  {
   "cell_type": "code",
   "execution_count": 194,
   "id": "fca5eca0-1ffd-42a7-931c-ca4fe3162af5",
   "metadata": {
    "colab": {
     "base_uri": "https://localhost:8080/"
    },
    "id": "fca5eca0-1ffd-42a7-931c-ca4fe3162af5",
    "outputId": "0b7d50a1-2f1f-40be-b757-87b2044ebcac"
   },
   "outputs": [],
   "source": [
    "precos_com_piscina = df_3[df_3['is_piscina'] == 1]['find_price']\n",
    "precos_sem_piscina = df_3[df_3['is_piscina'] == 0]['find_price']"
   ]
  },
  {
   "cell_type": "code",
   "execution_count": 195,
   "id": "US1g1q5umMNP",
   "metadata": {
    "colab": {
     "base_uri": "https://localhost:8080/"
    },
    "id": "US1g1q5umMNP",
    "outputId": "61d7c4ae-44c1-4e26-c07e-5d0bfb18796b"
   },
   "outputs": [
    {
     "data": {
      "text/plain": [
       "ShapiroResult(statistic=0.8628364166988424, pvalue=3.03883891582451e-42)"
      ]
     },
     "execution_count": 195,
     "metadata": {},
     "output_type": "execute_result"
    }
   ],
   "source": [
    "stats.shapiro(precos_com_piscina) # rejeita hip nula -> não apresenta dist normal"
   ]
  },
  {
   "cell_type": "code",
   "execution_count": 196,
   "id": "-cAJSsuomVbL",
   "metadata": {
    "colab": {
     "base_uri": "https://localhost:8080/"
    },
    "id": "-cAJSsuomVbL",
    "outputId": "1c9b4a4b-aa0f-4783-ce7c-15b60de50c95"
   },
   "outputs": [
    {
     "data": {
      "text/plain": [
       "ShapiroResult(statistic=0.9186619034364446, pvalue=8.873059275239887e-28)"
      ]
     },
     "execution_count": 196,
     "metadata": {},
     "output_type": "execute_result"
    }
   ],
   "source": [
    "stats.shapiro(precos_sem_piscina) # rejeita hip nula -> não apresenta dist normal"
   ]
  },
  {
   "cell_type": "code",
   "execution_count": 197,
   "id": "tCgeFcOqmaMo",
   "metadata": {
    "colab": {
     "base_uri": "https://localhost:8080/",
     "height": 520
    },
    "id": "tCgeFcOqmaMo",
    "outputId": "3324c9fd-336d-43f8-9dab-68e60c39ddb7"
   },
   "outputs": [
    {
     "data": {
      "text/plain": [
       "<Axes: >"
      ]
     },
     "execution_count": 197,
     "metadata": {},
     "output_type": "execute_result"
    },
    {
     "data": {
      "image/png": "[encoded data removed]",
      "text/plain": [
       "<Figure size 640x480 with 1 Axes>"
      ]
     },
     "metadata": {},
     "output_type": "display_data"
    }
   ],
   "source": [
    "precos_com_piscina.hist()"
   ]
  },
  {
   "cell_type": "code",
   "execution_count": 198,
   "id": "qVTaUxMlmaYe",
   "metadata": {
    "colab": {
     "base_uri": "https://localhost:8080/",
     "height": 520
    },
    "id": "qVTaUxMlmaYe",
    "outputId": "d049ad18-44fe-4205-e0d4-7b092e833f08"
   },
   "outputs": [
    {
     "data": {
      "text/plain": [
       "<Axes: >"
      ]
     },
     "execution_count": 198,
     "metadata": {},
     "output_type": "execute_result"
    },
    {
     "data": {
      "image/png": "[encoded data removed]",
      "text/plain": [
       "<Figure size 640x480 with 1 Axes>"
      ]
     },
     "metadata": {},
     "output_type": "display_data"
    }
   ],
   "source": [
    "precos_sem_piscina.hist()"
   ]
  },
  {
   "cell_type": "code",
   "execution_count": 199,
   "id": "9NYhJAJ6lOBN",
   "metadata": {
    "colab": {
     "base_uri": "https://localhost:8080/"
    },
    "id": "9NYhJAJ6lOBN",
    "outputId": "39900a60-7265-4de9-d4eb-2fee6e729e9b"
   },
   "outputs": [
    {
     "name": "stdout",
     "output_type": "stream",
     "text": [
      "Statistic: 2071987.5, P-value: 1.4675112656766247e-07\n"
     ]
    }
   ],
   "source": [
    "stat, p_value = stats.mannwhitneyu(precos_com_piscina, precos_sem_piscina, alternative='two-sided')\n",
    "print(f\"Statistic: {stat}, P-value: {p_value}\") # Rejeitamos a hipótese nula, ou seja, há uma diferença significativa no preço médio entre imóveis com e sem piscina."
   ]
  }
 ],
 "metadata": {
  "colab": {
   "provenance": []
  },
  "kernelspec": {
   "display_name": "Python 3 (ipykernel)",
   "language": "python",
   "name": "python3"
  },
  "language_info": {
   "codemirror_mode": {
    "name": "ipython",
    "version": 3
   },
   "file_extension": ".py",
   "mimetype": "text/x-python",
   "name": "python",
   "nbconvert_exporter": "python",
   "pygments_lexer": "ipython3",
   "version": "3.9.12"
  }
 },
 "nbformat": 4,
 "nbformat_minor": 5
}
