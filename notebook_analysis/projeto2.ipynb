{
 "cells": [
  {
   "cell_type": "markdown",
   "metadata": {},
   "source": [
    "## Escolher uma das colunas dos dados utilizados no projeto 1 para predição (classificação ou regressão)"
   ]
  },
  {
   "cell_type": "code",
   "execution_count": 1,
   "metadata": {},
   "outputs": [],
   "source": [
    "# !pip install mlflow\n",
    "# !pip install --upgrade setuptools\n",
    "# !pip install scikit-optimize"
   ]
  },
  {
   "cell_type": "code",
   "execution_count": 2,
   "metadata": {},
   "outputs": [],
   "source": [
    "import pandas as pd\n",
    "import os\n",
    "import pandas as pd\n",
    "from sklearn.model_selection import train_test_split\n",
    "from sklearn.model_selection import KFold\n",
    "import numpy as np\n",
    "from sklearn.model_selection import cross_val_score"
   ]
  },
  {
   "cell_type": "code",
   "execution_count": 3,
   "metadata": {},
   "outputs": [],
   "source": [
    "path_raw = os.getenv('PATH_RAW')\n",
    "# df_raw = pd.read_csv('scraped_data.csv', sep=',')\n",
    "df_raw = pd.read_csv('../scraped_data.csv', sep=',', nrows=1000)"
   ]
  },
  {
   "cell_type": "code",
   "execution_count": 4,
   "metadata": {},
   "outputs": [
    {
     "data": {
      "text/html": [
       "<div>\n",
       "<style scoped>\n",
       "    .dataframe tbody tr th:only-of-type {\n",
       "        vertical-align: middle;\n",
       "    }\n",
       "\n",
       "    .dataframe tbody tr th {\n",
       "        vertical-align: top;\n",
       "    }\n",
       "\n",
       "    .dataframe thead th {\n",
       "        text-align: right;\n",
       "    }\n",
       "</style>\n",
       "<table border=\"1\" class=\"dataframe\">\n",
       "  <thead>\n",
       "    <tr style=\"text-align: right;\">\n",
       "      <th></th>\n",
       "      <th>find_anuncio</th>\n",
       "      <th>find_condominio</th>\n",
       "      <th>find_descri</th>\n",
       "      <th>find_endereco</th>\n",
       "      <th>find_iptu</th>\n",
       "      <th>find_loc</th>\n",
       "      <th>find_m_quadrado</th>\n",
       "      <th>find_price</th>\n",
       "      <th>find_vendedor</th>\n",
       "      <th>is_academia</th>\n",
       "      <th>...</th>\n",
       "      <th>is_mobiliado</th>\n",
       "      <th>is_piscina</th>\n",
       "      <th>is_portaria</th>\n",
       "      <th>is_profissional</th>\n",
       "      <th>is_salao_festa</th>\n",
       "      <th>is_varanda</th>\n",
       "      <th>n_banheiros</th>\n",
       "      <th>n_fotos</th>\n",
       "      <th>n_garagens</th>\n",
       "      <th>n_quartos</th>\n",
       "    </tr>\n",
       "  </thead>\n",
       "  <tbody>\n",
       "    <tr>\n",
       "      <th>0</th>\n",
       "      <td>Apartamento para venda com 105 metros quadrado...</td>\n",
       "      <td>R$ 1.100 / mês</td>\n",
       "      <td>Código do anúncio: C6BAD9\\n\\nO apartamento est...</td>\n",
       "      <td>Aflitos, Recife, PE, 52050340</td>\n",
       "      <td>R$ 180</td>\n",
       "      <td>Rua da Angustura</td>\n",
       "      <td>105m²</td>\n",
       "      <td>380000</td>\n",
       "      <td>Antônio Luciano Santana da Silva</td>\n",
       "      <td>False</td>\n",
       "      <td>...</td>\n",
       "      <td>False</td>\n",
       "      <td>False</td>\n",
       "      <td>False</td>\n",
       "      <td>True</td>\n",
       "      <td>False</td>\n",
       "      <td>False</td>\n",
       "      <td>3</td>\n",
       "      <td>20</td>\n",
       "      <td>0</td>\n",
       "      <td>3</td>\n",
       "    </tr>\n",
       "  </tbody>\n",
       "</table>\n",
       "<p>1 rows × 24 columns</p>\n",
       "</div>"
      ],
      "text/plain": [
       "                                        find_anuncio find_condominio  \\\n",
       "0  Apartamento para venda com 105 metros quadrado...  R$ 1.100 / mês   \n",
       "\n",
       "                                         find_descri  \\\n",
       "0  Código do anúncio: C6BAD9\\n\\nO apartamento est...   \n",
       "\n",
       "                   find_endereco find_iptu          find_loc find_m_quadrado  \\\n",
       "0  Aflitos, Recife, PE, 52050340    R$ 180  Rua da Angustura           105m²   \n",
       "\n",
       "   find_price                     find_vendedor  is_academia  ...  \\\n",
       "0      380000  Antônio Luciano Santana da Silva        False  ...   \n",
       "\n",
       "   is_mobiliado  is_piscina  is_portaria  is_profissional  is_salao_festa  \\\n",
       "0         False       False        False             True           False   \n",
       "\n",
       "   is_varanda  n_banheiros  n_fotos  n_garagens  n_quartos  \n",
       "0       False            3       20           0          3  \n",
       "\n",
       "[1 rows x 24 columns]"
      ]
     },
     "execution_count": 4,
     "metadata": {},
     "output_type": "execute_result"
    }
   ],
   "source": [
    "df_raw.head(1)"
   ]
  },
  {
   "cell_type": "code",
   "execution_count": 5,
   "metadata": {},
   "outputs": [],
   "source": [
    "df_0 = df_raw.copy()"
   ]
  },
  {
   "cell_type": "code",
   "execution_count": 6,
   "metadata": {},
   "outputs": [],
   "source": [
    "df_0 = df_0.drop(columns=['find_anuncio','find_descri']) \n",
    "\n",
    "df_0 = df_0[df_0['n_quartos'] != '5 ou mais'] # por recomendação do professor\n",
    "df_0 = df_0[df_0['n_banheiros'] != '5 ou mais']\n",
    "df_0 = df_0[df_0['n_garagens'] != '5 ou mais']\n",
    "\n",
    "df_0[['Bairro','CEP']] = df_0['find_endereco'].str.split(', ', expand=True)[[0,3]]\n",
    "df_0 = df_0.drop(columns=['find_endereco'])"
   ]
  },
  {
   "cell_type": "code",
   "execution_count": 7,
   "metadata": {},
   "outputs": [],
   "source": [
    "# deixando como num a coluna find_condominio\n",
    "df_0['find_condominio'] = df_0['find_condominio'].astype('str').str.replace('R$', '').str.replace(' / mês', '').str.replace('.', '')\n",
    "\n",
    "# deixando como num a coluna find_iptu\n",
    "df_0['find_iptu'] = df_0['find_iptu'].astype('str').str.replace('R$ ', '').str.replace('.', '')\n",
    "\n",
    "# deixando como num a coluna find_m_quadrado\n",
    "df_0['find_m_quadrado'] = df_0['find_m_quadrado'].astype('str').str.replace('m²', '').str.replace('.', '')\n",
    "\n",
    "# cast direto colunas(floats devido a conseguir dar cast em NaN)\n",
    "df_0['find_condominio'] = df_0['find_condominio'].astype('float')\n",
    "df_0['Bairro'] = df_0['Bairro'].astype('category')\n",
    "df_0['CEP'] = df_0['CEP'].astype('category')\n",
    "df_0['find_iptu'] = df_0['find_iptu'].astype('float')\n",
    "df_0['find_loc'] = df_0['find_loc'].astype('category')\n",
    "df_0['find_m_quadrado'] = df_0['find_m_quadrado'].astype('float')\n",
    "df_0['find_price'] = df_0['find_price'].astype('float')\n",
    "df_0['find_vendedor'] = df_0['find_vendedor'].astype('category')\n",
    "df_0['is_academia'] = df_0['is_academia'].astype('category')\n",
    "df_0['is_apertamento'] = df_0['is_apertamento'].astype('category')\n",
    "df_0['is_ar_condicionado'] = df_0['is_ar_condicionado'].astype('category')\n",
    "df_0['is_churrasqueira'] = df_0['is_churrasqueira'].astype('category')\n",
    "df_0['is_elevador'] = df_0['is_elevador'].astype('category')\n",
    "df_0['is_mobiliado'] = df_0['is_mobiliado'].astype('category')\n",
    "df_0['is_piscina'] = df_0['is_piscina'].astype('category')\n",
    "df_0['is_portaria'] = df_0['is_portaria'].astype('category')\n",
    "df_0['is_profissional'] = df_0['is_profissional'].astype('category')\n",
    "df_0['is_salao_festa'] = df_0['is_salao_festa'].astype('category')\n",
    "df_0['is_varanda'] = df_0['is_varanda'].astype('category')\n",
    "df_0['n_banheiros'] = df_0['n_banheiros'].astype('float')\n",
    "df_0['n_fotos'] = df_0['n_fotos'].astype('float')\n",
    "df_0['n_garagens'] = df_0['n_garagens'].astype('float')\n",
    "df_0['n_quartos'] = df_0['n_quartos'].astype('float')"
   ]
  },
  {
   "cell_type": "code",
   "execution_count": 8,
   "metadata": {},
   "outputs": [],
   "source": [
    "df_0[df_0.select_dtypes(['category']).columns] = df_0.select_dtypes(['category']).apply(lambda x: x.cat.codes)"
   ]
  },
  {
   "cell_type": "code",
   "execution_count": 9,
   "metadata": {},
   "outputs": [],
   "source": [
    "df_0 = df_0.drop_duplicates()"
   ]
  },
  {
   "cell_type": "code",
   "execution_count": 10,
   "metadata": {},
   "outputs": [
    {
     "name": "stdout",
     "output_type": "stream",
     "text": [
      "Imputing row 1/918 with 0 missing, elapsed time: 0.357\n",
      "Imputing row 101/918 with 0 missing, elapsed time: 0.358\n",
      "Imputing row 201/918 with 0 missing, elapsed time: 0.360\n",
      "Imputing row 301/918 with 0 missing, elapsed time: 0.362\n",
      "Imputing row 401/918 with 0 missing, elapsed time: 0.362\n",
      "Imputing row 501/918 with 0 missing, elapsed time: 0.363\n",
      "Imputing row 601/918 with 0 missing, elapsed time: 0.363\n",
      "Imputing row 701/918 with 0 missing, elapsed time: 0.363\n",
      "Imputing row 801/918 with 0 missing, elapsed time: 0.364\n",
      "Imputing row 901/918 with 0 missing, elapsed time: 0.365\n"
     ]
    }
   ],
   "source": [
    "from fancyimpute import KNN\n",
    "\n",
    "df_0_knn = KNN(k=2).fit_transform(df_0)"
   ]
  },
  {
   "cell_type": "code",
   "execution_count": 11,
   "metadata": {},
   "outputs": [
    {
     "data": {
      "text/plain": [
       "find_condominio       0\n",
       "find_iptu             0\n",
       "find_loc              0\n",
       "find_m_quadrado       0\n",
       "find_price            0\n",
       "find_vendedor         0\n",
       "is_academia           0\n",
       "is_apertamento        0\n",
       "is_ar_condicionado    0\n",
       "is_churrasqueira      0\n",
       "is_elevador           0\n",
       "is_mobiliado          0\n",
       "is_piscina            0\n",
       "is_portaria           0\n",
       "is_profissional       0\n",
       "is_salao_festa        0\n",
       "is_varanda            0\n",
       "n_banheiros           0\n",
       "n_fotos               0\n",
       "n_garagens            0\n",
       "n_quartos             0\n",
       "Bairro                0\n",
       "CEP                   0\n",
       "dtype: int64"
      ]
     },
     "execution_count": 11,
     "metadata": {},
     "output_type": "execute_result"
    }
   ],
   "source": [
    "df_0 = pd.DataFrame(data=df_0_knn[0:,0:],columns=df_0.columns)\n",
    "df_0.isna().sum()"
   ]
  },
  {
   "cell_type": "code",
   "execution_count": 12,
   "metadata": {},
   "outputs": [
    {
     "data": {
      "text/html": [
       "<div>\n",
       "<style scoped>\n",
       "    .dataframe tbody tr th:only-of-type {\n",
       "        vertical-align: middle;\n",
       "    }\n",
       "\n",
       "    .dataframe tbody tr th {\n",
       "        vertical-align: top;\n",
       "    }\n",
       "\n",
       "    .dataframe thead th {\n",
       "        text-align: right;\n",
       "    }\n",
       "</style>\n",
       "<table border=\"1\" class=\"dataframe\">\n",
       "  <thead>\n",
       "    <tr style=\"text-align: right;\">\n",
       "      <th></th>\n",
       "      <th>find_condominio</th>\n",
       "      <th>find_iptu</th>\n",
       "      <th>find_loc</th>\n",
       "      <th>find_m_quadrado</th>\n",
       "      <th>find_price</th>\n",
       "      <th>find_vendedor</th>\n",
       "      <th>is_academia</th>\n",
       "      <th>is_apertamento</th>\n",
       "      <th>is_ar_condicionado</th>\n",
       "      <th>is_churrasqueira</th>\n",
       "      <th>...</th>\n",
       "      <th>is_portaria</th>\n",
       "      <th>is_profissional</th>\n",
       "      <th>is_salao_festa</th>\n",
       "      <th>is_varanda</th>\n",
       "      <th>n_banheiros</th>\n",
       "      <th>n_fotos</th>\n",
       "      <th>n_garagens</th>\n",
       "      <th>n_quartos</th>\n",
       "      <th>Bairro</th>\n",
       "      <th>CEP</th>\n",
       "    </tr>\n",
       "  </thead>\n",
       "  <tbody>\n",
       "    <tr>\n",
       "      <th>0</th>\n",
       "      <td>1100.0</td>\n",
       "      <td>180.0</td>\n",
       "      <td>365.0</td>\n",
       "      <td>105.0</td>\n",
       "      <td>380000.0</td>\n",
       "      <td>26.0</td>\n",
       "      <td>0.0</td>\n",
       "      <td>1.0</td>\n",
       "      <td>0.0</td>\n",
       "      <td>0.0</td>\n",
       "      <td>...</td>\n",
       "      <td>0.0</td>\n",
       "      <td>1.0</td>\n",
       "      <td>0.0</td>\n",
       "      <td>0.0</td>\n",
       "      <td>3.0</td>\n",
       "      <td>20.0</td>\n",
       "      <td>0.0</td>\n",
       "      <td>3.0</td>\n",
       "      <td>0.0</td>\n",
       "      <td>305.0</td>\n",
       "    </tr>\n",
       "  </tbody>\n",
       "</table>\n",
       "<p>1 rows × 23 columns</p>\n",
       "</div>"
      ],
      "text/plain": [
       "   find_condominio  find_iptu  find_loc  find_m_quadrado  find_price  \\\n",
       "0           1100.0      180.0     365.0            105.0    380000.0   \n",
       "\n",
       "   find_vendedor  is_academia  is_apertamento  is_ar_condicionado  \\\n",
       "0           26.0          0.0             1.0                 0.0   \n",
       "\n",
       "   is_churrasqueira  ...  is_portaria  is_profissional  is_salao_festa  \\\n",
       "0               0.0  ...          0.0              1.0             0.0   \n",
       "\n",
       "   is_varanda  n_banheiros  n_fotos  n_garagens  n_quartos  Bairro    CEP  \n",
       "0         0.0          3.0     20.0         0.0        3.0     0.0  305.0  \n",
       "\n",
       "[1 rows x 23 columns]"
      ]
     },
     "execution_count": 12,
     "metadata": {},
     "output_type": "execute_result"
    }
   ],
   "source": [
    "df_0.head(1)"
   ]
  },
  {
   "cell_type": "code",
   "execution_count": 13,
   "metadata": {},
   "outputs": [],
   "source": [
    "df_1 = df_0.copy()"
   ]
  },
  {
   "cell_type": "markdown",
   "metadata": {},
   "source": [
    "vamos escolher a coluna de preço para fazer regressão"
   ]
  },
  {
   "cell_type": "code",
   "execution_count": 14,
   "metadata": {},
   "outputs": [],
   "source": [
    "y = df_1['find_price']"
   ]
  },
  {
   "cell_type": "code",
   "execution_count": 15,
   "metadata": {},
   "outputs": [],
   "source": [
    "X = df_1.drop(columns=['find_price'])"
   ]
  },
  {
   "cell_type": "markdown",
   "metadata": {},
   "source": [
    "## Separar os dados em treinamento, validação e teste"
   ]
  },
  {
   "cell_type": "markdown",
   "metadata": {},
   "source": [
    "temos que revisar as proporções que o professor que que use, eu lembro dele ter dito que queria, k folds"
   ]
  },
  {
   "cell_type": "code",
   "execution_count": 16,
   "metadata": {},
   "outputs": [],
   "source": [
    "X_train, X_temp, y_train, y_temp = train_test_split(X, y, test_size=0.4, random_state=42)\n",
    "X_val, X_test, y_val, y_test = train_test_split(X_temp, y_temp, test_size=0.5, random_state=42)"
   ]
  },
  {
   "cell_type": "markdown",
   "metadata": {},
   "source": [
    "## Selecionar 4 algoritmos de acordo com a tarefa escolhida no passo 1"
   ]
  },
  {
   "cell_type": "code",
   "execution_count": 17,
   "metadata": {},
   "outputs": [],
   "source": [
    "from sklearn.neural_network import MLPRegressor"
   ]
  },
  {
   "cell_type": "code",
   "execution_count": 18,
   "metadata": {},
   "outputs": [],
   "source": [
    "from sklearn.ensemble  import RandomForestRegressor\n",
    "rfr = RandomForestRegressor()"
   ]
  },
  {
   "cell_type": "code",
   "execution_count": 19,
   "metadata": {},
   "outputs": [],
   "source": [
    "from sklearn.ensemble  import GradientBoostingRegressor\n",
    "gbr = GradientBoostingRegressor()"
   ]
  },
  {
   "cell_type": "code",
   "execution_count": 20,
   "metadata": {},
   "outputs": [],
   "source": [
    "from sklearn.neighbors   import KNeighborsRegressor\n",
    "knnr = KNeighborsRegressor()"
   ]
  },
  {
   "cell_type": "markdown",
   "metadata": {},
   "source": [
    "## Adicionar MLFlow no treinamento dos modelos para rastreamento"
   ]
  },
  {
   "cell_type": "code",
   "execution_count": 21,
   "metadata": {},
   "outputs": [],
   "source": [
    "import mlflow\n",
    "import mlflow.sklearn "
   ]
  },
  {
   "cell_type": "code",
   "execution_count": 22,
   "metadata": {},
   "outputs": [
    {
     "data": {
      "text/plain": [
       "<Experiment: artifact_location='file:///c:/Users/davim/OneDrive/Desktop/playground/scraping/notebook_analysis/mlruns/964034627453830662', creation_time=1720291533006, experiment_id='964034627453830662', last_update_time=1720291533006, lifecycle_stage='active', name='nome_do_seu_experimento', tags={}>"
      ]
     },
     "execution_count": 22,
     "metadata": {},
     "output_type": "execute_result"
    }
   ],
   "source": [
    "mlflow.set_experiment(\"nome_do_seu_experimento\")"
   ]
  },
  {
   "cell_type": "markdown",
   "metadata": {},
   "source": [
    "## Executar uma ferramenta de seleção de hiper-parâmetros sobre o conjunto de validação"
   ]
  },
  {
   "cell_type": "code",
   "execution_count": 23,
   "metadata": {},
   "outputs": [],
   "source": [
    "from skopt import BayesSearchCV\n",
    "from skopt.space import Integer, Categorical, Real\n",
    "from skopt.utils import use_named_args\n",
    "from skopt import gp_minimize"
   ]
  },
  {
   "cell_type": "markdown",
   "metadata": {},
   "source": [
    "Selecionar poucos hiper-parâmetros por algoritmo (max. 3)"
   ]
  },
  {
   "cell_type": "markdown",
   "metadata": {},
   "source": [
    "#### RandomForestRegressor"
   ]
  },
  {
   "cell_type": "code",
   "execution_count": 25,
   "metadata": {},
   "outputs": [],
   "source": [
    "search_space = [\n",
    "    Categorical([\"squared_error\", \"absolute_error\", \"friedman_mse\", \"poisson\"], name='criterion'), \n",
    "    Categorical([\"sqrt\", \"log2\"], name='max_features'), \n",
    "]"
   ]
  },
  {
   "cell_type": "code",
   "execution_count": 28,
   "metadata": {},
   "outputs": [],
   "source": [
    "@use_named_args(search_space)\n",
    "def objective_rfr(**params):\n",
    "    rfr = RandomForestRegressor(\n",
    "        criterion=params['criterion'],\n",
    "        max_features=params['max_features'],\n",
    "        random_state=42\n",
    "    )\n",
    "    kf = KFold(n_splits=5, shuffle=True, random_state=42)\n",
    "    scores = cross_val_score(rfr, X, y, cv=kf, scoring='neg_mean_squared_error')\n",
    "    return -np.mean(scores)"
   ]
  },
  {
   "cell_type": "code",
   "execution_count": 29,
   "metadata": {},
   "outputs": [
    {
     "name": "stderr",
     "output_type": "stream",
     "text": [
      "c:\\Users\\davim\\OneDrive\\Desktop\\playground\\scraping\\myenv\\Lib\\site-packages\\skopt\\optimizer\\optimizer.py:517: UserWarning: The objective has been evaluated at point ['poisson', 'log2'] before, using random point ['poisson', 'log2']\n",
      "  warnings.warn(\n",
      "c:\\Users\\davim\\OneDrive\\Desktop\\playground\\scraping\\myenv\\Lib\\site-packages\\skopt\\optimizer\\optimizer.py:517: UserWarning: The objective has been evaluated at point ['poisson', 'sqrt'] before, using random point ['squared_error', 'log2']\n",
      "  warnings.warn(\n",
      "c:\\Users\\davim\\OneDrive\\Desktop\\playground\\scraping\\myenv\\Lib\\site-packages\\skopt\\optimizer\\optimizer.py:517: UserWarning: The objective has been evaluated at point ['poisson', 'log2'] before, using random point ['friedman_mse', 'log2']\n",
      "  warnings.warn(\n",
      "c:\\Users\\davim\\OneDrive\\Desktop\\playground\\scraping\\myenv\\Lib\\site-packages\\skopt\\optimizer\\optimizer.py:517: UserWarning: The objective has been evaluated at point ['poisson', 'log2'] before, using random point ['poisson', 'sqrt']\n",
      "  warnings.warn(\n",
      "c:\\Users\\davim\\OneDrive\\Desktop\\playground\\scraping\\myenv\\Lib\\site-packages\\skopt\\optimizer\\optimizer.py:517: UserWarning: The objective has been evaluated at point ['poisson', 'sqrt'] before, using random point ['absolute_error', 'sqrt']\n",
      "  warnings.warn(\n",
      "c:\\Users\\davim\\OneDrive\\Desktop\\playground\\scraping\\myenv\\Lib\\site-packages\\skopt\\optimizer\\optimizer.py:517: UserWarning: The objective has been evaluated at point ['poisson', 'log2'] before, using random point ['squared_error', 'sqrt']\n",
      "  warnings.warn(\n",
      "c:\\Users\\davim\\OneDrive\\Desktop\\playground\\scraping\\myenv\\Lib\\site-packages\\skopt\\optimizer\\optimizer.py:517: UserWarning: The objective has been evaluated at point ['poisson', 'sqrt'] before, using random point ['friedman_mse', 'log2']\n",
      "  warnings.warn(\n",
      "c:\\Users\\davim\\OneDrive\\Desktop\\playground\\scraping\\myenv\\Lib\\site-packages\\skopt\\optimizer\\optimizer.py:517: UserWarning: The objective has been evaluated at point ['poisson', 'log2'] before, using random point ['friedman_mse', 'sqrt']\n",
      "  warnings.warn(\n",
      "c:\\Users\\davim\\OneDrive\\Desktop\\playground\\scraping\\myenv\\Lib\\site-packages\\skopt\\optimizer\\optimizer.py:517: UserWarning: The objective has been evaluated at point ['poisson', 'sqrt'] before, using random point ['squared_error', 'log2']\n",
      "  warnings.warn(\n",
      "c:\\Users\\davim\\OneDrive\\Desktop\\playground\\scraping\\myenv\\Lib\\site-packages\\skopt\\optimizer\\optimizer.py:517: UserWarning: The objective has been evaluated at point ['poisson', 'sqrt'] before, using random point ['absolute_error', 'log2']\n",
      "  warnings.warn(\n",
      "c:\\Users\\davim\\OneDrive\\Desktop\\playground\\scraping\\myenv\\Lib\\site-packages\\skopt\\optimizer\\optimizer.py:517: UserWarning: The objective has been evaluated at point ['poisson', 'sqrt'] before, using random point ['poisson', 'log2']\n",
      "  warnings.warn(\n",
      "c:\\Users\\davim\\OneDrive\\Desktop\\playground\\scraping\\myenv\\Lib\\site-packages\\skopt\\optimizer\\optimizer.py:517: UserWarning: The objective has been evaluated at point ['poisson', 'log2'] before, using random point ['friedman_mse', 'log2']\n",
      "  warnings.warn(\n",
      "c:\\Users\\davim\\OneDrive\\Desktop\\playground\\scraping\\myenv\\Lib\\site-packages\\skopt\\optimizer\\optimizer.py:517: UserWarning: The objective has been evaluated at point ['poisson', 'log2'] before, using random point ['absolute_error', 'log2']\n",
      "  warnings.warn(\n",
      "c:\\Users\\davim\\OneDrive\\Desktop\\playground\\scraping\\myenv\\Lib\\site-packages\\skopt\\optimizer\\optimizer.py:517: UserWarning: The objective has been evaluated at point ['poisson', 'log2'] before, using random point ['absolute_error', 'log2']\n",
      "  warnings.warn(\n",
      "c:\\Users\\davim\\OneDrive\\Desktop\\playground\\scraping\\myenv\\Lib\\site-packages\\skopt\\optimizer\\optimizer.py:517: UserWarning: The objective has been evaluated at point ['poisson', 'log2'] before, using random point ['poisson', 'log2']\n",
      "  warnings.warn(\n",
      "c:\\Users\\davim\\OneDrive\\Desktop\\playground\\scraping\\myenv\\Lib\\site-packages\\skopt\\optimizer\\optimizer.py:517: UserWarning: The objective has been evaluated at point ['poisson', 'log2'] before, using random point ['poisson', 'sqrt']\n",
      "  warnings.warn(\n",
      "c:\\Users\\davim\\OneDrive\\Desktop\\playground\\scraping\\myenv\\Lib\\site-packages\\skopt\\optimizer\\optimizer.py:517: UserWarning: The objective has been evaluated at point ['poisson', 'log2'] before, using random point ['squared_error', 'log2']\n",
      "  warnings.warn(\n",
      "c:\\Users\\davim\\OneDrive\\Desktop\\playground\\scraping\\myenv\\Lib\\site-packages\\skopt\\optimizer\\optimizer.py:517: UserWarning: The objective has been evaluated at point ['poisson', 'log2'] before, using random point ['poisson', 'log2']\n",
      "  warnings.warn(\n",
      "c:\\Users\\davim\\OneDrive\\Desktop\\playground\\scraping\\myenv\\Lib\\site-packages\\skopt\\optimizer\\optimizer.py:517: UserWarning: The objective has been evaluated at point ['poisson', 'log2'] before, using random point ['squared_error', 'sqrt']\n",
      "  warnings.warn(\n",
      "c:\\Users\\davim\\OneDrive\\Desktop\\playground\\scraping\\myenv\\Lib\\site-packages\\skopt\\optimizer\\optimizer.py:517: UserWarning: The objective has been evaluated at point ['poisson', 'log2'] before, using random point ['squared_error', 'sqrt']\n",
      "  warnings.warn(\n",
      "c:\\Users\\davim\\OneDrive\\Desktop\\playground\\scraping\\myenv\\Lib\\site-packages\\skopt\\optimizer\\optimizer.py:517: UserWarning: The objective has been evaluated at point ['poisson', 'log2'] before, using random point ['squared_error', 'log2']\n",
      "  warnings.warn(\n",
      "c:\\Users\\davim\\OneDrive\\Desktop\\playground\\scraping\\myenv\\Lib\\site-packages\\skopt\\optimizer\\optimizer.py:517: UserWarning: The objective has been evaluated at point ['poisson', 'log2'] before, using random point ['squared_error', 'sqrt']\n",
      "  warnings.warn(\n",
      "c:\\Users\\davim\\OneDrive\\Desktop\\playground\\scraping\\myenv\\Lib\\site-packages\\skopt\\optimizer\\optimizer.py:517: UserWarning: The objective has been evaluated at point ['poisson', 'log2'] before, using random point ['absolute_error', 'log2']\n",
      "  warnings.warn(\n",
      "c:\\Users\\davim\\OneDrive\\Desktop\\playground\\scraping\\myenv\\Lib\\site-packages\\skopt\\optimizer\\optimizer.py:517: UserWarning: The objective has been evaluated at point ['poisson', 'log2'] before, using random point ['absolute_error', 'sqrt']\n",
      "  warnings.warn(\n",
      "c:\\Users\\davim\\OneDrive\\Desktop\\playground\\scraping\\myenv\\Lib\\site-packages\\skopt\\optimizer\\optimizer.py:517: UserWarning: The objective has been evaluated at point ['poisson', 'log2'] before, using random point ['friedman_mse', 'sqrt']\n",
      "  warnings.warn(\n",
      "c:\\Users\\davim\\OneDrive\\Desktop\\playground\\scraping\\myenv\\Lib\\site-packages\\skopt\\optimizer\\optimizer.py:517: UserWarning: The objective has been evaluated at point ['poisson', 'log2'] before, using random point ['friedman_mse', 'sqrt']\n",
      "  warnings.warn(\n",
      "c:\\Users\\davim\\OneDrive\\Desktop\\playground\\scraping\\myenv\\Lib\\site-packages\\skopt\\optimizer\\optimizer.py:517: UserWarning: The objective has been evaluated at point ['poisson', 'log2'] before, using random point ['squared_error', 'log2']\n",
      "  warnings.warn(\n",
      "c:\\Users\\davim\\OneDrive\\Desktop\\playground\\scraping\\myenv\\Lib\\site-packages\\skopt\\optimizer\\optimizer.py:517: UserWarning: The objective has been evaluated at point ['poisson', 'log2'] before, using random point ['squared_error', 'log2']\n",
      "  warnings.warn(\n",
      "c:\\Users\\davim\\OneDrive\\Desktop\\playground\\scraping\\myenv\\Lib\\site-packages\\skopt\\optimizer\\optimizer.py:517: UserWarning: The objective has been evaluated at point ['poisson', 'log2'] before, using random point ['squared_error', 'log2']\n",
      "  warnings.warn(\n",
      "c:\\Users\\davim\\OneDrive\\Desktop\\playground\\scraping\\myenv\\Lib\\site-packages\\skopt\\optimizer\\optimizer.py:517: UserWarning: The objective has been evaluated at point ['poisson', 'log2'] before, using random point ['absolute_error', 'sqrt']\n",
      "  warnings.warn(\n",
      "c:\\Users\\davim\\OneDrive\\Desktop\\playground\\scraping\\myenv\\Lib\\site-packages\\skopt\\optimizer\\optimizer.py:517: UserWarning: The objective has been evaluated at point ['poisson', 'log2'] before, using random point ['absolute_error', 'log2']\n",
      "  warnings.warn(\n",
      "c:\\Users\\davim\\OneDrive\\Desktop\\playground\\scraping\\myenv\\Lib\\site-packages\\skopt\\optimizer\\optimizer.py:517: UserWarning: The objective has been evaluated at point ['poisson', 'log2'] before, using random point ['poisson', 'sqrt']\n",
      "  warnings.warn(\n",
      "c:\\Users\\davim\\OneDrive\\Desktop\\playground\\scraping\\myenv\\Lib\\site-packages\\skopt\\optimizer\\optimizer.py:517: UserWarning: The objective has been evaluated at point ['poisson', 'log2'] before, using random point ['squared_error', 'sqrt']\n",
      "  warnings.warn(\n",
      "c:\\Users\\davim\\OneDrive\\Desktop\\playground\\scraping\\myenv\\Lib\\site-packages\\skopt\\optimizer\\optimizer.py:517: UserWarning: The objective has been evaluated at point ['poisson', 'log2'] before, using random point ['friedman_mse', 'log2']\n",
      "  warnings.warn(\n",
      "c:\\Users\\davim\\OneDrive\\Desktop\\playground\\scraping\\myenv\\Lib\\site-packages\\skopt\\optimizer\\optimizer.py:517: UserWarning: The objective has been evaluated at point ['poisson', 'log2'] before, using random point ['friedman_mse', 'log2']\n",
      "  warnings.warn(\n",
      "c:\\Users\\davim\\OneDrive\\Desktop\\playground\\scraping\\myenv\\Lib\\site-packages\\skopt\\optimizer\\optimizer.py:517: UserWarning: The objective has been evaluated at point ['poisson', 'log2'] before, using random point ['poisson', 'log2']\n",
      "  warnings.warn(\n",
      "c:\\Users\\davim\\OneDrive\\Desktop\\playground\\scraping\\myenv\\Lib\\site-packages\\skopt\\optimizer\\optimizer.py:517: UserWarning: The objective has been evaluated at point ['poisson', 'log2'] before, using random point ['poisson', 'sqrt']\n",
      "  warnings.warn(\n",
      "c:\\Users\\davim\\OneDrive\\Desktop\\playground\\scraping\\myenv\\Lib\\site-packages\\skopt\\optimizer\\optimizer.py:517: UserWarning: The objective has been evaluated at point ['poisson', 'log2'] before, using random point ['squared_error', 'log2']\n",
      "  warnings.warn(\n",
      "c:\\Users\\davim\\OneDrive\\Desktop\\playground\\scraping\\myenv\\Lib\\site-packages\\skopt\\optimizer\\optimizer.py:517: UserWarning: The objective has been evaluated at point ['poisson', 'log2'] before, using random point ['poisson', 'sqrt']\n",
      "  warnings.warn(\n",
      "c:\\Users\\davim\\OneDrive\\Desktop\\playground\\scraping\\myenv\\Lib\\site-packages\\skopt\\optimizer\\optimizer.py:517: UserWarning: The objective has been evaluated at point ['poisson', 'sqrt'] before, using random point ['squared_error', 'log2']\n",
      "  warnings.warn(\n"
     ]
    },
    {
     "name": "stdout",
     "output_type": "stream",
     "text": [
      "Best score:  43341750192.05153\n",
      "Best parameters:  ['poisson', 'sqrt']\n"
     ]
    }
   ],
   "source": [
    "result = gp_minimize(\n",
    "    func=objective_rfr,\n",
    "    dimensions=search_space,\n",
    "    n_calls=50,\n",
    "    n_random_starts=10,\n",
    "    random_state=42\n",
    ")\n",
    "\n",
    "# Print the best-found parameters and score\n",
    "print(\"Best score: \", result.fun)\n",
    "print(\"Best parameters: \", result.x)"
   ]
  },
  {
   "cell_type": "markdown",
   "metadata": {},
   "source": [
    "#### mlp"
   ]
  },
  {
   "cell_type": "code",
   "execution_count": null,
   "metadata": {},
   "outputs": [],
   "source": [
    "search_space = [\n",
    "    Integer(1, 3, name='hidden_layer_sizes'),  # Number of hidden layers\n",
    "    Categorical(['tanh', 'relu'], name='activation'),  # Neurons in each hidden layer\n",
    "    Categorical(['constant', 'adaptive'], name='learning_rate_init')  # Initial learning rate\n",
    "]"
   ]
  },
  {
   "cell_type": "code",
   "execution_count": null,
   "metadata": {},
   "outputs": [],
   "source": [
    "@use_named_args(search_space)\n",
    "def objective_mlpr(**params):\n",
    "    mlpr = MLPRegressor(\n",
    "        hidden_layer_sizes=params['hidden_layer_sizes'],\n",
    "        activation=params['activation'],\n",
    "        learning_rate=params['learning_rate_init'],\n",
    "        max_iter=1000,\n",
    "        random_state=42\n",
    "    )\n",
    "    kf = KFold(n_splits=5, shuffle=True, random_state=42)\n",
    "    scores = cross_val_score(mlpr, X, y, cv=kf, scoring='neg_mean_squared_error')\n",
    "    return -np.mean(scores)"
   ]
  },
  {
   "cell_type": "markdown",
   "metadata": {},
   "source": [
    "Selecionar o modelo (algoritmo+valores de hiper-parâmetros) com\n",
    "melhor resultado na métrica de avaliação"
   ]
  },
  {
   "cell_type": "code",
   "execution_count": null,
   "metadata": {},
   "outputs": [
    {
     "name": "stderr",
     "output_type": "stream",
     "text": [
      "c:\\Users\\davim\\OneDrive\\Desktop\\playground\\scraping\\myenv\\Lib\\site-packages\\sklearn\\neural_network\\_multilayer_perceptron.py:690: ConvergenceWarning: Stochastic Optimizer: Maximum iterations (1000) reached and the optimization hasn't converged yet.\n",
      "  warnings.warn(\n",
      "c:\\Users\\davim\\OneDrive\\Desktop\\playground\\scraping\\myenv\\Lib\\site-packages\\sklearn\\neural_network\\_multilayer_perceptron.py:690: ConvergenceWarning: Stochastic Optimizer: Maximum iterations (1000) reached and the optimization hasn't converged yet.\n",
      "  warnings.warn(\n",
      "c:\\Users\\davim\\OneDrive\\Desktop\\playground\\scraping\\myenv\\Lib\\site-packages\\sklearn\\neural_network\\_multilayer_perceptron.py:690: ConvergenceWarning: Stochastic Optimizer: Maximum iterations (1000) reached and the optimization hasn't converged yet.\n",
      "  warnings.warn(\n",
      "c:\\Users\\davim\\OneDrive\\Desktop\\playground\\scraping\\myenv\\Lib\\site-packages\\sklearn\\neural_network\\_multilayer_perceptron.py:690: ConvergenceWarning: Stochastic Optimizer: Maximum iterations (1000) reached and the optimization hasn't converged yet.\n",
      "  warnings.warn(\n",
      "c:\\Users\\davim\\OneDrive\\Desktop\\playground\\scraping\\myenv\\Lib\\site-packages\\sklearn\\neural_network\\_multilayer_perceptron.py:697: UserWarning: Training interrupted by user.\n",
      "  warnings.warn(\"Training interrupted by user.\")\n",
      "c:\\Users\\davim\\OneDrive\\Desktop\\playground\\scraping\\myenv\\Lib\\site-packages\\sklearn\\neural_network\\_multilayer_perceptron.py:690: ConvergenceWarning: Stochastic Optimizer: Maximum iterations (1000) reached and the optimization hasn't converged yet.\n",
      "  warnings.warn(\n",
      "c:\\Users\\davim\\OneDrive\\Desktop\\playground\\scraping\\myenv\\Lib\\site-packages\\sklearn\\neural_network\\_multilayer_perceptron.py:690: ConvergenceWarning: Stochastic Optimizer: Maximum iterations (1000) reached and the optimization hasn't converged yet.\n",
      "  warnings.warn(\n",
      "c:\\Users\\davim\\OneDrive\\Desktop\\playground\\scraping\\myenv\\Lib\\site-packages\\sklearn\\neural_network\\_multilayer_perceptron.py:690: ConvergenceWarning: Stochastic Optimizer: Maximum iterations (1000) reached and the optimization hasn't converged yet.\n",
      "  warnings.warn(\n",
      "c:\\Users\\davim\\OneDrive\\Desktop\\playground\\scraping\\myenv\\Lib\\site-packages\\sklearn\\neural_network\\_multilayer_perceptron.py:690: ConvergenceWarning: Stochastic Optimizer: Maximum iterations (1000) reached and the optimization hasn't converged yet.\n",
      "  warnings.warn(\n",
      "c:\\Users\\davim\\OneDrive\\Desktop\\playground\\scraping\\myenv\\Lib\\site-packages\\sklearn\\neural_network\\_multilayer_perceptron.py:690: ConvergenceWarning: Stochastic Optimizer: Maximum iterations (1000) reached and the optimization hasn't converged yet.\n",
      "  warnings.warn(\n"
     ]
    }
   ],
   "source": [
    "# Perform Bayesian optimization\n",
    "result = gp_minimize(\n",
    "    func=objective_mlpr,\n",
    "    dimensions=search_space,\n",
    "    n_calls=50,\n",
    "    n_random_starts=10,\n",
    "    random_state=42\n",
    ")\n",
    "\n",
    "# Print the best-found parameters and score\n",
    "print(\"Best score: \", result.fun)\n",
    "print(\"Best parameters: \", result.x)"
   ]
  },
  {
   "cell_type": "markdown",
   "metadata": {},
   "source": [
    "Executar o melhor modelo de cada algoritmo no conjunto de teste e\n",
    "selecionar o melhor modelo geral na métrica de avaliação"
   ]
  },
  {
   "cell_type": "markdown",
   "metadata": {},
   "source": [
    "## Realizar diagnóstico do melhor modelo geral da etapa 5 e melhorá-lo a partir do diagnóstico"
   ]
  },
  {
   "cell_type": "markdown",
   "metadata": {},
   "source": [
    "Bônus: Utilizar auto-sklearn, clustering para entendimento dos\n",
    "dados"
   ]
  }
 ],
 "metadata": {
  "kernelspec": {
   "display_name": "myenv",
   "language": "python",
   "name": "python3"
  },
  "language_info": {
   "codemirror_mode": {
    "name": "ipython",
    "version": 3
   },
   "file_extension": ".py",
   "mimetype": "text/x-python",
   "name": "python",
   "nbconvert_exporter": "python",
   "pygments_lexer": "ipython3",
   "version": "3.12.2"
  }
 },
 "nbformat": 4,
 "nbformat_minor": 2
}
